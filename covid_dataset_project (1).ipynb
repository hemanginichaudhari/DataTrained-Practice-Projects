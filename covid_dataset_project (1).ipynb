{
 "cells": [
  {
   "cell_type": "code",
   "execution_count": 64,
   "metadata": {},
   "outputs": [
    {
     "data": {
      "text/html": [
       "<div>\n",
       "<style scoped>\n",
       "    .dataframe tbody tr th:only-of-type {\n",
       "        vertical-align: middle;\n",
       "    }\n",
       "\n",
       "    .dataframe tbody tr th {\n",
       "        vertical-align: top;\n",
       "    }\n",
       "\n",
       "    .dataframe thead th {\n",
       "        text-align: right;\n",
       "    }\n",
       "</style>\n",
       "<table border=\"1\" class=\"dataframe\">\n",
       "  <thead>\n",
       "    <tr style=\"text-align: right;\">\n",
       "      <th></th>\n",
       "      <th>Date</th>\n",
       "      <th>Country</th>\n",
       "      <th>Confirmed</th>\n",
       "      <th>Recovered</th>\n",
       "      <th>Deaths</th>\n",
       "    </tr>\n",
       "  </thead>\n",
       "  <tbody>\n",
       "    <tr>\n",
       "      <th>0</th>\n",
       "      <td>2020-01-22</td>\n",
       "      <td>Afghanistan</td>\n",
       "      <td>0</td>\n",
       "      <td>0</td>\n",
       "      <td>0</td>\n",
       "    </tr>\n",
       "    <tr>\n",
       "      <th>1</th>\n",
       "      <td>2020-01-22</td>\n",
       "      <td>Albania</td>\n",
       "      <td>0</td>\n",
       "      <td>0</td>\n",
       "      <td>0</td>\n",
       "    </tr>\n",
       "    <tr>\n",
       "      <th>2</th>\n",
       "      <td>2020-01-22</td>\n",
       "      <td>Algeria</td>\n",
       "      <td>0</td>\n",
       "      <td>0</td>\n",
       "      <td>0</td>\n",
       "    </tr>\n",
       "    <tr>\n",
       "      <th>3</th>\n",
       "      <td>2020-01-22</td>\n",
       "      <td>Andorra</td>\n",
       "      <td>0</td>\n",
       "      <td>0</td>\n",
       "      <td>0</td>\n",
       "    </tr>\n",
       "    <tr>\n",
       "      <th>4</th>\n",
       "      <td>2020-01-22</td>\n",
       "      <td>Angola</td>\n",
       "      <td>0</td>\n",
       "      <td>0</td>\n",
       "      <td>0</td>\n",
       "    </tr>\n",
       "    <tr>\n",
       "      <th>...</th>\n",
       "      <td>...</td>\n",
       "      <td>...</td>\n",
       "      <td>...</td>\n",
       "      <td>...</td>\n",
       "      <td>...</td>\n",
       "    </tr>\n",
       "    <tr>\n",
       "      <th>23683</th>\n",
       "      <td>2020-05-26</td>\n",
       "      <td>West Bank and Gaza</td>\n",
       "      <td>429</td>\n",
       "      <td>365</td>\n",
       "      <td>3</td>\n",
       "    </tr>\n",
       "    <tr>\n",
       "      <th>23684</th>\n",
       "      <td>2020-05-26</td>\n",
       "      <td>Western Sahara</td>\n",
       "      <td>9</td>\n",
       "      <td>6</td>\n",
       "      <td>1</td>\n",
       "    </tr>\n",
       "    <tr>\n",
       "      <th>23685</th>\n",
       "      <td>2020-05-26</td>\n",
       "      <td>Yemen</td>\n",
       "      <td>249</td>\n",
       "      <td>10</td>\n",
       "      <td>49</td>\n",
       "    </tr>\n",
       "    <tr>\n",
       "      <th>23686</th>\n",
       "      <td>2020-05-26</td>\n",
       "      <td>Zambia</td>\n",
       "      <td>920</td>\n",
       "      <td>336</td>\n",
       "      <td>7</td>\n",
       "    </tr>\n",
       "    <tr>\n",
       "      <th>23687</th>\n",
       "      <td>2020-05-26</td>\n",
       "      <td>Zimbabwe</td>\n",
       "      <td>56</td>\n",
       "      <td>25</td>\n",
       "      <td>4</td>\n",
       "    </tr>\n",
       "  </tbody>\n",
       "</table>\n",
       "<p>23688 rows × 5 columns</p>\n",
       "</div>"
      ],
      "text/plain": [
       "             Date             Country  Confirmed  Recovered  Deaths\n",
       "0      2020-01-22         Afghanistan          0          0       0\n",
       "1      2020-01-22             Albania          0          0       0\n",
       "2      2020-01-22             Algeria          0          0       0\n",
       "3      2020-01-22             Andorra          0          0       0\n",
       "4      2020-01-22              Angola          0          0       0\n",
       "...           ...                 ...        ...        ...     ...\n",
       "23683  2020-05-26  West Bank and Gaza        429        365       3\n",
       "23684  2020-05-26      Western Sahara          9          6       1\n",
       "23685  2020-05-26               Yemen        249         10      49\n",
       "23686  2020-05-26              Zambia        920        336       7\n",
       "23687  2020-05-26            Zimbabwe         56         25       4\n",
       "\n",
       "[23688 rows x 5 columns]"
      ]
     },
     "execution_count": 64,
     "metadata": {},
     "output_type": "execute_result"
    }
   ],
   "source": [
    "import pandas as pd\n",
    "df=pd.read_csv(\"covid.csv\")\n",
    "df"
   ]
  },
  {
   "cell_type": "code",
   "execution_count": 65,
   "metadata": {},
   "outputs": [
    {
     "name": "stdout",
     "output_type": "stream",
     "text": [
      "<class 'pandas.core.frame.DataFrame'>\n",
      "RangeIndex: 23688 entries, 0 to 23687\n",
      "Data columns (total 5 columns):\n",
      " #   Column     Non-Null Count  Dtype \n",
      "---  ------     --------------  ----- \n",
      " 0   Date       23688 non-null  object\n",
      " 1   Country    23688 non-null  object\n",
      " 2   Confirmed  23688 non-null  int64 \n",
      " 3   Recovered  23688 non-null  int64 \n",
      " 4   Deaths     23688 non-null  int64 \n",
      "dtypes: int64(3), object(2)\n",
      "memory usage: 925.4+ KB\n"
     ]
    }
   ],
   "source": [
    "df.info()"
   ]
  },
  {
   "cell_type": "code",
   "execution_count": 66,
   "metadata": {},
   "outputs": [
    {
     "data": {
      "text/plain": [
       "Date         object\n",
       "Country      object\n",
       "Confirmed     int64\n",
       "Recovered     int64\n",
       "Deaths        int64\n",
       "dtype: object"
      ]
     },
     "execution_count": 66,
     "metadata": {},
     "output_type": "execute_result"
    }
   ],
   "source": [
    "df.dtypes"
   ]
  },
  {
   "cell_type": "code",
   "execution_count": 67,
   "metadata": {},
   "outputs": [
    {
     "data": {
      "text/plain": [
       "Date         0\n",
       "Country      0\n",
       "Confirmed    0\n",
       "Recovered    0\n",
       "Deaths       0\n",
       "dtype: int64"
      ]
     },
     "execution_count": 67,
     "metadata": {},
     "output_type": "execute_result"
    }
   ],
   "source": [
    "df.isnull().sum()"
   ]
  },
  {
   "cell_type": "code",
   "execution_count": 68,
   "metadata": {},
   "outputs": [
    {
     "data": {
      "text/plain": [
       "<matplotlib.axes._subplots.AxesSubplot at 0x57eaf3e448>"
      ]
     },
     "execution_count": 68,
     "metadata": {},
     "output_type": "execute_result"
    },
    {
     "data": {
      "image/png": "[encoded data removed]",
      "text/plain": [
       "<Figure size 432x288 with 2 Axes>"
      ]
     },
     "metadata": {
      "needs_background": "light"
     },
     "output_type": "display_data"
    }
   ],
   "source": [
    "import seaborn as sns\n",
    "sns.heatmap(df.isnull())"
   ]
  },
  {
   "cell_type": "code",
   "execution_count": 69,
   "metadata": {},
   "outputs": [
    {
     "data": {
      "text/plain": [
       "0        12989\n",
       "1         1244\n",
       "2          655\n",
       "3          550\n",
       "4          324\n",
       "         ...  \n",
       "473          1\n",
       "4603         1\n",
       "521          1\n",
       "2600         1\n",
       "30689        1\n",
       "Name: Deaths, Length: 1768, dtype: int64"
      ]
     },
     "execution_count": 69,
     "metadata": {},
     "output_type": "execute_result"
    }
   ],
   "source": [
    "df.Deaths.value_counts()"
   ]
  },
  {
   "cell_type": "code",
   "execution_count": 70,
   "metadata": {},
   "outputs": [
    {
     "data": {
      "text/plain": [
       "189"
      ]
     },
     "execution_count": 70,
     "metadata": {},
     "output_type": "execute_result"
    }
   ],
   "source": [
    "len(df['Country'].unique())"
   ]
  },
  {
   "cell_type": "code",
   "execution_count": null,
   "metadata": {},
   "outputs": [],
   "source": []
  },
  {
   "cell_type": "code",
   "execution_count": 71,
   "metadata": {},
   "outputs": [
    {
     "data": {
      "text/plain": [
       "<matplotlib.axes._subplots.AxesSubplot at 0x57eaffb588>"
      ]
     },
     "execution_count": 71,
     "metadata": {},
     "output_type": "execute_result"
    },
    {
     "data": {
      "image/png": "[encoded data removed]",
      "text/plain": [
       "<Figure size 432x288 with 1 Axes>"
      ]
     },
     "metadata": {
      "needs_background": "light"
     },
     "output_type": "display_data"
    }
   ],
   "source": [
    "sns.lineplot(x=df['Date'],y=df['Deaths'],data=df)"
   ]
  },
  {
   "cell_type": "code",
   "execution_count": null,
   "metadata": {},
   "outputs": [],
   "source": []
  },
  {
   "cell_type": "code",
   "execution_count": 72,
   "metadata": {},
   "outputs": [
    {
     "data": {
      "text/plain": [
       "<matplotlib.axes._subplots.AxesSubplot at 0x57eb7c9388>"
      ]
     },
     "execution_count": 72,
     "metadata": {},
     "output_type": "execute_result"
    },
    {
     "data": {
      "image/png": "[encoded data removed]",
      "text/plain": [
       "<Figure size 432x288 with 1 Axes>"
      ]
     },
     "metadata": {
      "needs_background": "light"
     },
     "output_type": "display_data"
    }
   ],
   "source": [
    "sns.lineplot(x=df['Country'],y=df['Confirmed'],data=df)"
   ]
  },
  {
   "cell_type": "code",
   "execution_count": 73,
   "metadata": {},
   "outputs": [
    {
     "data": {
      "text/plain": [
       "<matplotlib.axes._subplots.AxesSubplot at 0x57eba19b88>"
      ]
     },
     "execution_count": 73,
     "metadata": {},
     "output_type": "execute_result"
    },
    {
     "data": {
      "image/png": "[encoded data removed]",
      "text/plain": [
       "<Figure size 432x288 with 1 Axes>"
      ]
     },
     "metadata": {
      "needs_background": "light"
     },
     "output_type": "display_data"
    }
   ],
   "source": [
    "sns.lineplot(x=df['Country'],y=df['Recovered'],data=df)"
   ]
  },
  {
   "cell_type": "code",
   "execution_count": 74,
   "metadata": {},
   "outputs": [
    {
     "data": {
      "text/plain": [
       "<matplotlib.axes._subplots.AxesSubplot at 0x57e3916f88>"
      ]
     },
     "execution_count": 74,
     "metadata": {},
     "output_type": "execute_result"
    },
    {
     "data": {
      "image/png": "[encoded data removed]",
      "text/plain": [
       "<Figure size 432x288 with 1 Axes>"
      ]
     },
     "metadata": {
      "needs_background": "light"
     },
     "output_type": "display_data"
    }
   ],
   "source": [
    "sns.barplot(x='Recovered',y='Country',data=df)"
   ]
  },
  {
   "cell_type": "code",
   "execution_count": 75,
   "metadata": {},
   "outputs": [
    {
     "data": {
      "text/plain": [
       "<matplotlib.axes._subplots.AxesSubplot at 0x57ed116c88>"
      ]
     },
     "execution_count": 75,
     "metadata": {},
     "output_type": "execute_result"
    },
    {
     "data": {
      "image/png": "[encoded data removed]",
      "text/plain": [
       "<Figure size 432x288 with 1 Axes>"
      ]
     },
     "metadata": {
      "needs_background": "light"
     },
     "output_type": "display_data"
    }
   ],
   "source": [
    "sns.lineplot(x=df['Country'],y=df['Deaths'],data=df)"
   ]
  },
  {
   "cell_type": "code",
   "execution_count": 76,
   "metadata": {},
   "outputs": [
    {
     "data": {
      "image/png": "[encoded data removed]",
      "text/plain": [
       "<Figure size 432x288 with 1 Axes>"
      ]
     },
     "metadata": {
      "needs_background": "light"
     },
     "output_type": "display_data"
    }
   ],
   "source": [
    "import matplotlib.pyplot as plt\n",
    "plt.hist(x=\"Deaths\",bins=4,data=df)\n",
    "plt.show()"
   ]
  },
  {
   "cell_type": "code",
   "execution_count": 77,
   "metadata": {},
   "outputs": [
    {
     "data": {
      "image/png": "[encoded data removed]",
      "text/plain": [
       "<Figure size 432x288 with 1 Axes>"
      ]
     },
     "metadata": {
      "needs_background": "light"
     },
     "output_type": "display_data"
    }
   ],
   "source": [
    "import matplotlib.pyplot as plt\n",
    "plt.hist(x=\"Recovered\",bins=4,data=df)\n",
    "plt.show()"
   ]
  },
  {
   "cell_type": "code",
   "execution_count": 78,
   "metadata": {},
   "outputs": [
    {
     "data": {
      "text/html": [
       "<div>\n",
       "<style scoped>\n",
       "    .dataframe tbody tr th:only-of-type {\n",
       "        vertical-align: middle;\n",
       "    }\n",
       "\n",
       "    .dataframe tbody tr th {\n",
       "        vertical-align: top;\n",
       "    }\n",
       "\n",
       "    .dataframe thead th {\n",
       "        text-align: right;\n",
       "    }\n",
       "</style>\n",
       "<table border=\"1\" class=\"dataframe\">\n",
       "  <thead>\n",
       "    <tr style=\"text-align: right;\">\n",
       "      <th></th>\n",
       "      <th>Confirmed</th>\n",
       "      <th>Recovered</th>\n",
       "      <th>Deaths</th>\n",
       "    </tr>\n",
       "  </thead>\n",
       "  <tbody>\n",
       "    <tr>\n",
       "      <th>count</th>\n",
       "      <td>2.368800e+04</td>\n",
       "      <td>23688.000000</td>\n",
       "      <td>23688.000000</td>\n",
       "    </tr>\n",
       "    <tr>\n",
       "      <th>mean</th>\n",
       "      <td>7.969368e+03</td>\n",
       "      <td>2581.801714</td>\n",
       "      <td>526.935030</td>\n",
       "    </tr>\n",
       "    <tr>\n",
       "      <th>std</th>\n",
       "      <td>5.842109e+04</td>\n",
       "      <td>15143.101257</td>\n",
       "      <td>3992.815956</td>\n",
       "    </tr>\n",
       "    <tr>\n",
       "      <th>min</th>\n",
       "      <td>0.000000e+00</td>\n",
       "      <td>0.000000</td>\n",
       "      <td>0.000000</td>\n",
       "    </tr>\n",
       "    <tr>\n",
       "      <th>25%</th>\n",
       "      <td>0.000000e+00</td>\n",
       "      <td>0.000000</td>\n",
       "      <td>0.000000</td>\n",
       "    </tr>\n",
       "    <tr>\n",
       "      <th>50%</th>\n",
       "      <td>1.800000e+01</td>\n",
       "      <td>1.000000</td>\n",
       "      <td>0.000000</td>\n",
       "    </tr>\n",
       "    <tr>\n",
       "      <th>75%</th>\n",
       "      <td>7.300000e+02</td>\n",
       "      <td>123.000000</td>\n",
       "      <td>13.000000</td>\n",
       "    </tr>\n",
       "    <tr>\n",
       "      <th>max</th>\n",
       "      <td>1.680913e+06</td>\n",
       "      <td>384902.000000</td>\n",
       "      <td>98913.000000</td>\n",
       "    </tr>\n",
       "  </tbody>\n",
       "</table>\n",
       "</div>"
      ],
      "text/plain": [
       "          Confirmed      Recovered        Deaths\n",
       "count  2.368800e+04   23688.000000  23688.000000\n",
       "mean   7.969368e+03    2581.801714    526.935030\n",
       "std    5.842109e+04   15143.101257   3992.815956\n",
       "min    0.000000e+00       0.000000      0.000000\n",
       "25%    0.000000e+00       0.000000      0.000000\n",
       "50%    1.800000e+01       1.000000      0.000000\n",
       "75%    7.300000e+02     123.000000     13.000000\n",
       "max    1.680913e+06  384902.000000  98913.000000"
      ]
     },
     "execution_count": 78,
     "metadata": {},
     "output_type": "execute_result"
    }
   ],
   "source": [
    "df.describe()"
   ]
  },
  {
   "cell_type": "code",
   "execution_count": 79,
   "metadata": {},
   "outputs": [
    {
     "data": {
      "text/html": [
       "<div>\n",
       "<style scoped>\n",
       "    .dataframe tbody tr th:only-of-type {\n",
       "        vertical-align: middle;\n",
       "    }\n",
       "\n",
       "    .dataframe tbody tr th {\n",
       "        vertical-align: top;\n",
       "    }\n",
       "\n",
       "    .dataframe thead th {\n",
       "        text-align: right;\n",
       "    }\n",
       "</style>\n",
       "<table border=\"1\" class=\"dataframe\">\n",
       "  <thead>\n",
       "    <tr style=\"text-align: right;\">\n",
       "      <th></th>\n",
       "      <th>Date</th>\n",
       "      <th>Country</th>\n",
       "      <th>Confirmed</th>\n",
       "      <th>Recovered</th>\n",
       "      <th>Deaths</th>\n",
       "    </tr>\n",
       "  </thead>\n",
       "  <tbody>\n",
       "    <tr>\n",
       "      <th>0</th>\n",
       "      <td>2020-01-22</td>\n",
       "      <td>0</td>\n",
       "      <td>0</td>\n",
       "      <td>0</td>\n",
       "      <td>0</td>\n",
       "    </tr>\n",
       "    <tr>\n",
       "      <th>1</th>\n",
       "      <td>2020-01-22</td>\n",
       "      <td>1</td>\n",
       "      <td>0</td>\n",
       "      <td>0</td>\n",
       "      <td>0</td>\n",
       "    </tr>\n",
       "    <tr>\n",
       "      <th>2</th>\n",
       "      <td>2020-01-22</td>\n",
       "      <td>2</td>\n",
       "      <td>0</td>\n",
       "      <td>0</td>\n",
       "      <td>0</td>\n",
       "    </tr>\n",
       "    <tr>\n",
       "      <th>3</th>\n",
       "      <td>2020-01-22</td>\n",
       "      <td>3</td>\n",
       "      <td>0</td>\n",
       "      <td>0</td>\n",
       "      <td>0</td>\n",
       "    </tr>\n",
       "    <tr>\n",
       "      <th>4</th>\n",
       "      <td>2020-01-22</td>\n",
       "      <td>4</td>\n",
       "      <td>0</td>\n",
       "      <td>0</td>\n",
       "      <td>0</td>\n",
       "    </tr>\n",
       "    <tr>\n",
       "      <th>...</th>\n",
       "      <td>...</td>\n",
       "      <td>...</td>\n",
       "      <td>...</td>\n",
       "      <td>...</td>\n",
       "      <td>...</td>\n",
       "    </tr>\n",
       "    <tr>\n",
       "      <th>23683</th>\n",
       "      <td>2020-05-26</td>\n",
       "      <td>184</td>\n",
       "      <td>429</td>\n",
       "      <td>365</td>\n",
       "      <td>3</td>\n",
       "    </tr>\n",
       "    <tr>\n",
       "      <th>23684</th>\n",
       "      <td>2020-05-26</td>\n",
       "      <td>185</td>\n",
       "      <td>9</td>\n",
       "      <td>6</td>\n",
       "      <td>1</td>\n",
       "    </tr>\n",
       "    <tr>\n",
       "      <th>23685</th>\n",
       "      <td>2020-05-26</td>\n",
       "      <td>186</td>\n",
       "      <td>249</td>\n",
       "      <td>10</td>\n",
       "      <td>49</td>\n",
       "    </tr>\n",
       "    <tr>\n",
       "      <th>23686</th>\n",
       "      <td>2020-05-26</td>\n",
       "      <td>187</td>\n",
       "      <td>920</td>\n",
       "      <td>336</td>\n",
       "      <td>7</td>\n",
       "    </tr>\n",
       "    <tr>\n",
       "      <th>23687</th>\n",
       "      <td>2020-05-26</td>\n",
       "      <td>188</td>\n",
       "      <td>56</td>\n",
       "      <td>25</td>\n",
       "      <td>4</td>\n",
       "    </tr>\n",
       "  </tbody>\n",
       "</table>\n",
       "<p>23688 rows × 5 columns</p>\n",
       "</div>"
      ],
      "text/plain": [
       "             Date  Country  Confirmed  Recovered  Deaths\n",
       "0      2020-01-22        0          0          0       0\n",
       "1      2020-01-22        1          0          0       0\n",
       "2      2020-01-22        2          0          0       0\n",
       "3      2020-01-22        3          0          0       0\n",
       "4      2020-01-22        4          0          0       0\n",
       "...           ...      ...        ...        ...     ...\n",
       "23683  2020-05-26      184        429        365       3\n",
       "23684  2020-05-26      185          9          6       1\n",
       "23685  2020-05-26      186        249         10      49\n",
       "23686  2020-05-26      187        920        336       7\n",
       "23687  2020-05-26      188         56         25       4\n",
       "\n",
       "[23688 rows x 5 columns]"
      ]
     },
     "execution_count": 79,
     "metadata": {},
     "output_type": "execute_result"
    }
   ],
   "source": [
    "from sklearn.preprocessing import LabelEncoder       # converting string data to numerical\n",
    "le=LabelEncoder()\n",
    "df['Country']=le.fit_transform(df['Country'].astype(str))\n",
    "df\n",
    "    "
   ]
  },
  {
   "cell_type": "code",
   "execution_count": 80,
   "metadata": {},
   "outputs": [
    {
     "data": {
      "text/plain": [
       "Date         object\n",
       "Country       int32\n",
       "Confirmed     int64\n",
       "Recovered     int64\n",
       "Deaths        int64\n",
       "dtype: object"
      ]
     },
     "execution_count": 80,
     "metadata": {},
     "output_type": "execute_result"
    }
   ],
   "source": [
    "df.dtypes"
   ]
  },
  {
   "cell_type": "code",
   "execution_count": 81,
   "metadata": {},
   "outputs": [
    {
     "data": {
      "text/plain": [
       "<matplotlib.axes._subplots.AxesSubplot at 0x57ed4d0d48>"
      ]
     },
     "execution_count": 81,
     "metadata": {},
     "output_type": "execute_result"
    },
    {
     "data": {
      "image/png": "[encoded data removed]",
      "text/plain": [
       "<Figure size 432x288 with 1 Axes>"
      ]
     },
     "metadata": {
      "needs_background": "light"
     },
     "output_type": "display_data"
    }
   ],
   "source": [
    "df.groupby('Date')['Deaths'].mean().plot.bar()"
   ]
  },
  {
   "cell_type": "code",
   "execution_count": 82,
   "metadata": {},
   "outputs": [
    {
     "data": {
      "text/plain": [
       "Country       0.009016\n",
       "Confirmed    18.674502\n",
       "Recovered    10.662286\n",
       "Deaths       14.218167\n",
       "dtype: float64"
      ]
     },
     "execution_count": 82,
     "metadata": {},
     "output_type": "execute_result"
    }
   ],
   "source": [
    "df.skew()"
   ]
  },
  {
   "cell_type": "code",
   "execution_count": null,
   "metadata": {
    "scrolled": true
   },
   "outputs": [],
   "source": []
  },
  {
   "cell_type": "code",
   "execution_count": 83,
   "metadata": {},
   "outputs": [],
   "source": [
    "df['Date']=pd.to_datetime(df['Date'])"
   ]
  },
  {
   "cell_type": "code",
   "execution_count": 84,
   "metadata": {},
   "outputs": [
    {
     "data": {
      "text/html": [
       "<div>\n",
       "<style scoped>\n",
       "    .dataframe tbody tr th:only-of-type {\n",
       "        vertical-align: middle;\n",
       "    }\n",
       "\n",
       "    .dataframe tbody tr th {\n",
       "        vertical-align: top;\n",
       "    }\n",
       "\n",
       "    .dataframe thead th {\n",
       "        text-align: right;\n",
       "    }\n",
       "</style>\n",
       "<table border=\"1\" class=\"dataframe\">\n",
       "  <thead>\n",
       "    <tr style=\"text-align: right;\">\n",
       "      <th></th>\n",
       "      <th>month</th>\n",
       "      <th>year</th>\n",
       "      <th>day</th>\n",
       "    </tr>\n",
       "  </thead>\n",
       "  <tbody>\n",
       "    <tr>\n",
       "      <th>0</th>\n",
       "      <td>January</td>\n",
       "      <td>2020</td>\n",
       "      <td>Wednesday</td>\n",
       "    </tr>\n",
       "    <tr>\n",
       "      <th>1</th>\n",
       "      <td>January</td>\n",
       "      <td>2020</td>\n",
       "      <td>Wednesday</td>\n",
       "    </tr>\n",
       "    <tr>\n",
       "      <th>2</th>\n",
       "      <td>January</td>\n",
       "      <td>2020</td>\n",
       "      <td>Wednesday</td>\n",
       "    </tr>\n",
       "    <tr>\n",
       "      <th>3</th>\n",
       "      <td>January</td>\n",
       "      <td>2020</td>\n",
       "      <td>Wednesday</td>\n",
       "    </tr>\n",
       "    <tr>\n",
       "      <th>4</th>\n",
       "      <td>January</td>\n",
       "      <td>2020</td>\n",
       "      <td>Wednesday</td>\n",
       "    </tr>\n",
       "    <tr>\n",
       "      <th>...</th>\n",
       "      <td>...</td>\n",
       "      <td>...</td>\n",
       "      <td>...</td>\n",
       "    </tr>\n",
       "    <tr>\n",
       "      <th>23683</th>\n",
       "      <td>May</td>\n",
       "      <td>2020</td>\n",
       "      <td>Tuesday</td>\n",
       "    </tr>\n",
       "    <tr>\n",
       "      <th>23684</th>\n",
       "      <td>May</td>\n",
       "      <td>2020</td>\n",
       "      <td>Tuesday</td>\n",
       "    </tr>\n",
       "    <tr>\n",
       "      <th>23685</th>\n",
       "      <td>May</td>\n",
       "      <td>2020</td>\n",
       "      <td>Tuesday</td>\n",
       "    </tr>\n",
       "    <tr>\n",
       "      <th>23686</th>\n",
       "      <td>May</td>\n",
       "      <td>2020</td>\n",
       "      <td>Tuesday</td>\n",
       "    </tr>\n",
       "    <tr>\n",
       "      <th>23687</th>\n",
       "      <td>May</td>\n",
       "      <td>2020</td>\n",
       "      <td>Tuesday</td>\n",
       "    </tr>\n",
       "  </tbody>\n",
       "</table>\n",
       "<p>23688 rows × 3 columns</p>\n",
       "</div>"
      ],
      "text/plain": [
       "         month  year        day\n",
       "0      January  2020  Wednesday\n",
       "1      January  2020  Wednesday\n",
       "2      January  2020  Wednesday\n",
       "3      January  2020  Wednesday\n",
       "4      January  2020  Wednesday\n",
       "...        ...   ...        ...\n",
       "23683      May  2020    Tuesday\n",
       "23684      May  2020    Tuesday\n",
       "23685      May  2020    Tuesday\n",
       "23686      May  2020    Tuesday\n",
       "23687      May  2020    Tuesday\n",
       "\n",
       "[23688 rows x 3 columns]"
      ]
     },
     "execution_count": 84,
     "metadata": {},
     "output_type": "execute_result"
    }
   ],
   "source": [
    "df_dates=pd.DataFrame()\n",
    "df_dates[\"month\"]=df[\"Date\"].dt.month_name()\n",
    "df_dates[\"year\"]=df[\"Date\"].dt.year\n",
    "df_dates[\"day\"]=df['Date'].dt.day_name()\n",
    "df_dates"
   ]
  },
  {
   "cell_type": "code",
   "execution_count": 85,
   "metadata": {},
   "outputs": [
    {
     "data": {
      "text/plain": [
       "0    2020\n",
       "Name: year, dtype: int64"
      ]
     },
     "execution_count": 85,
     "metadata": {},
     "output_type": "execute_result"
    }
   ],
   "source": [
    "df_dates[\"year\"].drop_duplicates()"
   ]
  },
  {
   "cell_type": "code",
   "execution_count": 86,
   "metadata": {},
   "outputs": [
    {
     "data": {
      "text/plain": [
       "<matplotlib.axes._subplots.AxesSubplot at 0x57eda2db88>"
      ]
     },
     "execution_count": 86,
     "metadata": {},
     "output_type": "execute_result"
    },
    {
     "data": {
      "image/png": "[encoded data removed]",
      "text/plain": [
       "<Figure size 432x288 with 1 Axes>"
      ]
     },
     "metadata": {
      "needs_background": "light"
     },
     "output_type": "display_data"
    }
   ],
   "source": [
    "sns.lineplot(x=df_dates['month'],y=df['Recovered'],data=df)"
   ]
  },
  {
   "cell_type": "code",
   "execution_count": 87,
   "metadata": {},
   "outputs": [
    {
     "data": {
      "text/plain": [
       "<matplotlib.axes._subplots.AxesSubplot at 0x57eda5f548>"
      ]
     },
     "execution_count": 87,
     "metadata": {},
     "output_type": "execute_result"
    },
    {
     "data": {
      "image/png": "[encoded data removed]",
      "text/plain": [
       "<Figure size 432x288 with 1 Axes>"
      ]
     },
     "metadata": {
      "needs_background": "light"
     },
     "output_type": "display_data"
    }
   ],
   "source": [
    "sns.lineplot(x=df_dates['month'],y=df['Confirmed'],data=df)"
   ]
  },
  {
   "cell_type": "code",
   "execution_count": 88,
   "metadata": {},
   "outputs": [
    {
     "data": {
      "text/plain": [
       "<matplotlib.axes._subplots.AxesSubplot at 0x57edabab08>"
      ]
     },
     "execution_count": 88,
     "metadata": {},
     "output_type": "execute_result"
    },
    {
     "data": {
      "image/png": "[encoded data removed]",
      "text/plain": [
       "<Figure size 432x288 with 1 Axes>"
      ]
     },
     "metadata": {
      "needs_background": "light"
     },
     "output_type": "display_data"
    }
   ],
   "source": [
    "sns.lineplot(x=df_dates['month'],y=df['Deaths'],data=df)"
   ]
  },
  {
   "cell_type": "code",
   "execution_count": 89,
   "metadata": {},
   "outputs": [],
   "source": [
    "df['Date']=df_dates['month']"
   ]
  },
  {
   "cell_type": "code",
   "execution_count": 90,
   "metadata": {},
   "outputs": [
    {
     "data": {
      "text/html": [
       "<div>\n",
       "<style scoped>\n",
       "    .dataframe tbody tr th:only-of-type {\n",
       "        vertical-align: middle;\n",
       "    }\n",
       "\n",
       "    .dataframe tbody tr th {\n",
       "        vertical-align: top;\n",
       "    }\n",
       "\n",
       "    .dataframe thead th {\n",
       "        text-align: right;\n",
       "    }\n",
       "</style>\n",
       "<table border=\"1\" class=\"dataframe\">\n",
       "  <thead>\n",
       "    <tr style=\"text-align: right;\">\n",
       "      <th></th>\n",
       "      <th>Date</th>\n",
       "      <th>Country</th>\n",
       "      <th>Confirmed</th>\n",
       "      <th>Recovered</th>\n",
       "      <th>Deaths</th>\n",
       "    </tr>\n",
       "  </thead>\n",
       "  <tbody>\n",
       "    <tr>\n",
       "      <th>0</th>\n",
       "      <td>January</td>\n",
       "      <td>0</td>\n",
       "      <td>0</td>\n",
       "      <td>0</td>\n",
       "      <td>0</td>\n",
       "    </tr>\n",
       "    <tr>\n",
       "      <th>1</th>\n",
       "      <td>January</td>\n",
       "      <td>1</td>\n",
       "      <td>0</td>\n",
       "      <td>0</td>\n",
       "      <td>0</td>\n",
       "    </tr>\n",
       "    <tr>\n",
       "      <th>2</th>\n",
       "      <td>January</td>\n",
       "      <td>2</td>\n",
       "      <td>0</td>\n",
       "      <td>0</td>\n",
       "      <td>0</td>\n",
       "    </tr>\n",
       "    <tr>\n",
       "      <th>3</th>\n",
       "      <td>January</td>\n",
       "      <td>3</td>\n",
       "      <td>0</td>\n",
       "      <td>0</td>\n",
       "      <td>0</td>\n",
       "    </tr>\n",
       "    <tr>\n",
       "      <th>4</th>\n",
       "      <td>January</td>\n",
       "      <td>4</td>\n",
       "      <td>0</td>\n",
       "      <td>0</td>\n",
       "      <td>0</td>\n",
       "    </tr>\n",
       "    <tr>\n",
       "      <th>...</th>\n",
       "      <td>...</td>\n",
       "      <td>...</td>\n",
       "      <td>...</td>\n",
       "      <td>...</td>\n",
       "      <td>...</td>\n",
       "    </tr>\n",
       "    <tr>\n",
       "      <th>23683</th>\n",
       "      <td>May</td>\n",
       "      <td>184</td>\n",
       "      <td>429</td>\n",
       "      <td>365</td>\n",
       "      <td>3</td>\n",
       "    </tr>\n",
       "    <tr>\n",
       "      <th>23684</th>\n",
       "      <td>May</td>\n",
       "      <td>185</td>\n",
       "      <td>9</td>\n",
       "      <td>6</td>\n",
       "      <td>1</td>\n",
       "    </tr>\n",
       "    <tr>\n",
       "      <th>23685</th>\n",
       "      <td>May</td>\n",
       "      <td>186</td>\n",
       "      <td>249</td>\n",
       "      <td>10</td>\n",
       "      <td>49</td>\n",
       "    </tr>\n",
       "    <tr>\n",
       "      <th>23686</th>\n",
       "      <td>May</td>\n",
       "      <td>187</td>\n",
       "      <td>920</td>\n",
       "      <td>336</td>\n",
       "      <td>7</td>\n",
       "    </tr>\n",
       "    <tr>\n",
       "      <th>23687</th>\n",
       "      <td>May</td>\n",
       "      <td>188</td>\n",
       "      <td>56</td>\n",
       "      <td>25</td>\n",
       "      <td>4</td>\n",
       "    </tr>\n",
       "  </tbody>\n",
       "</table>\n",
       "<p>23688 rows × 5 columns</p>\n",
       "</div>"
      ],
      "text/plain": [
       "          Date  Country  Confirmed  Recovered  Deaths\n",
       "0      January        0          0          0       0\n",
       "1      January        1          0          0       0\n",
       "2      January        2          0          0       0\n",
       "3      January        3          0          0       0\n",
       "4      January        4          0          0       0\n",
       "...        ...      ...        ...        ...     ...\n",
       "23683      May      184        429        365       3\n",
       "23684      May      185          9          6       1\n",
       "23685      May      186        249         10      49\n",
       "23686      May      187        920        336       7\n",
       "23687      May      188         56         25       4\n",
       "\n",
       "[23688 rows x 5 columns]"
      ]
     },
     "execution_count": 90,
     "metadata": {},
     "output_type": "execute_result"
    }
   ],
   "source": [
    "df"
   ]
  },
  {
   "cell_type": "code",
   "execution_count": 91,
   "metadata": {},
   "outputs": [
    {
     "data": {
      "text/html": [
       "<div>\n",
       "<style scoped>\n",
       "    .dataframe tbody tr th:only-of-type {\n",
       "        vertical-align: middle;\n",
       "    }\n",
       "\n",
       "    .dataframe tbody tr th {\n",
       "        vertical-align: top;\n",
       "    }\n",
       "\n",
       "    .dataframe thead th {\n",
       "        text-align: right;\n",
       "    }\n",
       "</style>\n",
       "<table border=\"1\" class=\"dataframe\">\n",
       "  <thead>\n",
       "    <tr style=\"text-align: right;\">\n",
       "      <th></th>\n",
       "      <th>Date</th>\n",
       "      <th>Country</th>\n",
       "      <th>Confirmed</th>\n",
       "      <th>Recovered</th>\n",
       "      <th>Deaths</th>\n",
       "    </tr>\n",
       "  </thead>\n",
       "  <tbody>\n",
       "    <tr>\n",
       "      <th>0</th>\n",
       "      <td>2</td>\n",
       "      <td>0</td>\n",
       "      <td>0</td>\n",
       "      <td>0</td>\n",
       "      <td>0</td>\n",
       "    </tr>\n",
       "    <tr>\n",
       "      <th>1</th>\n",
       "      <td>2</td>\n",
       "      <td>1</td>\n",
       "      <td>0</td>\n",
       "      <td>0</td>\n",
       "      <td>0</td>\n",
       "    </tr>\n",
       "    <tr>\n",
       "      <th>2</th>\n",
       "      <td>2</td>\n",
       "      <td>2</td>\n",
       "      <td>0</td>\n",
       "      <td>0</td>\n",
       "      <td>0</td>\n",
       "    </tr>\n",
       "    <tr>\n",
       "      <th>3</th>\n",
       "      <td>2</td>\n",
       "      <td>3</td>\n",
       "      <td>0</td>\n",
       "      <td>0</td>\n",
       "      <td>0</td>\n",
       "    </tr>\n",
       "    <tr>\n",
       "      <th>4</th>\n",
       "      <td>2</td>\n",
       "      <td>4</td>\n",
       "      <td>0</td>\n",
       "      <td>0</td>\n",
       "      <td>0</td>\n",
       "    </tr>\n",
       "    <tr>\n",
       "      <th>...</th>\n",
       "      <td>...</td>\n",
       "      <td>...</td>\n",
       "      <td>...</td>\n",
       "      <td>...</td>\n",
       "      <td>...</td>\n",
       "    </tr>\n",
       "    <tr>\n",
       "      <th>23683</th>\n",
       "      <td>4</td>\n",
       "      <td>184</td>\n",
       "      <td>429</td>\n",
       "      <td>365</td>\n",
       "      <td>3</td>\n",
       "    </tr>\n",
       "    <tr>\n",
       "      <th>23684</th>\n",
       "      <td>4</td>\n",
       "      <td>185</td>\n",
       "      <td>9</td>\n",
       "      <td>6</td>\n",
       "      <td>1</td>\n",
       "    </tr>\n",
       "    <tr>\n",
       "      <th>23685</th>\n",
       "      <td>4</td>\n",
       "      <td>186</td>\n",
       "      <td>249</td>\n",
       "      <td>10</td>\n",
       "      <td>49</td>\n",
       "    </tr>\n",
       "    <tr>\n",
       "      <th>23686</th>\n",
       "      <td>4</td>\n",
       "      <td>187</td>\n",
       "      <td>920</td>\n",
       "      <td>336</td>\n",
       "      <td>7</td>\n",
       "    </tr>\n",
       "    <tr>\n",
       "      <th>23687</th>\n",
       "      <td>4</td>\n",
       "      <td>188</td>\n",
       "      <td>56</td>\n",
       "      <td>25</td>\n",
       "      <td>4</td>\n",
       "    </tr>\n",
       "  </tbody>\n",
       "</table>\n",
       "<p>23688 rows × 5 columns</p>\n",
       "</div>"
      ],
      "text/plain": [
       "       Date  Country  Confirmed  Recovered  Deaths\n",
       "0         2        0          0          0       0\n",
       "1         2        1          0          0       0\n",
       "2         2        2          0          0       0\n",
       "3         2        3          0          0       0\n",
       "4         2        4          0          0       0\n",
       "...     ...      ...        ...        ...     ...\n",
       "23683     4      184        429        365       3\n",
       "23684     4      185          9          6       1\n",
       "23685     4      186        249         10      49\n",
       "23686     4      187        920        336       7\n",
       "23687     4      188         56         25       4\n",
       "\n",
       "[23688 rows x 5 columns]"
      ]
     },
     "execution_count": 91,
     "metadata": {},
     "output_type": "execute_result"
    }
   ],
   "source": [
    "le=LabelEncoder()\n",
    "df['Date']=le.fit_transform(df['Date'].astype(str))\n",
    "df"
   ]
  },
  {
   "cell_type": "code",
   "execution_count": 92,
   "metadata": {},
   "outputs": [
    {
     "data": {
      "image/png": "[encoded data removed]",
      "text/plain": [
       "<Figure size 432x288 with 1 Axes>"
      ]
     },
     "metadata": {
      "needs_background": "light"
     },
     "output_type": "display_data"
    },
    {
     "data": {
      "image/png": "[encoded data removed]",
      "text/plain": [
       "<Figure size 432x288 with 1 Axes>"
      ]
     },
     "metadata": {
      "needs_background": "light"
     },
     "output_type": "display_data"
    },
    {
     "data": {
      "image/png": "[encoded data removed]",
      "text/plain": [
       "<Figure size 432x288 with 1 Axes>"
      ]
     },
     "metadata": {
      "needs_background": "light"
     },
     "output_type": "display_data"
    },
    {
     "data": {
      "image/png": "[encoded data removed]",
      "text/plain": [
       "<Figure size 432x288 with 1 Axes>"
      ]
     },
     "metadata": {
      "needs_background": "light"
     },
     "output_type": "display_data"
    },
    {
     "data": {
      "image/png": "[encoded data removed]",
      "text/plain": [
       "<Figure size 432x288 with 1 Axes>"
      ]
     },
     "metadata": {
      "needs_background": "light"
     },
     "output_type": "display_data"
    }
   ],
   "source": [
    "import seaborn as sns\n",
    "import matplotlib.pyplot as plt\n",
    "for i in df.describe().columns:\n",
    "    sns.boxplot(df[i].dropna())\n",
    "    plt.show()"
   ]
  },
  {
   "cell_type": "code",
   "execution_count": 93,
   "metadata": {},
   "outputs": [],
   "source": [
    "from scipy.stats import zscore\n",
    "import numpy as np"
   ]
  },
  {
   "cell_type": "code",
   "execution_count": 94,
   "metadata": {},
   "outputs": [
    {
     "data": {
      "text/plain": [
       "array([[0.03173404, 1.7192047 , 0.13641539, 0.17049719, 0.13197356],\n",
       "       [0.03173404, 1.7008415 , 0.13641539, 0.17049719, 0.13197356],\n",
       "       [0.03173404, 1.68247831, 0.13641539, 0.17049719, 0.13197356],\n",
       "       ...,\n",
       "       [1.36456375, 1.69634993, 0.13215314, 0.16983681, 0.11970126],\n",
       "       [1.36456375, 1.71471313, 0.12066732, 0.1483084 , 0.13022038],\n",
       "       [1.36456375, 1.73307632, 0.13545681, 0.16884624, 0.13097174]])"
      ]
     },
     "execution_count": 94,
     "metadata": {},
     "output_type": "execute_result"
    }
   ],
   "source": [
    "z=np.abs(zscore(df))\n",
    "z"
   ]
  },
  {
   "cell_type": "code",
   "execution_count": 95,
   "metadata": {},
   "outputs": [
    {
     "name": "stdout",
     "output_type": "stream",
     "text": [
      "(array([ 7932,  8120,  8308,  8496,  8684,  8872,  9060,  9248,  9436,\n",
      "        9624,  9812, 10000, 10188, 10376, 10564, 10752, 10940, 11128,\n",
      "       11316, 11504, 11692, 11880, 12068, 12256, 12444, 12632, 12820,\n",
      "       13008, 13146, 13196, 13245, 13334, 13384, 13433, 13522, 13572,\n",
      "       13621, 13710, 13760, 13809, 13898, 13948, 13997, 14070, 14086,\n",
      "       14136, 14185, 14258, 14274, 14274, 14324, 14373, 14446, 14462,\n",
      "       14462, 14512, 14561, 14634, 14634, 14650, 14650, 14700, 14730,\n",
      "       14749, 14822, 14822, 14838, 14838, 14888, 14914, 14918, 14937,\n",
      "       15010, 15010, 15026, 15026, 15076, 15102, 15106, 15125, 15198,\n",
      "       15198, 15214, 15214, 15264, 15290, 15294, 15313, 15386, 15386,\n",
      "       15402, 15402, 15452, 15478, 15482, 15501, 15574, 15574, 15590,\n",
      "       15590, 15594, 15640, 15666, 15670, 15685, 15689, 15762, 15762,\n",
      "       15778, 15778, 15782, 15828, 15854, 15858, 15873, 15877, 15950,\n",
      "       15950, 15966, 15966, 15966, 15970, 16016, 16042, 16046, 16061,\n",
      "       16065, 16138, 16138, 16138, 16154, 16154, 16154, 16158, 16204,\n",
      "       16230, 16234, 16249, 16253, 16326, 16326, 16326, 16342, 16342,\n",
      "       16342, 16346, 16392, 16418, 16422, 16437, 16441, 16514, 16514,\n",
      "       16514, 16530, 16530, 16530, 16534, 16580, 16606, 16610, 16625,\n",
      "       16629, 16702, 16702, 16702, 16718, 16718, 16718, 16722, 16768,\n",
      "       16794, 16798, 16813, 16817, 16817, 16890, 16890, 16890, 16906,\n",
      "       16906, 16906, 16910, 16956, 16982, 16986, 17001, 17005, 17005,\n",
      "       17005, 17078, 17078, 17078, 17094, 17094, 17094, 17098, 17144,\n",
      "       17170, 17174, 17189, 17193, 17193, 17193, 17266, 17266, 17266,\n",
      "       17282, 17282, 17282, 17286, 17332, 17358, 17362, 17377, 17381,\n",
      "       17381, 17381, 17454, 17454, 17454, 17470, 17470, 17470, 17474,\n",
      "       17520, 17546, 17550, 17565, 17569, 17569, 17569, 17642, 17642,\n",
      "       17642, 17658, 17658, 17658, 17662, 17708, 17734, 17738, 17753,\n",
      "       17757, 17757, 17757, 17830, 17830, 17830, 17846, 17846, 17846,\n",
      "       17850, 17896, 17922, 17926, 17941, 17945, 17945, 17945, 18018,\n",
      "       18018, 18018, 18034, 18034, 18034, 18038, 18084, 18110, 18114,\n",
      "       18129, 18133, 18133, 18133, 18206, 18206, 18206, 18222, 18222,\n",
      "       18222, 18226, 18272, 18298, 18302, 18317, 18321, 18321, 18321,\n",
      "       18394, 18394, 18394, 18410, 18410, 18410, 18414, 18460, 18486,\n",
      "       18486, 18490, 18505, 18509, 18509, 18509, 18582, 18582, 18582,\n",
      "       18598, 18598, 18598, 18602, 18648, 18674, 18674, 18678, 18693,\n",
      "       18697, 18697, 18697, 18770, 18770, 18770, 18785, 18786, 18786,\n",
      "       18786, 18790, 18836, 18862, 18862, 18866, 18881, 18885, 18885,\n",
      "       18885, 18958, 18958, 18958, 18973, 18974, 18974, 18974, 18978,\n",
      "       19024, 19050, 19050, 19054, 19069, 19073, 19073, 19073, 19146,\n",
      "       19146, 19146, 19161, 19162, 19162, 19162, 19166, 19166, 19212,\n",
      "       19238, 19238, 19242, 19257, 19261, 19261, 19261, 19334, 19334,\n",
      "       19334, 19349, 19350, 19350, 19350, 19354, 19354, 19400, 19426,\n",
      "       19426, 19430, 19445, 19449, 19449, 19449, 19522, 19522, 19522,\n",
      "       19537, 19538, 19538, 19538, 19542, 19542, 19575, 19588, 19614,\n",
      "       19614, 19618, 19633, 19637, 19637, 19637, 19710, 19710, 19710,\n",
      "       19725, 19726, 19726, 19726, 19730, 19730, 19763, 19776, 19802,\n",
      "       19802, 19806, 19821, 19825, 19825, 19825, 19898, 19898, 19898,\n",
      "       19913, 19914, 19914, 19914, 19918, 19918, 19951, 19964, 19990,\n",
      "       19990, 19994, 20009, 20013, 20013, 20013, 20086, 20086, 20086,\n",
      "       20101, 20102, 20102, 20102, 20106, 20106, 20139, 20152, 20178,\n",
      "       20178, 20182, 20197, 20201, 20201, 20201, 20256, 20274, 20274,\n",
      "       20274, 20289, 20290, 20290, 20290, 20294, 20294, 20327, 20340,\n",
      "       20366, 20366, 20370, 20385, 20389, 20389, 20389, 20444, 20462,\n",
      "       20462, 20462, 20477, 20478, 20478, 20478, 20482, 20482, 20515,\n",
      "       20528, 20554, 20554, 20558, 20573, 20577, 20577, 20577, 20632,\n",
      "       20650, 20650, 20650, 20665, 20666, 20666, 20666, 20670, 20670,\n",
      "       20703, 20716, 20742, 20742, 20746, 20761, 20765, 20765, 20765,\n",
      "       20820, 20838, 20838, 20838, 20853, 20854, 20854, 20854, 20858,\n",
      "       20858, 20891, 20904, 20930, 20930, 20934, 20949, 20953, 20953,\n",
      "       20953, 21008, 21026, 21026, 21026, 21041, 21042, 21042, 21042,\n",
      "       21046, 21046, 21079, 21079, 21079, 21092, 21118, 21118, 21122,\n",
      "       21137, 21141, 21141, 21141, 21196, 21214, 21214, 21214, 21229,\n",
      "       21230, 21230, 21230, 21234, 21234, 21267, 21267, 21267, 21280,\n",
      "       21306, 21306, 21310, 21325, 21329, 21329, 21329, 21384, 21384,\n",
      "       21402, 21402, 21402, 21417, 21418, 21418, 21418, 21422, 21422,\n",
      "       21455, 21455, 21455, 21468, 21494, 21494, 21498, 21513, 21517,\n",
      "       21517, 21517, 21572, 21572, 21590, 21590, 21590, 21605, 21606,\n",
      "       21606, 21606, 21610, 21610, 21643, 21643, 21643, 21656, 21682,\n",
      "       21682, 21686, 21701, 21705, 21705, 21705, 21760, 21760, 21778,\n",
      "       21778, 21778, 21793, 21794, 21794, 21794, 21798, 21798, 21831,\n",
      "       21831, 21831, 21844, 21870, 21870, 21874, 21889, 21893, 21893,\n",
      "       21893, 21948, 21948, 21966, 21966, 21966, 21981, 21982, 21982,\n",
      "       21982, 21986, 21986, 22019, 22019, 22019, 22032, 22058, 22058,\n",
      "       22062, 22077, 22081, 22081, 22081, 22136, 22136, 22154, 22154,\n",
      "       22154, 22169, 22170, 22170, 22170, 22174, 22174, 22207, 22207,\n",
      "       22207, 22220, 22246, 22246, 22250, 22265, 22269, 22269, 22269,\n",
      "       22324, 22324, 22342, 22342, 22342, 22357, 22358, 22358, 22358,\n",
      "       22362, 22362, 22395, 22395, 22395, 22408, 22434, 22434, 22438,\n",
      "       22453, 22457, 22457, 22457, 22512, 22512, 22530, 22530, 22530,\n",
      "       22545, 22546, 22546, 22546, 22550, 22550, 22583, 22583, 22583,\n",
      "       22596, 22622, 22622, 22626, 22639, 22641, 22645, 22645, 22645,\n",
      "       22700, 22700, 22718, 22718, 22718, 22733, 22734, 22734, 22734,\n",
      "       22738, 22738, 22771, 22771, 22771, 22784, 22810, 22810, 22814,\n",
      "       22827, 22829, 22833, 22833, 22833, 22888, 22888, 22906, 22906,\n",
      "       22906, 22921, 22922, 22922, 22922, 22926, 22926, 22959, 22959,\n",
      "       22959, 22972, 22998, 22998, 23002, 23015, 23017, 23021, 23021,\n",
      "       23021, 23076, 23076, 23094, 23094, 23094, 23109, 23110, 23110,\n",
      "       23110, 23114, 23114, 23147, 23147, 23147, 23160, 23186, 23186,\n",
      "       23190, 23203, 23205, 23209, 23209, 23209, 23258, 23264, 23264,\n",
      "       23282, 23282, 23282, 23297, 23298, 23298, 23298, 23302, 23302,\n",
      "       23335, 23335, 23335, 23348, 23374, 23374, 23378, 23391, 23393,\n",
      "       23397, 23397, 23397, 23425, 23446, 23452, 23452, 23470, 23470,\n",
      "       23470, 23485, 23486, 23486, 23486, 23490, 23490, 23523, 23523,\n",
      "       23523, 23536, 23562, 23562, 23566, 23579, 23581, 23585, 23585,\n",
      "       23585, 23613, 23634, 23640, 23640, 23647, 23658, 23658, 23658,\n",
      "       23673, 23674, 23674, 23674, 23678, 23678], dtype=int64), array([3, 3, 3, 3, 3, 3, 3, 3, 3, 3, 3, 3, 3, 3, 3, 3, 3, 3, 3, 3, 3, 3,\n",
      "       3, 3, 3, 3, 3, 3, 2, 3, 4, 2, 3, 4, 2, 3, 4, 2, 3, 4, 2, 3, 4, 4,\n",
      "       2, 3, 4, 4, 2, 4, 3, 4, 4, 2, 4, 3, 4, 3, 4, 2, 4, 3, 3, 4, 3, 4,\n",
      "       2, 4, 3, 4, 3, 4, 3, 4, 2, 4, 3, 4, 3, 4, 3, 4, 2, 4, 3, 4, 3, 4,\n",
      "       3, 4, 2, 4, 3, 4, 3, 4, 3, 4, 2, 4, 4, 3, 4, 3, 3, 4, 3, 4, 2, 4,\n",
      "       4, 3, 4, 3, 3, 4, 3, 4, 2, 3, 4, 4, 3, 4, 3, 3, 4, 2, 3, 4, 2, 3,\n",
      "       4, 4, 3, 4, 3, 3, 4, 2, 3, 4, 2, 3, 4, 4, 3, 4, 3, 3, 4, 2, 3, 4,\n",
      "       2, 3, 4, 4, 3, 4, 3, 3, 4, 2, 3, 4, 2, 3, 4, 4, 3, 4, 3, 3, 3, 4,\n",
      "       2, 3, 4, 2, 3, 4, 4, 3, 4, 3, 3, 2, 3, 4, 2, 3, 4, 2, 3, 4, 4, 3,\n",
      "       4, 3, 3, 2, 3, 4, 2, 3, 4, 2, 3, 4, 4, 3, 4, 3, 3, 2, 3, 4, 2, 3,\n",
      "       4, 2, 3, 4, 4, 3, 4, 3, 3, 2, 3, 4, 2, 3, 4, 2, 3, 4, 4, 3, 4, 3,\n",
      "       3, 2, 3, 4, 2, 3, 4, 2, 3, 4, 4, 3, 4, 3, 3, 2, 3, 4, 2, 3, 4, 2,\n",
      "       3, 4, 4, 3, 4, 3, 3, 2, 3, 4, 2, 3, 4, 2, 3, 4, 4, 3, 4, 3, 3, 2,\n",
      "       3, 4, 2, 3, 4, 2, 3, 4, 4, 3, 3, 4, 3, 3, 2, 3, 4, 2, 3, 4, 2, 3,\n",
      "       4, 4, 3, 3, 4, 3, 3, 2, 3, 4, 2, 3, 4, 3, 2, 3, 4, 4, 3, 3, 4, 3,\n",
      "       3, 2, 3, 4, 2, 3, 4, 3, 2, 3, 4, 4, 3, 3, 4, 3, 3, 2, 3, 4, 2, 3,\n",
      "       4, 3, 2, 3, 4, 2, 4, 3, 3, 4, 3, 3, 2, 3, 4, 2, 3, 4, 3, 2, 3, 4,\n",
      "       2, 4, 3, 3, 4, 3, 3, 2, 3, 4, 2, 3, 4, 3, 2, 3, 4, 2, 4, 3, 3, 3,\n",
      "       4, 3, 3, 2, 3, 4, 2, 3, 4, 3, 2, 3, 4, 2, 4, 3, 3, 3, 4, 3, 3, 2,\n",
      "       3, 4, 2, 3, 4, 3, 2, 3, 4, 2, 4, 3, 3, 3, 4, 3, 3, 2, 3, 4, 2, 3,\n",
      "       4, 3, 2, 3, 4, 2, 4, 3, 3, 3, 4, 3, 3, 2, 3, 4, 2, 2, 3, 4, 3, 2,\n",
      "       3, 4, 2, 4, 3, 3, 3, 4, 3, 3, 2, 3, 4, 2, 2, 3, 4, 3, 2, 3, 4, 2,\n",
      "       4, 3, 3, 3, 4, 3, 3, 2, 3, 4, 2, 2, 3, 4, 3, 2, 3, 4, 2, 4, 3, 3,\n",
      "       3, 4, 3, 3, 2, 3, 4, 2, 2, 3, 4, 3, 2, 3, 4, 2, 4, 3, 3, 3, 4, 3,\n",
      "       3, 2, 3, 4, 2, 2, 3, 4, 3, 2, 3, 4, 2, 4, 2, 3, 4, 3, 3, 4, 3, 3,\n",
      "       2, 3, 4, 2, 2, 3, 4, 3, 2, 3, 4, 2, 4, 2, 3, 4, 3, 3, 4, 3, 3, 2,\n",
      "       3, 4, 2, 3, 2, 3, 4, 3, 2, 3, 4, 2, 4, 2, 3, 4, 3, 3, 4, 3, 3, 2,\n",
      "       3, 4, 2, 3, 2, 3, 4, 3, 2, 3, 4, 2, 4, 2, 3, 4, 3, 3, 4, 3, 3, 2,\n",
      "       3, 4, 2, 3, 2, 3, 4, 3, 2, 3, 4, 2, 4, 2, 3, 4, 3, 3, 4, 3, 3, 2,\n",
      "       3, 4, 2, 3, 2, 3, 4, 3, 2, 3, 4, 2, 4, 2, 3, 4, 3, 3, 4, 3, 3, 2,\n",
      "       3, 4, 2, 3, 2, 3, 4, 3, 2, 3, 4, 2, 4, 2, 3, 4, 3, 3, 4, 3, 3, 2,\n",
      "       3, 4, 2, 3, 2, 3, 4, 3, 2, 3, 4, 2, 4, 2, 3, 4, 3, 3, 4, 3, 3, 2,\n",
      "       3, 4, 2, 3, 2, 3, 4, 3, 2, 3, 4, 2, 4, 2, 3, 4, 3, 3, 4, 3, 3, 3,\n",
      "       2, 3, 4, 2, 3, 2, 3, 4, 3, 2, 3, 4, 2, 4, 2, 3, 4, 3, 3, 4, 3, 3,\n",
      "       3, 2, 3, 4, 2, 3, 2, 3, 4, 3, 2, 3, 4, 2, 4, 2, 3, 4, 3, 3, 4, 3,\n",
      "       3, 3, 2, 3, 4, 2, 3, 2, 3, 4, 3, 2, 3, 4, 2, 4, 2, 3, 4, 3, 3, 4,\n",
      "       3, 3, 3, 2, 3, 4, 3, 2, 3, 2, 3, 4, 3, 2, 3, 4, 2, 4, 2, 3, 4, 3,\n",
      "       3, 4, 3, 3, 3, 2, 3, 4, 3, 3, 2, 3, 2, 3, 4, 3, 2, 3, 4, 2, 4, 2,\n",
      "       3, 4, 3, 3, 4, 3, 3, 3, 2, 3, 4, 3, 3, 2, 3, 3, 2, 3, 4, 3, 2, 3,\n",
      "       4, 2, 4], dtype=int64))\n"
     ]
    }
   ],
   "source": [
    "threshold=3               #Identifying outlirs\n",
    "print(np.where(z>3))"
   ]
  },
  {
   "cell_type": "code",
   "execution_count": 96,
   "metadata": {},
   "outputs": [
    {
     "data": {
      "text/html": [
       "<div>\n",
       "<style scoped>\n",
       "    .dataframe tbody tr th:only-of-type {\n",
       "        vertical-align: middle;\n",
       "    }\n",
       "\n",
       "    .dataframe tbody tr th {\n",
       "        vertical-align: top;\n",
       "    }\n",
       "\n",
       "    .dataframe thead th {\n",
       "        text-align: right;\n",
       "    }\n",
       "</style>\n",
       "<table border=\"1\" class=\"dataframe\">\n",
       "  <thead>\n",
       "    <tr style=\"text-align: right;\">\n",
       "      <th></th>\n",
       "      <th>Date</th>\n",
       "      <th>Country</th>\n",
       "      <th>Confirmed</th>\n",
       "      <th>Recovered</th>\n",
       "      <th>Deaths</th>\n",
       "    </tr>\n",
       "  </thead>\n",
       "  <tbody>\n",
       "    <tr>\n",
       "      <th>0</th>\n",
       "      <td>2</td>\n",
       "      <td>0</td>\n",
       "      <td>0</td>\n",
       "      <td>0</td>\n",
       "      <td>0</td>\n",
       "    </tr>\n",
       "    <tr>\n",
       "      <th>1</th>\n",
       "      <td>2</td>\n",
       "      <td>1</td>\n",
       "      <td>0</td>\n",
       "      <td>0</td>\n",
       "      <td>0</td>\n",
       "    </tr>\n",
       "    <tr>\n",
       "      <th>2</th>\n",
       "      <td>2</td>\n",
       "      <td>2</td>\n",
       "      <td>0</td>\n",
       "      <td>0</td>\n",
       "      <td>0</td>\n",
       "    </tr>\n",
       "    <tr>\n",
       "      <th>3</th>\n",
       "      <td>2</td>\n",
       "      <td>3</td>\n",
       "      <td>0</td>\n",
       "      <td>0</td>\n",
       "      <td>0</td>\n",
       "    </tr>\n",
       "    <tr>\n",
       "      <th>4</th>\n",
       "      <td>2</td>\n",
       "      <td>4</td>\n",
       "      <td>0</td>\n",
       "      <td>0</td>\n",
       "      <td>0</td>\n",
       "    </tr>\n",
       "    <tr>\n",
       "      <th>...</th>\n",
       "      <td>...</td>\n",
       "      <td>...</td>\n",
       "      <td>...</td>\n",
       "      <td>...</td>\n",
       "      <td>...</td>\n",
       "    </tr>\n",
       "    <tr>\n",
       "      <th>23683</th>\n",
       "      <td>4</td>\n",
       "      <td>184</td>\n",
       "      <td>429</td>\n",
       "      <td>365</td>\n",
       "      <td>3</td>\n",
       "    </tr>\n",
       "    <tr>\n",
       "      <th>23684</th>\n",
       "      <td>4</td>\n",
       "      <td>185</td>\n",
       "      <td>9</td>\n",
       "      <td>6</td>\n",
       "      <td>1</td>\n",
       "    </tr>\n",
       "    <tr>\n",
       "      <th>23685</th>\n",
       "      <td>4</td>\n",
       "      <td>186</td>\n",
       "      <td>249</td>\n",
       "      <td>10</td>\n",
       "      <td>49</td>\n",
       "    </tr>\n",
       "    <tr>\n",
       "      <th>23686</th>\n",
       "      <td>4</td>\n",
       "      <td>187</td>\n",
       "      <td>920</td>\n",
       "      <td>336</td>\n",
       "      <td>7</td>\n",
       "    </tr>\n",
       "    <tr>\n",
       "      <th>23687</th>\n",
       "      <td>4</td>\n",
       "      <td>188</td>\n",
       "      <td>56</td>\n",
       "      <td>25</td>\n",
       "      <td>4</td>\n",
       "    </tr>\n",
       "  </tbody>\n",
       "</table>\n",
       "<p>23177 rows × 5 columns</p>\n",
       "</div>"
      ],
      "text/plain": [
       "       Date  Country  Confirmed  Recovered  Deaths\n",
       "0         2        0          0          0       0\n",
       "1         2        1          0          0       0\n",
       "2         2        2          0          0       0\n",
       "3         2        3          0          0       0\n",
       "4         2        4          0          0       0\n",
       "...     ...      ...        ...        ...     ...\n",
       "23683     4      184        429        365       3\n",
       "23684     4      185          9          6       1\n",
       "23685     4      186        249         10      49\n",
       "23686     4      187        920        336       7\n",
       "23687     4      188         56         25       4\n",
       "\n",
       "[23177 rows x 5 columns]"
      ]
     },
     "execution_count": 96,
     "metadata": {},
     "output_type": "execute_result"
    }
   ],
   "source": [
    "df1=df[(z<3).all(axis=1)]   #Removing outliers\n",
    "df1"
   ]
  },
  {
   "cell_type": "code",
   "execution_count": 97,
   "metadata": {},
   "outputs": [
    {
     "data": {
      "text/plain": [
       "<matplotlib.axes._subplots.AxesSubplot at 0x57edd4a608>"
      ]
     },
     "execution_count": 97,
     "metadata": {},
     "output_type": "execute_result"
    },
    {
     "data": {
      "image/png": "[encoded data removed]",
      "text/plain": [
       "<Figure size 432x288 with 2 Axes>"
      ]
     },
     "metadata": {
      "needs_background": "light"
     },
     "output_type": "display_data"
    }
   ],
   "source": [
    "sns.heatmap(df1.corr())"
   ]
  },
  {
   "cell_type": "code",
   "execution_count": 98,
   "metadata": {},
   "outputs": [
    {
     "data": {
      "text/plain": [
       "Date         0.032886\n",
       "Country      0.003839\n",
       "Confirmed    6.906829\n",
       "Recovered    7.472281\n",
       "Deaths       9.729360\n",
       "dtype: float64"
      ]
     },
     "execution_count": 98,
     "metadata": {},
     "output_type": "execute_result"
    }
   ],
   "source": [
    "df1.skew()"
   ]
  },
  {
   "cell_type": "code",
   "execution_count": 99,
   "metadata": {},
   "outputs": [
    {
     "name": "stderr",
     "output_type": "stream",
     "text": [
      "C:\\Users\\inspiron\\anaconda3\\lib\\site-packages\\ipykernel_launcher.py:1: SettingWithCopyWarning: \n",
      "A value is trying to be set on a copy of a slice from a DataFrame.\n",
      "Try using .loc[row_indexer,col_indexer] = value instead\n",
      "\n",
      "See the caveats in the documentation: https://pandas.pydata.org/pandas-docs/stable/user_guide/indexing.html#returning-a-view-versus-a-copy\n",
      "  \"\"\"Entry point for launching an IPython kernel.\n",
      "C:\\Users\\inspiron\\anaconda3\\lib\\site-packages\\ipykernel_launcher.py:2: SettingWithCopyWarning: \n",
      "A value is trying to be set on a copy of a slice from a DataFrame.\n",
      "Try using .loc[row_indexer,col_indexer] = value instead\n",
      "\n",
      "See the caveats in the documentation: https://pandas.pydata.org/pandas-docs/stable/user_guide/indexing.html#returning-a-view-versus-a-copy\n",
      "  \n",
      "C:\\Users\\inspiron\\anaconda3\\lib\\site-packages\\ipykernel_launcher.py:3: SettingWithCopyWarning: \n",
      "A value is trying to be set on a copy of a slice from a DataFrame.\n",
      "Try using .loc[row_indexer,col_indexer] = value instead\n",
      "\n",
      "See the caveats in the documentation: https://pandas.pydata.org/pandas-docs/stable/user_guide/indexing.html#returning-a-view-versus-a-copy\n",
      "  This is separate from the ipykernel package so we can avoid doing imports until\n"
     ]
    },
    {
     "data": {
      "text/plain": [
       "Date         0.032886\n",
       "Country      0.003839\n",
       "Confirmed    3.273113\n",
       "Recovered    3.741511\n",
       "Deaths       4.855228\n",
       "dtype: float64"
      ]
     },
     "execution_count": 99,
     "metadata": {},
     "output_type": "execute_result"
    }
   ],
   "source": [
    "df1['Confirmed'] = np.sqrt(df1['Confirmed'])\n",
    "df1['Recovered'] = np.sqrt(df1['Recovered'])\n",
    "df1['Deaths'] = np.sqrt(df1['Deaths'])\n",
    "df1.skew()"
   ]
  },
  {
   "cell_type": "code",
   "execution_count": 100,
   "metadata": {},
   "outputs": [
    {
     "data": {
      "text/html": [
       "<div>\n",
       "<style scoped>\n",
       "    .dataframe tbody tr th:only-of-type {\n",
       "        vertical-align: middle;\n",
       "    }\n",
       "\n",
       "    .dataframe tbody tr th {\n",
       "        vertical-align: top;\n",
       "    }\n",
       "\n",
       "    .dataframe thead th {\n",
       "        text-align: right;\n",
       "    }\n",
       "</style>\n",
       "<table border=\"1\" class=\"dataframe\">\n",
       "  <thead>\n",
       "    <tr style=\"text-align: right;\">\n",
       "      <th></th>\n",
       "      <th>Date</th>\n",
       "      <th>Country</th>\n",
       "      <th>Confirmed</th>\n",
       "      <th>Recovered</th>\n",
       "      <th>Deaths</th>\n",
       "    </tr>\n",
       "  </thead>\n",
       "  <tbody>\n",
       "    <tr>\n",
       "      <th>0</th>\n",
       "      <td>2</td>\n",
       "      <td>0</td>\n",
       "      <td>0.000000</td>\n",
       "      <td>0.000000</td>\n",
       "      <td>0.000000</td>\n",
       "    </tr>\n",
       "    <tr>\n",
       "      <th>1</th>\n",
       "      <td>2</td>\n",
       "      <td>1</td>\n",
       "      <td>0.000000</td>\n",
       "      <td>0.000000</td>\n",
       "      <td>0.000000</td>\n",
       "    </tr>\n",
       "    <tr>\n",
       "      <th>2</th>\n",
       "      <td>2</td>\n",
       "      <td>2</td>\n",
       "      <td>0.000000</td>\n",
       "      <td>0.000000</td>\n",
       "      <td>0.000000</td>\n",
       "    </tr>\n",
       "    <tr>\n",
       "      <th>3</th>\n",
       "      <td>2</td>\n",
       "      <td>3</td>\n",
       "      <td>0.000000</td>\n",
       "      <td>0.000000</td>\n",
       "      <td>0.000000</td>\n",
       "    </tr>\n",
       "    <tr>\n",
       "      <th>4</th>\n",
       "      <td>2</td>\n",
       "      <td>4</td>\n",
       "      <td>0.000000</td>\n",
       "      <td>0.000000</td>\n",
       "      <td>0.000000</td>\n",
       "    </tr>\n",
       "    <tr>\n",
       "      <th>...</th>\n",
       "      <td>...</td>\n",
       "      <td>...</td>\n",
       "      <td>...</td>\n",
       "      <td>...</td>\n",
       "      <td>...</td>\n",
       "    </tr>\n",
       "    <tr>\n",
       "      <th>23683</th>\n",
       "      <td>4</td>\n",
       "      <td>184</td>\n",
       "      <td>20.712315</td>\n",
       "      <td>19.104973</td>\n",
       "      <td>1.732051</td>\n",
       "    </tr>\n",
       "    <tr>\n",
       "      <th>23684</th>\n",
       "      <td>4</td>\n",
       "      <td>185</td>\n",
       "      <td>3.000000</td>\n",
       "      <td>2.449490</td>\n",
       "      <td>1.000000</td>\n",
       "    </tr>\n",
       "    <tr>\n",
       "      <th>23685</th>\n",
       "      <td>4</td>\n",
       "      <td>186</td>\n",
       "      <td>15.779734</td>\n",
       "      <td>3.162278</td>\n",
       "      <td>7.000000</td>\n",
       "    </tr>\n",
       "    <tr>\n",
       "      <th>23686</th>\n",
       "      <td>4</td>\n",
       "      <td>187</td>\n",
       "      <td>30.331502</td>\n",
       "      <td>18.330303</td>\n",
       "      <td>2.645751</td>\n",
       "    </tr>\n",
       "    <tr>\n",
       "      <th>23687</th>\n",
       "      <td>4</td>\n",
       "      <td>188</td>\n",
       "      <td>7.483315</td>\n",
       "      <td>5.000000</td>\n",
       "      <td>2.000000</td>\n",
       "    </tr>\n",
       "  </tbody>\n",
       "</table>\n",
       "<p>23177 rows × 5 columns</p>\n",
       "</div>"
      ],
      "text/plain": [
       "       Date  Country  Confirmed  Recovered    Deaths\n",
       "0         2        0   0.000000   0.000000  0.000000\n",
       "1         2        1   0.000000   0.000000  0.000000\n",
       "2         2        2   0.000000   0.000000  0.000000\n",
       "3         2        3   0.000000   0.000000  0.000000\n",
       "4         2        4   0.000000   0.000000  0.000000\n",
       "...     ...      ...        ...        ...       ...\n",
       "23683     4      184  20.712315  19.104973  1.732051\n",
       "23684     4      185   3.000000   2.449490  1.000000\n",
       "23685     4      186  15.779734   3.162278  7.000000\n",
       "23686     4      187  30.331502  18.330303  2.645751\n",
       "23687     4      188   7.483315   5.000000  2.000000\n",
       "\n",
       "[23177 rows x 5 columns]"
      ]
     },
     "execution_count": 100,
     "metadata": {},
     "output_type": "execute_result"
    }
   ],
   "source": [
    "df1"
   ]
  },
  {
   "cell_type": "code",
   "execution_count": 101,
   "metadata": {},
   "outputs": [
    {
     "data": {
      "text/plain": [
       "Date         0\n",
       "Country      0\n",
       "Confirmed    0\n",
       "Recovered    0\n",
       "Deaths       0\n",
       "dtype: int64"
      ]
     },
     "execution_count": 101,
     "metadata": {},
     "output_type": "execute_result"
    }
   ],
   "source": [
    "df1.isnull().sum()"
   ]
  },
  {
   "cell_type": "code",
   "execution_count": 102,
   "metadata": {},
   "outputs": [
    {
     "name": "stderr",
     "output_type": "stream",
     "text": [
      "C:\\Users\\inspiron\\anaconda3\\lib\\site-packages\\pandas\\core\\generic.py:6245: SettingWithCopyWarning: \n",
      "A value is trying to be set on a copy of a slice from a DataFrame\n",
      "\n",
      "See the caveats in the documentation: https://pandas.pydata.org/pandas-docs/stable/user_guide/indexing.html#returning-a-view-versus-a-copy\n",
      "  self._update_inplace(new_data)\n"
     ]
    }
   ],
   "source": [
    "df1['Confirmed'].fillna(df1['Confirmed'].mean(),inplace=True)"
   ]
  },
  {
   "cell_type": "code",
   "execution_count": 103,
   "metadata": {},
   "outputs": [
    {
     "data": {
      "text/plain": [
       "Date         0\n",
       "Country      0\n",
       "Confirmed    0\n",
       "Recovered    0\n",
       "Deaths       0\n",
       "dtype: int64"
      ]
     },
     "execution_count": 103,
     "metadata": {},
     "output_type": "execute_result"
    }
   ],
   "source": [
    "df1.isnull().sum()"
   ]
  },
  {
   "cell_type": "code",
   "execution_count": 104,
   "metadata": {},
   "outputs": [
    {
     "data": {
      "text/html": [
       "<div>\n",
       "<style scoped>\n",
       "    .dataframe tbody tr th:only-of-type {\n",
       "        vertical-align: middle;\n",
       "    }\n",
       "\n",
       "    .dataframe tbody tr th {\n",
       "        vertical-align: top;\n",
       "    }\n",
       "\n",
       "    .dataframe thead th {\n",
       "        text-align: right;\n",
       "    }\n",
       "</style>\n",
       "<table border=\"1\" class=\"dataframe\">\n",
       "  <thead>\n",
       "    <tr style=\"text-align: right;\">\n",
       "      <th></th>\n",
       "      <th>Date</th>\n",
       "      <th>Country</th>\n",
       "      <th>Confirmed</th>\n",
       "      <th>Recovered</th>\n",
       "    </tr>\n",
       "  </thead>\n",
       "  <tbody>\n",
       "    <tr>\n",
       "      <th>0</th>\n",
       "      <td>2</td>\n",
       "      <td>0</td>\n",
       "      <td>0.000000</td>\n",
       "      <td>0.000000</td>\n",
       "    </tr>\n",
       "    <tr>\n",
       "      <th>1</th>\n",
       "      <td>2</td>\n",
       "      <td>1</td>\n",
       "      <td>0.000000</td>\n",
       "      <td>0.000000</td>\n",
       "    </tr>\n",
       "    <tr>\n",
       "      <th>2</th>\n",
       "      <td>2</td>\n",
       "      <td>2</td>\n",
       "      <td>0.000000</td>\n",
       "      <td>0.000000</td>\n",
       "    </tr>\n",
       "    <tr>\n",
       "      <th>3</th>\n",
       "      <td>2</td>\n",
       "      <td>3</td>\n",
       "      <td>0.000000</td>\n",
       "      <td>0.000000</td>\n",
       "    </tr>\n",
       "    <tr>\n",
       "      <th>4</th>\n",
       "      <td>2</td>\n",
       "      <td>4</td>\n",
       "      <td>0.000000</td>\n",
       "      <td>0.000000</td>\n",
       "    </tr>\n",
       "    <tr>\n",
       "      <th>...</th>\n",
       "      <td>...</td>\n",
       "      <td>...</td>\n",
       "      <td>...</td>\n",
       "      <td>...</td>\n",
       "    </tr>\n",
       "    <tr>\n",
       "      <th>23683</th>\n",
       "      <td>4</td>\n",
       "      <td>184</td>\n",
       "      <td>20.712315</td>\n",
       "      <td>19.104973</td>\n",
       "    </tr>\n",
       "    <tr>\n",
       "      <th>23684</th>\n",
       "      <td>4</td>\n",
       "      <td>185</td>\n",
       "      <td>3.000000</td>\n",
       "      <td>2.449490</td>\n",
       "    </tr>\n",
       "    <tr>\n",
       "      <th>23685</th>\n",
       "      <td>4</td>\n",
       "      <td>186</td>\n",
       "      <td>15.779734</td>\n",
       "      <td>3.162278</td>\n",
       "    </tr>\n",
       "    <tr>\n",
       "      <th>23686</th>\n",
       "      <td>4</td>\n",
       "      <td>187</td>\n",
       "      <td>30.331502</td>\n",
       "      <td>18.330303</td>\n",
       "    </tr>\n",
       "    <tr>\n",
       "      <th>23687</th>\n",
       "      <td>4</td>\n",
       "      <td>188</td>\n",
       "      <td>7.483315</td>\n",
       "      <td>5.000000</td>\n",
       "    </tr>\n",
       "  </tbody>\n",
       "</table>\n",
       "<p>23177 rows × 4 columns</p>\n",
       "</div>"
      ],
      "text/plain": [
       "       Date  Country  Confirmed  Recovered\n",
       "0         2        0   0.000000   0.000000\n",
       "1         2        1   0.000000   0.000000\n",
       "2         2        2   0.000000   0.000000\n",
       "3         2        3   0.000000   0.000000\n",
       "4         2        4   0.000000   0.000000\n",
       "...     ...      ...        ...        ...\n",
       "23683     4      184  20.712315  19.104973\n",
       "23684     4      185   3.000000   2.449490\n",
       "23685     4      186  15.779734   3.162278\n",
       "23686     4      187  30.331502  18.330303\n",
       "23687     4      188   7.483315   5.000000\n",
       "\n",
       "[23177 rows x 4 columns]"
      ]
     },
     "execution_count": 104,
     "metadata": {},
     "output_type": "execute_result"
    }
   ],
   "source": [
    "x=df1.iloc[:,0:-1]\n",
    "x"
   ]
  },
  {
   "cell_type": "code",
   "execution_count": 105,
   "metadata": {},
   "outputs": [
    {
     "data": {
      "text/plain": [
       "0        0.000000\n",
       "1        0.000000\n",
       "2        0.000000\n",
       "3        0.000000\n",
       "4        0.000000\n",
       "           ...   \n",
       "23683    1.732051\n",
       "23684    1.000000\n",
       "23685    7.000000\n",
       "23686    2.645751\n",
       "23687    2.000000\n",
       "Name: Deaths, Length: 23177, dtype: float64"
      ]
     },
     "execution_count": 105,
     "metadata": {},
     "output_type": "execute_result"
    }
   ],
   "source": [
    "y=df1['Deaths']\n",
    "y"
   ]
  },
  {
   "cell_type": "code",
   "execution_count": 106,
   "metadata": {},
   "outputs": [
    {
     "data": {
      "text/plain": [
       "array([[ 0.03886857, -1.71683503, -0.51549653, -0.44702314],\n",
       "       [ 0.03886857, -1.69845744, -0.51549653, -0.44702314],\n",
       "       [ 0.03886857, -1.68007985, -0.51549653, -0.44702314],\n",
       "       ...,\n",
       "       [ 1.38242851,  1.70139681, -0.16762825, -0.32429491],\n",
       "       [ 1.38242851,  1.7197744 ,  0.1531692 ,  0.26437727],\n",
       "       [ 1.38242851,  1.73815199, -0.35052494, -0.25297277]])"
      ]
     },
     "execution_count": 106,
     "metadata": {},
     "output_type": "execute_result"
    }
   ],
   "source": [
    "from sklearn.preprocessing import StandardScaler\n",
    "sc=StandardScaler()\n",
    "x=sc.fit_transform(x)\n",
    "x"
   ]
  },
  {
   "cell_type": "code",
   "execution_count": 107,
   "metadata": {},
   "outputs": [
    {
     "data": {
      "text/plain": [
       "(23177, 4)"
      ]
     },
     "execution_count": 107,
     "metadata": {},
     "output_type": "execute_result"
    }
   ],
   "source": [
    "x.shape"
   ]
  },
  {
   "cell_type": "code",
   "execution_count": 108,
   "metadata": {},
   "outputs": [
    {
     "data": {
      "text/plain": [
       "(23177,)"
      ]
     },
     "execution_count": 108,
     "metadata": {},
     "output_type": "execute_result"
    }
   ],
   "source": [
    "y.shape"
   ]
  },
  {
   "cell_type": "code",
   "execution_count": 109,
   "metadata": {},
   "outputs": [],
   "source": [
    "from sklearn.model_selection import train_test_split\n",
    "from sklearn.linear_model import LinearRegression\n",
    "from sklearn.tree import DecisionTreeRegressor\n",
    "from sklearn.ensemble import RandomForestRegressor\n",
    "from sklearn.neighbors import KNeighborsRegressor\n",
    "from sklearn import linear_model\n",
    "from sklearn.metrics import r2_score\n",
    "from sklearn.metrics import mean_squared_error\n",
    "import warnings\n",
    "warnings.filterwarnings('ignore')"
   ]
  },
  {
   "cell_type": "code",
   "execution_count": null,
   "metadata": {},
   "outputs": [],
   "source": []
  },
  {
   "cell_type": "code",
   "execution_count": 110,
   "metadata": {},
   "outputs": [
    {
     "name": "stdout",
     "output_type": "stream",
     "text": [
      "r2_score corresponding to random state: 42 is:  0.8010662887919399\n",
      "r2_score corresponding to random state: 43 is:  0.7765641540612677\n",
      "r2_score corresponding to random state: 44 is:  0.8015823615237692\n",
      "r2_score corresponding to random state: 45 is:  0.7875926674563336\n",
      "r2_score corresponding to random state: 46 is:  0.7888103750283257\n",
      "r2_score corresponding to random state: 47 is:  0.798994018306218\n",
      "r2_score corresponding to random state: 48 is:  0.8041722101160518\n",
      "r2_score corresponding to random state: 49 is:  0.8030440499798761\n",
      "r2_score corresponding to random state: 50 is:  0.7732024528522795\n",
      "r2_score corresponding to random state: 51 is:  0.8133722565206021\n",
      "r2_score corresponding to random state: 52 is:  0.7969689083716449\n",
      "r2_score corresponding to random state: 53 is:  0.8113132698988617\n",
      "r2_score corresponding to random state: 54 is:  0.7977380797905036\n",
      "r2_score corresponding to random state: 55 is:  0.8127038152150314\n",
      "r2_score corresponding to random state: 56 is:  0.7998447624784427\n",
      "r2_score corresponding to random state: 57 is:  0.7968971150719404\n",
      "r2_score corresponding to random state: 58 is:  0.810427959932713\n",
      "r2_score corresponding to random state: 59 is:  0.8021332753592075\n",
      "r2_score corresponding to random state: 60 is:  0.7940908482485944\n",
      "r2_score corresponding to random state: 61 is:  0.79621897617592\n",
      "r2_score corresponding to random state: 62 is:  0.800069431421629\n",
      "r2_score corresponding to random state: 63 is:  0.8009278035601355\n",
      "r2_score corresponding to random state: 64 is:  0.7855981068818753\n",
      "r2_score corresponding to random state: 65 is:  0.78350025371998\n",
      "r2_score corresponding to random state: 66 is:  0.79537967054491\n",
      "r2_score corresponding to random state: 67 is:  0.7728620675585055\n",
      "r2_score corresponding to random state: 68 is:  0.8016837625788905\n",
      "r2_score corresponding to random state: 69 is:  0.7939437232269932\n",
      "r2_score corresponding to random state: 70 is:  0.795697122184348\n",
      "r2_score corresponding to random state: 71 is:  0.7950606020887994\n",
      "r2_score corresponding to random state: 72 is:  0.782489521071597\n",
      "r2_score corresponding to random state: 73 is:  0.7991068593181218\n",
      "r2_score corresponding to random state: 74 is:  0.7907586896935063\n",
      "r2_score corresponding to random state: 75 is:  0.8052496992758348\n",
      "r2_score corresponding to random state: 76 is:  0.790337202784291\n",
      "r2_score corresponding to random state: 77 is:  0.7958864009329492\n",
      "r2_score corresponding to random state: 78 is:  0.7901543518342566\n",
      "r2_score corresponding to random state: 79 is:  0.7911218653445868\n",
      "r2_score corresponding to random state: 80 is:  0.803379863025599\n",
      "r2_score corresponding to random state: 81 is:  0.7929321866913895\n",
      "r2_score corresponding to random state: 82 is:  0.8067692248282947\n",
      "r2_score corresponding to random state: 83 is:  0.8094228828223363\n",
      "r2_score corresponding to random state: 84 is:  0.7842904488823754\n",
      "r2_score corresponding to random state: 85 is:  0.7865799791217072\n",
      "r2_score corresponding to random state: 86 is:  0.787638222048536\n",
      "r2_score corresponding to random state: 87 is:  0.7973789868620096\n",
      "r2_score corresponding to random state: 88 is:  0.7978185333575087\n",
      "r2_score corresponding to random state: 89 is:  0.7966913947133595\n",
      "r2_score corresponding to random state: 90 is:  0.7917308773700487\n",
      "r2_score corresponding to random state: 91 is:  0.7898868570831713\n",
      "r2_score corresponding to random state: 92 is:  0.807124399986475\n",
      "r2_score corresponding to random state: 93 is:  0.8113312923478486\n",
      "r2_score corresponding to random state: 94 is:  0.8114312272222977\n",
      "r2_score corresponding to random state: 95 is:  0.7844821743781725\n",
      "r2_score corresponding to random state: 96 is:  0.7901468999309422\n",
      "r2_score corresponding to random state: 97 is:  0.7936554504399618\n",
      "r2_score corresponding to random state: 98 is:  0.79668490677458\n",
      "r2_score corresponding to random state: 99 is:  0.7978723463312949\n",
      "r2_score corresponding to random state: 100 is:  0.8083755210038694\n",
      "\n",
      "max r2 score corresponding to  51 is 0.8133722565206021\n",
      "RMSE is 4.505064810589648\n"
     ]
    }
   ],
   "source": [
    "\n",
    "max_r_score=0\n",
    "for r_state in range(42,101):\n",
    "    x_train,x_test,y_train,y_test=train_test_split(x,y,random_state=r_state,test_size=0.22)\n",
    "    lr=LinearRegression()\n",
    "    lr.fit(x_train,y_train)\n",
    "    y_predlr=lr.predict(x_test)\n",
    "    r2_scr=r2_score(y_test,y_predlr)\n",
    "    print(\"r2_score corresponding to random state:\",r_state, \"is: \",r2_scr)\n",
    "    if r2_scr>max_r_score:\n",
    "        max_r_score=r2_scr\n",
    "        final_r_state=r_state\n",
    "        \n",
    "print()\n",
    "\n",
    "print(\"max r2 score corresponding to \",final_r_state, \"is\" , max_r_score) \n",
    "print(\"RMSE is\", np.sqrt(mean_squared_error(y_test,y_predlr)))"
   ]
  },
  {
   "cell_type": "code",
   "execution_count": 111,
   "metadata": {},
   "outputs": [
    {
     "name": "stdout",
     "output_type": "stream",
     "text": [
      "r2_score corresponding to random state: 42 is:  0.9819344319699697\n",
      "r2_score corresponding to random state: 43 is:  0.9856922020635023\n",
      "r2_score corresponding to random state: 44 is:  0.9748832439155592\n",
      "r2_score corresponding to random state: 45 is:  0.9636197679171364\n",
      "r2_score corresponding to random state: 46 is:  0.9531139618275378\n",
      "r2_score corresponding to random state: 47 is:  0.9835608198570756\n",
      "r2_score corresponding to random state: 48 is:  0.9734237326903122\n",
      "r2_score corresponding to random state: 49 is:  0.9590992530491537\n",
      "r2_score corresponding to random state: 50 is:  0.9791012201567441\n",
      "r2_score corresponding to random state: 51 is:  0.9736140768719169\n",
      "r2_score corresponding to random state: 52 is:  0.9729696499168248\n",
      "r2_score corresponding to random state: 53 is:  0.9659479814271238\n",
      "r2_score corresponding to random state: 54 is:  0.9696647808646252\n",
      "r2_score corresponding to random state: 55 is:  0.9381893136893011\n",
      "r2_score corresponding to random state: 56 is:  0.9795643688435152\n",
      "r2_score corresponding to random state: 57 is:  0.9789496732349516\n",
      "r2_score corresponding to random state: 58 is:  0.9905081787504958\n",
      "r2_score corresponding to random state: 59 is:  0.9690515078557774\n",
      "r2_score corresponding to random state: 60 is:  0.9808667945287541\n",
      "r2_score corresponding to random state: 61 is:  0.9510795557380323\n",
      "r2_score corresponding to random state: 62 is:  0.9564784675214405\n",
      "r2_score corresponding to random state: 63 is:  0.9694577217678718\n",
      "r2_score corresponding to random state: 64 is:  0.9677044594122901\n",
      "r2_score corresponding to random state: 65 is:  0.9827439664078513\n",
      "r2_score corresponding to random state: 66 is:  0.9348987680709743\n",
      "r2_score corresponding to random state: 67 is:  0.9645512705110797\n",
      "r2_score corresponding to random state: 68 is:  0.9652883968827847\n",
      "r2_score corresponding to random state: 69 is:  0.9802603736118767\n",
      "r2_score corresponding to random state: 70 is:  0.948482408018864\n",
      "r2_score corresponding to random state: 71 is:  0.983595424451387\n",
      "r2_score corresponding to random state: 72 is:  0.9611173645407031\n",
      "r2_score corresponding to random state: 73 is:  0.9312707136509907\n",
      "r2_score corresponding to random state: 74 is:  0.9841040155635397\n",
      "r2_score corresponding to random state: 75 is:  0.9788416773552217\n",
      "r2_score corresponding to random state: 76 is:  0.9363694242969313\n",
      "r2_score corresponding to random state: 77 is:  0.9535899841509928\n",
      "r2_score corresponding to random state: 78 is:  0.9769684052147158\n",
      "r2_score corresponding to random state: 79 is:  0.9788125203651954\n",
      "r2_score corresponding to random state: 80 is:  0.982542494359388\n",
      "r2_score corresponding to random state: 81 is:  0.9546532063985248\n",
      "r2_score corresponding to random state: 82 is:  0.9784426922335785\n",
      "r2_score corresponding to random state: 83 is:  0.9794309783775366\n",
      "r2_score corresponding to random state: 84 is:  0.9718674646479405\n",
      "r2_score corresponding to random state: 85 is:  0.9303703176797313\n",
      "r2_score corresponding to random state: 86 is:  0.9680749552893825\n",
      "r2_score corresponding to random state: 87 is:  0.9596265513527841\n",
      "r2_score corresponding to random state: 88 is:  0.9387281738732108\n",
      "r2_score corresponding to random state: 89 is:  0.9370609223383299\n",
      "r2_score corresponding to random state: 90 is:  0.9835464168916448\n",
      "r2_score corresponding to random state: 91 is:  0.9550265060249798\n",
      "r2_score corresponding to random state: 92 is:  0.9829266912657848\n",
      "r2_score corresponding to random state: 93 is:  0.9486646303643558\n",
      "r2_score corresponding to random state: 94 is:  0.9844357855245565\n",
      "r2_score corresponding to random state: 95 is:  0.9631487231848689\n",
      "r2_score corresponding to random state: 96 is:  0.9779655033258869\n",
      "r2_score corresponding to random state: 97 is:  0.9734523840825121\n",
      "r2_score corresponding to random state: 98 is:  0.9842231108997394\n",
      "r2_score corresponding to random state: 99 is:  0.9489602350872126\n",
      "r2_score corresponding to random state: 100 is:  0.9887674010473696\n",
      "\n",
      "max r2 score corresponding to  58 is 0.9905081787504958\n",
      "RMSE is 1.0907260265096919\n"
     ]
    }
   ],
   "source": [
    "max_r_score=0\n",
    "for r_state in range(42,101):\n",
    "    x_train,x_test,y_train,y_test=train_test_split(x,y,random_state=r_state,test_size=0.22)\n",
    "    dtr=DecisionTreeRegressor()\n",
    "    dtr.fit(x_train,y_train)\n",
    "    y_preddtr=dtr.predict(x_test)\n",
    "    r2_scr=r2_score(y_test,y_preddtr)\n",
    "    print(\"r2_score corresponding to random state:\",r_state, \"is: \",r2_scr)\n",
    "    if r2_scr>max_r_score:\n",
    "        max_r_score=r2_scr\n",
    "        final_r_state=r_state\n",
    "        \n",
    "print()\n",
    "\n",
    "print(\"max r2 score corresponding to \",final_r_state, \"is\" , max_r_score) \n",
    "print(\"RMSE is\", np.sqrt(mean_squared_error(y_test,y_preddtr)))"
   ]
  },
  {
   "cell_type": "code",
   "execution_count": null,
   "metadata": {},
   "outputs": [],
   "source": []
  },
  {
   "cell_type": "code",
   "execution_count": 112,
   "metadata": {},
   "outputs": [
    {
     "name": "stdout",
     "output_type": "stream",
     "text": [
      "r2_score corresponding to random state: 42 is:  0.9804193248258883\n",
      "r2_score corresponding to random state: 43 is:  0.987351032163574\n",
      "r2_score corresponding to random state: 44 is:  0.9887179344024787\n",
      "r2_score corresponding to random state: 45 is:  0.9851336423054339\n",
      "r2_score corresponding to random state: 46 is:  0.9850327435836214\n",
      "r2_score corresponding to random state: 47 is:  0.9891858481025164\n",
      "r2_score corresponding to random state: 48 is:  0.9852412565710438\n",
      "r2_score corresponding to random state: 49 is:  0.9846087596419629\n",
      "r2_score corresponding to random state: 50 is:  0.979688550461502\n",
      "r2_score corresponding to random state: 51 is:  0.9875450025200264\n",
      "r2_score corresponding to random state: 52 is:  0.9892129725628068\n",
      "r2_score corresponding to random state: 53 is:  0.9840941938719747\n",
      "r2_score corresponding to random state: 54 is:  0.9811985102677626\n",
      "r2_score corresponding to random state: 55 is:  0.9750022671471273\n",
      "r2_score corresponding to random state: 56 is:  0.9856725941291752\n",
      "r2_score corresponding to random state: 57 is:  0.9884446315567541\n",
      "r2_score corresponding to random state: 58 is:  0.9828405126964417\n",
      "r2_score corresponding to random state: 59 is:  0.9868959651064003\n",
      "r2_score corresponding to random state: 60 is:  0.9864412674425507\n",
      "r2_score corresponding to random state: 61 is:  0.973996412991026\n",
      "r2_score corresponding to random state: 62 is:  0.9861962338767755\n",
      "r2_score corresponding to random state: 63 is:  0.9861535332762861\n",
      "r2_score corresponding to random state: 64 is:  0.9803522937783256\n",
      "r2_score corresponding to random state: 65 is:  0.9877882750749087\n",
      "r2_score corresponding to random state: 66 is:  0.969361947201044\n",
      "r2_score corresponding to random state: 67 is:  0.9831191379409424\n",
      "r2_score corresponding to random state: 68 is:  0.985719801102717\n",
      "r2_score corresponding to random state: 69 is:  0.9887749941179894\n",
      "r2_score corresponding to random state: 70 is:  0.9824401713007852\n",
      "r2_score corresponding to random state: 71 is:  0.986496350988063\n",
      "r2_score corresponding to random state: 72 is:  0.9825092752513882\n",
      "r2_score corresponding to random state: 73 is:  0.9733038107444842\n",
      "r2_score corresponding to random state: 74 is:  0.9805558110520549\n",
      "r2_score corresponding to random state: 75 is:  0.9860187216556591\n",
      "r2_score corresponding to random state: 76 is:  0.9821254767101196\n",
      "r2_score corresponding to random state: 77 is:  0.9782247577040345\n",
      "r2_score corresponding to random state: 78 is:  0.985037217352404\n",
      "r2_score corresponding to random state: 79 is:  0.9859396380440414\n",
      "r2_score corresponding to random state: 80 is:  0.9820414591503484\n",
      "r2_score corresponding to random state: 81 is:  0.9778661137352381\n",
      "r2_score corresponding to random state: 82 is:  0.9889950858158038\n",
      "r2_score corresponding to random state: 83 is:  0.9873117500326514\n",
      "r2_score corresponding to random state: 84 is:  0.9846461231317942\n",
      "r2_score corresponding to random state: 85 is:  0.9827199802757207\n",
      "r2_score corresponding to random state: 86 is:  0.9886969712040867\n",
      "r2_score corresponding to random state: 87 is:  0.983562617421457\n",
      "r2_score corresponding to random state: 88 is:  0.97415464831786\n",
      "r2_score corresponding to random state: 89 is:  0.9867401551953756\n",
      "r2_score corresponding to random state: 90 is:  0.9837252238941018\n",
      "r2_score corresponding to random state: 91 is:  0.9784154431400056\n",
      "r2_score corresponding to random state: 92 is:  0.9908526197824\n",
      "r2_score corresponding to random state: 93 is:  0.9841434067612672\n",
      "r2_score corresponding to random state: 94 is:  0.9894848739186785\n",
      "r2_score corresponding to random state: 95 is:  0.9857990620642425\n",
      "r2_score corresponding to random state: 96 is:  0.9880122872474147\n",
      "r2_score corresponding to random state: 97 is:  0.9848685946955209\n",
      "r2_score corresponding to random state: 98 is:  0.9876961224666579\n",
      "r2_score corresponding to random state: 99 is:  0.9817163457167765\n",
      "r2_score corresponding to random state: 100 is:  0.9897643962705748\n",
      "\n",
      "max r2 score corresponding to  92 is 0.9908526197824\n",
      "RMSE is 1.0411954979573153\n"
     ]
    }
   ],
   "source": [
    "max_r_score=0\n",
    "for r_state in range(42,101):\n",
    "    x_train,x_test,y_train,y_test=train_test_split(x,y,random_state=r_state,test_size=0.22)\n",
    "    rfr=RandomForestRegressor()\n",
    "    rfr.fit(x_train,y_train)\n",
    "    y_predrfr=rfr.predict(x_test)\n",
    "    r2_scr=r2_score(y_test,y_predrfr)\n",
    "    print(\"r2_score corresponding to random state:\",r_state, \"is: \",r2_scr)\n",
    "    if r2_scr>max_r_score:\n",
    "        max_r_score=r2_scr\n",
    "        final_r_state=r_state\n",
    "        \n",
    "print()\n",
    "\n",
    "print(\"max r2 score corresponding to \",final_r_state, \"is\" , max_r_score) \n",
    "print(\"RMSE is\", np.sqrt(mean_squared_error(y_test,y_predrfr)))"
   ]
  },
  {
   "cell_type": "code",
   "execution_count": null,
   "metadata": {},
   "outputs": [],
   "source": []
  },
  {
   "cell_type": "code",
   "execution_count": 113,
   "metadata": {},
   "outputs": [
    {
     "name": "stdout",
     "output_type": "stream",
     "text": [
      "r2_score corresponding to random state: 42 is:  0.9502941675260703\n",
      "r2_score corresponding to random state: 43 is:  0.9635955981669229\n",
      "r2_score corresponding to random state: 44 is:  0.9483439564742431\n",
      "r2_score corresponding to random state: 45 is:  0.9642414582483716\n",
      "r2_score corresponding to random state: 46 is:  0.9391957883199487\n",
      "r2_score corresponding to random state: 47 is:  0.9557097199174407\n",
      "r2_score corresponding to random state: 48 is:  0.9531849724624539\n",
      "r2_score corresponding to random state: 49 is:  0.9381880042186068\n",
      "r2_score corresponding to random state: 50 is:  0.9534880106101885\n",
      "r2_score corresponding to random state: 51 is:  0.9477501631766441\n",
      "r2_score corresponding to random state: 52 is:  0.9528864483772306\n",
      "r2_score corresponding to random state: 53 is:  0.9566593856055439\n",
      "r2_score corresponding to random state: 54 is:  0.9426032779778485\n",
      "r2_score corresponding to random state: 55 is:  0.942291674458321\n",
      "r2_score corresponding to random state: 56 is:  0.9512449708821843\n",
      "r2_score corresponding to random state: 57 is:  0.9592063632614424\n",
      "r2_score corresponding to random state: 58 is:  0.9459660983499073\n",
      "r2_score corresponding to random state: 59 is:  0.9544239510706964\n",
      "r2_score corresponding to random state: 60 is:  0.9463317518407536\n",
      "r2_score corresponding to random state: 61 is:  0.9394975188801523\n",
      "r2_score corresponding to random state: 62 is:  0.9604015022847889\n",
      "r2_score corresponding to random state: 63 is:  0.951413265862222\n",
      "r2_score corresponding to random state: 64 is:  0.9460982947436303\n",
      "r2_score corresponding to random state: 65 is:  0.9492113271888656\n",
      "r2_score corresponding to random state: 66 is:  0.9590640172721607\n",
      "r2_score corresponding to random state: 67 is:  0.9318584644538803\n",
      "r2_score corresponding to random state: 68 is:  0.961315295502214\n",
      "r2_score corresponding to random state: 69 is:  0.9453474072262457\n",
      "r2_score corresponding to random state: 70 is:  0.9500195186079479\n",
      "r2_score corresponding to random state: 71 is:  0.9481444613457028\n",
      "r2_score corresponding to random state: 72 is:  0.949101381227878\n",
      "r2_score corresponding to random state: 73 is:  0.9293466982336221\n",
      "r2_score corresponding to random state: 74 is:  0.9442075724509738\n",
      "r2_score corresponding to random state: 75 is:  0.9621767357403602\n",
      "r2_score corresponding to random state: 76 is:  0.9485284062747932\n",
      "r2_score corresponding to random state: 77 is:  0.9537652527565634\n",
      "r2_score corresponding to random state: 78 is:  0.9564293661966425\n",
      "r2_score corresponding to random state: 79 is:  0.9625478227620724\n",
      "r2_score corresponding to random state: 80 is:  0.9442178486776449\n",
      "r2_score corresponding to random state: 81 is:  0.9403580369010506\n",
      "r2_score corresponding to random state: 82 is:  0.953405054687092\n",
      "r2_score corresponding to random state: 83 is:  0.9503302818318096\n",
      "r2_score corresponding to random state: 84 is:  0.943195116974373\n",
      "r2_score corresponding to random state: 85 is:  0.9532623053372057\n",
      "r2_score corresponding to random state: 86 is:  0.9480070538678934\n",
      "r2_score corresponding to random state: 87 is:  0.9375243556579943\n",
      "r2_score corresponding to random state: 88 is:  0.9474882364919804\n",
      "r2_score corresponding to random state: 89 is:  0.9507438932132946\n",
      "r2_score corresponding to random state: 90 is:  0.9494746029838388\n",
      "r2_score corresponding to random state: 91 is:  0.9533096709426638\n",
      "r2_score corresponding to random state: 92 is:  0.9542169646332755\n",
      "r2_score corresponding to random state: 93 is:  0.9490847620777461\n",
      "r2_score corresponding to random state: 94 is:  0.948517879679298\n",
      "r2_score corresponding to random state: 95 is:  0.9418879029749154\n",
      "r2_score corresponding to random state: 96 is:  0.9604786084170607\n",
      "r2_score corresponding to random state: 97 is:  0.9573833233888002\n",
      "r2_score corresponding to random state: 98 is:  0.9545239940104785\n",
      "r2_score corresponding to random state: 99 is:  0.940936912071401\n",
      "r2_score corresponding to random state: 100 is:  0.9518452322592368\n",
      "\n",
      "max r2 score corresponding to  45 is 0.9642414582483716\n",
      "RMSE is 1.0411954979573153\n"
     ]
    }
   ],
   "source": [
    "\n",
    "max_r_score=0\n",
    "for r_state in range(42,101):\n",
    "    x_train,x_test,y_train,y_test=train_test_split(x,y,random_state=r_state,test_size=0.22)\n",
    "    knn=KNeighborsRegressor()\n",
    "    knn.fit(x_train,y_train)\n",
    "    y_predknn=knn.predict(x_test)\n",
    "    r2_scr=r2_score(y_test,y_predknn)\n",
    "    print(\"r2_score corresponding to random state:\",r_state, \"is: \",r2_scr)\n",
    "    if r2_scr>max_r_score:\n",
    "        max_r_score=r2_scr\n",
    "        final_r_state=r_state\n",
    "        \n",
    "print()\n",
    "\n",
    "print(\"max r2 score corresponding to \",final_r_state, \"is\" , max_r_score)\n",
    "print(\"RMSE is\", np.sqrt(mean_squared_error(y_test,y_predrfr)))"
   ]
  },
  {
   "cell_type": "code",
   "execution_count": 114,
   "metadata": {},
   "outputs": [],
   "source": [
    "lr=LinearRegression()\n",
    "dtr=DecisionTreeRegressor()\n",
    "rfr=RandomForestRegressor()\n",
    "knn=KNeighborsRegressor()"
   ]
  },
  {
   "cell_type": "code",
   "execution_count": 115,
   "metadata": {},
   "outputs": [],
   "source": [
    "models = []\n",
    "models.append(('LinearRegression',lr))\n",
    "models.append(('DecisionTreeRegressor',dtr))\n",
    "models.append(('RandomForestRegressor',rfr))\n",
    "models.append(('KNeighborsRegressor',knn))"
   ]
  },
  {
   "cell_type": "code",
   "execution_count": 116,
   "metadata": {},
   "outputs": [
    {
     "name": "stdout",
     "output_type": "stream",
     "text": [
      "********** LinearRegression **************\n",
      "\n",
      "\n",
      "LinearRegression(copy_X=True, fit_intercept=True, n_jobs=None, normalize=False)\n",
      "r2_score corresponding to random state is 0.8083755210038694\n",
      "\n",
      "\n",
      "RMSE is 4.505064810589648\n",
      "********** DecisionTreeRegressor **************\n",
      "\n",
      "\n",
      "DecisionTreeRegressor(ccp_alpha=0.0, criterion='mse', max_depth=None,\n",
      "                      max_features=None, max_leaf_nodes=None,\n",
      "                      min_impurity_decrease=0.0, min_impurity_split=None,\n",
      "                      min_samples_leaf=1, min_samples_split=2,\n",
      "                      min_weight_fraction_leaf=0.0, presort='deprecated',\n",
      "                      random_state=None, splitter='best')\n",
      "r2_score corresponding to random state is 0.990048431429294\n",
      "\n",
      "\n",
      "RMSE is 1.0266474187682\n",
      "********** RandomForestRegressor **************\n",
      "\n",
      "\n",
      "RandomForestRegressor(bootstrap=True, ccp_alpha=0.0, criterion='mse',\n",
      "                      max_depth=None, max_features='auto', max_leaf_nodes=None,\n",
      "                      max_samples=None, min_impurity_decrease=0.0,\n",
      "                      min_impurity_split=None, min_samples_leaf=1,\n",
      "                      min_samples_split=2, min_weight_fraction_leaf=0.0,\n",
      "                      n_estimators=100, n_jobs=None, oob_score=False,\n",
      "                      random_state=None, verbose=0, warm_start=False)\n",
      "r2_score corresponding to random state is 0.9892355704720275\n",
      "\n",
      "\n",
      "RMSE is 1.0677536362534872\n",
      "********** KNeighborsRegressor **************\n",
      "\n",
      "\n",
      "KNeighborsRegressor(algorithm='auto', leaf_size=30, metric='minkowski',\n",
      "                    metric_params=None, n_jobs=None, n_neighbors=5, p=2,\n",
      "                    weights='uniform')\n",
      "r2_score corresponding to random state is 0.9518452322592368\n",
      "\n",
      "\n",
      "RMSE is 2.258370519334523\n"
     ]
    }
   ],
   "source": [
    "\n",
    "Model = []\n",
    "score = []\n",
    "\n",
    "for name,model in models:\n",
    "    print(\"**********\",name,'**************')\n",
    "    print('\\n')\n",
    "    x_train,x_test,y_train,y_test=train_test_split(x,y,random_state=r_state,test_size=0.22)\n",
    "    Model.append(name)\n",
    "    model.fit(x_train,y_train)\n",
    "    print(model)\n",
    "    pre=model.predict(x_test)\n",
    "    r2_scr=r2_score(y_test,pre)\n",
    "    print(\"r2_score corresponding to random state is\" ,r2_scr)\n",
    "    print('\\n')\n",
    "    print(\"RMSE is\", np.sqrt(mean_squared_error(y_test,pre)))\n",
    "   "
   ]
  },
  {
   "cell_type": "code",
   "execution_count": 117,
   "metadata": {},
   "outputs": [
    {
     "data": {
      "text/plain": [
       "['rfrcovid.obj']"
      ]
     },
     "execution_count": 117,
     "metadata": {},
     "output_type": "execute_result"
    }
   ],
   "source": [
    "from sklearn.externals import joblib\n",
    "joblib.dump(rfr,'rfrcovid.obj')"
   ]
  },
  {
   "cell_type": "code",
   "execution_count": null,
   "metadata": {},
   "outputs": [],
   "source": []
  },
  {
   "cell_type": "code",
   "execution_count": null,
   "metadata": {},
   "outputs": [],
   "source": []
  },
  {
   "cell_type": "code",
   "execution_count": null,
   "metadata": {},
   "outputs": [],
   "source": []
  },
  {
   "cell_type": "code",
   "execution_count": null,
   "metadata": {},
   "outputs": [],
   "source": []
  },
  {
   "cell_type": "code",
   "execution_count": null,
   "metadata": {},
   "outputs": [],
   "source": []
  },
  {
   "cell_type": "code",
   "execution_count": null,
   "metadata": {},
   "outputs": [],
   "source": []
  },
  {
   "cell_type": "code",
   "execution_count": null,
   "metadata": {},
   "outputs": [],
   "source": []
  },
  {
   "cell_type": "code",
   "execution_count": null,
   "metadata": {},
   "outputs": [],
   "source": []
  },
  {
   "cell_type": "code",
   "execution_count": null,
   "metadata": {},
   "outputs": [],
   "source": []
  },
  {
   "cell_type": "code",
   "execution_count": null,
   "metadata": {},
   "outputs": [],
   "source": []
  },
  {
   "cell_type": "code",
   "execution_count": null,
   "metadata": {},
   "outputs": [],
   "source": []
  },
  {
   "cell_type": "code",
   "execution_count": null,
   "metadata": {},
   "outputs": [],
   "source": []
  },
  {
   "cell_type": "code",
   "execution_count": null,
   "metadata": {},
   "outputs": [],
   "source": []
  },
  {
   "cell_type": "code",
   "execution_count": null,
   "metadata": {},
   "outputs": [],
   "source": []
  },
  {
   "cell_type": "code",
   "execution_count": null,
   "metadata": {},
   "outputs": [],
   "source": []
  },
  {
   "cell_type": "code",
   "execution_count": null,
   "metadata": {},
   "outputs": [],
   "source": []
  },
  {
   "cell_type": "code",
   "execution_count": null,
   "metadata": {},
   "outputs": [],
   "source": []
  },
  {
   "cell_type": "code",
   "execution_count": null,
   "metadata": {},
   "outputs": [],
   "source": []
  },
  {
   "cell_type": "code",
   "execution_count": null,
   "metadata": {},
   "outputs": [],
   "source": []
  },
  {
   "cell_type": "code",
   "execution_count": null,
   "metadata": {},
   "outputs": [],
   "source": []
  },
  {
   "cell_type": "code",
   "execution_count": null,
   "metadata": {},
   "outputs": [],
   "source": []
  },
  {
   "cell_type": "code",
   "execution_count": null,
   "metadata": {},
   "outputs": [],
   "source": []
  },
  {
   "cell_type": "code",
   "execution_count": null,
   "metadata": {},
   "outputs": [],
   "source": []
  },
  {
   "cell_type": "code",
   "execution_count": null,
   "metadata": {},
   "outputs": [],
   "source": []
  },
  {
   "cell_type": "code",
   "execution_count": null,
   "metadata": {},
   "outputs": [],
   "source": []
  },
  {
   "cell_type": "code",
   "execution_count": null,
   "metadata": {},
   "outputs": [],
   "source": []
  },
  {
   "cell_type": "code",
   "execution_count": null,
   "metadata": {},
   "outputs": [],
   "source": []
  },
  {
   "cell_type": "code",
   "execution_count": null,
   "metadata": {},
   "outputs": [],
   "source": []
  },
  {
   "cell_type": "code",
   "execution_count": null,
   "metadata": {},
   "outputs": [],
   "source": []
  },
  {
   "cell_type": "code",
   "execution_count": null,
   "metadata": {},
   "outputs": [],
   "source": []
  },
  {
   "cell_type": "code",
   "execution_count": null,
   "metadata": {},
   "outputs": [],
   "source": []
  },
  {
   "cell_type": "code",
   "execution_count": null,
   "metadata": {},
   "outputs": [],
   "source": []
  },
  {
   "cell_type": "code",
   "execution_count": null,
   "metadata": {},
   "outputs": [],
   "source": []
  },
  {
   "cell_type": "code",
   "execution_count": null,
   "metadata": {},
   "outputs": [],
   "source": []
  },
  {
   "cell_type": "code",
   "execution_count": null,
   "metadata": {},
   "outputs": [],
   "source": []
  },
  {
   "cell_type": "code",
   "execution_count": null,
   "metadata": {},
   "outputs": [],
   "source": []
  },
  {
   "cell_type": "code",
   "execution_count": null,
   "metadata": {},
   "outputs": [],
   "source": []
  },
  {
   "cell_type": "code",
   "execution_count": null,
   "metadata": {},
   "outputs": [],
   "source": []
  },
  {
   "cell_type": "code",
   "execution_count": null,
   "metadata": {},
   "outputs": [],
   "source": []
  },
  {
   "cell_type": "code",
   "execution_count": null,
   "metadata": {},
   "outputs": [],
   "source": []
  },
  {
   "cell_type": "code",
   "execution_count": null,
   "metadata": {},
   "outputs": [],
   "source": []
  },
  {
   "cell_type": "code",
   "execution_count": null,
   "metadata": {},
   "outputs": [],
   "source": []
  },
  {
   "cell_type": "code",
   "execution_count": null,
   "metadata": {},
   "outputs": [],
   "source": []
  },
  {
   "cell_type": "code",
   "execution_count": null,
   "metadata": {},
   "outputs": [],
   "source": []
  },
  {
   "cell_type": "code",
   "execution_count": null,
   "metadata": {},
   "outputs": [],
   "source": []
  },
  {
   "cell_type": "code",
   "execution_count": null,
   "metadata": {},
   "outputs": [],
   "source": []
  },
  {
   "cell_type": "code",
   "execution_count": null,
   "metadata": {},
   "outputs": [],
   "source": []
  },
  {
   "cell_type": "code",
   "execution_count": null,
   "metadata": {},
   "outputs": [],
   "source": []
  },
  {
   "cell_type": "code",
   "execution_count": null,
   "metadata": {},
   "outputs": [],
   "source": []
  },
  {
   "cell_type": "code",
   "execution_count": null,
   "metadata": {},
   "outputs": [],
   "source": []
  }
 ],
 "metadata": {
  "kernelspec": {
   "display_name": "Python 3",
   "language": "python",
   "name": "python3"
  },
  "language_info": {
   "codemirror_mode": {
    "name": "ipython",
    "version": 3
   },
   "file_extension": ".py",
   "mimetype": "text/x-python",
   "name": "python",
   "nbconvert_exporter": "python",
   "pygments_lexer": "ipython3",
   "version": "3.7.6"
  }
 },
 "nbformat": 4,
 "nbformat_minor": 4
}
