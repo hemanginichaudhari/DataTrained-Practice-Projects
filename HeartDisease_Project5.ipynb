{
 "cells": [
  {
   "cell_type": "code",
   "execution_count": 4,
   "metadata": {},
   "outputs": [],
   "source": [
    "import pandas as pd"
   ]
  },
  {
   "cell_type": "code",
   "execution_count": 5,
   "metadata": {},
   "outputs": [
    {
     "data": {
      "text/html": [
       "<div>\n",
       "<style scoped>\n",
       "    .dataframe tbody tr th:only-of-type {\n",
       "        vertical-align: middle;\n",
       "    }\n",
       "\n",
       "    .dataframe tbody tr th {\n",
       "        vertical-align: top;\n",
       "    }\n",
       "\n",
       "    .dataframe thead th {\n",
       "        text-align: right;\n",
       "    }\n",
       "</style>\n",
       "<table border=\"1\" class=\"dataframe\">\n",
       "  <thead>\n",
       "    <tr style=\"text-align: right;\">\n",
       "      <th></th>\n",
       "      <th>age</th>\n",
       "      <th>sex</th>\n",
       "      <th>cp</th>\n",
       "      <th>trestbps</th>\n",
       "      <th>chol</th>\n",
       "      <th>fbs</th>\n",
       "      <th>restecg</th>\n",
       "      <th>thalach</th>\n",
       "      <th>exang</th>\n",
       "      <th>oldpeak</th>\n",
       "      <th>slope</th>\n",
       "      <th>ca</th>\n",
       "      <th>thal</th>\n",
       "      <th>target</th>\n",
       "    </tr>\n",
       "  </thead>\n",
       "  <tbody>\n",
       "    <tr>\n",
       "      <th>0</th>\n",
       "      <td>63</td>\n",
       "      <td>1</td>\n",
       "      <td>3</td>\n",
       "      <td>145</td>\n",
       "      <td>233</td>\n",
       "      <td>1</td>\n",
       "      <td>0</td>\n",
       "      <td>150</td>\n",
       "      <td>0</td>\n",
       "      <td>2.3</td>\n",
       "      <td>0</td>\n",
       "      <td>0</td>\n",
       "      <td>1</td>\n",
       "      <td>1</td>\n",
       "    </tr>\n",
       "    <tr>\n",
       "      <th>1</th>\n",
       "      <td>37</td>\n",
       "      <td>1</td>\n",
       "      <td>2</td>\n",
       "      <td>130</td>\n",
       "      <td>250</td>\n",
       "      <td>0</td>\n",
       "      <td>1</td>\n",
       "      <td>187</td>\n",
       "      <td>0</td>\n",
       "      <td>3.5</td>\n",
       "      <td>0</td>\n",
       "      <td>0</td>\n",
       "      <td>2</td>\n",
       "      <td>1</td>\n",
       "    </tr>\n",
       "    <tr>\n",
       "      <th>2</th>\n",
       "      <td>41</td>\n",
       "      <td>0</td>\n",
       "      <td>1</td>\n",
       "      <td>130</td>\n",
       "      <td>204</td>\n",
       "      <td>0</td>\n",
       "      <td>0</td>\n",
       "      <td>172</td>\n",
       "      <td>0</td>\n",
       "      <td>1.4</td>\n",
       "      <td>2</td>\n",
       "      <td>0</td>\n",
       "      <td>2</td>\n",
       "      <td>1</td>\n",
       "    </tr>\n",
       "    <tr>\n",
       "      <th>3</th>\n",
       "      <td>56</td>\n",
       "      <td>1</td>\n",
       "      <td>1</td>\n",
       "      <td>120</td>\n",
       "      <td>236</td>\n",
       "      <td>0</td>\n",
       "      <td>1</td>\n",
       "      <td>178</td>\n",
       "      <td>0</td>\n",
       "      <td>0.8</td>\n",
       "      <td>2</td>\n",
       "      <td>0</td>\n",
       "      <td>2</td>\n",
       "      <td>1</td>\n",
       "    </tr>\n",
       "    <tr>\n",
       "      <th>4</th>\n",
       "      <td>57</td>\n",
       "      <td>0</td>\n",
       "      <td>0</td>\n",
       "      <td>120</td>\n",
       "      <td>354</td>\n",
       "      <td>0</td>\n",
       "      <td>1</td>\n",
       "      <td>163</td>\n",
       "      <td>1</td>\n",
       "      <td>0.6</td>\n",
       "      <td>2</td>\n",
       "      <td>0</td>\n",
       "      <td>2</td>\n",
       "      <td>1</td>\n",
       "    </tr>\n",
       "    <tr>\n",
       "      <th>...</th>\n",
       "      <td>...</td>\n",
       "      <td>...</td>\n",
       "      <td>...</td>\n",
       "      <td>...</td>\n",
       "      <td>...</td>\n",
       "      <td>...</td>\n",
       "      <td>...</td>\n",
       "      <td>...</td>\n",
       "      <td>...</td>\n",
       "      <td>...</td>\n",
       "      <td>...</td>\n",
       "      <td>...</td>\n",
       "      <td>...</td>\n",
       "      <td>...</td>\n",
       "    </tr>\n",
       "    <tr>\n",
       "      <th>298</th>\n",
       "      <td>57</td>\n",
       "      <td>0</td>\n",
       "      <td>0</td>\n",
       "      <td>140</td>\n",
       "      <td>241</td>\n",
       "      <td>0</td>\n",
       "      <td>1</td>\n",
       "      <td>123</td>\n",
       "      <td>1</td>\n",
       "      <td>0.2</td>\n",
       "      <td>1</td>\n",
       "      <td>0</td>\n",
       "      <td>3</td>\n",
       "      <td>0</td>\n",
       "    </tr>\n",
       "    <tr>\n",
       "      <th>299</th>\n",
       "      <td>45</td>\n",
       "      <td>1</td>\n",
       "      <td>3</td>\n",
       "      <td>110</td>\n",
       "      <td>264</td>\n",
       "      <td>0</td>\n",
       "      <td>1</td>\n",
       "      <td>132</td>\n",
       "      <td>0</td>\n",
       "      <td>1.2</td>\n",
       "      <td>1</td>\n",
       "      <td>0</td>\n",
       "      <td>3</td>\n",
       "      <td>0</td>\n",
       "    </tr>\n",
       "    <tr>\n",
       "      <th>300</th>\n",
       "      <td>68</td>\n",
       "      <td>1</td>\n",
       "      <td>0</td>\n",
       "      <td>144</td>\n",
       "      <td>193</td>\n",
       "      <td>1</td>\n",
       "      <td>1</td>\n",
       "      <td>141</td>\n",
       "      <td>0</td>\n",
       "      <td>3.4</td>\n",
       "      <td>1</td>\n",
       "      <td>2</td>\n",
       "      <td>3</td>\n",
       "      <td>0</td>\n",
       "    </tr>\n",
       "    <tr>\n",
       "      <th>301</th>\n",
       "      <td>57</td>\n",
       "      <td>1</td>\n",
       "      <td>0</td>\n",
       "      <td>130</td>\n",
       "      <td>131</td>\n",
       "      <td>0</td>\n",
       "      <td>1</td>\n",
       "      <td>115</td>\n",
       "      <td>1</td>\n",
       "      <td>1.2</td>\n",
       "      <td>1</td>\n",
       "      <td>1</td>\n",
       "      <td>3</td>\n",
       "      <td>0</td>\n",
       "    </tr>\n",
       "    <tr>\n",
       "      <th>302</th>\n",
       "      <td>57</td>\n",
       "      <td>0</td>\n",
       "      <td>1</td>\n",
       "      <td>130</td>\n",
       "      <td>236</td>\n",
       "      <td>0</td>\n",
       "      <td>0</td>\n",
       "      <td>174</td>\n",
       "      <td>0</td>\n",
       "      <td>0.0</td>\n",
       "      <td>1</td>\n",
       "      <td>1</td>\n",
       "      <td>2</td>\n",
       "      <td>0</td>\n",
       "    </tr>\n",
       "  </tbody>\n",
       "</table>\n",
       "<p>303 rows × 14 columns</p>\n",
       "</div>"
      ],
      "text/plain": [
       "     age  sex  cp  trestbps  chol  fbs  restecg  thalach  exang  oldpeak  \\\n",
       "0     63    1   3       145   233    1        0      150      0      2.3   \n",
       "1     37    1   2       130   250    0        1      187      0      3.5   \n",
       "2     41    0   1       130   204    0        0      172      0      1.4   \n",
       "3     56    1   1       120   236    0        1      178      0      0.8   \n",
       "4     57    0   0       120   354    0        1      163      1      0.6   \n",
       "..   ...  ...  ..       ...   ...  ...      ...      ...    ...      ...   \n",
       "298   57    0   0       140   241    0        1      123      1      0.2   \n",
       "299   45    1   3       110   264    0        1      132      0      1.2   \n",
       "300   68    1   0       144   193    1        1      141      0      3.4   \n",
       "301   57    1   0       130   131    0        1      115      1      1.2   \n",
       "302   57    0   1       130   236    0        0      174      0      0.0   \n",
       "\n",
       "     slope  ca  thal  target  \n",
       "0        0   0     1       1  \n",
       "1        0   0     2       1  \n",
       "2        2   0     2       1  \n",
       "3        2   0     2       1  \n",
       "4        2   0     2       1  \n",
       "..     ...  ..   ...     ...  \n",
       "298      1   0     3       0  \n",
       "299      1   0     3       0  \n",
       "300      1   2     3       0  \n",
       "301      1   1     3       0  \n",
       "302      1   1     2       0  \n",
       "\n",
       "[303 rows x 14 columns]"
      ]
     },
     "execution_count": 5,
     "metadata": {},
     "output_type": "execute_result"
    }
   ],
   "source": [
    "df=pd.read_csv('Heart_Disease.csv')   # Loading dataset\n",
    "df"
   ]
  },
  {
   "cell_type": "code",
   "execution_count": 6,
   "metadata": {},
   "outputs": [
    {
     "name": "stdout",
     "output_type": "stream",
     "text": [
      "<class 'pandas.core.frame.DataFrame'>\n",
      "RangeIndex: 303 entries, 0 to 302\n",
      "Data columns (total 14 columns):\n",
      " #   Column    Non-Null Count  Dtype  \n",
      "---  ------    --------------  -----  \n",
      " 0   age       303 non-null    int64  \n",
      " 1   sex       303 non-null    int64  \n",
      " 2   cp        303 non-null    int64  \n",
      " 3   trestbps  303 non-null    int64  \n",
      " 4   chol      303 non-null    int64  \n",
      " 5   fbs       303 non-null    int64  \n",
      " 6   restecg   303 non-null    int64  \n",
      " 7   thalach   303 non-null    int64  \n",
      " 8   exang     303 non-null    int64  \n",
      " 9   oldpeak   303 non-null    float64\n",
      " 10  slope     303 non-null    int64  \n",
      " 11  ca        303 non-null    int64  \n",
      " 12  thal      303 non-null    int64  \n",
      " 13  target    303 non-null    int64  \n",
      "dtypes: float64(1), int64(13)\n",
      "memory usage: 33.3 KB\n"
     ]
    }
   ],
   "source": [
    "df.info()        # checking info"
   ]
  },
  {
   "cell_type": "code",
   "execution_count": 7,
   "metadata": {},
   "outputs": [
    {
     "data": {
      "text/plain": [
       "age           int64\n",
       "sex           int64\n",
       "cp            int64\n",
       "trestbps      int64\n",
       "chol          int64\n",
       "fbs           int64\n",
       "restecg       int64\n",
       "thalach       int64\n",
       "exang         int64\n",
       "oldpeak     float64\n",
       "slope         int64\n",
       "ca            int64\n",
       "thal          int64\n",
       "target        int64\n",
       "dtype: object"
      ]
     },
     "execution_count": 7,
     "metadata": {},
     "output_type": "execute_result"
    }
   ],
   "source": [
    "df.dtypes          # checking data types"
   ]
  },
  {
   "cell_type": "code",
   "execution_count": 8,
   "metadata": {},
   "outputs": [
    {
     "data": {
      "text/plain": [
       "age         0\n",
       "sex         0\n",
       "cp          0\n",
       "trestbps    0\n",
       "chol        0\n",
       "fbs         0\n",
       "restecg     0\n",
       "thalach     0\n",
       "exang       0\n",
       "oldpeak     0\n",
       "slope       0\n",
       "ca          0\n",
       "thal        0\n",
       "target      0\n",
       "dtype: int64"
      ]
     },
     "execution_count": 8,
     "metadata": {},
     "output_type": "execute_result"
    }
   ],
   "source": [
    "df.isnull().sum()      # checking Null values ---No Null values present in dataset"
   ]
  },
  {
   "cell_type": "code",
   "execution_count": 9,
   "metadata": {},
   "outputs": [
    {
     "data": {
      "text/plain": [
       "<matplotlib.axes._subplots.AxesSubplot at 0x562978d708>"
      ]
     },
     "execution_count": 9,
     "metadata": {},
     "output_type": "execute_result"
    },
    {
     "data": {
      "image/png": "[encoded data removed]",
      "text/plain": [
       "<Figure size 432x288 with 2 Axes>"
      ]
     },
     "metadata": {
      "needs_background": "light"
     },
     "output_type": "display_data"
    }
   ],
   "source": [
    "import seaborn as sns\n",
    "sns.heatmap(df.isnull())     # Checking null values by heatmap"
   ]
  },
  {
   "cell_type": "code",
   "execution_count": 10,
   "metadata": {},
   "outputs": [
    {
     "data": {
      "text/plain": [
       "Index(['age', 'sex', 'cp', 'trestbps', 'chol', 'fbs', 'restecg', 'thalach',\n",
       "       'exang', 'oldpeak', 'slope', 'ca', 'thal', 'target'],\n",
       "      dtype='object')"
      ]
     },
     "execution_count": 10,
     "metadata": {},
     "output_type": "execute_result"
    }
   ],
   "source": [
    "df.columns      # checking columns"
   ]
  },
  {
   "cell_type": "code",
   "execution_count": 11,
   "metadata": {},
   "outputs": [
    {
     "data": {
      "text/plain": [
       "1    165\n",
       "0    138\n",
       "Name: target, dtype: int64"
      ]
     },
     "execution_count": 11,
     "metadata": {},
     "output_type": "execute_result"
    }
   ],
   "source": [
    "df.target.value_counts()   #checking target values"
   ]
  },
  {
   "cell_type": "code",
   "execution_count": 12,
   "metadata": {},
   "outputs": [
    {
     "data": {
      "text/html": [
       "<div>\n",
       "<style scoped>\n",
       "    .dataframe tbody tr th:only-of-type {\n",
       "        vertical-align: middle;\n",
       "    }\n",
       "\n",
       "    .dataframe tbody tr th {\n",
       "        vertical-align: top;\n",
       "    }\n",
       "\n",
       "    .dataframe thead th {\n",
       "        text-align: right;\n",
       "    }\n",
       "</style>\n",
       "<table border=\"1\" class=\"dataframe\">\n",
       "  <thead>\n",
       "    <tr style=\"text-align: right;\">\n",
       "      <th></th>\n",
       "      <th>age</th>\n",
       "      <th>sex</th>\n",
       "      <th>cp</th>\n",
       "      <th>trestbps</th>\n",
       "      <th>chol</th>\n",
       "      <th>fbs</th>\n",
       "      <th>restecg</th>\n",
       "      <th>thalach</th>\n",
       "      <th>exang</th>\n",
       "      <th>oldpeak</th>\n",
       "      <th>slope</th>\n",
       "      <th>ca</th>\n",
       "      <th>thal</th>\n",
       "      <th>target</th>\n",
       "    </tr>\n",
       "  </thead>\n",
       "  <tbody>\n",
       "    <tr>\n",
       "      <th>count</th>\n",
       "      <td>303.000000</td>\n",
       "      <td>303.000000</td>\n",
       "      <td>303.000000</td>\n",
       "      <td>303.000000</td>\n",
       "      <td>303.000000</td>\n",
       "      <td>303.000000</td>\n",
       "      <td>303.000000</td>\n",
       "      <td>303.000000</td>\n",
       "      <td>303.000000</td>\n",
       "      <td>303.000000</td>\n",
       "      <td>303.000000</td>\n",
       "      <td>303.000000</td>\n",
       "      <td>303.000000</td>\n",
       "      <td>303.000000</td>\n",
       "    </tr>\n",
       "    <tr>\n",
       "      <th>mean</th>\n",
       "      <td>54.366337</td>\n",
       "      <td>0.683168</td>\n",
       "      <td>0.966997</td>\n",
       "      <td>131.623762</td>\n",
       "      <td>246.264026</td>\n",
       "      <td>0.148515</td>\n",
       "      <td>0.528053</td>\n",
       "      <td>149.646865</td>\n",
       "      <td>0.326733</td>\n",
       "      <td>1.039604</td>\n",
       "      <td>1.399340</td>\n",
       "      <td>0.729373</td>\n",
       "      <td>2.313531</td>\n",
       "      <td>0.544554</td>\n",
       "    </tr>\n",
       "    <tr>\n",
       "      <th>std</th>\n",
       "      <td>9.082101</td>\n",
       "      <td>0.466011</td>\n",
       "      <td>1.032052</td>\n",
       "      <td>17.538143</td>\n",
       "      <td>51.830751</td>\n",
       "      <td>0.356198</td>\n",
       "      <td>0.525860</td>\n",
       "      <td>22.905161</td>\n",
       "      <td>0.469794</td>\n",
       "      <td>1.161075</td>\n",
       "      <td>0.616226</td>\n",
       "      <td>1.022606</td>\n",
       "      <td>0.612277</td>\n",
       "      <td>0.498835</td>\n",
       "    </tr>\n",
       "    <tr>\n",
       "      <th>min</th>\n",
       "      <td>29.000000</td>\n",
       "      <td>0.000000</td>\n",
       "      <td>0.000000</td>\n",
       "      <td>94.000000</td>\n",
       "      <td>126.000000</td>\n",
       "      <td>0.000000</td>\n",
       "      <td>0.000000</td>\n",
       "      <td>71.000000</td>\n",
       "      <td>0.000000</td>\n",
       "      <td>0.000000</td>\n",
       "      <td>0.000000</td>\n",
       "      <td>0.000000</td>\n",
       "      <td>0.000000</td>\n",
       "      <td>0.000000</td>\n",
       "    </tr>\n",
       "    <tr>\n",
       "      <th>25%</th>\n",
       "      <td>47.500000</td>\n",
       "      <td>0.000000</td>\n",
       "      <td>0.000000</td>\n",
       "      <td>120.000000</td>\n",
       "      <td>211.000000</td>\n",
       "      <td>0.000000</td>\n",
       "      <td>0.000000</td>\n",
       "      <td>133.500000</td>\n",
       "      <td>0.000000</td>\n",
       "      <td>0.000000</td>\n",
       "      <td>1.000000</td>\n",
       "      <td>0.000000</td>\n",
       "      <td>2.000000</td>\n",
       "      <td>0.000000</td>\n",
       "    </tr>\n",
       "    <tr>\n",
       "      <th>50%</th>\n",
       "      <td>55.000000</td>\n",
       "      <td>1.000000</td>\n",
       "      <td>1.000000</td>\n",
       "      <td>130.000000</td>\n",
       "      <td>240.000000</td>\n",
       "      <td>0.000000</td>\n",
       "      <td>1.000000</td>\n",
       "      <td>153.000000</td>\n",
       "      <td>0.000000</td>\n",
       "      <td>0.800000</td>\n",
       "      <td>1.000000</td>\n",
       "      <td>0.000000</td>\n",
       "      <td>2.000000</td>\n",
       "      <td>1.000000</td>\n",
       "    </tr>\n",
       "    <tr>\n",
       "      <th>75%</th>\n",
       "      <td>61.000000</td>\n",
       "      <td>1.000000</td>\n",
       "      <td>2.000000</td>\n",
       "      <td>140.000000</td>\n",
       "      <td>274.500000</td>\n",
       "      <td>0.000000</td>\n",
       "      <td>1.000000</td>\n",
       "      <td>166.000000</td>\n",
       "      <td>1.000000</td>\n",
       "      <td>1.600000</td>\n",
       "      <td>2.000000</td>\n",
       "      <td>1.000000</td>\n",
       "      <td>3.000000</td>\n",
       "      <td>1.000000</td>\n",
       "    </tr>\n",
       "    <tr>\n",
       "      <th>max</th>\n",
       "      <td>77.000000</td>\n",
       "      <td>1.000000</td>\n",
       "      <td>3.000000</td>\n",
       "      <td>200.000000</td>\n",
       "      <td>564.000000</td>\n",
       "      <td>1.000000</td>\n",
       "      <td>2.000000</td>\n",
       "      <td>202.000000</td>\n",
       "      <td>1.000000</td>\n",
       "      <td>6.200000</td>\n",
       "      <td>2.000000</td>\n",
       "      <td>4.000000</td>\n",
       "      <td>3.000000</td>\n",
       "      <td>1.000000</td>\n",
       "    </tr>\n",
       "  </tbody>\n",
       "</table>\n",
       "</div>"
      ],
      "text/plain": [
       "              age         sex          cp    trestbps        chol         fbs  \\\n",
       "count  303.000000  303.000000  303.000000  303.000000  303.000000  303.000000   \n",
       "mean    54.366337    0.683168    0.966997  131.623762  246.264026    0.148515   \n",
       "std      9.082101    0.466011    1.032052   17.538143   51.830751    0.356198   \n",
       "min     29.000000    0.000000    0.000000   94.000000  126.000000    0.000000   \n",
       "25%     47.500000    0.000000    0.000000  120.000000  211.000000    0.000000   \n",
       "50%     55.000000    1.000000    1.000000  130.000000  240.000000    0.000000   \n",
       "75%     61.000000    1.000000    2.000000  140.000000  274.500000    0.000000   \n",
       "max     77.000000    1.000000    3.000000  200.000000  564.000000    1.000000   \n",
       "\n",
       "          restecg     thalach       exang     oldpeak       slope          ca  \\\n",
       "count  303.000000  303.000000  303.000000  303.000000  303.000000  303.000000   \n",
       "mean     0.528053  149.646865    0.326733    1.039604    1.399340    0.729373   \n",
       "std      0.525860   22.905161    0.469794    1.161075    0.616226    1.022606   \n",
       "min      0.000000   71.000000    0.000000    0.000000    0.000000    0.000000   \n",
       "25%      0.000000  133.500000    0.000000    0.000000    1.000000    0.000000   \n",
       "50%      1.000000  153.000000    0.000000    0.800000    1.000000    0.000000   \n",
       "75%      1.000000  166.000000    1.000000    1.600000    2.000000    1.000000   \n",
       "max      2.000000  202.000000    1.000000    6.200000    2.000000    4.000000   \n",
       "\n",
       "             thal      target  \n",
       "count  303.000000  303.000000  \n",
       "mean     2.313531    0.544554  \n",
       "std      0.612277    0.498835  \n",
       "min      0.000000    0.000000  \n",
       "25%      2.000000    0.000000  \n",
       "50%      2.000000    1.000000  \n",
       "75%      3.000000    1.000000  \n",
       "max      3.000000    1.000000  "
      ]
     },
     "execution_count": 12,
     "metadata": {},
     "output_type": "execute_result"
    }
   ],
   "source": [
    "df.describe()     #Checking statistical description---As per this outliers present in data and skeweness present some columns"
   ]
  },
  {
   "cell_type": "code",
   "execution_count": 13,
   "metadata": {},
   "outputs": [
    {
     "data": {
      "text/html": [
       "<div>\n",
       "<style scoped>\n",
       "    .dataframe tbody tr th:only-of-type {\n",
       "        vertical-align: middle;\n",
       "    }\n",
       "\n",
       "    .dataframe tbody tr th {\n",
       "        vertical-align: top;\n",
       "    }\n",
       "\n",
       "    .dataframe thead th {\n",
       "        text-align: right;\n",
       "    }\n",
       "</style>\n",
       "<table border=\"1\" class=\"dataframe\">\n",
       "  <thead>\n",
       "    <tr style=\"text-align: right;\">\n",
       "      <th></th>\n",
       "      <th>age</th>\n",
       "      <th>sex</th>\n",
       "      <th>cp</th>\n",
       "      <th>trestbps</th>\n",
       "      <th>chol</th>\n",
       "      <th>fbs</th>\n",
       "      <th>restecg</th>\n",
       "      <th>thalach</th>\n",
       "      <th>exang</th>\n",
       "      <th>oldpeak</th>\n",
       "      <th>slope</th>\n",
       "      <th>ca</th>\n",
       "      <th>thal</th>\n",
       "      <th>target</th>\n",
       "    </tr>\n",
       "  </thead>\n",
       "  <tbody>\n",
       "    <tr>\n",
       "      <th>age</th>\n",
       "      <td>1.000000</td>\n",
       "      <td>-0.098447</td>\n",
       "      <td>-0.068653</td>\n",
       "      <td>0.279351</td>\n",
       "      <td>0.213678</td>\n",
       "      <td>0.121308</td>\n",
       "      <td>-0.116211</td>\n",
       "      <td>-0.398522</td>\n",
       "      <td>0.096801</td>\n",
       "      <td>0.210013</td>\n",
       "      <td>-0.168814</td>\n",
       "      <td>0.276326</td>\n",
       "      <td>0.068001</td>\n",
       "      <td>-0.225439</td>\n",
       "    </tr>\n",
       "    <tr>\n",
       "      <th>sex</th>\n",
       "      <td>-0.098447</td>\n",
       "      <td>1.000000</td>\n",
       "      <td>-0.049353</td>\n",
       "      <td>-0.056769</td>\n",
       "      <td>-0.197912</td>\n",
       "      <td>0.045032</td>\n",
       "      <td>-0.058196</td>\n",
       "      <td>-0.044020</td>\n",
       "      <td>0.141664</td>\n",
       "      <td>0.096093</td>\n",
       "      <td>-0.030711</td>\n",
       "      <td>0.118261</td>\n",
       "      <td>0.210041</td>\n",
       "      <td>-0.280937</td>\n",
       "    </tr>\n",
       "    <tr>\n",
       "      <th>cp</th>\n",
       "      <td>-0.068653</td>\n",
       "      <td>-0.049353</td>\n",
       "      <td>1.000000</td>\n",
       "      <td>0.047608</td>\n",
       "      <td>-0.076904</td>\n",
       "      <td>0.094444</td>\n",
       "      <td>0.044421</td>\n",
       "      <td>0.295762</td>\n",
       "      <td>-0.394280</td>\n",
       "      <td>-0.149230</td>\n",
       "      <td>0.119717</td>\n",
       "      <td>-0.181053</td>\n",
       "      <td>-0.161736</td>\n",
       "      <td>0.433798</td>\n",
       "    </tr>\n",
       "    <tr>\n",
       "      <th>trestbps</th>\n",
       "      <td>0.279351</td>\n",
       "      <td>-0.056769</td>\n",
       "      <td>0.047608</td>\n",
       "      <td>1.000000</td>\n",
       "      <td>0.123174</td>\n",
       "      <td>0.177531</td>\n",
       "      <td>-0.114103</td>\n",
       "      <td>-0.046698</td>\n",
       "      <td>0.067616</td>\n",
       "      <td>0.193216</td>\n",
       "      <td>-0.121475</td>\n",
       "      <td>0.101389</td>\n",
       "      <td>0.062210</td>\n",
       "      <td>-0.144931</td>\n",
       "    </tr>\n",
       "    <tr>\n",
       "      <th>chol</th>\n",
       "      <td>0.213678</td>\n",
       "      <td>-0.197912</td>\n",
       "      <td>-0.076904</td>\n",
       "      <td>0.123174</td>\n",
       "      <td>1.000000</td>\n",
       "      <td>0.013294</td>\n",
       "      <td>-0.151040</td>\n",
       "      <td>-0.009940</td>\n",
       "      <td>0.067023</td>\n",
       "      <td>0.053952</td>\n",
       "      <td>-0.004038</td>\n",
       "      <td>0.070511</td>\n",
       "      <td>0.098803</td>\n",
       "      <td>-0.085239</td>\n",
       "    </tr>\n",
       "    <tr>\n",
       "      <th>fbs</th>\n",
       "      <td>0.121308</td>\n",
       "      <td>0.045032</td>\n",
       "      <td>0.094444</td>\n",
       "      <td>0.177531</td>\n",
       "      <td>0.013294</td>\n",
       "      <td>1.000000</td>\n",
       "      <td>-0.084189</td>\n",
       "      <td>-0.008567</td>\n",
       "      <td>0.025665</td>\n",
       "      <td>0.005747</td>\n",
       "      <td>-0.059894</td>\n",
       "      <td>0.137979</td>\n",
       "      <td>-0.032019</td>\n",
       "      <td>-0.028046</td>\n",
       "    </tr>\n",
       "    <tr>\n",
       "      <th>restecg</th>\n",
       "      <td>-0.116211</td>\n",
       "      <td>-0.058196</td>\n",
       "      <td>0.044421</td>\n",
       "      <td>-0.114103</td>\n",
       "      <td>-0.151040</td>\n",
       "      <td>-0.084189</td>\n",
       "      <td>1.000000</td>\n",
       "      <td>0.044123</td>\n",
       "      <td>-0.070733</td>\n",
       "      <td>-0.058770</td>\n",
       "      <td>0.093045</td>\n",
       "      <td>-0.072042</td>\n",
       "      <td>-0.011981</td>\n",
       "      <td>0.137230</td>\n",
       "    </tr>\n",
       "    <tr>\n",
       "      <th>thalach</th>\n",
       "      <td>-0.398522</td>\n",
       "      <td>-0.044020</td>\n",
       "      <td>0.295762</td>\n",
       "      <td>-0.046698</td>\n",
       "      <td>-0.009940</td>\n",
       "      <td>-0.008567</td>\n",
       "      <td>0.044123</td>\n",
       "      <td>1.000000</td>\n",
       "      <td>-0.378812</td>\n",
       "      <td>-0.344187</td>\n",
       "      <td>0.386784</td>\n",
       "      <td>-0.213177</td>\n",
       "      <td>-0.096439</td>\n",
       "      <td>0.421741</td>\n",
       "    </tr>\n",
       "    <tr>\n",
       "      <th>exang</th>\n",
       "      <td>0.096801</td>\n",
       "      <td>0.141664</td>\n",
       "      <td>-0.394280</td>\n",
       "      <td>0.067616</td>\n",
       "      <td>0.067023</td>\n",
       "      <td>0.025665</td>\n",
       "      <td>-0.070733</td>\n",
       "      <td>-0.378812</td>\n",
       "      <td>1.000000</td>\n",
       "      <td>0.288223</td>\n",
       "      <td>-0.257748</td>\n",
       "      <td>0.115739</td>\n",
       "      <td>0.206754</td>\n",
       "      <td>-0.436757</td>\n",
       "    </tr>\n",
       "    <tr>\n",
       "      <th>oldpeak</th>\n",
       "      <td>0.210013</td>\n",
       "      <td>0.096093</td>\n",
       "      <td>-0.149230</td>\n",
       "      <td>0.193216</td>\n",
       "      <td>0.053952</td>\n",
       "      <td>0.005747</td>\n",
       "      <td>-0.058770</td>\n",
       "      <td>-0.344187</td>\n",
       "      <td>0.288223</td>\n",
       "      <td>1.000000</td>\n",
       "      <td>-0.577537</td>\n",
       "      <td>0.222682</td>\n",
       "      <td>0.210244</td>\n",
       "      <td>-0.430696</td>\n",
       "    </tr>\n",
       "    <tr>\n",
       "      <th>slope</th>\n",
       "      <td>-0.168814</td>\n",
       "      <td>-0.030711</td>\n",
       "      <td>0.119717</td>\n",
       "      <td>-0.121475</td>\n",
       "      <td>-0.004038</td>\n",
       "      <td>-0.059894</td>\n",
       "      <td>0.093045</td>\n",
       "      <td>0.386784</td>\n",
       "      <td>-0.257748</td>\n",
       "      <td>-0.577537</td>\n",
       "      <td>1.000000</td>\n",
       "      <td>-0.080155</td>\n",
       "      <td>-0.104764</td>\n",
       "      <td>0.345877</td>\n",
       "    </tr>\n",
       "    <tr>\n",
       "      <th>ca</th>\n",
       "      <td>0.276326</td>\n",
       "      <td>0.118261</td>\n",
       "      <td>-0.181053</td>\n",
       "      <td>0.101389</td>\n",
       "      <td>0.070511</td>\n",
       "      <td>0.137979</td>\n",
       "      <td>-0.072042</td>\n",
       "      <td>-0.213177</td>\n",
       "      <td>0.115739</td>\n",
       "      <td>0.222682</td>\n",
       "      <td>-0.080155</td>\n",
       "      <td>1.000000</td>\n",
       "      <td>0.151832</td>\n",
       "      <td>-0.391724</td>\n",
       "    </tr>\n",
       "    <tr>\n",
       "      <th>thal</th>\n",
       "      <td>0.068001</td>\n",
       "      <td>0.210041</td>\n",
       "      <td>-0.161736</td>\n",
       "      <td>0.062210</td>\n",
       "      <td>0.098803</td>\n",
       "      <td>-0.032019</td>\n",
       "      <td>-0.011981</td>\n",
       "      <td>-0.096439</td>\n",
       "      <td>0.206754</td>\n",
       "      <td>0.210244</td>\n",
       "      <td>-0.104764</td>\n",
       "      <td>0.151832</td>\n",
       "      <td>1.000000</td>\n",
       "      <td>-0.344029</td>\n",
       "    </tr>\n",
       "    <tr>\n",
       "      <th>target</th>\n",
       "      <td>-0.225439</td>\n",
       "      <td>-0.280937</td>\n",
       "      <td>0.433798</td>\n",
       "      <td>-0.144931</td>\n",
       "      <td>-0.085239</td>\n",
       "      <td>-0.028046</td>\n",
       "      <td>0.137230</td>\n",
       "      <td>0.421741</td>\n",
       "      <td>-0.436757</td>\n",
       "      <td>-0.430696</td>\n",
       "      <td>0.345877</td>\n",
       "      <td>-0.391724</td>\n",
       "      <td>-0.344029</td>\n",
       "      <td>1.000000</td>\n",
       "    </tr>\n",
       "  </tbody>\n",
       "</table>\n",
       "</div>"
      ],
      "text/plain": [
       "               age       sex        cp  trestbps      chol       fbs  \\\n",
       "age       1.000000 -0.098447 -0.068653  0.279351  0.213678  0.121308   \n",
       "sex      -0.098447  1.000000 -0.049353 -0.056769 -0.197912  0.045032   \n",
       "cp       -0.068653 -0.049353  1.000000  0.047608 -0.076904  0.094444   \n",
       "trestbps  0.279351 -0.056769  0.047608  1.000000  0.123174  0.177531   \n",
       "chol      0.213678 -0.197912 -0.076904  0.123174  1.000000  0.013294   \n",
       "fbs       0.121308  0.045032  0.094444  0.177531  0.013294  1.000000   \n",
       "restecg  -0.116211 -0.058196  0.044421 -0.114103 -0.151040 -0.084189   \n",
       "thalach  -0.398522 -0.044020  0.295762 -0.046698 -0.009940 -0.008567   \n",
       "exang     0.096801  0.141664 -0.394280  0.067616  0.067023  0.025665   \n",
       "oldpeak   0.210013  0.096093 -0.149230  0.193216  0.053952  0.005747   \n",
       "slope    -0.168814 -0.030711  0.119717 -0.121475 -0.004038 -0.059894   \n",
       "ca        0.276326  0.118261 -0.181053  0.101389  0.070511  0.137979   \n",
       "thal      0.068001  0.210041 -0.161736  0.062210  0.098803 -0.032019   \n",
       "target   -0.225439 -0.280937  0.433798 -0.144931 -0.085239 -0.028046   \n",
       "\n",
       "           restecg   thalach     exang   oldpeak     slope        ca  \\\n",
       "age      -0.116211 -0.398522  0.096801  0.210013 -0.168814  0.276326   \n",
       "sex      -0.058196 -0.044020  0.141664  0.096093 -0.030711  0.118261   \n",
       "cp        0.044421  0.295762 -0.394280 -0.149230  0.119717 -0.181053   \n",
       "trestbps -0.114103 -0.046698  0.067616  0.193216 -0.121475  0.101389   \n",
       "chol     -0.151040 -0.009940  0.067023  0.053952 -0.004038  0.070511   \n",
       "fbs      -0.084189 -0.008567  0.025665  0.005747 -0.059894  0.137979   \n",
       "restecg   1.000000  0.044123 -0.070733 -0.058770  0.093045 -0.072042   \n",
       "thalach   0.044123  1.000000 -0.378812 -0.344187  0.386784 -0.213177   \n",
       "exang    -0.070733 -0.378812  1.000000  0.288223 -0.257748  0.115739   \n",
       "oldpeak  -0.058770 -0.344187  0.288223  1.000000 -0.577537  0.222682   \n",
       "slope     0.093045  0.386784 -0.257748 -0.577537  1.000000 -0.080155   \n",
       "ca       -0.072042 -0.213177  0.115739  0.222682 -0.080155  1.000000   \n",
       "thal     -0.011981 -0.096439  0.206754  0.210244 -0.104764  0.151832   \n",
       "target    0.137230  0.421741 -0.436757 -0.430696  0.345877 -0.391724   \n",
       "\n",
       "              thal    target  \n",
       "age       0.068001 -0.225439  \n",
       "sex       0.210041 -0.280937  \n",
       "cp       -0.161736  0.433798  \n",
       "trestbps  0.062210 -0.144931  \n",
       "chol      0.098803 -0.085239  \n",
       "fbs      -0.032019 -0.028046  \n",
       "restecg  -0.011981  0.137230  \n",
       "thalach  -0.096439  0.421741  \n",
       "exang     0.206754 -0.436757  \n",
       "oldpeak   0.210244 -0.430696  \n",
       "slope    -0.104764  0.345877  \n",
       "ca        0.151832 -0.391724  \n",
       "thal      1.000000 -0.344029  \n",
       "target   -0.344029  1.000000  "
      ]
     },
     "execution_count": 13,
     "metadata": {},
     "output_type": "execute_result"
    }
   ],
   "source": [
    "df.corr()   # checking statistical correlation "
   ]
  },
  {
   "cell_type": "code",
   "execution_count": 14,
   "metadata": {},
   "outputs": [
    {
     "data": {
      "text/plain": [
       "<matplotlib.axes._subplots.AxesSubplot at 0x562aa68888>"
      ]
     },
     "execution_count": 14,
     "metadata": {},
     "output_type": "execute_result"
    },
    {
     "data": {
      "image/png": "[encoded data removed]",
      "text/plain": [
       "<Figure size 1800x720 with 2 Axes>"
      ]
     },
     "metadata": {
      "needs_background": "light"
     },
     "output_type": "display_data"
    }
   ],
   "source": [
    "import matplotlib.pyplot as plt\n",
    "import seaborn as sns\n",
    "plt.figure(figsize=(25,10))\n",
    "sns.heatmap(df.corr(),annot=True)   # most of the features ar positively correlated"
   ]
  },
  {
   "cell_type": "code",
   "execution_count": 15,
   "metadata": {},
   "outputs": [
    {
     "data": {
      "text/plain": [
       "(303, 14)"
      ]
     },
     "execution_count": 15,
     "metadata": {},
     "output_type": "execute_result"
    }
   ],
   "source": [
    "df.shape     # checking shape"
   ]
  },
  {
   "cell_type": "code",
   "execution_count": 16,
   "metadata": {},
   "outputs": [
    {
     "data": {
      "text/plain": [
       "<matplotlib.axes._subplots.AxesSubplot at 0x562b271808>"
      ]
     },
     "execution_count": 16,
     "metadata": {},
     "output_type": "execute_result"
    },
    {
     "data": {
      "image/png": "[encoded data removed]",
      "text/plain": [
       "<Figure size 432x288 with 1 Axes>"
      ]
     },
     "metadata": {
      "needs_background": "light"
     },
     "output_type": "display_data"
    }
   ],
   "source": [
    "sns.barplot(x='sex',y='target',data=df)   # Men having higher probability of heart disease than female"
   ]
  },
  {
   "cell_type": "code",
   "execution_count": 17,
   "metadata": {},
   "outputs": [
    {
     "data": {
      "text/plain": [
       "<matplotlib.axes._subplots.AxesSubplot at 0x562afa1988>"
      ]
     },
     "execution_count": 17,
     "metadata": {},
     "output_type": "execute_result"
    },
    {
     "data": {
      "image/png": "[encoded data removed]",
      "text/plain": [
       "<Figure size 1800x720 with 1 Axes>"
      ]
     },
     "metadata": {
      "needs_background": "light"
     },
     "output_type": "display_data"
    }
   ],
   "source": [
    "import matplotlib.pyplot as plt      # In elder ages probability of having disease is higher\n",
    "plt.figure(figsize=(25,10))\n",
    "sns.barplot(x='age',y='target',data=df)"
   ]
  },
  {
   "cell_type": "code",
   "execution_count": 18,
   "metadata": {},
   "outputs": [
    {
     "data": {
      "text/plain": [
       "1    165\n",
       "0    138\n",
       "Name: target, dtype: int64"
      ]
     },
     "execution_count": 18,
     "metadata": {},
     "output_type": "execute_result"
    }
   ],
   "source": [
    "df['target'].value_counts()"
   ]
  },
  {
   "cell_type": "code",
   "execution_count": null,
   "metadata": {},
   "outputs": [],
   "source": []
  },
  {
   "cell_type": "code",
   "execution_count": 19,
   "metadata": {},
   "outputs": [
    {
     "data": {
      "text/plain": [
       "<matplotlib.axes._subplots.AxesSubplot at 0x562c134e08>"
      ]
     },
     "execution_count": 19,
     "metadata": {},
     "output_type": "execute_result"
    },
    {
     "data": {
      "image/png": "[encoded data removed]",
      "text/plain": [
       "<Figure size 432x288 with 1 Axes>"
      ]
     },
     "metadata": {
      "needs_background": "light"
     },
     "output_type": "display_data"
    }
   ],
   "source": [
    "sns.barplot(x='cp',y='target',data=df)   # people with cp=0 often have lower disease as compare to others"
   ]
  },
  {
   "cell_type": "code",
   "execution_count": 20,
   "metadata": {},
   "outputs": [
    {
     "data": {
      "text/plain": [
       "<matplotlib.axes._subplots.AxesSubplot at 0x562bc57448>"
      ]
     },
     "execution_count": 20,
     "metadata": {},
     "output_type": "execute_result"
    },
    {
     "data": {
      "image/png": "[encoded data removed]",
      "text/plain": [
       "<Figure size 1800x720 with 1 Axes>"
      ]
     },
     "metadata": {
      "needs_background": "light"
     },
     "output_type": "display_data"
    }
   ],
   "source": [
    "plt.figure(figsize=(25,10))                   # people having high blood pressure has higher type of heart disease\n",
    "sns.barplot(x='trestbps',y='target',data=df)"
   ]
  },
  {
   "cell_type": "code",
   "execution_count": 21,
   "metadata": {},
   "outputs": [
    {
     "data": {
      "text/plain": [
       "<matplotlib.axes._subplots.AxesSubplot at 0x562bc19908>"
      ]
     },
     "execution_count": 21,
     "metadata": {},
     "output_type": "execute_result"
    },
    {
     "data": {
      "image/png": "[encoded data removed]",
      "text/plain": [
       "<Figure size 432x288 with 1 Axes>"
      ]
     },
     "metadata": {
      "needs_background": "light"
     },
     "output_type": "display_data"
    }
   ],
   "source": [
    "#plt.figure(figsize=(25,10))                   # people having cholestrol level greater than around 150\n",
    "sns.lineplot(x='chol',y='target',data=df)"
   ]
  },
  {
   "cell_type": "code",
   "execution_count": 22,
   "metadata": {},
   "outputs": [
    {
     "data": {
      "text/plain": [
       "<matplotlib.axes._subplots.AxesSubplot at 0x562bea2408>"
      ]
     },
     "execution_count": 22,
     "metadata": {},
     "output_type": "execute_result"
    },
    {
     "data": {
      "image/png": "[encoded data removed]",
      "text/plain": [
       "<Figure size 432x288 with 1 Axes>"
      ]
     },
     "metadata": {
      "needs_background": "light"
     },
     "output_type": "display_data"
    }
   ],
   "source": [
    "#plt.figure(figsize=(25,10))                   \n",
    "sns.barplot(x='fbs',y='target',data=df)"
   ]
  },
  {
   "cell_type": "code",
   "execution_count": 23,
   "metadata": {},
   "outputs": [
    {
     "data": {
      "text/plain": [
       "<matplotlib.axes._subplots.AxesSubplot at 0x562bf3b9c8>"
      ]
     },
     "execution_count": 23,
     "metadata": {},
     "output_type": "execute_result"
    },
    {
     "data": {
      "image/png": "[encoded data removed]",
      "text/plain": [
       "<Figure size 432x288 with 1 Axes>"
      ]
     },
     "metadata": {
      "needs_background": "light"
     },
     "output_type": "display_data"
    }
   ],
   "source": [
    "sns.barplot(x='restecg',y='target',data=df)        \n",
    "# 0 - normal, 1-having ST-T wave abnormility and 2-definite left ventricular hypertrophy by Estes' criteria\n",
    "# 0 & 1 slightly greater than 2"
   ]
  },
  {
   "cell_type": "code",
   "execution_count": 24,
   "metadata": {},
   "outputs": [
    {
     "data": {
      "text/plain": [
       "<matplotlib.axes._subplots.AxesSubplot at 0x562bf9bcc8>"
      ]
     },
     "execution_count": 24,
     "metadata": {},
     "output_type": "execute_result"
    },
    {
     "data": {
      "image/png": "[encoded data removed]",
      "text/plain": [
       "<Figure size 1800x720 with 1 Axes>"
      ]
     },
     "metadata": {
      "needs_background": "light"
     },
     "output_type": "display_data"
    }
   ],
   "source": [
    "plt.figure(figsize=(25,10))                # maximum heart rate nearby agter 120\n",
    "sns.lineplot(x='thalach',y='target',data=df)"
   ]
  },
  {
   "cell_type": "code",
   "execution_count": 25,
   "metadata": {},
   "outputs": [
    {
     "data": {
      "text/plain": [
       "<matplotlib.axes._subplots.AxesSubplot at 0x562c0260c8>"
      ]
     },
     "execution_count": 25,
     "metadata": {},
     "output_type": "execute_result"
    },
    {
     "data": {
      "image/png": "[encoded data removed]",
      "text/plain": [
       "<Figure size 432x288 with 1 Axes>"
      ]
     },
     "metadata": {
      "needs_background": "light"
     },
     "output_type": "display_data"
    }
   ],
   "source": [
    "sns.barplot(x='exang',y='target',data=df)   #excercise include agina lower in disease people"
   ]
  },
  {
   "cell_type": "code",
   "execution_count": 26,
   "metadata": {},
   "outputs": [
    {
     "data": {
      "text/plain": [
       "<matplotlib.axes._subplots.AxesSubplot at 0x562c07b248>"
      ]
     },
     "execution_count": 26,
     "metadata": {},
     "output_type": "execute_result"
    },
    {
     "data": {
      "image/png": "[encoded data removed]",
      "text/plain": [
       "<Figure size 1800x720 with 1 Axes>"
      ]
     },
     "metadata": {
      "needs_background": "light"
     },
     "output_type": "display_data"
    }
   ],
   "source": [
    "plt.figure(figsize=(25,10)) \n",
    "sns.barplot(x='oldpeak',y='target',data=df)  # ST depression "
   ]
  },
  {
   "cell_type": "code",
   "execution_count": 27,
   "metadata": {},
   "outputs": [
    {
     "data": {
      "text/plain": [
       "<matplotlib.axes._subplots.AxesSubplot at 0x562c5af608>"
      ]
     },
     "execution_count": 27,
     "metadata": {},
     "output_type": "execute_result"
    },
    {
     "data": {
      "image/png": "[encoded data removed]",
      "text/plain": [
       "<Figure size 432x288 with 1 Axes>"
      ]
     },
     "metadata": {
      "needs_background": "light"
     },
     "output_type": "display_data"
    }
   ],
   "source": [
    "sns.barplot(x='slope',y='target',data=df)"
   ]
  },
  {
   "cell_type": "code",
   "execution_count": 28,
   "metadata": {},
   "outputs": [
    {
     "data": {
      "text/plain": [
       "<matplotlib.axes._subplots.AxesSubplot at 0x562c962388>"
      ]
     },
     "execution_count": 28,
     "metadata": {},
     "output_type": "execute_result"
    },
    {
     "data": {
      "image/png": "[encoded data removed]",
      "text/plain": [
       "<Figure size 432x288 with 1 Axes>"
      ]
     },
     "metadata": {
      "needs_background": "light"
     },
     "output_type": "display_data"
    }
   ],
   "source": [
    "sns.barplot(x='ca',y='target',data=df)    # no of major vessels 0.8"
   ]
  },
  {
   "cell_type": "code",
   "execution_count": 29,
   "metadata": {},
   "outputs": [
    {
     "data": {
      "text/plain": [
       "<matplotlib.axes._subplots.AxesSubplot at 0x562e07b588>"
      ]
     },
     "execution_count": 29,
     "metadata": {},
     "output_type": "execute_result"
    },
    {
     "data": {
      "image/png": "[encoded data removed]",
      "text/plain": [
       "<Figure size 432x288 with 1 Axes>"
      ]
     },
     "metadata": {
      "needs_background": "light"
     },
     "output_type": "display_data"
    }
   ],
   "source": [
    "sns.barplot(x='thal',y='target',data=df)    # most people having fixed defect"
   ]
  },
  {
   "cell_type": "code",
   "execution_count": 30,
   "metadata": {},
   "outputs": [
    {
     "data": {
      "text/plain": [
       "array([[<matplotlib.axes._subplots.AxesSubplot object at 0x000000562E128088>,\n",
       "        <matplotlib.axes._subplots.AxesSubplot object at 0x000000562E154088>,\n",
       "        <matplotlib.axes._subplots.AxesSubplot object at 0x000000562E18AA48>,\n",
       "        <matplotlib.axes._subplots.AxesSubplot object at 0x000000562E1C2B88>],\n",
       "       [<matplotlib.axes._subplots.AxesSubplot object at 0x000000562E1F9CC8>,\n",
       "        <matplotlib.axes._subplots.AxesSubplot object at 0x000000562E231D48>,\n",
       "        <matplotlib.axes._subplots.AxesSubplot object at 0x000000562E26CE48>,\n",
       "        <matplotlib.axes._subplots.AxesSubplot object at 0x000000562E2AFF08>],\n",
       "       [<matplotlib.axes._subplots.AxesSubplot object at 0x000000562E2AFFC8>,\n",
       "        <matplotlib.axes._subplots.AxesSubplot object at 0x000000562E2ED1C8>,\n",
       "        <matplotlib.axes._subplots.AxesSubplot object at 0x000000562E355288>,\n",
       "        <matplotlib.axes._subplots.AxesSubplot object at 0x000000562E38B388>],\n",
       "       [<matplotlib.axes._subplots.AxesSubplot object at 0x000000562E3C4488>,\n",
       "        <matplotlib.axes._subplots.AxesSubplot object at 0x000000562E3FE5C8>,\n",
       "        <matplotlib.axes._subplots.AxesSubplot object at 0x000000562E4376C8>,\n",
       "        <matplotlib.axes._subplots.AxesSubplot object at 0x000000562E46D848>]],\n",
       "      dtype=object)"
      ]
     },
     "execution_count": 30,
     "metadata": {},
     "output_type": "execute_result"
    },
    {
     "data": {
      "image/png": "[encoded data removed]",
      "text/plain": [
       "<Figure size 432x288 with 16 Axes>"
      ]
     },
     "metadata": {
      "needs_background": "light"
     },
     "output_type": "display_data"
    }
   ],
   "source": [
    "df.hist()"
   ]
  },
  {
   "cell_type": "code",
   "execution_count": 31,
   "metadata": {},
   "outputs": [],
   "source": [
    "# lets check age with some features"
   ]
  },
  {
   "cell_type": "code",
   "execution_count": 32,
   "metadata": {},
   "outputs": [
    {
     "data": {
      "text/plain": [
       "<matplotlib.axes._subplots.AxesSubplot at 0x562e753308>"
      ]
     },
     "execution_count": 32,
     "metadata": {},
     "output_type": "execute_result"
    },
    {
     "data": {
      "image/png": "[encoded data removed]",
      "text/plain": [
       "<Figure size 1440x576 with 1 Axes>"
      ]
     },
     "metadata": {
      "needs_background": "light"
     },
     "output_type": "display_data"
    }
   ],
   "source": [
    "plt.figure(figsize=(20,8))\n",
    "sns.lineplot(x='chol',y='age',data=df)"
   ]
  },
  {
   "cell_type": "code",
   "execution_count": 33,
   "metadata": {
    "scrolled": true
   },
   "outputs": [
    {
     "data": {
      "text/plain": [
       "<matplotlib.axes._subplots.AxesSubplot at 0x562e778608>"
      ]
     },
     "execution_count": 33,
     "metadata": {},
     "output_type": "execute_result"
    },
    {
     "data": {
      "image/png": "[encoded data removed]",
      "text/plain": [
       "<Figure size 432x288 with 1 Axes>"
      ]
     },
     "metadata": {
      "needs_background": "light"
     },
     "output_type": "display_data"
    }
   ],
   "source": [
    "sns.scatterplot(df['restecg'],df['age'],data=df)"
   ]
  },
  {
   "cell_type": "code",
   "execution_count": 34,
   "metadata": {},
   "outputs": [
    {
     "data": {
      "text/plain": [
       "target  restecg\n",
       "0       0          79\n",
       "        1          56\n",
       "        2           3\n",
       "1       0          68\n",
       "        1          96\n",
       "        2           1\n",
       "Name: age, dtype: int64"
      ]
     },
     "execution_count": 34,
     "metadata": {},
     "output_type": "execute_result"
    }
   ],
   "source": [
    "df.groupby([\"target\", \"restecg\"])[\"age\"].count()  # ecg per heart disease type"
   ]
  },
  {
   "cell_type": "code",
   "execution_count": 35,
   "metadata": {},
   "outputs": [],
   "source": [
    "#some column having ouliers let's check"
   ]
  },
  {
   "cell_type": "code",
   "execution_count": 36,
   "metadata": {},
   "outputs": [
    {
     "data": {
      "text/plain": [
       "<matplotlib.axes._subplots.AxesSubplot at 0x562e7dd3c8>"
      ]
     },
     "execution_count": 36,
     "metadata": {},
     "output_type": "execute_result"
    },
    {
     "data": {
      "image/png": "[encoded data removed]",
      "text/plain": [
       "<Figure size 432x288 with 1 Axes>"
      ]
     },
     "metadata": {
      "needs_background": "light"
     },
     "output_type": "display_data"
    }
   ],
   "source": [
    "sns.boxplot(df['chol'],data=df)"
   ]
  },
  {
   "cell_type": "code",
   "execution_count": 37,
   "metadata": {},
   "outputs": [
    {
     "data": {
      "text/plain": [
       "<matplotlib.axes._subplots.AxesSubplot at 0x562e838cc8>"
      ]
     },
     "execution_count": 37,
     "metadata": {},
     "output_type": "execute_result"
    },
    {
     "data": {
      "image/png": "[encoded data removed]",
      "text/plain": [
       "<Figure size 432x288 with 1 Axes>"
      ]
     },
     "metadata": {
      "needs_background": "light"
     },
     "output_type": "display_data"
    }
   ],
   "source": [
    "sns.boxplot(df['age'],data=df)"
   ]
  },
  {
   "cell_type": "code",
   "execution_count": 38,
   "metadata": {},
   "outputs": [],
   "source": [
    "from scipy.stats import zscore\n",
    "import numpy as np\n",
    "import warnings\n",
    "warnings.filterwarnings('ignore')"
   ]
  },
  {
   "cell_type": "code",
   "execution_count": 39,
   "metadata": {},
   "outputs": [
    {
     "data": {
      "text/plain": [
       "array([[0.9521966 , 0.68100522, 1.97312292, ..., 0.71442887, 2.14887271,\n",
       "        0.91452919],\n",
       "       [1.91531289, 0.68100522, 1.00257707, ..., 0.71442887, 0.51292188,\n",
       "        0.91452919],\n",
       "       [1.47415758, 1.46841752, 0.03203122, ..., 0.71442887, 0.51292188,\n",
       "        0.91452919],\n",
       "       ...,\n",
       "       [1.50364073, 0.68100522, 0.93851463, ..., 1.24459328, 1.12302895,\n",
       "        1.09345881],\n",
       "       [0.29046364, 0.68100522, 0.93851463, ..., 0.26508221, 1.12302895,\n",
       "        1.09345881],\n",
       "       [0.29046364, 1.46841752, 0.03203122, ..., 0.26508221, 0.51292188,\n",
       "        1.09345881]])"
      ]
     },
     "execution_count": 39,
     "metadata": {},
     "output_type": "execute_result"
    }
   ],
   "source": [
    "z=np.abs(zscore(df))\n",
    "z"
   ]
  },
  {
   "cell_type": "code",
   "execution_count": 40,
   "metadata": {},
   "outputs": [
    {
     "name": "stdout",
     "output_type": "stream",
     "text": [
      "(array([ 28,  48,  85,  92, 158, 163, 164, 204, 220, 221, 223, 246, 248,\n",
      "       251, 272, 281], dtype=int64), array([ 4, 12,  4, 11, 11, 11, 11,  9,  4,  9,  3,  4,  3, 11,  7, 12],\n",
      "      dtype=int64))\n"
     ]
    }
   ],
   "source": [
    "threshold=3               #Identifying outlirs\n",
    "print(np.where(z>3))"
   ]
  },
  {
   "cell_type": "code",
   "execution_count": 41,
   "metadata": {},
   "outputs": [
    {
     "data": {
      "text/html": [
       "<div>\n",
       "<style scoped>\n",
       "    .dataframe tbody tr th:only-of-type {\n",
       "        vertical-align: middle;\n",
       "    }\n",
       "\n",
       "    .dataframe tbody tr th {\n",
       "        vertical-align: top;\n",
       "    }\n",
       "\n",
       "    .dataframe thead th {\n",
       "        text-align: right;\n",
       "    }\n",
       "</style>\n",
       "<table border=\"1\" class=\"dataframe\">\n",
       "  <thead>\n",
       "    <tr style=\"text-align: right;\">\n",
       "      <th></th>\n",
       "      <th>age</th>\n",
       "      <th>sex</th>\n",
       "      <th>cp</th>\n",
       "      <th>trestbps</th>\n",
       "      <th>chol</th>\n",
       "      <th>fbs</th>\n",
       "      <th>restecg</th>\n",
       "      <th>thalach</th>\n",
       "      <th>exang</th>\n",
       "      <th>oldpeak</th>\n",
       "      <th>slope</th>\n",
       "      <th>ca</th>\n",
       "      <th>thal</th>\n",
       "      <th>target</th>\n",
       "    </tr>\n",
       "  </thead>\n",
       "  <tbody>\n",
       "    <tr>\n",
       "      <th>0</th>\n",
       "      <td>63</td>\n",
       "      <td>1</td>\n",
       "      <td>3</td>\n",
       "      <td>145</td>\n",
       "      <td>233</td>\n",
       "      <td>1</td>\n",
       "      <td>0</td>\n",
       "      <td>150</td>\n",
       "      <td>0</td>\n",
       "      <td>2.3</td>\n",
       "      <td>0</td>\n",
       "      <td>0</td>\n",
       "      <td>1</td>\n",
       "      <td>1</td>\n",
       "    </tr>\n",
       "    <tr>\n",
       "      <th>1</th>\n",
       "      <td>37</td>\n",
       "      <td>1</td>\n",
       "      <td>2</td>\n",
       "      <td>130</td>\n",
       "      <td>250</td>\n",
       "      <td>0</td>\n",
       "      <td>1</td>\n",
       "      <td>187</td>\n",
       "      <td>0</td>\n",
       "      <td>3.5</td>\n",
       "      <td>0</td>\n",
       "      <td>0</td>\n",
       "      <td>2</td>\n",
       "      <td>1</td>\n",
       "    </tr>\n",
       "    <tr>\n",
       "      <th>2</th>\n",
       "      <td>41</td>\n",
       "      <td>0</td>\n",
       "      <td>1</td>\n",
       "      <td>130</td>\n",
       "      <td>204</td>\n",
       "      <td>0</td>\n",
       "      <td>0</td>\n",
       "      <td>172</td>\n",
       "      <td>0</td>\n",
       "      <td>1.4</td>\n",
       "      <td>2</td>\n",
       "      <td>0</td>\n",
       "      <td>2</td>\n",
       "      <td>1</td>\n",
       "    </tr>\n",
       "    <tr>\n",
       "      <th>3</th>\n",
       "      <td>56</td>\n",
       "      <td>1</td>\n",
       "      <td>1</td>\n",
       "      <td>120</td>\n",
       "      <td>236</td>\n",
       "      <td>0</td>\n",
       "      <td>1</td>\n",
       "      <td>178</td>\n",
       "      <td>0</td>\n",
       "      <td>0.8</td>\n",
       "      <td>2</td>\n",
       "      <td>0</td>\n",
       "      <td>2</td>\n",
       "      <td>1</td>\n",
       "    </tr>\n",
       "    <tr>\n",
       "      <th>4</th>\n",
       "      <td>57</td>\n",
       "      <td>0</td>\n",
       "      <td>0</td>\n",
       "      <td>120</td>\n",
       "      <td>354</td>\n",
       "      <td>0</td>\n",
       "      <td>1</td>\n",
       "      <td>163</td>\n",
       "      <td>1</td>\n",
       "      <td>0.6</td>\n",
       "      <td>2</td>\n",
       "      <td>0</td>\n",
       "      <td>2</td>\n",
       "      <td>1</td>\n",
       "    </tr>\n",
       "    <tr>\n",
       "      <th>...</th>\n",
       "      <td>...</td>\n",
       "      <td>...</td>\n",
       "      <td>...</td>\n",
       "      <td>...</td>\n",
       "      <td>...</td>\n",
       "      <td>...</td>\n",
       "      <td>...</td>\n",
       "      <td>...</td>\n",
       "      <td>...</td>\n",
       "      <td>...</td>\n",
       "      <td>...</td>\n",
       "      <td>...</td>\n",
       "      <td>...</td>\n",
       "      <td>...</td>\n",
       "    </tr>\n",
       "    <tr>\n",
       "      <th>298</th>\n",
       "      <td>57</td>\n",
       "      <td>0</td>\n",
       "      <td>0</td>\n",
       "      <td>140</td>\n",
       "      <td>241</td>\n",
       "      <td>0</td>\n",
       "      <td>1</td>\n",
       "      <td>123</td>\n",
       "      <td>1</td>\n",
       "      <td>0.2</td>\n",
       "      <td>1</td>\n",
       "      <td>0</td>\n",
       "      <td>3</td>\n",
       "      <td>0</td>\n",
       "    </tr>\n",
       "    <tr>\n",
       "      <th>299</th>\n",
       "      <td>45</td>\n",
       "      <td>1</td>\n",
       "      <td>3</td>\n",
       "      <td>110</td>\n",
       "      <td>264</td>\n",
       "      <td>0</td>\n",
       "      <td>1</td>\n",
       "      <td>132</td>\n",
       "      <td>0</td>\n",
       "      <td>1.2</td>\n",
       "      <td>1</td>\n",
       "      <td>0</td>\n",
       "      <td>3</td>\n",
       "      <td>0</td>\n",
       "    </tr>\n",
       "    <tr>\n",
       "      <th>300</th>\n",
       "      <td>68</td>\n",
       "      <td>1</td>\n",
       "      <td>0</td>\n",
       "      <td>144</td>\n",
       "      <td>193</td>\n",
       "      <td>1</td>\n",
       "      <td>1</td>\n",
       "      <td>141</td>\n",
       "      <td>0</td>\n",
       "      <td>3.4</td>\n",
       "      <td>1</td>\n",
       "      <td>2</td>\n",
       "      <td>3</td>\n",
       "      <td>0</td>\n",
       "    </tr>\n",
       "    <tr>\n",
       "      <th>301</th>\n",
       "      <td>57</td>\n",
       "      <td>1</td>\n",
       "      <td>0</td>\n",
       "      <td>130</td>\n",
       "      <td>131</td>\n",
       "      <td>0</td>\n",
       "      <td>1</td>\n",
       "      <td>115</td>\n",
       "      <td>1</td>\n",
       "      <td>1.2</td>\n",
       "      <td>1</td>\n",
       "      <td>1</td>\n",
       "      <td>3</td>\n",
       "      <td>0</td>\n",
       "    </tr>\n",
       "    <tr>\n",
       "      <th>302</th>\n",
       "      <td>57</td>\n",
       "      <td>0</td>\n",
       "      <td>1</td>\n",
       "      <td>130</td>\n",
       "      <td>236</td>\n",
       "      <td>0</td>\n",
       "      <td>0</td>\n",
       "      <td>174</td>\n",
       "      <td>0</td>\n",
       "      <td>0.0</td>\n",
       "      <td>1</td>\n",
       "      <td>1</td>\n",
       "      <td>2</td>\n",
       "      <td>0</td>\n",
       "    </tr>\n",
       "  </tbody>\n",
       "</table>\n",
       "<p>287 rows × 14 columns</p>\n",
       "</div>"
      ],
      "text/plain": [
       "     age  sex  cp  trestbps  chol  fbs  restecg  thalach  exang  oldpeak  \\\n",
       "0     63    1   3       145   233    1        0      150      0      2.3   \n",
       "1     37    1   2       130   250    0        1      187      0      3.5   \n",
       "2     41    0   1       130   204    0        0      172      0      1.4   \n",
       "3     56    1   1       120   236    0        1      178      0      0.8   \n",
       "4     57    0   0       120   354    0        1      163      1      0.6   \n",
       "..   ...  ...  ..       ...   ...  ...      ...      ...    ...      ...   \n",
       "298   57    0   0       140   241    0        1      123      1      0.2   \n",
       "299   45    1   3       110   264    0        1      132      0      1.2   \n",
       "300   68    1   0       144   193    1        1      141      0      3.4   \n",
       "301   57    1   0       130   131    0        1      115      1      1.2   \n",
       "302   57    0   1       130   236    0        0      174      0      0.0   \n",
       "\n",
       "     slope  ca  thal  target  \n",
       "0        0   0     1       1  \n",
       "1        0   0     2       1  \n",
       "2        2   0     2       1  \n",
       "3        2   0     2       1  \n",
       "4        2   0     2       1  \n",
       "..     ...  ..   ...     ...  \n",
       "298      1   0     3       0  \n",
       "299      1   0     3       0  \n",
       "300      1   2     3       0  \n",
       "301      1   1     3       0  \n",
       "302      1   1     2       0  \n",
       "\n",
       "[287 rows x 14 columns]"
      ]
     },
     "execution_count": 41,
     "metadata": {},
     "output_type": "execute_result"
    }
   ],
   "source": [
    "df1=df[(z<3).all(axis=1)]   #Removing outliers\n",
    "df1"
   ]
  },
  {
   "cell_type": "code",
   "execution_count": 42,
   "metadata": {},
   "outputs": [
    {
     "data": {
      "text/plain": [
       "(287, 14)"
      ]
     },
     "execution_count": 42,
     "metadata": {},
     "output_type": "execute_result"
    }
   ],
   "source": [
    "df1.shape"
   ]
  },
  {
   "cell_type": "code",
   "execution_count": 43,
   "metadata": {},
   "outputs": [],
   "source": [
    "from sklearn.preprocessing import MinMaxScaler"
   ]
  },
  {
   "cell_type": "code",
   "execution_count": 44,
   "metadata": {},
   "outputs": [
    {
     "name": "stdout",
     "output_type": "stream",
     "text": [
      "MinMaxScaler(copy=True, feature_range=(0, 1))\n",
      "[[0.70833333 1.         1.         ... 0.         0.         1.        ]\n",
      " [0.16666667 1.         0.66666667 ... 0.         0.5        1.        ]\n",
      " [0.25       0.         0.33333333 ... 0.         0.5        1.        ]\n",
      " ...\n",
      " [0.8125     1.         0.         ... 0.66666667 1.         0.        ]\n",
      " [0.58333333 1.         0.         ... 0.33333333 1.         0.        ]\n",
      " [0.58333333 0.         0.33333333 ... 0.33333333 0.5        0.        ]]\n"
     ]
    }
   ],
   "source": [
    "scaler = MinMaxScaler()                   # scaling\n",
    "print(scaler.fit(df1))\n",
    "print(scaler.transform(df1))"
   ]
  },
  {
   "cell_type": "code",
   "execution_count": 45,
   "metadata": {},
   "outputs": [
    {
     "data": {
      "text/plain": [
       "age        -0.184321\n",
       "sex        -0.825426\n",
       "cp          0.491220\n",
       "trestbps    0.530712\n",
       "chol        0.245591\n",
       "fbs         2.051982\n",
       "restecg     0.155787\n",
       "thalach    -0.473864\n",
       "exang       0.738876\n",
       "oldpeak     0.984256\n",
       "slope      -0.503916\n",
       "ca          1.211037\n",
       "thal       -0.190864\n",
       "target     -0.204199\n",
       "dtype: float64"
      ]
     },
     "execution_count": 45,
     "metadata": {},
     "output_type": "execute_result"
    }
   ],
   "source": [
    "df1.skew()  # checking skeweness"
   ]
  },
  {
   "cell_type": "code",
   "execution_count": 46,
   "metadata": {},
   "outputs": [],
   "source": [
    "df1['exang']=np.log1p(df['exang'])     #removing skewness"
   ]
  },
  {
   "cell_type": "code",
   "execution_count": 47,
   "metadata": {},
   "outputs": [],
   "source": [
    "df1['oldpeak']=np.log1p(df['oldpeak'])"
   ]
  },
  {
   "cell_type": "code",
   "execution_count": 48,
   "metadata": {},
   "outputs": [],
   "source": [
    "df1['ca']=np.sqrt(df['ca'])     #removing skeweness"
   ]
  },
  {
   "cell_type": "code",
   "execution_count": 49,
   "metadata": {},
   "outputs": [],
   "source": [
    "df1['fbs']=np.log1p(df1['fbs'])"
   ]
  },
  {
   "cell_type": "code",
   "execution_count": 50,
   "metadata": {},
   "outputs": [
    {
     "data": {
      "text/plain": [
       "1    158\n",
       "0    129\n",
       "Name: target, dtype: int64"
      ]
     },
     "execution_count": 50,
     "metadata": {},
     "output_type": "execute_result"
    }
   ],
   "source": [
    "df1['target'].value_counts()"
   ]
  },
  {
   "cell_type": "code",
   "execution_count": 51,
   "metadata": {},
   "outputs": [
    {
     "data": {
      "text/plain": [
       "array([[0.19745733, 0.00313424, 0.00940273, ..., 0.        , 0.00313424,\n",
       "        0.00313424],\n",
       "       [0.1087524 , 0.00293925, 0.00587851, ..., 0.        , 0.00587851,\n",
       "        0.00293925],\n",
       "       [0.13682504, 0.        , 0.0033372 , ..., 0.        , 0.00667439,\n",
       "        0.0033372 ],\n",
       "       ...,\n",
       "       [0.23673603, 0.00348141, 0.        , ..., 0.00492346, 0.01044424,\n",
       "        0.        ],\n",
       "       [0.25352345, 0.00444778, 0.        , ..., 0.00444778, 0.01334334,\n",
       "        0.        ],\n",
       "       [0.1749685 , 0.        , 0.00306962, ..., 0.00306962, 0.00613925,\n",
       "        0.        ]])"
      ]
     },
     "execution_count": 51,
     "metadata": {},
     "output_type": "execute_result"
    }
   ],
   "source": [
    "from sklearn import preprocessing            # Normalising data\n",
    "preprocessing.Normalizer().fit_transform(df1)"
   ]
  },
  {
   "cell_type": "code",
   "execution_count": 52,
   "metadata": {},
   "outputs": [],
   "source": [
    "#separating x and y variables"
   ]
  },
  {
   "cell_type": "code",
   "execution_count": 53,
   "metadata": {},
   "outputs": [
    {
     "data": {
      "text/plain": [
       "0      1\n",
       "1      1\n",
       "2      1\n",
       "3      1\n",
       "4      1\n",
       "      ..\n",
       "298    0\n",
       "299    0\n",
       "300    0\n",
       "301    0\n",
       "302    0\n",
       "Name: target, Length: 287, dtype: int64"
      ]
     },
     "execution_count": 53,
     "metadata": {},
     "output_type": "execute_result"
    }
   ],
   "source": [
    "y=df1.iloc[:,-1]\n",
    "y"
   ]
  },
  {
   "cell_type": "code",
   "execution_count": 54,
   "metadata": {},
   "outputs": [
    {
     "data": {
      "text/html": [
       "<div>\n",
       "<style scoped>\n",
       "    .dataframe tbody tr th:only-of-type {\n",
       "        vertical-align: middle;\n",
       "    }\n",
       "\n",
       "    .dataframe tbody tr th {\n",
       "        vertical-align: top;\n",
       "    }\n",
       "\n",
       "    .dataframe thead th {\n",
       "        text-align: right;\n",
       "    }\n",
       "</style>\n",
       "<table border=\"1\" class=\"dataframe\">\n",
       "  <thead>\n",
       "    <tr style=\"text-align: right;\">\n",
       "      <th></th>\n",
       "      <th>age</th>\n",
       "      <th>sex</th>\n",
       "      <th>cp</th>\n",
       "      <th>trestbps</th>\n",
       "      <th>chol</th>\n",
       "      <th>fbs</th>\n",
       "      <th>restecg</th>\n",
       "      <th>thalach</th>\n",
       "      <th>exang</th>\n",
       "      <th>oldpeak</th>\n",
       "      <th>slope</th>\n",
       "      <th>ca</th>\n",
       "      <th>thal</th>\n",
       "    </tr>\n",
       "  </thead>\n",
       "  <tbody>\n",
       "    <tr>\n",
       "      <th>0</th>\n",
       "      <td>63</td>\n",
       "      <td>1</td>\n",
       "      <td>3</td>\n",
       "      <td>145</td>\n",
       "      <td>233</td>\n",
       "      <td>0.693147</td>\n",
       "      <td>0</td>\n",
       "      <td>150</td>\n",
       "      <td>0.000000</td>\n",
       "      <td>1.193922</td>\n",
       "      <td>0</td>\n",
       "      <td>0.000000</td>\n",
       "      <td>1</td>\n",
       "    </tr>\n",
       "    <tr>\n",
       "      <th>1</th>\n",
       "      <td>37</td>\n",
       "      <td>1</td>\n",
       "      <td>2</td>\n",
       "      <td>130</td>\n",
       "      <td>250</td>\n",
       "      <td>0.000000</td>\n",
       "      <td>1</td>\n",
       "      <td>187</td>\n",
       "      <td>0.000000</td>\n",
       "      <td>1.504077</td>\n",
       "      <td>0</td>\n",
       "      <td>0.000000</td>\n",
       "      <td>2</td>\n",
       "    </tr>\n",
       "    <tr>\n",
       "      <th>2</th>\n",
       "      <td>41</td>\n",
       "      <td>0</td>\n",
       "      <td>1</td>\n",
       "      <td>130</td>\n",
       "      <td>204</td>\n",
       "      <td>0.000000</td>\n",
       "      <td>0</td>\n",
       "      <td>172</td>\n",
       "      <td>0.000000</td>\n",
       "      <td>0.875469</td>\n",
       "      <td>2</td>\n",
       "      <td>0.000000</td>\n",
       "      <td>2</td>\n",
       "    </tr>\n",
       "    <tr>\n",
       "      <th>3</th>\n",
       "      <td>56</td>\n",
       "      <td>1</td>\n",
       "      <td>1</td>\n",
       "      <td>120</td>\n",
       "      <td>236</td>\n",
       "      <td>0.000000</td>\n",
       "      <td>1</td>\n",
       "      <td>178</td>\n",
       "      <td>0.000000</td>\n",
       "      <td>0.587787</td>\n",
       "      <td>2</td>\n",
       "      <td>0.000000</td>\n",
       "      <td>2</td>\n",
       "    </tr>\n",
       "    <tr>\n",
       "      <th>4</th>\n",
       "      <td>57</td>\n",
       "      <td>0</td>\n",
       "      <td>0</td>\n",
       "      <td>120</td>\n",
       "      <td>354</td>\n",
       "      <td>0.000000</td>\n",
       "      <td>1</td>\n",
       "      <td>163</td>\n",
       "      <td>0.693147</td>\n",
       "      <td>0.470004</td>\n",
       "      <td>2</td>\n",
       "      <td>0.000000</td>\n",
       "      <td>2</td>\n",
       "    </tr>\n",
       "    <tr>\n",
       "      <th>...</th>\n",
       "      <td>...</td>\n",
       "      <td>...</td>\n",
       "      <td>...</td>\n",
       "      <td>...</td>\n",
       "      <td>...</td>\n",
       "      <td>...</td>\n",
       "      <td>...</td>\n",
       "      <td>...</td>\n",
       "      <td>...</td>\n",
       "      <td>...</td>\n",
       "      <td>...</td>\n",
       "      <td>...</td>\n",
       "      <td>...</td>\n",
       "    </tr>\n",
       "    <tr>\n",
       "      <th>298</th>\n",
       "      <td>57</td>\n",
       "      <td>0</td>\n",
       "      <td>0</td>\n",
       "      <td>140</td>\n",
       "      <td>241</td>\n",
       "      <td>0.000000</td>\n",
       "      <td>1</td>\n",
       "      <td>123</td>\n",
       "      <td>0.693147</td>\n",
       "      <td>0.182322</td>\n",
       "      <td>1</td>\n",
       "      <td>0.000000</td>\n",
       "      <td>3</td>\n",
       "    </tr>\n",
       "    <tr>\n",
       "      <th>299</th>\n",
       "      <td>45</td>\n",
       "      <td>1</td>\n",
       "      <td>3</td>\n",
       "      <td>110</td>\n",
       "      <td>264</td>\n",
       "      <td>0.000000</td>\n",
       "      <td>1</td>\n",
       "      <td>132</td>\n",
       "      <td>0.000000</td>\n",
       "      <td>0.788457</td>\n",
       "      <td>1</td>\n",
       "      <td>0.000000</td>\n",
       "      <td>3</td>\n",
       "    </tr>\n",
       "    <tr>\n",
       "      <th>300</th>\n",
       "      <td>68</td>\n",
       "      <td>1</td>\n",
       "      <td>0</td>\n",
       "      <td>144</td>\n",
       "      <td>193</td>\n",
       "      <td>0.693147</td>\n",
       "      <td>1</td>\n",
       "      <td>141</td>\n",
       "      <td>0.000000</td>\n",
       "      <td>1.481605</td>\n",
       "      <td>1</td>\n",
       "      <td>1.414214</td>\n",
       "      <td>3</td>\n",
       "    </tr>\n",
       "    <tr>\n",
       "      <th>301</th>\n",
       "      <td>57</td>\n",
       "      <td>1</td>\n",
       "      <td>0</td>\n",
       "      <td>130</td>\n",
       "      <td>131</td>\n",
       "      <td>0.000000</td>\n",
       "      <td>1</td>\n",
       "      <td>115</td>\n",
       "      <td>0.693147</td>\n",
       "      <td>0.788457</td>\n",
       "      <td>1</td>\n",
       "      <td>1.000000</td>\n",
       "      <td>3</td>\n",
       "    </tr>\n",
       "    <tr>\n",
       "      <th>302</th>\n",
       "      <td>57</td>\n",
       "      <td>0</td>\n",
       "      <td>1</td>\n",
       "      <td>130</td>\n",
       "      <td>236</td>\n",
       "      <td>0.000000</td>\n",
       "      <td>0</td>\n",
       "      <td>174</td>\n",
       "      <td>0.000000</td>\n",
       "      <td>0.000000</td>\n",
       "      <td>1</td>\n",
       "      <td>1.000000</td>\n",
       "      <td>2</td>\n",
       "    </tr>\n",
       "  </tbody>\n",
       "</table>\n",
       "<p>287 rows × 13 columns</p>\n",
       "</div>"
      ],
      "text/plain": [
       "     age  sex  cp  trestbps  chol       fbs  restecg  thalach     exang  \\\n",
       "0     63    1   3       145   233  0.693147        0      150  0.000000   \n",
       "1     37    1   2       130   250  0.000000        1      187  0.000000   \n",
       "2     41    0   1       130   204  0.000000        0      172  0.000000   \n",
       "3     56    1   1       120   236  0.000000        1      178  0.000000   \n",
       "4     57    0   0       120   354  0.000000        1      163  0.693147   \n",
       "..   ...  ...  ..       ...   ...       ...      ...      ...       ...   \n",
       "298   57    0   0       140   241  0.000000        1      123  0.693147   \n",
       "299   45    1   3       110   264  0.000000        1      132  0.000000   \n",
       "300   68    1   0       144   193  0.693147        1      141  0.000000   \n",
       "301   57    1   0       130   131  0.000000        1      115  0.693147   \n",
       "302   57    0   1       130   236  0.000000        0      174  0.000000   \n",
       "\n",
       "      oldpeak  slope        ca  thal  \n",
       "0    1.193922      0  0.000000     1  \n",
       "1    1.504077      0  0.000000     2  \n",
       "2    0.875469      2  0.000000     2  \n",
       "3    0.587787      2  0.000000     2  \n",
       "4    0.470004      2  0.000000     2  \n",
       "..        ...    ...       ...   ...  \n",
       "298  0.182322      1  0.000000     3  \n",
       "299  0.788457      1  0.000000     3  \n",
       "300  1.481605      1  1.414214     3  \n",
       "301  0.788457      1  1.000000     3  \n",
       "302  0.000000      1  1.000000     2  \n",
       "\n",
       "[287 rows x 13 columns]"
      ]
     },
     "execution_count": 54,
     "metadata": {},
     "output_type": "execute_result"
    }
   ],
   "source": [
    "x=df1.drop(['target'],axis=1)\n",
    "x"
   ]
  },
  {
   "cell_type": "code",
   "execution_count": 55,
   "metadata": {},
   "outputs": [
    {
     "data": {
      "text/plain": [
       "array([[ 0.95463786,  0.67044385,  1.95823114, ..., -2.32766309,\n",
       "        -0.79636954, -2.25051566],\n",
       "       [-1.90965956,  0.67044385,  0.9925742 , ..., -2.32766309,\n",
       "        -0.79636954, -0.53725838],\n",
       "       [-1.46899842, -1.49154923,  0.02691727, ...,  0.97129645,\n",
       "        -0.79636954, -0.53725838],\n",
       "       ...,\n",
       "       [ 1.50546428,  0.67044385, -0.93873967, ..., -0.67818332,\n",
       "         1.43144092,  1.1759989 ],\n",
       "       [ 0.29364614,  0.67044385, -0.93873967, ..., -0.67818332,\n",
       "         0.77893034,  1.1759989 ],\n",
       "       [ 0.29364614, -1.49154923,  0.02691727, ..., -0.67818332,\n",
       "         0.77893034, -0.53725838]])"
      ]
     },
     "execution_count": 55,
     "metadata": {},
     "output_type": "execute_result"
    }
   ],
   "source": [
    "from sklearn.preprocessing import StandardScaler   # scaling data\n",
    "sc=StandardScaler()\n",
    "x=sc.fit_transform(x)\n",
    "x"
   ]
  },
  {
   "cell_type": "markdown",
   "metadata": {},
   "source": [
    "Building models"
   ]
  },
  {
   "cell_type": "code",
   "execution_count": 58,
   "metadata": {},
   "outputs": [],
   "source": [
    "from sklearn.model_selection import train_test_split\n",
    "from sklearn.linear_model import LogisticRegression\n",
    "from sklearn.naive_bayes import GaussianNB\n",
    "from sklearn.tree import DecisionTreeClassifier\n",
    "from sklearn.neighbors import KNeighborsClassifier\n",
    "from sklearn.ensemble import RandomForestClassifier\n",
    "from sklearn.metrics import accuracy_score,confusion_matrix,classification_report\n",
    "from sklearn.svm import SVC\n",
    "from sklearn.metrics import r2_score\n",
    "import warnings\n",
    "warnings.filterwarnings('ignore')"
   ]
  },
  {
   "cell_type": "code",
   "execution_count": 59,
   "metadata": {},
   "outputs": [
    {
     "name": "stdout",
     "output_type": "stream",
     "text": [
      "r2_score corresponding to random state: 42 is:  0.2779487179487179\n",
      "r2_score corresponding to random state: 43 is:  0.1495016611295681\n",
      "r2_score corresponding to random state: 44 is:  0.23809523809523814\n",
      "r2_score corresponding to random state: 45 is:  0.5555555555555556\n",
      "r2_score corresponding to random state: 46 is:  0.4817813765182186\n",
      "r2_score corresponding to random state: 47 is:  0.29125138427464003\n",
      "r2_score corresponding to random state: 48 is:  0.5586206896551724\n",
      "r2_score corresponding to random state: 49 is:  0.30980392156862746\n",
      "r2_score corresponding to random state: 50 is:  0.5515515515515516\n",
      "r2_score corresponding to random state: 51 is:  0.6216748768472906\n",
      "r2_score corresponding to random state: 52 is:  0.4369501466275659\n",
      "r2_score corresponding to random state: 53 is:  0.4285714285714286\n",
      "r2_score corresponding to random state: 54 is:  0.37254901960784315\n",
      "r2_score corresponding to random state: 55 is:  0.4995112414467253\n",
      "r2_score corresponding to random state: 56 is:  0.24926686217008798\n",
      "r2_score corresponding to random state: 57 is:  0.35935935935935936\n",
      "r2_score corresponding to random state: 58 is:  0.3015873015873016\n",
      "r2_score corresponding to random state: 59 is:  0.37438905180840665\n",
      "r2_score corresponding to random state: 60 is:  0.24705882352941178\n",
      "r2_score corresponding to random state: 61 is:  0.0625\n",
      "r2_score corresponding to random state: 62 is:  0.30980392156862746\n",
      "r2_score corresponding to random state: 63 is:  0.4369501466275659\n",
      "r2_score corresponding to random state: 64 is:  0.35935935935935936\n",
      "r2_score corresponding to random state: 65 is:  0.4666666666666667\n",
      "r2_score corresponding to random state: 66 is:  0.4325123152709359\n",
      "r2_score corresponding to random state: 67 is:  0.16716716716716717\n",
      "r2_score corresponding to random state: 68 is:  0.1241446725317693\n",
      "r2_score corresponding to random state: 69 is:  0.3694581280788177\n",
      "r2_score corresponding to random state: 70 is:  0.37254901960784315\n",
      "r2_score corresponding to random state: 71 is:  0.24926686217008798\n",
      "r2_score corresponding to random state: 72 is:  0.3694581280788177\n",
      "r2_score corresponding to random state: 73 is:  0.43529411764705883\n",
      "r2_score corresponding to random state: 74 is:  0.4980392156862745\n",
      "r2_score corresponding to random state: 75 is:  0.6190476190476191\n",
      "r2_score corresponding to random state: 76 is:  0.35935935935935936\n",
      "r2_score corresponding to random state: 77 is:  0.4285714285714286\n",
      "r2_score corresponding to random state: 78 is:  0.5625\n",
      "r2_score corresponding to random state: 79 is:  0.43529411764705883\n",
      "r2_score corresponding to random state: 80 is:  0.4285714285714286\n",
      "r2_score corresponding to random state: 81 is:  0.624633431085044\n",
      "r2_score corresponding to random state: 82 is:  0.1333333333333333\n",
      "r2_score corresponding to random state: 83 is:  0.37438905180840665\n",
      "r2_score corresponding to random state: 84 is:  0.5405128205128205\n",
      "r2_score corresponding to random state: 85 is:  0.1495016611295681\n",
      "r2_score corresponding to random state: 86 is:  0.3522267206477733\n",
      "r2_score corresponding to random state: 87 is:  0.6\n",
      "r2_score corresponding to random state: 88 is:  0.0\n",
      "r2_score corresponding to random state: 89 is:  0.4920634920634921\n",
      "r2_score corresponding to random state: 90 is:  0.31182795698924726\n",
      "r2_score corresponding to random state: 91 is:  0.24705882352941178\n",
      "r2_score corresponding to random state: 92 is:  0.5586206896551724\n",
      "r2_score corresponding to random state: 93 is:  0.4369501466275659\n",
      "r2_score corresponding to random state: 94 is:  0.2779487179487179\n",
      "r2_score corresponding to random state: 95 is:  0.5555555555555556\n",
      "r2_score corresponding to random state: 96 is:  0.4955665024630542\n",
      "r2_score corresponding to random state: 97 is:  0.4955665024630542\n",
      "r2_score corresponding to random state: 98 is:  0.5607843137254902\n",
      "r2_score corresponding to random state: 99 is:  0.37662337662337664\n",
      "r2_score corresponding to random state: 100 is:  0.1867057673509286\n",
      "\n",
      "max r2 score corresponding to  81 is 0.624633431085044\n",
      "0.796875\n",
      "[[22  9]\n",
      " [ 4 29]]\n",
      "              precision    recall  f1-score   support\n",
      "\n",
      "           0       0.85      0.71      0.77        31\n",
      "           1       0.76      0.88      0.82        33\n",
      "\n",
      "    accuracy                           0.80        64\n",
      "   macro avg       0.80      0.79      0.79        64\n",
      "weighted avg       0.80      0.80      0.80        64\n",
      "\n"
     ]
    }
   ],
   "source": [
    "max_r_score=0\n",
    "for r_state in range(42,101):\n",
    "    x_train,x_test,y_train,y_test=train_test_split(x,y,random_state=r_state,test_size=0.22)\n",
    "    lg=LogisticRegression()\n",
    "    lg.fit(x_train,y_train)\n",
    "    y_predlg=lg.predict(x_test)\n",
    "    r2_scr=r2_score(y_test,y_predlg)\n",
    "    print(\"r2_score corresponding to random state:\",r_state, \"is: \",r2_scr)\n",
    "    if r2_scr>max_r_score:\n",
    "        max_r_score=r2_scr\n",
    "        final_r_state=r_state\n",
    "        \n",
    "print()\n",
    "\n",
    "print(\"max r2 score corresponding to \",final_r_state, \"is\" , max_r_score)   \n",
    "print(accuracy_score(y_test,y_predlg))\n",
    "print(confusion_matrix(y_test,y_predlg))\n",
    "print(classification_report(y_test,y_predlg))"
   ]
  },
  {
   "cell_type": "code",
   "execution_count": 60,
   "metadata": {},
   "outputs": [
    {
     "name": "stdout",
     "output_type": "stream",
     "text": [
      "r2_score corresponding to random state: 42 is:  0.24334975369458123\n",
      "r2_score corresponding to random state: 43 is:  0.3694581280788177\n",
      "r2_score corresponding to random state: 44 is:  0.3694581280788177\n",
      "r2_score corresponding to random state: 45 is:  0.24334975369458123\n",
      "r2_score corresponding to random state: 46 is:  0.24334975369458123\n",
      "r2_score corresponding to random state: 47 is:  0.18029556650246303\n",
      "r2_score corresponding to random state: 48 is:  0.30640394088669953\n",
      "r2_score corresponding to random state: 49 is:  0.30640394088669953\n",
      "r2_score corresponding to random state: 50 is:  0.3694581280788177\n",
      "r2_score corresponding to random state: 51 is:  0.3694581280788177\n",
      "r2_score corresponding to random state: 52 is:  0.11724137931034484\n",
      "r2_score corresponding to random state: 53 is:  0.18029556650246303\n",
      "r2_score corresponding to random state: 54 is:  0.4325123152709359\n",
      "r2_score corresponding to random state: 55 is:  -0.19802955665024635\n",
      "r2_score corresponding to random state: 56 is:  0.4325123152709359\n",
      "r2_score corresponding to random state: 57 is:  0.18029556650246303\n",
      "r2_score corresponding to random state: 58 is:  0.24334975369458123\n",
      "r2_score corresponding to random state: 59 is:  0.5586206896551724\n",
      "r2_score corresponding to random state: 60 is:  0.24334975369458123\n",
      "r2_score corresponding to random state: 61 is:  0.6216748768472906\n",
      "r2_score corresponding to random state: 62 is:  0.4325123152709359\n",
      "r2_score corresponding to random state: 63 is:  0.11724137931034484\n",
      "r2_score corresponding to random state: 64 is:  0.3694581280788177\n",
      "r2_score corresponding to random state: 65 is:  0.4955665024630542\n",
      "r2_score corresponding to random state: 66 is:  0.11724137931034484\n",
      "r2_score corresponding to random state: 67 is:  0.3694581280788177\n",
      "r2_score corresponding to random state: 68 is:  0.4325123152709359\n",
      "r2_score corresponding to random state: 69 is:  0.30640394088669953\n",
      "r2_score corresponding to random state: 70 is:  0.4325123152709359\n",
      "r2_score corresponding to random state: 71 is:  0.6216748768472906\n",
      "r2_score corresponding to random state: 72 is:  0.30640394088669953\n",
      "r2_score corresponding to random state: 73 is:  0.30640394088669953\n",
      "r2_score corresponding to random state: 74 is:  0.5586206896551724\n",
      "r2_score corresponding to random state: 75 is:  0.054187192118226646\n",
      "r2_score corresponding to random state: 76 is:  0.30640394088669953\n",
      "r2_score corresponding to random state: 77 is:  0.30640394088669953\n",
      "r2_score corresponding to random state: 78 is:  0.11724137931034484\n",
      "r2_score corresponding to random state: 79 is:  0.24334975369458123\n",
      "r2_score corresponding to random state: 80 is:  0.3694581280788177\n",
      "r2_score corresponding to random state: 81 is:  0.5586206896551724\n",
      "r2_score corresponding to random state: 82 is:  0.3694581280788177\n",
      "r2_score corresponding to random state: 83 is:  0.6216748768472906\n",
      "r2_score corresponding to random state: 84 is:  0.18029556650246303\n",
      "r2_score corresponding to random state: 85 is:  0.4325123152709359\n",
      "r2_score corresponding to random state: 86 is:  0.30640394088669953\n",
      "r2_score corresponding to random state: 87 is:  -0.008866995073891548\n",
      "r2_score corresponding to random state: 88 is:  0.4325123152709359\n",
      "r2_score corresponding to random state: 89 is:  -0.008866995073891548\n",
      "r2_score corresponding to random state: 90 is:  0.4325123152709359\n",
      "r2_score corresponding to random state: 91 is:  0.11724137931034484\n",
      "r2_score corresponding to random state: 92 is:  0.30640394088669953\n",
      "r2_score corresponding to random state: 93 is:  0.5586206896551724\n",
      "r2_score corresponding to random state: 94 is:  0.4955665024630542\n",
      "r2_score corresponding to random state: 95 is:  0.30640394088669953\n",
      "r2_score corresponding to random state: 96 is:  0.24334975369458123\n",
      "r2_score corresponding to random state: 97 is:  0.18029556650246303\n",
      "r2_score corresponding to random state: 98 is:  0.24334975369458123\n",
      "r2_score corresponding to random state: 99 is:  0.11724137931034484\n",
      "r2_score corresponding to random state: 100 is:  0.4955665024630542\n",
      "\n",
      "max r2 score corresponding to  100 is 0.6216748768472906\n",
      "0.875\n",
      "[[26  3]\n",
      " [ 5 30]]\n",
      "              precision    recall  f1-score   support\n",
      "\n",
      "           0       0.84      0.90      0.87        29\n",
      "           1       0.91      0.86      0.88        35\n",
      "\n",
      "    accuracy                           0.88        64\n",
      "   macro avg       0.87      0.88      0.87        64\n",
      "weighted avg       0.88      0.88      0.88        64\n",
      "\n"
     ]
    }
   ],
   "source": [
    "max_r_score=0\n",
    "for r_state in range(42,101):\n",
    "    x_train,x_test,y_train,y_test=train_test_split(x,y,random_state=r_state,test_size=0.22,stratify=y)\n",
    "    gnb=GaussianNB()\n",
    "    gnb.fit(x_train,y_train)\n",
    "    y_predgnb=gnb.predict(x_test)\n",
    "    r2_scr=r2_score(y_test,y_predgnb)\n",
    "    print(\"r2_score corresponding to random state:\",r_state, \"is: \",r2_scr)\n",
    "    if r2_scr>max_r_score:\n",
    "        max_r_score=r2_scr\n",
    "    final_r_state=r_state\n",
    "        \n",
    "print()\n",
    "\n",
    "print(\"max r2 score corresponding to \",final_r_state, \"is\" , max_r_score)   \n",
    "print(accuracy_score(y_test,y_predgnb))\n",
    "print(confusion_matrix(y_test,y_predgnb))\n",
    "print(classification_report(y_test,y_predgnb))"
   ]
  },
  {
   "cell_type": "code",
   "execution_count": 61,
   "metadata": {},
   "outputs": [
    {
     "name": "stdout",
     "output_type": "stream",
     "text": [
      "r2_score corresponding to random state: 42 is:  0.11724137931034484\n",
      "r2_score corresponding to random state: 43 is:  0.18029556650246303\n",
      "r2_score corresponding to random state: 44 is:  -0.07192118226600974\n",
      "r2_score corresponding to random state: 45 is:  -0.26108374384236455\n",
      "r2_score corresponding to random state: 46 is:  0.054187192118226646\n",
      "r2_score corresponding to random state: 47 is:  -0.32413793103448274\n",
      "r2_score corresponding to random state: 48 is:  -0.07192118226600974\n",
      "r2_score corresponding to random state: 49 is:  -0.07192118226600974\n",
      "r2_score corresponding to random state: 50 is:  -0.32413793103448274\n",
      "r2_score corresponding to random state: 51 is:  -0.008866995073891548\n",
      "r2_score corresponding to random state: 52 is:  -0.008866995073891548\n",
      "r2_score corresponding to random state: 53 is:  0.24334975369458123\n",
      "r2_score corresponding to random state: 54 is:  -0.008866995073891548\n",
      "r2_score corresponding to random state: 55 is:  -0.26108374384236455\n",
      "r2_score corresponding to random state: 56 is:  0.054187192118226646\n",
      "r2_score corresponding to random state: 57 is:  -0.008866995073891548\n",
      "r2_score corresponding to random state: 58 is:  0.054187192118226646\n",
      "r2_score corresponding to random state: 59 is:  0.054187192118226646\n",
      "r2_score corresponding to random state: 60 is:  0.18029556650246303\n",
      "r2_score corresponding to random state: 61 is:  -0.008866995073891548\n",
      "r2_score corresponding to random state: 62 is:  0.24334975369458123\n",
      "r2_score corresponding to random state: 63 is:  -0.19802955665024635\n",
      "r2_score corresponding to random state: 64 is:  0.18029556650246303\n",
      "r2_score corresponding to random state: 65 is:  -0.13497536945812816\n",
      "r2_score corresponding to random state: 66 is:  -0.008866995073891548\n",
      "r2_score corresponding to random state: 67 is:  0.11724137931034484\n",
      "r2_score corresponding to random state: 68 is:  0.11724137931034484\n",
      "r2_score corresponding to random state: 69 is:  -0.13497536945812816\n",
      "r2_score corresponding to random state: 70 is:  -0.13497536945812816\n",
      "r2_score corresponding to random state: 71 is:  0.24334975369458123\n",
      "r2_score corresponding to random state: 72 is:  0.054187192118226646\n",
      "r2_score corresponding to random state: 73 is:  0.18029556650246303\n",
      "r2_score corresponding to random state: 74 is:  0.24334975369458123\n",
      "r2_score corresponding to random state: 75 is:  -0.008866995073891548\n",
      "r2_score corresponding to random state: 76 is:  0.11724137931034484\n",
      "r2_score corresponding to random state: 77 is:  -0.07192118226600974\n",
      "r2_score corresponding to random state: 78 is:  -0.38719211822660093\n",
      "r2_score corresponding to random state: 79 is:  -0.07192118226600974\n",
      "r2_score corresponding to random state: 80 is:  -0.07192118226600974\n",
      "r2_score corresponding to random state: 81 is:  0.11724137931034484\n",
      "r2_score corresponding to random state: 82 is:  -0.008866995073891548\n",
      "r2_score corresponding to random state: 83 is:  0.30640394088669953\n",
      "r2_score corresponding to random state: 84 is:  0.18029556650246303\n",
      "r2_score corresponding to random state: 85 is:  0.4325123152709359\n",
      "r2_score corresponding to random state: 86 is:  -0.07192118226600974\n",
      "r2_score corresponding to random state: 87 is:  -0.26108374384236455\n",
      "r2_score corresponding to random state: 88 is:  0.054187192118226646\n",
      "r2_score corresponding to random state: 89 is:  -0.32413793103448274\n",
      "r2_score corresponding to random state: 90 is:  -0.19802955665024635\n",
      "r2_score corresponding to random state: 91 is:  0.11724137931034484\n",
      "r2_score corresponding to random state: 92 is:  0.11724137931034484\n",
      "r2_score corresponding to random state: 93 is:  0.11724137931034484\n",
      "r2_score corresponding to random state: 94 is:  -0.13497536945812816\n",
      "r2_score corresponding to random state: 95 is:  -0.008866995073891548\n",
      "r2_score corresponding to random state: 96 is:  0.054187192118226646\n",
      "r2_score corresponding to random state: 97 is:  0.11724137931034484\n",
      "r2_score corresponding to random state: 98 is:  -0.45024630541871913\n",
      "r2_score corresponding to random state: 99 is:  -0.13497536945812816\n",
      "r2_score corresponding to random state: 100 is:  -0.008866995073891548\n",
      "\n",
      "max r2 score corresponding to  100 is 0.4325123152709359\n",
      "0.75\n",
      "[[25  4]\n",
      " [12 23]]\n",
      "              precision    recall  f1-score   support\n",
      "\n",
      "           0       0.68      0.86      0.76        29\n",
      "           1       0.85      0.66      0.74        35\n",
      "\n",
      "    accuracy                           0.75        64\n",
      "   macro avg       0.76      0.76      0.75        64\n",
      "weighted avg       0.77      0.75      0.75        64\n",
      "\n"
     ]
    }
   ],
   "source": [
    "max_r_score=0\n",
    "for r_state in range(42,101):\n",
    "    x_train,x_test,y_train,y_test=train_test_split(x,y,random_state=r_state,test_size=0.22,stratify=y)\n",
    "    dtc=DecisionTreeClassifier()\n",
    "    dtc.fit(x_train,y_train)\n",
    "    y_preddtc=dtc.predict(x_test)\n",
    "    r2_scr=r2_score(y_test,y_preddtc)\n",
    "    print(\"r2_score corresponding to random state:\",r_state, \"is: \",r2_scr)\n",
    "    if r2_scr>max_r_score:\n",
    "        max_r_score=r2_scr\n",
    "    final_r_state=r_state\n",
    "        \n",
    "print()\n",
    "\n",
    "print(\"max r2 score corresponding to \",final_r_state, \"is\" , max_r_score)   \n",
    "print(accuracy_score(y_test,y_preddtc))\n",
    "print(confusion_matrix(y_test,y_preddtc))\n",
    "print(classification_report(y_test,y_preddtc))"
   ]
  },
  {
   "cell_type": "code",
   "execution_count": 62,
   "metadata": {},
   "outputs": [
    {
     "name": "stdout",
     "output_type": "stream",
     "text": [
      "r2_score corresponding to random state: 42 is:  0.18029556650246303\n",
      "r2_score corresponding to random state: 43 is:  0.30640394088669953\n",
      "r2_score corresponding to random state: 44 is:  0.3694581280788177\n",
      "r2_score corresponding to random state: 45 is:  0.24334975369458123\n",
      "r2_score corresponding to random state: 46 is:  0.3694581280788177\n",
      "r2_score corresponding to random state: 47 is:  -0.008866995073891548\n",
      "r2_score corresponding to random state: 48 is:  0.24334975369458123\n",
      "r2_score corresponding to random state: 49 is:  0.3694581280788177\n",
      "r2_score corresponding to random state: 50 is:  0.4955665024630542\n",
      "r2_score corresponding to random state: 51 is:  0.4325123152709359\n",
      "r2_score corresponding to random state: 52 is:  0.30640394088669953\n",
      "r2_score corresponding to random state: 53 is:  0.24334975369458123\n",
      "r2_score corresponding to random state: 54 is:  0.4325123152709359\n",
      "r2_score corresponding to random state: 55 is:  0.054187192118226646\n",
      "r2_score corresponding to random state: 56 is:  0.24334975369458123\n",
      "r2_score corresponding to random state: 57 is:  0.24334975369458123\n",
      "r2_score corresponding to random state: 58 is:  0.3694581280788177\n",
      "r2_score corresponding to random state: 59 is:  0.4325123152709359\n",
      "r2_score corresponding to random state: 60 is:  0.30640394088669953\n",
      "r2_score corresponding to random state: 61 is:  0.4325123152709359\n",
      "r2_score corresponding to random state: 62 is:  0.4955665024630542\n",
      "r2_score corresponding to random state: 63 is:  0.24334975369458123\n",
      "r2_score corresponding to random state: 64 is:  0.4325123152709359\n",
      "r2_score corresponding to random state: 65 is:  0.5586206896551724\n",
      "r2_score corresponding to random state: 66 is:  0.18029556650246303\n",
      "r2_score corresponding to random state: 67 is:  0.24334975369458123\n",
      "r2_score corresponding to random state: 68 is:  0.24334975369458123\n",
      "r2_score corresponding to random state: 69 is:  0.4325123152709359\n",
      "r2_score corresponding to random state: 70 is:  0.4955665024630542\n",
      "r2_score corresponding to random state: 71 is:  0.5586206896551724\n",
      "r2_score corresponding to random state: 72 is:  0.30640394088669953\n",
      "r2_score corresponding to random state: 73 is:  0.30640394088669953\n",
      "r2_score corresponding to random state: 74 is:  0.4955665024630542\n",
      "r2_score corresponding to random state: 75 is:  -0.008866995073891548\n",
      "r2_score corresponding to random state: 76 is:  0.24334975369458123\n",
      "r2_score corresponding to random state: 77 is:  0.3694581280788177\n",
      "r2_score corresponding to random state: 78 is:  0.18029556650246303\n",
      "r2_score corresponding to random state: 79 is:  0.11724137931034484\n",
      "r2_score corresponding to random state: 80 is:  0.3694581280788177\n",
      "r2_score corresponding to random state: 81 is:  0.3694581280788177\n",
      "r2_score corresponding to random state: 82 is:  0.4325123152709359\n",
      "r2_score corresponding to random state: 83 is:  0.5586206896551724\n",
      "r2_score corresponding to random state: 84 is:  0.3694581280788177\n",
      "r2_score corresponding to random state: 85 is:  0.4955665024630542\n",
      "r2_score corresponding to random state: 86 is:  0.4325123152709359\n",
      "r2_score corresponding to random state: 87 is:  0.11724137931034484\n",
      "r2_score corresponding to random state: 88 is:  0.30640394088669953\n",
      "r2_score corresponding to random state: 89 is:  0.18029556650246303\n",
      "r2_score corresponding to random state: 90 is:  0.24334975369458123\n",
      "r2_score corresponding to random state: 91 is:  0.30640394088669953\n",
      "r2_score corresponding to random state: 92 is:  0.30640394088669953\n",
      "r2_score corresponding to random state: 93 is:  0.4955665024630542\n",
      "r2_score corresponding to random state: 94 is:  0.4325123152709359\n",
      "r2_score corresponding to random state: 95 is:  0.18029556650246303\n",
      "r2_score corresponding to random state: 96 is:  0.24334975369458123\n",
      "r2_score corresponding to random state: 97 is:  0.3694581280788177\n",
      "r2_score corresponding to random state: 98 is:  0.24334975369458123\n",
      "r2_score corresponding to random state: 99 is:  0.24334975369458123\n",
      "r2_score corresponding to random state: 100 is:  0.4955665024630542\n",
      "\n",
      "max r2 score corresponding to  65 is 0.5586206896551724\n",
      "0.875\n",
      "[[25  4]\n",
      " [ 4 31]]\n",
      "              precision    recall  f1-score   support\n",
      "\n",
      "           0       0.86      0.86      0.86        29\n",
      "           1       0.89      0.89      0.89        35\n",
      "\n",
      "    accuracy                           0.88        64\n",
      "   macro avg       0.87      0.87      0.87        64\n",
      "weighted avg       0.88      0.88      0.88        64\n",
      "\n"
     ]
    }
   ],
   "source": [
    "max_r_score=0\n",
    "for r_state in range(42,101):\n",
    "    x_train,x_test,y_train,y_test=train_test_split(x,y,random_state=r_state,test_size=0.22,stratify=y)\n",
    "    svc=SVC()\n",
    "    svc.fit(x_train,y_train)\n",
    "    y_predsvc=svc.predict(x_test)\n",
    "    r2_scr=r2_score(y_test,y_predsvc)\n",
    "    print(\"r2_score corresponding to random state:\",r_state, \"is: \",r2_scr)\n",
    "    if r2_scr>max_r_score:\n",
    "        max_r_score=r2_scr\n",
    "        final_r_state=r_state\n",
    "        \n",
    "print()\n",
    "\n",
    "print(\"max r2 score corresponding to \",final_r_state, \"is\" , max_r_score)   \n",
    "print(accuracy_score(y_test,y_predsvc))\n",
    "print(confusion_matrix(y_test,y_predsvc))\n",
    "print(classification_report(y_test,y_predsvc))"
   ]
  },
  {
   "cell_type": "code",
   "execution_count": null,
   "metadata": {},
   "outputs": [],
   "source": []
  },
  {
   "cell_type": "code",
   "execution_count": 63,
   "metadata": {},
   "outputs": [
    {
     "name": "stdout",
     "output_type": "stream",
     "text": [
      "r2_score corresponding to random state: 42 is:  -0.8916256157635467\n",
      "r2_score corresponding to random state: 43 is:  -1.3960591133004927\n",
      "r2_score corresponding to random state: 44 is:  -1.2699507389162563\n",
      "r2_score corresponding to random state: 45 is:  -1.6482758620689655\n",
      "r2_score corresponding to random state: 46 is:  -1.1438423645320195\n",
      "r2_score corresponding to random state: 47 is:  -0.8916256157635467\n",
      "r2_score corresponding to random state: 48 is:  -1.2699507389162563\n",
      "r2_score corresponding to random state: 49 is:  -1.3960591133004927\n",
      "r2_score corresponding to random state: 50 is:  -1.2699507389162563\n",
      "r2_score corresponding to random state: 51 is:  -1.1438423645320195\n",
      "r2_score corresponding to random state: 52 is:  -1.3960591133004927\n",
      "r2_score corresponding to random state: 53 is:  -1.017733990147783\n",
      "r2_score corresponding to random state: 54 is:  -0.8916256157635467\n",
      "r2_score corresponding to random state: 55 is:  -0.7655172413793103\n",
      "r2_score corresponding to random state: 56 is:  -0.5133004926108375\n",
      "r2_score corresponding to random state: 57 is:  -0.6394088669950739\n",
      "r2_score corresponding to random state: 58 is:  -1.017733990147783\n",
      "r2_score corresponding to random state: 59 is:  -0.8916256157635467\n",
      "r2_score corresponding to random state: 60 is:  -0.7655172413793103\n",
      "r2_score corresponding to random state: 61 is:  -0.8916256157635467\n",
      "r2_score corresponding to random state: 62 is:  -1.017733990147783\n",
      "r2_score corresponding to random state: 63 is:  -1.2699507389162563\n",
      "r2_score corresponding to random state: 64 is:  -0.5133004926108375\n",
      "r2_score corresponding to random state: 65 is:  -1.1438423645320195\n",
      "r2_score corresponding to random state: 66 is:  -1.1438423645320195\n",
      "r2_score corresponding to random state: 67 is:  -1.2699507389162563\n",
      "r2_score corresponding to random state: 68 is:  -0.7655172413793103\n",
      "r2_score corresponding to random state: 69 is:  -0.8916256157635467\n",
      "r2_score corresponding to random state: 70 is:  -0.8916256157635467\n",
      "r2_score corresponding to random state: 71 is:  -1.2699507389162563\n",
      "r2_score corresponding to random state: 72 is:  -0.8916256157635467\n",
      "r2_score corresponding to random state: 73 is:  -1.017733990147783\n",
      "r2_score corresponding to random state: 74 is:  -0.7655172413793103\n",
      "r2_score corresponding to random state: 75 is:  -1.2699507389162563\n",
      "r2_score corresponding to random state: 76 is:  -0.8916256157635467\n",
      "r2_score corresponding to random state: 77 is:  -0.8916256157635467\n",
      "r2_score corresponding to random state: 78 is:  -1.2699507389162563\n",
      "r2_score corresponding to random state: 79 is:  -1.1438423645320195\n",
      "r2_score corresponding to random state: 80 is:  -0.7655172413793103\n",
      "r2_score corresponding to random state: 81 is:  -1.1438423645320195\n",
      "r2_score corresponding to random state: 82 is:  -0.6394088669950739\n",
      "r2_score corresponding to random state: 83 is:  -0.8916256157635467\n",
      "r2_score corresponding to random state: 84 is:  -1.1438423645320195\n",
      "r2_score corresponding to random state: 85 is:  -1.2699507389162563\n",
      "r2_score corresponding to random state: 86 is:  -1.3960591133004927\n",
      "r2_score corresponding to random state: 87 is:  -0.7655172413793103\n",
      "r2_score corresponding to random state: 88 is:  -1.3960591133004927\n",
      "r2_score corresponding to random state: 89 is:  -1.2699507389162563\n",
      "r2_score corresponding to random state: 90 is:  -0.8916256157635467\n",
      "r2_score corresponding to random state: 91 is:  -0.8916256157635467\n",
      "r2_score corresponding to random state: 92 is:  -1.017733990147783\n",
      "r2_score corresponding to random state: 93 is:  -0.7655172413793103\n",
      "r2_score corresponding to random state: 94 is:  -0.7655172413793103\n",
      "r2_score corresponding to random state: 95 is:  -0.5133004926108375\n",
      "r2_score corresponding to random state: 96 is:  -0.8916256157635467\n",
      "r2_score corresponding to random state: 97 is:  -0.6394088669950739\n",
      "r2_score corresponding to random state: 98 is:  -0.6394088669950739\n",
      "r2_score corresponding to random state: 99 is:  -1.2699507389162563\n",
      "r2_score corresponding to random state: 100 is:  0.4955665024630542\n",
      "\n",
      "max r2 score corresponding to  100 is 0.4955665024630542\n",
      "0.90625\n",
      "[[26  3]\n",
      " [ 3 32]]\n",
      "              precision    recall  f1-score   support\n",
      "\n",
      "           0       0.90      0.90      0.90        29\n",
      "           1       0.91      0.91      0.91        35\n",
      "\n",
      "    accuracy                           0.91        64\n",
      "   macro avg       0.91      0.91      0.91        64\n",
      "weighted avg       0.91      0.91      0.91        64\n",
      "\n"
     ]
    }
   ],
   "source": [
    "max_r_score=0\n",
    "for r_state in range(42,101):\n",
    "    x_train,x_test,y_train,y_test=train_test_split(x,y,random_state=r_state,test_size=0.22,stratify=y)\n",
    "    knn=KNeighborsClassifier()\n",
    "    knn.fit(x_train,y_train)\n",
    "    y_predknn=knn.predict(x_test)\n",
    "    r2_scr=r2_score(y_test,y_predsvc)\n",
    "    print(\"r2_score corresponding to random state:\",r_state, \"is: \",r2_scr)\n",
    "    if r2_scr>max_r_score:\n",
    "        max_r_score=r2_scr\n",
    "        final_r_state=r_state\n",
    "        \n",
    "print()\n",
    "\n",
    "print(\"max r2 score corresponding to \",final_r_state, \"is\" , max_r_score)   \n",
    "print(accuracy_score(y_test,y_predknn))\n",
    "print(confusion_matrix(y_test,y_predknn))\n",
    "print(classification_report(y_test,y_predknn))"
   ]
  },
  {
   "cell_type": "code",
   "execution_count": 64,
   "metadata": {},
   "outputs": [
    {
     "name": "stdout",
     "output_type": "stream",
     "text": [
      "r2_score corresponding to random state: 42 is:  -1.2317948717948717\n",
      "r2_score corresponding to random state: 43 is:  -0.7009966777408638\n",
      "r2_score corresponding to random state: 44 is:  -1.0952380952380953\n",
      "r2_score corresponding to random state: 45 is:  -0.5873015873015872\n",
      "r2_score corresponding to random state: 46 is:  -0.8785425101214575\n",
      "r2_score corresponding to random state: 47 is:  -0.9844961240310077\n",
      "r2_score corresponding to random state: 48 is:  -0.7655172413793103\n",
      "r2_score corresponding to random state: 49 is:  -0.6941176470588235\n",
      "r2_score corresponding to random state: 50 is:  -0.9219219219219219\n",
      "r2_score corresponding to random state: 51 is:  -1.3960591133004927\n",
      "r2_score corresponding to random state: 52 is:  -1.0019550342130987\n",
      "r2_score corresponding to random state: 53 is:  -0.9682539682539681\n",
      "r2_score corresponding to random state: 54 is:  -1.1960784313725492\n",
      "r2_score corresponding to random state: 55 is:  -1.3773216031280548\n",
      "r2_score corresponding to random state: 56 is:  -0.7517106549364614\n",
      "r2_score corresponding to random state: 57 is:  -0.6656656656656657\n",
      "r2_score corresponding to random state: 58 is:  -1.2222222222222223\n",
      "r2_score corresponding to random state: 59 is:  -1.2521994134897363\n",
      "r2_score corresponding to random state: 60 is:  -1.0705882352941178\n",
      "r2_score corresponding to random state: 61 is:  -0.5625\n",
      "r2_score corresponding to random state: 62 is:  -1.0705882352941178\n",
      "r2_score corresponding to random state: 63 is:  -0.8768328445747802\n",
      "r2_score corresponding to random state: 64 is:  -0.9219219219219219\n",
      "r2_score corresponding to random state: 65 is:  -1.4666666666666668\n",
      "r2_score corresponding to random state: 66 is:  -1.2699507389162563\n",
      "r2_score corresponding to random state: 67 is:  -1.05005005005005\n",
      "r2_score corresponding to random state: 68 is:  -1.2521994134897363\n",
      "r2_score corresponding to random state: 69 is:  -1.1438423645320195\n",
      "r2_score corresponding to random state: 70 is:  -1.1960784313725492\n",
      "r2_score corresponding to random state: 71 is:  -0.501466275659824\n",
      "r2_score corresponding to random state: 72 is:  -1.3960591133004927\n",
      "r2_score corresponding to random state: 73 is:  -0.9450980392156862\n",
      "r2_score corresponding to random state: 74 is:  -1.3215686274509806\n",
      "r2_score corresponding to random state: 75 is:  -0.9682539682539681\n",
      "r2_score corresponding to random state: 76 is:  -1.05005005005005\n",
      "r2_score corresponding to random state: 77 is:  -0.9682539682539681\n",
      "r2_score corresponding to random state: 78 is:  -1.1875\n",
      "r2_score corresponding to random state: 79 is:  -0.9450980392156862\n",
      "r2_score corresponding to random state: 80 is:  -0.5873015873015872\n",
      "r2_score corresponding to random state: 81 is:  -1.1270772238514173\n",
      "r2_score corresponding to random state: 82 is:  -1.0666666666666669\n",
      "r2_score corresponding to random state: 83 is:  -1.1270772238514173\n",
      "r2_score corresponding to random state: 84 is:  -1.3630769230769233\n",
      "r2_score corresponding to random state: 85 is:  -1.2679955703211516\n",
      "r2_score corresponding to random state: 86 is:  -1.1376518218623484\n",
      "r2_score corresponding to random state: 87 is:  -1.0666666666666669\n",
      "r2_score corresponding to random state: 88 is:  -1.0666666666666669\n",
      "r2_score corresponding to random state: 89 is:  -0.9682539682539681\n",
      "r2_score corresponding to random state: 90 is:  -1.0019550342130987\n",
      "r2_score corresponding to random state: 91 is:  -0.9450980392156862\n",
      "r2_score corresponding to random state: 92 is:  -0.8916256157635467\n",
      "r2_score corresponding to random state: 93 is:  -1.1270772238514173\n",
      "r2_score corresponding to random state: 94 is:  -0.9692307692307693\n",
      "r2_score corresponding to random state: 95 is:  -1.2222222222222223\n",
      "r2_score corresponding to random state: 96 is:  -1.1438423645320195\n",
      "r2_score corresponding to random state: 97 is:  -1.1438423645320195\n",
      "r2_score corresponding to random state: 98 is:  -0.8196078431372549\n",
      "r2_score corresponding to random state: 99 is:  -1.1471861471861473\n",
      "r2_score corresponding to random state: 100 is:  -0.8768328445747802\n",
      "\n",
      "max r2 score corresponding to  100 is 0\n",
      "0.515625\n",
      "[[ 0 31]\n",
      " [ 0 33]]\n",
      "              precision    recall  f1-score   support\n",
      "\n",
      "           0       0.00      0.00      0.00        31\n",
      "           1       0.52      1.00      0.68        33\n",
      "\n",
      "    accuracy                           0.52        64\n",
      "   macro avg       0.26      0.50      0.34        64\n",
      "weighted avg       0.27      0.52      0.35        64\n",
      "\n"
     ]
    }
   ],
   "source": [
    "max_r_score=0\n",
    "for r_state in range(42,101):\n",
    "    x_train,x_test,y_train,y_test=train_test_split(x,y,random_state=r_state,test_size=0.22)\n",
    "    rf=RandomForestClassifier(n_estimators=400, max_depth=10, min_samples_leaf = 100,n_jobs=4)\n",
    "    rf.fit(x_train,y_train)\n",
    "    y_predrf=rf.predict(x_test)\n",
    "    r2_scr=r2_score(y_test,y_predsvc)\n",
    "    print(\"r2_score corresponding to random state:\",r_state, \"is: \",r2_scr)\n",
    "    if r2_scr>max_r_score:\n",
    "        max_r_score=r2_scr\n",
    "        final_r_state=r_state\n",
    "        \n",
    "print()\n",
    "\n",
    "print(\"max r2 score corresponding to \",final_r_state, \"is\" , max_r_score)   \n",
    "print(accuracy_score(y_test,y_predrf))\n",
    "print(confusion_matrix(y_test,y_predrf))\n",
    "print(classification_report(y_test,y_predrf))"
   ]
  },
  {
   "cell_type": "code",
   "execution_count": 65,
   "metadata": {},
   "outputs": [],
   "source": [
    "from xgboost import XGBClassifier"
   ]
  },
  {
   "cell_type": "code",
   "execution_count": 67,
   "metadata": {},
   "outputs": [
    {
     "name": "stdout",
     "output_type": "stream",
     "text": [
      "0.75\n",
      "[[21 10]\n",
      " [ 6 27]]\n",
      "              precision    recall  f1-score   support\n",
      "\n",
      "           0       0.78      0.68      0.72        31\n",
      "           1       0.73      0.82      0.77        33\n",
      "\n",
      "    accuracy                           0.75        64\n",
      "   macro avg       0.75      0.75      0.75        64\n",
      "weighted avg       0.75      0.75      0.75        64\n",
      "\n"
     ]
    }
   ],
   "source": [
    "xgb = XGBClassifier(n_jobs=4)\n",
    "xgb.fit(x_train, y_train, verbose=True)\n",
    "xgb_pre=xgb.predict(x_test)\n",
    "r2_scr=r2_score(y_test,xgb_pre)\n",
    "print(accuracy_score(y_test,xgb_pre))\n",
    "print(confusion_matrix(y_test,xgb_pre))\n",
    "print(classification_report(y_test,xgb_pre))"
   ]
  },
  {
   "cell_type": "code",
   "execution_count": 68,
   "metadata": {},
   "outputs": [
    {
     "name": "stdout",
     "output_type": "stream",
     "text": [
      "0.734375\n",
      "[[20 11]\n",
      " [ 6 27]]\n",
      "              precision    recall  f1-score   support\n",
      "\n",
      "           0       0.77      0.65      0.70        31\n",
      "           1       0.71      0.82      0.76        33\n",
      "\n",
      "    accuracy                           0.73        64\n",
      "   macro avg       0.74      0.73      0.73        64\n",
      "weighted avg       0.74      0.73      0.73        64\n",
      "\n"
     ]
    }
   ],
   "source": [
    "from sklearn.ensemble import AdaBoostClassifier\n",
    "ad=AdaBoostClassifier(n_estimators=50)\n",
    "ad.fit(x_train,y_train)\n",
    "ad_pred=ad.predict(x_test)\n",
    "print(accuracy_score(y_test,ad_pred))\n",
    "print(confusion_matrix(y_test,ad_pred))\n",
    "print(classification_report(y_test,ad_pred))"
   ]
  },
  {
   "cell_type": "code",
   "execution_count": 69,
   "metadata": {},
   "outputs": [
    {
     "name": "stdout",
     "output_type": "stream",
     "text": [
      "0.75\n",
      "[[22  9]\n",
      " [ 7 26]]\n",
      "              precision    recall  f1-score   support\n",
      "\n",
      "           0       0.76      0.71      0.73        31\n",
      "           1       0.74      0.79      0.76        33\n",
      "\n",
      "    accuracy                           0.75        64\n",
      "   macro avg       0.75      0.75      0.75        64\n",
      "weighted avg       0.75      0.75      0.75        64\n",
      "\n"
     ]
    }
   ],
   "source": [
    "from sklearn.ensemble import GradientBoostingClassifier\n",
    "gb=GradientBoostingClassifier()\n",
    "gb.fit(x_train,y_train)\n",
    "gb_pred=gb.predict(x_test)\n",
    "print(accuracy_score(y_test,gb_pred))\n",
    "print(confusion_matrix(y_test,gb_pred))\n",
    "print(classification_report(y_test,gb_pred)) "
   ]
  },
  {
   "cell_type": "code",
   "execution_count": 72,
   "metadata": {},
   "outputs": [],
   "source": [
    "from sklearn.model_selection import cross_val_score\n",
    "from sklearn.model_selection import GridSearchCV"
   ]
  },
  {
   "cell_type": "code",
   "execution_count": 73,
   "metadata": {},
   "outputs": [],
   "source": [
    "leaf_size = [1,3,6,9,15,20,25,30,40,50]\n",
    "n_neighbors = list(range(1,30))\n",
    "p=[1,2]\n",
    "weights=['uniform']\n",
    "hyperparameters = dict(leaf_size=leaf_size,n_neighbors=n_neighbors,p=p,weights=weights)\n",
    "knn_2 = KNeighborsClassifier()\n",
    "\n",
    "clf = GridSearchCV(knn_2, hyperparameters, cv=5)\n",
    "best_model = clf.fit(x,y)\n",
    "# print('Best leaf_size:', best_model.best_estimator_.get_params()['leaf_size'])\n",
    "# print('Best p:',best_model.best_estimator_.get_params()['p'])\n",
    "# print('Best n_neighbors:',best_model.best_estimator_.get_params()['n_neighbors'])"
   ]
  },
  {
   "cell_type": "code",
   "execution_count": 74,
   "metadata": {
    "scrolled": true
   },
   "outputs": [
    {
     "name": "stdout",
     "output_type": "stream",
     "text": [
      "dict_keys(['scoring', 'estimator', 'n_jobs', 'iid', 'refit', 'cv', 'verbose', 'pre_dispatch', 'error_score', 'return_train_score', 'param_grid', 'multimetric_', 'best_index_', 'best_score_', 'best_params_', 'best_estimator_', 'refit_time_', 'scorer_', 'cv_results_', 'n_splits_'])\n"
     ]
    }
   ],
   "source": [
    "knn_2=KNeighborsClassifier()\n",
    "hyperparameters = {\"leaf_size\":[1,3,6,9,15,20,25,30,40],\"p\":[1],\"n_neighbors\":[26],\"weights\":['uniform']}\n",
    "clf= GridSearchCV(estimator=knn_2,param_grid=hyperparameters,scoring='accuracy',n_jobs=4,cv=5)\n",
    "clf.fit(x_train,y_train)\n",
    "# print(accuracy_score(y_test,clf.predict(x_test)))\n",
    "print(clf.__dict__.keys())"
   ]
  },
  {
   "cell_type": "code",
   "execution_count": 75,
   "metadata": {},
   "outputs": [
    {
     "data": {
      "text/plain": [
       "{'leaf_size': 1, 'n_neighbors': 26, 'p': 1, 'weights': 'uniform'}"
      ]
     },
     "execution_count": 75,
     "metadata": {},
     "output_type": "execute_result"
    }
   ],
   "source": [
    "clf.best_params_"
   ]
  },
  {
   "cell_type": "code",
   "execution_count": 76,
   "metadata": {},
   "outputs": [
    {
     "name": "stdout",
     "output_type": "stream",
     "text": [
      "0.78125\n"
     ]
    }
   ],
   "source": [
    "knn_2=KNeighborsClassifier(leaf_size = 1,p = 1,n_neighbors = 26,weights = 'uniform')\n",
    "knn_2.fit(x_train,y_train)\n",
    "print(accuracy_score(y_test,knn_2.predict(x_test)))\n",
    "# print(clf.__dict__.keys())"
   ]
  },
  {
   "cell_type": "code",
   "execution_count": 77,
   "metadata": {},
   "outputs": [
    {
     "name": "stdout",
     "output_type": "stream",
     "text": [
      "Scores: [0.82608696 0.86956522 0.95652174 0.77272727 0.86363636 0.81818182\n",
      " 0.81818182 0.77272727 0.86363636 0.72727273]\n",
      "Mean: 0.8288537549407113\n",
      "Standard Deviation: 0.06101696643765629\n"
     ]
    }
   ],
   "source": [
    "scores = cross_val_score(knn,x_train,y_train,cv=10,scoring=\"accuracy\")\n",
    "print(\"Scores:\",scores)\n",
    "print(\"Mean:\",scores.mean())\n",
    "print(\"Standard Deviation:\",scores.std())"
   ]
  },
  {
   "cell_type": "code",
   "execution_count": 78,
   "metadata": {},
   "outputs": [
    {
     "data": {
      "text/plain": [
       "['knnheardisease.obj']"
      ]
     },
     "execution_count": 78,
     "metadata": {},
     "output_type": "execute_result"
    }
   ],
   "source": [
    "from sklearn.externals import joblib   # saving model\n",
    "joblib.dump(knn,'knnheardisease.obj')"
   ]
  },
  {
   "cell_type": "code",
   "execution_count": null,
   "metadata": {},
   "outputs": [],
   "source": []
  },
  {
   "cell_type": "markdown",
   "metadata": {},
   "source": [
    "Conclusion : Age, Gender, Ca, thal, exange, chol attributes impacting more for predicting heart disease.\n",
    "             I have applied all classification models, ensemble techniques, cross-validation, gridsearchcv methos. \n",
    "             KNN is working good with 91% of accuracy score so I have saved model with knn."
   ]
  },
  {
   "cell_type": "code",
   "execution_count": null,
   "metadata": {},
   "outputs": [],
   "source": []
  },
  {
   "cell_type": "code",
   "execution_count": null,
   "metadata": {},
   "outputs": [],
   "source": []
  },
  {
   "cell_type": "code",
   "execution_count": null,
   "metadata": {},
   "outputs": [],
   "source": []
  },
  {
   "cell_type": "code",
   "execution_count": null,
   "metadata": {},
   "outputs": [],
   "source": []
  },
  {
   "cell_type": "code",
   "execution_count": null,
   "metadata": {},
   "outputs": [],
   "source": []
  },
  {
   "cell_type": "code",
   "execution_count": null,
   "metadata": {},
   "outputs": [],
   "source": []
  },
  {
   "cell_type": "code",
   "execution_count": null,
   "metadata": {},
   "outputs": [],
   "source": []
  },
  {
   "cell_type": "code",
   "execution_count": null,
   "metadata": {},
   "outputs": [],
   "source": []
  },
  {
   "cell_type": "code",
   "execution_count": null,
   "metadata": {},
   "outputs": [],
   "source": []
  },
  {
   "cell_type": "code",
   "execution_count": null,
   "metadata": {},
   "outputs": [],
   "source": []
  },
  {
   "cell_type": "code",
   "execution_count": null,
   "metadata": {},
   "outputs": [],
   "source": []
  },
  {
   "cell_type": "code",
   "execution_count": null,
   "metadata": {},
   "outputs": [],
   "source": []
  },
  {
   "cell_type": "code",
   "execution_count": null,
   "metadata": {},
   "outputs": [],
   "source": []
  },
  {
   "cell_type": "code",
   "execution_count": null,
   "metadata": {},
   "outputs": [],
   "source": []
  },
  {
   "cell_type": "code",
   "execution_count": null,
   "metadata": {},
   "outputs": [],
   "source": []
  },
  {
   "cell_type": "code",
   "execution_count": null,
   "metadata": {},
   "outputs": [],
   "source": []
  },
  {
   "cell_type": "code",
   "execution_count": null,
   "metadata": {},
   "outputs": [],
   "source": []
  },
  {
   "cell_type": "code",
   "execution_count": null,
   "metadata": {},
   "outputs": [],
   "source": []
  },
  {
   "cell_type": "code",
   "execution_count": null,
   "metadata": {},
   "outputs": [],
   "source": []
  },
  {
   "cell_type": "code",
   "execution_count": null,
   "metadata": {},
   "outputs": [],
   "source": []
  },
  {
   "cell_type": "code",
   "execution_count": null,
   "metadata": {},
   "outputs": [],
   "source": []
  },
  {
   "cell_type": "code",
   "execution_count": null,
   "metadata": {},
   "outputs": [],
   "source": []
  },
  {
   "cell_type": "code",
   "execution_count": null,
   "metadata": {},
   "outputs": [],
   "source": []
  },
  {
   "cell_type": "code",
   "execution_count": null,
   "metadata": {},
   "outputs": [],
   "source": []
  },
  {
   "cell_type": "code",
   "execution_count": null,
   "metadata": {},
   "outputs": [],
   "source": []
  },
  {
   "cell_type": "code",
   "execution_count": null,
   "metadata": {},
   "outputs": [],
   "source": []
  },
  {
   "cell_type": "code",
   "execution_count": null,
   "metadata": {},
   "outputs": [],
   "source": []
  },
  {
   "cell_type": "code",
   "execution_count": null,
   "metadata": {},
   "outputs": [],
   "source": []
  }
 ],
 "metadata": {
  "kernelspec": {
   "display_name": "Python 3",
   "language": "python",
   "name": "python3"
  },
  "language_info": {
   "codemirror_mode": {
    "name": "ipython",
    "version": 3
   },
   "file_extension": ".py",
   "mimetype": "text/x-python",
   "name": "python",
   "nbconvert_exporter": "python",
   "pygments_lexer": "ipython3",
   "version": "3.7.6"
  }
 },
 "nbformat": 4,
 "nbformat_minor": 4
}
