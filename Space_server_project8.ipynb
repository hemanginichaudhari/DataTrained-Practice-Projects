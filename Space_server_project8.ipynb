{
 "cells": [
  {
   "cell_type": "code",
   "execution_count": 1,
   "metadata": {},
   "outputs": [],
   "source": [
    "import pandas as pd"
   ]
  },
  {
   "cell_type": "code",
   "execution_count": 2,
   "metadata": {},
   "outputs": [
    {
     "data": {
      "text/html": [
       "<div>\n",
       "<style scoped>\n",
       "    .dataframe tbody tr th:only-of-type {\n",
       "        vertical-align: middle;\n",
       "    }\n",
       "\n",
       "    .dataframe tbody tr th {\n",
       "        vertical-align: top;\n",
       "    }\n",
       "\n",
       "    .dataframe thead th {\n",
       "        text-align: right;\n",
       "    }\n",
       "</style>\n",
       "<table border=\"1\" class=\"dataframe\">\n",
       "  <thead>\n",
       "    <tr style=\"text-align: right;\">\n",
       "      <th></th>\n",
       "      <th>objid</th>\n",
       "      <th>ra</th>\n",
       "      <th>dec</th>\n",
       "      <th>u</th>\n",
       "      <th>g</th>\n",
       "      <th>r</th>\n",
       "      <th>i</th>\n",
       "      <th>z</th>\n",
       "      <th>run</th>\n",
       "      <th>rerun</th>\n",
       "      <th>camcol</th>\n",
       "      <th>field</th>\n",
       "      <th>specobjid</th>\n",
       "      <th>class</th>\n",
       "      <th>redshift</th>\n",
       "      <th>plate</th>\n",
       "      <th>mjd</th>\n",
       "      <th>fiberid</th>\n",
       "    </tr>\n",
       "  </thead>\n",
       "  <tbody>\n",
       "    <tr>\n",
       "      <th>0</th>\n",
       "      <td>1.237650e+18</td>\n",
       "      <td>183.531326</td>\n",
       "      <td>0.089693</td>\n",
       "      <td>19.47406</td>\n",
       "      <td>17.04240</td>\n",
       "      <td>15.94699</td>\n",
       "      <td>15.50342</td>\n",
       "      <td>15.22531</td>\n",
       "      <td>752</td>\n",
       "      <td>301</td>\n",
       "      <td>4</td>\n",
       "      <td>267</td>\n",
       "      <td>3.722360e+18</td>\n",
       "      <td>STAR</td>\n",
       "      <td>-0.000009</td>\n",
       "      <td>3306</td>\n",
       "      <td>54922</td>\n",
       "      <td>491</td>\n",
       "    </tr>\n",
       "    <tr>\n",
       "      <th>1</th>\n",
       "      <td>1.237650e+18</td>\n",
       "      <td>183.598371</td>\n",
       "      <td>0.135285</td>\n",
       "      <td>18.66280</td>\n",
       "      <td>17.21449</td>\n",
       "      <td>16.67637</td>\n",
       "      <td>16.48922</td>\n",
       "      <td>16.39150</td>\n",
       "      <td>752</td>\n",
       "      <td>301</td>\n",
       "      <td>4</td>\n",
       "      <td>267</td>\n",
       "      <td>3.638140e+17</td>\n",
       "      <td>STAR</td>\n",
       "      <td>-0.000055</td>\n",
       "      <td>323</td>\n",
       "      <td>51615</td>\n",
       "      <td>541</td>\n",
       "    </tr>\n",
       "    <tr>\n",
       "      <th>2</th>\n",
       "      <td>1.237650e+18</td>\n",
       "      <td>183.680207</td>\n",
       "      <td>0.126185</td>\n",
       "      <td>19.38298</td>\n",
       "      <td>18.19169</td>\n",
       "      <td>17.47428</td>\n",
       "      <td>17.08732</td>\n",
       "      <td>16.80125</td>\n",
       "      <td>752</td>\n",
       "      <td>301</td>\n",
       "      <td>4</td>\n",
       "      <td>268</td>\n",
       "      <td>3.232740e+17</td>\n",
       "      <td>GALAXY</td>\n",
       "      <td>0.123111</td>\n",
       "      <td>287</td>\n",
       "      <td>52023</td>\n",
       "      <td>513</td>\n",
       "    </tr>\n",
       "    <tr>\n",
       "      <th>3</th>\n",
       "      <td>1.237650e+18</td>\n",
       "      <td>183.870529</td>\n",
       "      <td>0.049911</td>\n",
       "      <td>17.76536</td>\n",
       "      <td>16.60272</td>\n",
       "      <td>16.16116</td>\n",
       "      <td>15.98233</td>\n",
       "      <td>15.90438</td>\n",
       "      <td>752</td>\n",
       "      <td>301</td>\n",
       "      <td>4</td>\n",
       "      <td>269</td>\n",
       "      <td>3.722370e+18</td>\n",
       "      <td>STAR</td>\n",
       "      <td>-0.000111</td>\n",
       "      <td>3306</td>\n",
       "      <td>54922</td>\n",
       "      <td>510</td>\n",
       "    </tr>\n",
       "    <tr>\n",
       "      <th>4</th>\n",
       "      <td>1.237650e+18</td>\n",
       "      <td>183.883288</td>\n",
       "      <td>0.102557</td>\n",
       "      <td>17.55025</td>\n",
       "      <td>16.26342</td>\n",
       "      <td>16.43869</td>\n",
       "      <td>16.55492</td>\n",
       "      <td>16.61326</td>\n",
       "      <td>752</td>\n",
       "      <td>301</td>\n",
       "      <td>4</td>\n",
       "      <td>269</td>\n",
       "      <td>3.722370e+18</td>\n",
       "      <td>STAR</td>\n",
       "      <td>0.000590</td>\n",
       "      <td>3306</td>\n",
       "      <td>54922</td>\n",
       "      <td>512</td>\n",
       "    </tr>\n",
       "    <tr>\n",
       "      <th>...</th>\n",
       "      <td>...</td>\n",
       "      <td>...</td>\n",
       "      <td>...</td>\n",
       "      <td>...</td>\n",
       "      <td>...</td>\n",
       "      <td>...</td>\n",
       "      <td>...</td>\n",
       "      <td>...</td>\n",
       "      <td>...</td>\n",
       "      <td>...</td>\n",
       "      <td>...</td>\n",
       "      <td>...</td>\n",
       "      <td>...</td>\n",
       "      <td>...</td>\n",
       "      <td>...</td>\n",
       "      <td>...</td>\n",
       "      <td>...</td>\n",
       "      <td>...</td>\n",
       "    </tr>\n",
       "    <tr>\n",
       "      <th>9995</th>\n",
       "      <td>1.237650e+18</td>\n",
       "      <td>131.316413</td>\n",
       "      <td>51.539547</td>\n",
       "      <td>18.81777</td>\n",
       "      <td>17.47053</td>\n",
       "      <td>16.91508</td>\n",
       "      <td>16.68305</td>\n",
       "      <td>16.50570</td>\n",
       "      <td>1345</td>\n",
       "      <td>301</td>\n",
       "      <td>3</td>\n",
       "      <td>161</td>\n",
       "      <td>5.033450e+17</td>\n",
       "      <td>GALAXY</td>\n",
       "      <td>0.027583</td>\n",
       "      <td>447</td>\n",
       "      <td>51877</td>\n",
       "      <td>246</td>\n",
       "    </tr>\n",
       "    <tr>\n",
       "      <th>9996</th>\n",
       "      <td>1.237650e+18</td>\n",
       "      <td>131.306083</td>\n",
       "      <td>51.671341</td>\n",
       "      <td>18.27255</td>\n",
       "      <td>17.43849</td>\n",
       "      <td>17.07692</td>\n",
       "      <td>16.71661</td>\n",
       "      <td>16.69897</td>\n",
       "      <td>1345</td>\n",
       "      <td>301</td>\n",
       "      <td>3</td>\n",
       "      <td>162</td>\n",
       "      <td>5.033400e+17</td>\n",
       "      <td>GALAXY</td>\n",
       "      <td>0.117772</td>\n",
       "      <td>447</td>\n",
       "      <td>51877</td>\n",
       "      <td>228</td>\n",
       "    </tr>\n",
       "    <tr>\n",
       "      <th>9997</th>\n",
       "      <td>1.237650e+18</td>\n",
       "      <td>131.552562</td>\n",
       "      <td>51.666986</td>\n",
       "      <td>18.75818</td>\n",
       "      <td>17.77784</td>\n",
       "      <td>17.51872</td>\n",
       "      <td>17.43302</td>\n",
       "      <td>17.42048</td>\n",
       "      <td>1345</td>\n",
       "      <td>301</td>\n",
       "      <td>3</td>\n",
       "      <td>162</td>\n",
       "      <td>8.222620e+18</td>\n",
       "      <td>STAR</td>\n",
       "      <td>-0.000402</td>\n",
       "      <td>7303</td>\n",
       "      <td>57013</td>\n",
       "      <td>622</td>\n",
       "    </tr>\n",
       "    <tr>\n",
       "      <th>9998</th>\n",
       "      <td>1.237650e+18</td>\n",
       "      <td>131.477151</td>\n",
       "      <td>51.753068</td>\n",
       "      <td>18.88287</td>\n",
       "      <td>17.91068</td>\n",
       "      <td>17.53152</td>\n",
       "      <td>17.36284</td>\n",
       "      <td>17.13988</td>\n",
       "      <td>1345</td>\n",
       "      <td>301</td>\n",
       "      <td>3</td>\n",
       "      <td>163</td>\n",
       "      <td>5.033400e+17</td>\n",
       "      <td>GALAXY</td>\n",
       "      <td>0.014019</td>\n",
       "      <td>447</td>\n",
       "      <td>51877</td>\n",
       "      <td>229</td>\n",
       "    </tr>\n",
       "    <tr>\n",
       "      <th>9999</th>\n",
       "      <td>1.237650e+18</td>\n",
       "      <td>131.665012</td>\n",
       "      <td>51.805307</td>\n",
       "      <td>19.27586</td>\n",
       "      <td>17.37829</td>\n",
       "      <td>16.30542</td>\n",
       "      <td>15.83548</td>\n",
       "      <td>15.50588</td>\n",
       "      <td>1345</td>\n",
       "      <td>301</td>\n",
       "      <td>3</td>\n",
       "      <td>163</td>\n",
       "      <td>5.033410e+17</td>\n",
       "      <td>GALAXY</td>\n",
       "      <td>0.118417</td>\n",
       "      <td>447</td>\n",
       "      <td>51877</td>\n",
       "      <td>233</td>\n",
       "    </tr>\n",
       "  </tbody>\n",
       "</table>\n",
       "<p>10000 rows × 18 columns</p>\n",
       "</div>"
      ],
      "text/plain": [
       "             objid          ra        dec         u         g         r  \\\n",
       "0     1.237650e+18  183.531326   0.089693  19.47406  17.04240  15.94699   \n",
       "1     1.237650e+18  183.598371   0.135285  18.66280  17.21449  16.67637   \n",
       "2     1.237650e+18  183.680207   0.126185  19.38298  18.19169  17.47428   \n",
       "3     1.237650e+18  183.870529   0.049911  17.76536  16.60272  16.16116   \n",
       "4     1.237650e+18  183.883288   0.102557  17.55025  16.26342  16.43869   \n",
       "...            ...         ...        ...       ...       ...       ...   \n",
       "9995  1.237650e+18  131.316413  51.539547  18.81777  17.47053  16.91508   \n",
       "9996  1.237650e+18  131.306083  51.671341  18.27255  17.43849  17.07692   \n",
       "9997  1.237650e+18  131.552562  51.666986  18.75818  17.77784  17.51872   \n",
       "9998  1.237650e+18  131.477151  51.753068  18.88287  17.91068  17.53152   \n",
       "9999  1.237650e+18  131.665012  51.805307  19.27586  17.37829  16.30542   \n",
       "\n",
       "             i         z   run  rerun  camcol  field     specobjid   class  \\\n",
       "0     15.50342  15.22531   752    301       4    267  3.722360e+18    STAR   \n",
       "1     16.48922  16.39150   752    301       4    267  3.638140e+17    STAR   \n",
       "2     17.08732  16.80125   752    301       4    268  3.232740e+17  GALAXY   \n",
       "3     15.98233  15.90438   752    301       4    269  3.722370e+18    STAR   \n",
       "4     16.55492  16.61326   752    301       4    269  3.722370e+18    STAR   \n",
       "...        ...       ...   ...    ...     ...    ...           ...     ...   \n",
       "9995  16.68305  16.50570  1345    301       3    161  5.033450e+17  GALAXY   \n",
       "9996  16.71661  16.69897  1345    301       3    162  5.033400e+17  GALAXY   \n",
       "9997  17.43302  17.42048  1345    301       3    162  8.222620e+18    STAR   \n",
       "9998  17.36284  17.13988  1345    301       3    163  5.033400e+17  GALAXY   \n",
       "9999  15.83548  15.50588  1345    301       3    163  5.033410e+17  GALAXY   \n",
       "\n",
       "      redshift  plate    mjd  fiberid  \n",
       "0    -0.000009   3306  54922      491  \n",
       "1    -0.000055    323  51615      541  \n",
       "2     0.123111    287  52023      513  \n",
       "3    -0.000111   3306  54922      510  \n",
       "4     0.000590   3306  54922      512  \n",
       "...        ...    ...    ...      ...  \n",
       "9995  0.027583    447  51877      246  \n",
       "9996  0.117772    447  51877      228  \n",
       "9997 -0.000402   7303  57013      622  \n",
       "9998  0.014019    447  51877      229  \n",
       "9999  0.118417    447  51877      233  \n",
       "\n",
       "[10000 rows x 18 columns]"
      ]
     },
     "execution_count": 2,
     "metadata": {},
     "output_type": "execute_result"
    }
   ],
   "source": [
    "df=pd.read_csv(\"space_server_dataset.csv\")     # Loading dataset\n",
    "df"
   ]
  },
  {
   "cell_type": "code",
   "execution_count": 3,
   "metadata": {},
   "outputs": [
    {
     "name": "stdout",
     "output_type": "stream",
     "text": [
      "<class 'pandas.core.frame.DataFrame'>\n",
      "RangeIndex: 10000 entries, 0 to 9999\n",
      "Data columns (total 18 columns):\n",
      " #   Column     Non-Null Count  Dtype  \n",
      "---  ------     --------------  -----  \n",
      " 0   objid      10000 non-null  float64\n",
      " 1   ra         10000 non-null  float64\n",
      " 2   dec        10000 non-null  float64\n",
      " 3   u          10000 non-null  float64\n",
      " 4   g          10000 non-null  float64\n",
      " 5   r          10000 non-null  float64\n",
      " 6   i          10000 non-null  float64\n",
      " 7   z          10000 non-null  float64\n",
      " 8   run        10000 non-null  int64  \n",
      " 9   rerun      10000 non-null  int64  \n",
      " 10  camcol     10000 non-null  int64  \n",
      " 11  field      10000 non-null  int64  \n",
      " 12  specobjid  10000 non-null  float64\n",
      " 13  class      10000 non-null  object \n",
      " 14  redshift   10000 non-null  float64\n",
      " 15  plate      10000 non-null  int64  \n",
      " 16  mjd        10000 non-null  int64  \n",
      " 17  fiberid    10000 non-null  int64  \n",
      "dtypes: float64(10), int64(7), object(1)\n",
      "memory usage: 1.4+ MB\n"
     ]
    }
   ],
   "source": [
    "df.info()        # checking info"
   ]
  },
  {
   "cell_type": "code",
   "execution_count": 4,
   "metadata": {},
   "outputs": [
    {
     "data": {
      "text/plain": [
       "Index(['objid', 'ra', 'dec', 'u', 'g', 'r', 'i', 'z', 'run', 'rerun', 'camcol',\n",
       "       'field', 'specobjid', 'class', 'redshift', 'plate', 'mjd', 'fiberid'],\n",
       "      dtype='object')"
      ]
     },
     "execution_count": 4,
     "metadata": {},
     "output_type": "execute_result"
    }
   ],
   "source": [
    "df.columns      # checking columns"
   ]
  },
  {
   "cell_type": "code",
   "execution_count": 5,
   "metadata": {},
   "outputs": [
    {
     "data": {
      "text/plain": [
       "objid        float64\n",
       "ra           float64\n",
       "dec          float64\n",
       "u            float64\n",
       "g            float64\n",
       "r            float64\n",
       "i            float64\n",
       "z            float64\n",
       "run            int64\n",
       "rerun          int64\n",
       "camcol         int64\n",
       "field          int64\n",
       "specobjid    float64\n",
       "class         object\n",
       "redshift     float64\n",
       "plate          int64\n",
       "mjd            int64\n",
       "fiberid        int64\n",
       "dtype: object"
      ]
     },
     "execution_count": 5,
     "metadata": {},
     "output_type": "execute_result"
    }
   ],
   "source": [
    "df.dtypes      # checking data types of columns"
   ]
  },
  {
   "cell_type": "code",
   "execution_count": 6,
   "metadata": {},
   "outputs": [
    {
     "name": "stdout",
     "output_type": "stream",
     "text": [
      "class\n"
     ]
    }
   ],
   "source": [
    "for i in df.columns:\n",
    "    if df[i].dtypes == \"object\":\n",
    "        print(i)"
   ]
  },
  {
   "cell_type": "code",
   "execution_count": 7,
   "metadata": {},
   "outputs": [
    {
     "data": {
      "text/plain": [
       "10000"
      ]
     },
     "execution_count": 7,
     "metadata": {},
     "output_type": "execute_result"
    }
   ],
   "source": [
    "len(df)      # checking length of dataset"
   ]
  },
  {
   "cell_type": "code",
   "execution_count": 8,
   "metadata": {},
   "outputs": [
    {
     "data": {
      "text/plain": [
       "(10000, 18)"
      ]
     },
     "execution_count": 8,
     "metadata": {},
     "output_type": "execute_result"
    }
   ],
   "source": [
    "df.shape     # checking shape of data"
   ]
  },
  {
   "cell_type": "code",
   "execution_count": 9,
   "metadata": {},
   "outputs": [
    {
     "data": {
      "text/plain": [
       "objid        0\n",
       "ra           0\n",
       "dec          0\n",
       "u            0\n",
       "g            0\n",
       "r            0\n",
       "i            0\n",
       "z            0\n",
       "run          0\n",
       "rerun        0\n",
       "camcol       0\n",
       "field        0\n",
       "specobjid    0\n",
       "class        0\n",
       "redshift     0\n",
       "plate        0\n",
       "mjd          0\n",
       "fiberid      0\n",
       "dtype: int64"
      ]
     },
     "execution_count": 9,
     "metadata": {},
     "output_type": "execute_result"
    }
   ],
   "source": [
    "df.isnull().sum()     # Checking null values"
   ]
  },
  {
   "cell_type": "code",
   "execution_count": 10,
   "metadata": {},
   "outputs": [
    {
     "data": {
      "text/plain": [
       "<matplotlib.axes._subplots.AxesSubplot at 0x550ab9a5c8>"
      ]
     },
     "execution_count": 10,
     "metadata": {},
     "output_type": "execute_result"
    },
    {
     "data": {
      "image/png": "[encoded data removed]",
      "text/plain": [
       "<Figure size 432x288 with 2 Axes>"
      ]
     },
     "metadata": {
      "needs_background": "light"
     },
     "output_type": "display_data"
    }
   ],
   "source": [
    "import seaborn as sns\n",
    "sns.heatmap(df.isnull())     # checking Null values by heatmap"
   ]
  },
  {
   "cell_type": "code",
   "execution_count": 11,
   "metadata": {},
   "outputs": [
    {
     "data": {
      "text/html": [
       "<div>\n",
       "<style scoped>\n",
       "    .dataframe tbody tr th:only-of-type {\n",
       "        vertical-align: middle;\n",
       "    }\n",
       "\n",
       "    .dataframe tbody tr th {\n",
       "        vertical-align: top;\n",
       "    }\n",
       "\n",
       "    .dataframe thead th {\n",
       "        text-align: right;\n",
       "    }\n",
       "</style>\n",
       "<table border=\"1\" class=\"dataframe\">\n",
       "  <thead>\n",
       "    <tr style=\"text-align: right;\">\n",
       "      <th></th>\n",
       "      <th>objid</th>\n",
       "      <th>ra</th>\n",
       "      <th>dec</th>\n",
       "      <th>u</th>\n",
       "      <th>g</th>\n",
       "      <th>r</th>\n",
       "      <th>i</th>\n",
       "      <th>z</th>\n",
       "      <th>run</th>\n",
       "      <th>rerun</th>\n",
       "      <th>camcol</th>\n",
       "      <th>field</th>\n",
       "      <th>specobjid</th>\n",
       "      <th>redshift</th>\n",
       "      <th>plate</th>\n",
       "      <th>mjd</th>\n",
       "      <th>fiberid</th>\n",
       "    </tr>\n",
       "  </thead>\n",
       "  <tbody>\n",
       "    <tr>\n",
       "      <th>count</th>\n",
       "      <td>1.000000e+04</td>\n",
       "      <td>10000.000000</td>\n",
       "      <td>10000.000000</td>\n",
       "      <td>10000.000000</td>\n",
       "      <td>10000.000000</td>\n",
       "      <td>10000.000000</td>\n",
       "      <td>10000.000000</td>\n",
       "      <td>10000.000000</td>\n",
       "      <td>10000.000000</td>\n",
       "      <td>10000.0</td>\n",
       "      <td>10000.000000</td>\n",
       "      <td>10000.000000</td>\n",
       "      <td>1.000000e+04</td>\n",
       "      <td>10000.000000</td>\n",
       "      <td>10000.000000</td>\n",
       "      <td>10000.000000</td>\n",
       "      <td>10000.000000</td>\n",
       "    </tr>\n",
       "    <tr>\n",
       "      <th>mean</th>\n",
       "      <td>1.237650e+18</td>\n",
       "      <td>175.529987</td>\n",
       "      <td>14.836148</td>\n",
       "      <td>18.619355</td>\n",
       "      <td>17.371931</td>\n",
       "      <td>16.840963</td>\n",
       "      <td>16.583579</td>\n",
       "      <td>16.422833</td>\n",
       "      <td>981.034800</td>\n",
       "      <td>301.0</td>\n",
       "      <td>3.648700</td>\n",
       "      <td>302.380100</td>\n",
       "      <td>1.645022e+18</td>\n",
       "      <td>0.143726</td>\n",
       "      <td>1460.986400</td>\n",
       "      <td>52943.533300</td>\n",
       "      <td>353.069400</td>\n",
       "    </tr>\n",
       "    <tr>\n",
       "      <th>std</th>\n",
       "      <td>1.577039e+05</td>\n",
       "      <td>47.783439</td>\n",
       "      <td>25.212207</td>\n",
       "      <td>0.828656</td>\n",
       "      <td>0.945457</td>\n",
       "      <td>1.067764</td>\n",
       "      <td>1.141805</td>\n",
       "      <td>1.203188</td>\n",
       "      <td>273.305024</td>\n",
       "      <td>0.0</td>\n",
       "      <td>1.666183</td>\n",
       "      <td>162.577763</td>\n",
       "      <td>2.013998e+18</td>\n",
       "      <td>0.388774</td>\n",
       "      <td>1788.778371</td>\n",
       "      <td>1511.150651</td>\n",
       "      <td>206.298149</td>\n",
       "    </tr>\n",
       "    <tr>\n",
       "      <th>min</th>\n",
       "      <td>1.237650e+18</td>\n",
       "      <td>8.235100</td>\n",
       "      <td>-5.382632</td>\n",
       "      <td>12.988970</td>\n",
       "      <td>12.799550</td>\n",
       "      <td>12.431600</td>\n",
       "      <td>11.947210</td>\n",
       "      <td>11.610410</td>\n",
       "      <td>308.000000</td>\n",
       "      <td>301.0</td>\n",
       "      <td>1.000000</td>\n",
       "      <td>11.000000</td>\n",
       "      <td>2.995780e+17</td>\n",
       "      <td>-0.004136</td>\n",
       "      <td>266.000000</td>\n",
       "      <td>51578.000000</td>\n",
       "      <td>1.000000</td>\n",
       "    </tr>\n",
       "    <tr>\n",
       "      <th>25%</th>\n",
       "      <td>1.237650e+18</td>\n",
       "      <td>157.370946</td>\n",
       "      <td>-0.539035</td>\n",
       "      <td>18.178035</td>\n",
       "      <td>16.815100</td>\n",
       "      <td>16.173333</td>\n",
       "      <td>15.853705</td>\n",
       "      <td>15.618285</td>\n",
       "      <td>752.000000</td>\n",
       "      <td>301.0</td>\n",
       "      <td>2.000000</td>\n",
       "      <td>184.000000</td>\n",
       "      <td>3.389248e+17</td>\n",
       "      <td>0.000081</td>\n",
       "      <td>301.000000</td>\n",
       "      <td>51900.000000</td>\n",
       "      <td>186.750000</td>\n",
       "    </tr>\n",
       "    <tr>\n",
       "      <th>50%</th>\n",
       "      <td>1.237650e+18</td>\n",
       "      <td>180.394514</td>\n",
       "      <td>0.404166</td>\n",
       "      <td>18.853095</td>\n",
       "      <td>17.495135</td>\n",
       "      <td>16.858770</td>\n",
       "      <td>16.554985</td>\n",
       "      <td>16.389945</td>\n",
       "      <td>756.000000</td>\n",
       "      <td>301.0</td>\n",
       "      <td>4.000000</td>\n",
       "      <td>299.000000</td>\n",
       "      <td>4.966580e+17</td>\n",
       "      <td>0.042591</td>\n",
       "      <td>441.000000</td>\n",
       "      <td>51997.000000</td>\n",
       "      <td>351.000000</td>\n",
       "    </tr>\n",
       "    <tr>\n",
       "      <th>75%</th>\n",
       "      <td>1.237650e+18</td>\n",
       "      <td>201.547279</td>\n",
       "      <td>35.649397</td>\n",
       "      <td>19.259232</td>\n",
       "      <td>18.010145</td>\n",
       "      <td>17.512675</td>\n",
       "      <td>17.258550</td>\n",
       "      <td>17.141447</td>\n",
       "      <td>1331.000000</td>\n",
       "      <td>301.0</td>\n",
       "      <td>5.000000</td>\n",
       "      <td>414.000000</td>\n",
       "      <td>2.881300e+18</td>\n",
       "      <td>0.092579</td>\n",
       "      <td>2559.000000</td>\n",
       "      <td>54468.000000</td>\n",
       "      <td>510.000000</td>\n",
       "    </tr>\n",
       "    <tr>\n",
       "      <th>max</th>\n",
       "      <td>1.237650e+18</td>\n",
       "      <td>260.884382</td>\n",
       "      <td>68.542265</td>\n",
       "      <td>19.599900</td>\n",
       "      <td>19.918970</td>\n",
       "      <td>24.802040</td>\n",
       "      <td>28.179630</td>\n",
       "      <td>22.833060</td>\n",
       "      <td>1412.000000</td>\n",
       "      <td>301.0</td>\n",
       "      <td>6.000000</td>\n",
       "      <td>768.000000</td>\n",
       "      <td>9.468830e+18</td>\n",
       "      <td>5.353854</td>\n",
       "      <td>8410.000000</td>\n",
       "      <td>57481.000000</td>\n",
       "      <td>1000.000000</td>\n",
       "    </tr>\n",
       "  </tbody>\n",
       "</table>\n",
       "</div>"
      ],
      "text/plain": [
       "              objid            ra           dec             u             g  \\\n",
       "count  1.000000e+04  10000.000000  10000.000000  10000.000000  10000.000000   \n",
       "mean   1.237650e+18    175.529987     14.836148     18.619355     17.371931   \n",
       "std    1.577039e+05     47.783439     25.212207      0.828656      0.945457   \n",
       "min    1.237650e+18      8.235100     -5.382632     12.988970     12.799550   \n",
       "25%    1.237650e+18    157.370946     -0.539035     18.178035     16.815100   \n",
       "50%    1.237650e+18    180.394514      0.404166     18.853095     17.495135   \n",
       "75%    1.237650e+18    201.547279     35.649397     19.259232     18.010145   \n",
       "max    1.237650e+18    260.884382     68.542265     19.599900     19.918970   \n",
       "\n",
       "                  r             i             z           run    rerun  \\\n",
       "count  10000.000000  10000.000000  10000.000000  10000.000000  10000.0   \n",
       "mean      16.840963     16.583579     16.422833    981.034800    301.0   \n",
       "std        1.067764      1.141805      1.203188    273.305024      0.0   \n",
       "min       12.431600     11.947210     11.610410    308.000000    301.0   \n",
       "25%       16.173333     15.853705     15.618285    752.000000    301.0   \n",
       "50%       16.858770     16.554985     16.389945    756.000000    301.0   \n",
       "75%       17.512675     17.258550     17.141447   1331.000000    301.0   \n",
       "max       24.802040     28.179630     22.833060   1412.000000    301.0   \n",
       "\n",
       "             camcol         field     specobjid      redshift         plate  \\\n",
       "count  10000.000000  10000.000000  1.000000e+04  10000.000000  10000.000000   \n",
       "mean       3.648700    302.380100  1.645022e+18      0.143726   1460.986400   \n",
       "std        1.666183    162.577763  2.013998e+18      0.388774   1788.778371   \n",
       "min        1.000000     11.000000  2.995780e+17     -0.004136    266.000000   \n",
       "25%        2.000000    184.000000  3.389248e+17      0.000081    301.000000   \n",
       "50%        4.000000    299.000000  4.966580e+17      0.042591    441.000000   \n",
       "75%        5.000000    414.000000  2.881300e+18      0.092579   2559.000000   \n",
       "max        6.000000    768.000000  9.468830e+18      5.353854   8410.000000   \n",
       "\n",
       "                mjd       fiberid  \n",
       "count  10000.000000  10000.000000  \n",
       "mean   52943.533300    353.069400  \n",
       "std     1511.150651    206.298149  \n",
       "min    51578.000000      1.000000  \n",
       "25%    51900.000000    186.750000  \n",
       "50%    51997.000000    351.000000  \n",
       "75%    54468.000000    510.000000  \n",
       "max    57481.000000   1000.000000  "
      ]
     },
     "execution_count": 11,
     "metadata": {},
     "output_type": "execute_result"
    }
   ],
   "source": [
    "df.describe()     # checking statistical description -- Outliers present in some columns and skeweness also present in some columns"
   ]
  },
  {
   "cell_type": "code",
   "execution_count": 12,
   "metadata": {},
   "outputs": [
    {
     "data": {
      "text/html": [
       "<div>\n",
       "<style scoped>\n",
       "    .dataframe tbody tr th:only-of-type {\n",
       "        vertical-align: middle;\n",
       "    }\n",
       "\n",
       "    .dataframe tbody tr th {\n",
       "        vertical-align: top;\n",
       "    }\n",
       "\n",
       "    .dataframe thead th {\n",
       "        text-align: right;\n",
       "    }\n",
       "</style>\n",
       "<table border=\"1\" class=\"dataframe\">\n",
       "  <thead>\n",
       "    <tr style=\"text-align: right;\">\n",
       "      <th></th>\n",
       "      <th>objid</th>\n",
       "      <th>ra</th>\n",
       "      <th>dec</th>\n",
       "      <th>u</th>\n",
       "      <th>g</th>\n",
       "      <th>r</th>\n",
       "      <th>i</th>\n",
       "      <th>z</th>\n",
       "      <th>run</th>\n",
       "      <th>rerun</th>\n",
       "      <th>camcol</th>\n",
       "      <th>field</th>\n",
       "      <th>specobjid</th>\n",
       "      <th>redshift</th>\n",
       "      <th>plate</th>\n",
       "      <th>mjd</th>\n",
       "      <th>fiberid</th>\n",
       "    </tr>\n",
       "  </thead>\n",
       "  <tbody>\n",
       "    <tr>\n",
       "      <th>objid</th>\n",
       "      <td>1.000000e+00</td>\n",
       "      <td>2.524419e-14</td>\n",
       "      <td>-1.937483e-15</td>\n",
       "      <td>5.581214e-14</td>\n",
       "      <td>1.001149e-13</td>\n",
       "      <td>2.995673e-14</td>\n",
       "      <td>2.212198e-14</td>\n",
       "      <td>-4.107700e-14</td>\n",
       "      <td>-1.553011e-14</td>\n",
       "      <td>NaN</td>\n",
       "      <td>1.921887e-15</td>\n",
       "      <td>5.938881e-16</td>\n",
       "      <td>-1.829075e-15</td>\n",
       "      <td>5.085882e-16</td>\n",
       "      <td>4.156934e-16</td>\n",
       "      <td>-3.317582e-15</td>\n",
       "      <td>4.665195e-15</td>\n",
       "    </tr>\n",
       "    <tr>\n",
       "      <th>ra</th>\n",
       "      <td>2.524419e-14</td>\n",
       "      <td>1.000000e+00</td>\n",
       "      <td>3.596046e-03</td>\n",
       "      <td>3.123756e-02</td>\n",
       "      <td>4.390863e-02</td>\n",
       "      <td>4.710290e-02</td>\n",
       "      <td>4.573107e-02</td>\n",
       "      <td>4.294957e-02</td>\n",
       "      <td>-9.274056e-02</td>\n",
       "      <td>NaN</td>\n",
       "      <td>-6.293831e-03</td>\n",
       "      <td>5.946996e-01</td>\n",
       "      <td>-9.532711e-02</td>\n",
       "      <td>3.030740e-02</td>\n",
       "      <td>-9.532933e-02</td>\n",
       "      <td>-8.688726e-02</td>\n",
       "      <td>5.748482e-02</td>\n",
       "    </tr>\n",
       "    <tr>\n",
       "      <th>dec</th>\n",
       "      <td>-1.937483e-15</td>\n",
       "      <td>3.596046e-03</td>\n",
       "      <td>1.000000e+00</td>\n",
       "      <td>3.527932e-02</td>\n",
       "      <td>6.187471e-02</td>\n",
       "      <td>6.340395e-02</td>\n",
       "      <td>5.829189e-02</td>\n",
       "      <td>5.687030e-02</td>\n",
       "      <td>7.783849e-01</td>\n",
       "      <td>NaN</td>\n",
       "      <td>1.146139e-01</td>\n",
       "      <td>-1.314714e-01</td>\n",
       "      <td>8.834533e-02</td>\n",
       "      <td>6.702076e-02</td>\n",
       "      <td>8.834153e-02</td>\n",
       "      <td>6.614663e-02</td>\n",
       "      <td>1.550124e-01</td>\n",
       "    </tr>\n",
       "    <tr>\n",
       "      <th>u</th>\n",
       "      <td>5.581214e-14</td>\n",
       "      <td>3.123756e-02</td>\n",
       "      <td>3.527932e-02</td>\n",
       "      <td>1.000000e+00</td>\n",
       "      <td>8.492320e-01</td>\n",
       "      <td>6.923790e-01</td>\n",
       "      <td>6.026302e-01</td>\n",
       "      <td>5.514828e-01</td>\n",
       "      <td>3.822910e-02</td>\n",
       "      <td>NaN</td>\n",
       "      <td>9.944672e-03</td>\n",
       "      <td>8.547880e-03</td>\n",
       "      <td>-1.294293e-01</td>\n",
       "      <td>1.637409e-01</td>\n",
       "      <td>-1.294304e-01</td>\n",
       "      <td>-1.687927e-01</td>\n",
       "      <td>1.130112e-02</td>\n",
       "    </tr>\n",
       "    <tr>\n",
       "      <th>g</th>\n",
       "      <td>1.001149e-13</td>\n",
       "      <td>4.390863e-02</td>\n",
       "      <td>6.187471e-02</td>\n",
       "      <td>8.492320e-01</td>\n",
       "      <td>1.000000e+00</td>\n",
       "      <td>9.581062e-01</td>\n",
       "      <td>9.074187e-01</td>\n",
       "      <td>8.796222e-01</td>\n",
       "      <td>5.844630e-02</td>\n",
       "      <td>NaN</td>\n",
       "      <td>1.022304e-02</td>\n",
       "      <td>1.465110e-02</td>\n",
       "      <td>-5.497908e-02</td>\n",
       "      <td>4.075763e-01</td>\n",
       "      <td>-5.498078e-02</td>\n",
       "      <td>-9.277155e-02</td>\n",
       "      <td>4.718739e-02</td>\n",
       "    </tr>\n",
       "    <tr>\n",
       "      <th>r</th>\n",
       "      <td>2.995673e-14</td>\n",
       "      <td>4.710290e-02</td>\n",
       "      <td>6.340395e-02</td>\n",
       "      <td>6.923790e-01</td>\n",
       "      <td>9.581062e-01</td>\n",
       "      <td>1.000000e+00</td>\n",
       "      <td>9.776718e-01</td>\n",
       "      <td>9.691967e-01</td>\n",
       "      <td>5.726060e-02</td>\n",
       "      <td>NaN</td>\n",
       "      <td>1.074725e-02</td>\n",
       "      <td>1.713294e-02</td>\n",
       "      <td>1.978831e-02</td>\n",
       "      <td>4.410797e-01</td>\n",
       "      <td>1.978671e-02</td>\n",
       "      <td>-9.344506e-03</td>\n",
       "      <td>6.108141e-02</td>\n",
       "    </tr>\n",
       "    <tr>\n",
       "      <th>i</th>\n",
       "      <td>2.212198e-14</td>\n",
       "      <td>4.573107e-02</td>\n",
       "      <td>5.829189e-02</td>\n",
       "      <td>6.026302e-01</td>\n",
       "      <td>9.074187e-01</td>\n",
       "      <td>9.776718e-01</td>\n",
       "      <td>1.000000e+00</td>\n",
       "      <td>9.815066e-01</td>\n",
       "      <td>4.976478e-02</td>\n",
       "      <td>NaN</td>\n",
       "      <td>1.346079e-02</td>\n",
       "      <td>1.978147e-02</td>\n",
       "      <td>7.295994e-02</td>\n",
       "      <td>4.314500e-01</td>\n",
       "      <td>7.295843e-02</td>\n",
       "      <td>5.089616e-02</td>\n",
       "      <td>6.997739e-02</td>\n",
       "    </tr>\n",
       "    <tr>\n",
       "      <th>z</th>\n",
       "      <td>-4.107700e-14</td>\n",
       "      <td>4.294957e-02</td>\n",
       "      <td>5.687030e-02</td>\n",
       "      <td>5.514828e-01</td>\n",
       "      <td>8.796222e-01</td>\n",
       "      <td>9.691967e-01</td>\n",
       "      <td>9.815066e-01</td>\n",
       "      <td>1.000000e+00</td>\n",
       "      <td>4.825225e-02</td>\n",
       "      <td>NaN</td>\n",
       "      <td>1.092981e-02</td>\n",
       "      <td>1.824845e-02</td>\n",
       "      <td>1.123981e-01</td>\n",
       "      <td>4.240342e-01</td>\n",
       "      <td>1.123969e-01</td>\n",
       "      <td>9.565845e-02</td>\n",
       "      <td>6.797999e-02</td>\n",
       "    </tr>\n",
       "    <tr>\n",
       "      <th>run</th>\n",
       "      <td>-1.553011e-14</td>\n",
       "      <td>-9.274056e-02</td>\n",
       "      <td>7.783849e-01</td>\n",
       "      <td>3.822910e-02</td>\n",
       "      <td>5.844630e-02</td>\n",
       "      <td>5.726060e-02</td>\n",
       "      <td>4.976478e-02</td>\n",
       "      <td>4.825225e-02</td>\n",
       "      <td>1.000000e+00</td>\n",
       "      <td>NaN</td>\n",
       "      <td>1.518143e-01</td>\n",
       "      <td>-4.638975e-01</td>\n",
       "      <td>9.360436e-02</td>\n",
       "      <td>5.905595e-02</td>\n",
       "      <td>9.360107e-02</td>\n",
       "      <td>7.035433e-02</td>\n",
       "      <td>1.385659e-01</td>\n",
       "    </tr>\n",
       "    <tr>\n",
       "      <th>rerun</th>\n",
       "      <td>NaN</td>\n",
       "      <td>NaN</td>\n",
       "      <td>NaN</td>\n",
       "      <td>NaN</td>\n",
       "      <td>NaN</td>\n",
       "      <td>NaN</td>\n",
       "      <td>NaN</td>\n",
       "      <td>NaN</td>\n",
       "      <td>NaN</td>\n",
       "      <td>NaN</td>\n",
       "      <td>NaN</td>\n",
       "      <td>NaN</td>\n",
       "      <td>NaN</td>\n",
       "      <td>NaN</td>\n",
       "      <td>NaN</td>\n",
       "      <td>NaN</td>\n",
       "      <td>NaN</td>\n",
       "    </tr>\n",
       "    <tr>\n",
       "      <th>camcol</th>\n",
       "      <td>1.921887e-15</td>\n",
       "      <td>-6.293831e-03</td>\n",
       "      <td>1.146139e-01</td>\n",
       "      <td>9.944672e-03</td>\n",
       "      <td>1.022304e-02</td>\n",
       "      <td>1.074725e-02</td>\n",
       "      <td>1.346079e-02</td>\n",
       "      <td>1.092981e-02</td>\n",
       "      <td>1.518143e-01</td>\n",
       "      <td>NaN</td>\n",
       "      <td>1.000000e+00</td>\n",
       "      <td>-6.792055e-02</td>\n",
       "      <td>4.080943e-02</td>\n",
       "      <td>6.833537e-03</td>\n",
       "      <td>4.079461e-02</td>\n",
       "      <td>2.628396e-02</td>\n",
       "      <td>5.356292e-01</td>\n",
       "    </tr>\n",
       "    <tr>\n",
       "      <th>field</th>\n",
       "      <td>5.938881e-16</td>\n",
       "      <td>5.946996e-01</td>\n",
       "      <td>-1.314714e-01</td>\n",
       "      <td>8.547880e-03</td>\n",
       "      <td>1.465110e-02</td>\n",
       "      <td>1.713294e-02</td>\n",
       "      <td>1.978147e-02</td>\n",
       "      <td>1.824845e-02</td>\n",
       "      <td>-4.638975e-01</td>\n",
       "      <td>NaN</td>\n",
       "      <td>-6.792055e-02</td>\n",
       "      <td>1.000000e+00</td>\n",
       "      <td>-9.372375e-02</td>\n",
       "      <td>1.541360e-02</td>\n",
       "      <td>-9.372323e-02</td>\n",
       "      <td>-8.655805e-02</td>\n",
       "      <td>-4.049295e-02</td>\n",
       "    </tr>\n",
       "    <tr>\n",
       "      <th>specobjid</th>\n",
       "      <td>-1.829075e-15</td>\n",
       "      <td>-9.532711e-02</td>\n",
       "      <td>8.834533e-02</td>\n",
       "      <td>-1.294293e-01</td>\n",
       "      <td>-5.497908e-02</td>\n",
       "      <td>1.978831e-02</td>\n",
       "      <td>7.295994e-02</td>\n",
       "      <td>1.123981e-01</td>\n",
       "      <td>9.360436e-02</td>\n",
       "      <td>NaN</td>\n",
       "      <td>4.080943e-02</td>\n",
       "      <td>-9.372375e-02</td>\n",
       "      <td>1.000000e+00</td>\n",
       "      <td>-3.808992e-02</td>\n",
       "      <td>1.000000e+00</td>\n",
       "      <td>9.668799e-01</td>\n",
       "      <td>2.298375e-01</td>\n",
       "    </tr>\n",
       "    <tr>\n",
       "      <th>redshift</th>\n",
       "      <td>5.085882e-16</td>\n",
       "      <td>3.030740e-02</td>\n",
       "      <td>6.702076e-02</td>\n",
       "      <td>1.637409e-01</td>\n",
       "      <td>4.075763e-01</td>\n",
       "      <td>4.410797e-01</td>\n",
       "      <td>4.314500e-01</td>\n",
       "      <td>4.240342e-01</td>\n",
       "      <td>5.905595e-02</td>\n",
       "      <td>NaN</td>\n",
       "      <td>6.833537e-03</td>\n",
       "      <td>1.541360e-02</td>\n",
       "      <td>-3.808992e-02</td>\n",
       "      <td>1.000000e+00</td>\n",
       "      <td>-3.809149e-02</td>\n",
       "      <td>-5.795732e-02</td>\n",
       "      <td>4.653223e-02</td>\n",
       "    </tr>\n",
       "    <tr>\n",
       "      <th>plate</th>\n",
       "      <td>4.156934e-16</td>\n",
       "      <td>-9.532933e-02</td>\n",
       "      <td>8.834153e-02</td>\n",
       "      <td>-1.294304e-01</td>\n",
       "      <td>-5.498078e-02</td>\n",
       "      <td>1.978671e-02</td>\n",
       "      <td>7.295843e-02</td>\n",
       "      <td>1.123969e-01</td>\n",
       "      <td>9.360107e-02</td>\n",
       "      <td>NaN</td>\n",
       "      <td>4.079461e-02</td>\n",
       "      <td>-9.372323e-02</td>\n",
       "      <td>1.000000e+00</td>\n",
       "      <td>-3.809149e-02</td>\n",
       "      <td>1.000000e+00</td>\n",
       "      <td>9.668808e-01</td>\n",
       "      <td>2.298108e-01</td>\n",
       "    </tr>\n",
       "    <tr>\n",
       "      <th>mjd</th>\n",
       "      <td>-3.317582e-15</td>\n",
       "      <td>-8.688726e-02</td>\n",
       "      <td>6.614663e-02</td>\n",
       "      <td>-1.687927e-01</td>\n",
       "      <td>-9.277155e-02</td>\n",
       "      <td>-9.344506e-03</td>\n",
       "      <td>5.089616e-02</td>\n",
       "      <td>9.565845e-02</td>\n",
       "      <td>7.035433e-02</td>\n",
       "      <td>NaN</td>\n",
       "      <td>2.628396e-02</td>\n",
       "      <td>-8.655805e-02</td>\n",
       "      <td>9.668799e-01</td>\n",
       "      <td>-5.795732e-02</td>\n",
       "      <td>9.668808e-01</td>\n",
       "      <td>1.000000e+00</td>\n",
       "      <td>1.903281e-01</td>\n",
       "    </tr>\n",
       "    <tr>\n",
       "      <th>fiberid</th>\n",
       "      <td>4.665195e-15</td>\n",
       "      <td>5.748482e-02</td>\n",
       "      <td>1.550124e-01</td>\n",
       "      <td>1.130112e-02</td>\n",
       "      <td>4.718739e-02</td>\n",
       "      <td>6.108141e-02</td>\n",
       "      <td>6.997739e-02</td>\n",
       "      <td>6.797999e-02</td>\n",
       "      <td>1.385659e-01</td>\n",
       "      <td>NaN</td>\n",
       "      <td>5.356292e-01</td>\n",
       "      <td>-4.049295e-02</td>\n",
       "      <td>2.298375e-01</td>\n",
       "      <td>4.653223e-02</td>\n",
       "      <td>2.298108e-01</td>\n",
       "      <td>1.903281e-01</td>\n",
       "      <td>1.000000e+00</td>\n",
       "    </tr>\n",
       "  </tbody>\n",
       "</table>\n",
       "</div>"
      ],
      "text/plain": [
       "                  objid            ra           dec             u  \\\n",
       "objid      1.000000e+00  2.524419e-14 -1.937483e-15  5.581214e-14   \n",
       "ra         2.524419e-14  1.000000e+00  3.596046e-03  3.123756e-02   \n",
       "dec       -1.937483e-15  3.596046e-03  1.000000e+00  3.527932e-02   \n",
       "u          5.581214e-14  3.123756e-02  3.527932e-02  1.000000e+00   \n",
       "g          1.001149e-13  4.390863e-02  6.187471e-02  8.492320e-01   \n",
       "r          2.995673e-14  4.710290e-02  6.340395e-02  6.923790e-01   \n",
       "i          2.212198e-14  4.573107e-02  5.829189e-02  6.026302e-01   \n",
       "z         -4.107700e-14  4.294957e-02  5.687030e-02  5.514828e-01   \n",
       "run       -1.553011e-14 -9.274056e-02  7.783849e-01  3.822910e-02   \n",
       "rerun               NaN           NaN           NaN           NaN   \n",
       "camcol     1.921887e-15 -6.293831e-03  1.146139e-01  9.944672e-03   \n",
       "field      5.938881e-16  5.946996e-01 -1.314714e-01  8.547880e-03   \n",
       "specobjid -1.829075e-15 -9.532711e-02  8.834533e-02 -1.294293e-01   \n",
       "redshift   5.085882e-16  3.030740e-02  6.702076e-02  1.637409e-01   \n",
       "plate      4.156934e-16 -9.532933e-02  8.834153e-02 -1.294304e-01   \n",
       "mjd       -3.317582e-15 -8.688726e-02  6.614663e-02 -1.687927e-01   \n",
       "fiberid    4.665195e-15  5.748482e-02  1.550124e-01  1.130112e-02   \n",
       "\n",
       "                      g             r             i             z  \\\n",
       "objid      1.001149e-13  2.995673e-14  2.212198e-14 -4.107700e-14   \n",
       "ra         4.390863e-02  4.710290e-02  4.573107e-02  4.294957e-02   \n",
       "dec        6.187471e-02  6.340395e-02  5.829189e-02  5.687030e-02   \n",
       "u          8.492320e-01  6.923790e-01  6.026302e-01  5.514828e-01   \n",
       "g          1.000000e+00  9.581062e-01  9.074187e-01  8.796222e-01   \n",
       "r          9.581062e-01  1.000000e+00  9.776718e-01  9.691967e-01   \n",
       "i          9.074187e-01  9.776718e-01  1.000000e+00  9.815066e-01   \n",
       "z          8.796222e-01  9.691967e-01  9.815066e-01  1.000000e+00   \n",
       "run        5.844630e-02  5.726060e-02  4.976478e-02  4.825225e-02   \n",
       "rerun               NaN           NaN           NaN           NaN   \n",
       "camcol     1.022304e-02  1.074725e-02  1.346079e-02  1.092981e-02   \n",
       "field      1.465110e-02  1.713294e-02  1.978147e-02  1.824845e-02   \n",
       "specobjid -5.497908e-02  1.978831e-02  7.295994e-02  1.123981e-01   \n",
       "redshift   4.075763e-01  4.410797e-01  4.314500e-01  4.240342e-01   \n",
       "plate     -5.498078e-02  1.978671e-02  7.295843e-02  1.123969e-01   \n",
       "mjd       -9.277155e-02 -9.344506e-03  5.089616e-02  9.565845e-02   \n",
       "fiberid    4.718739e-02  6.108141e-02  6.997739e-02  6.797999e-02   \n",
       "\n",
       "                    run  rerun        camcol         field     specobjid  \\\n",
       "objid     -1.553011e-14    NaN  1.921887e-15  5.938881e-16 -1.829075e-15   \n",
       "ra        -9.274056e-02    NaN -6.293831e-03  5.946996e-01 -9.532711e-02   \n",
       "dec        7.783849e-01    NaN  1.146139e-01 -1.314714e-01  8.834533e-02   \n",
       "u          3.822910e-02    NaN  9.944672e-03  8.547880e-03 -1.294293e-01   \n",
       "g          5.844630e-02    NaN  1.022304e-02  1.465110e-02 -5.497908e-02   \n",
       "r          5.726060e-02    NaN  1.074725e-02  1.713294e-02  1.978831e-02   \n",
       "i          4.976478e-02    NaN  1.346079e-02  1.978147e-02  7.295994e-02   \n",
       "z          4.825225e-02    NaN  1.092981e-02  1.824845e-02  1.123981e-01   \n",
       "run        1.000000e+00    NaN  1.518143e-01 -4.638975e-01  9.360436e-02   \n",
       "rerun               NaN    NaN           NaN           NaN           NaN   \n",
       "camcol     1.518143e-01    NaN  1.000000e+00 -6.792055e-02  4.080943e-02   \n",
       "field     -4.638975e-01    NaN -6.792055e-02  1.000000e+00 -9.372375e-02   \n",
       "specobjid  9.360436e-02    NaN  4.080943e-02 -9.372375e-02  1.000000e+00   \n",
       "redshift   5.905595e-02    NaN  6.833537e-03  1.541360e-02 -3.808992e-02   \n",
       "plate      9.360107e-02    NaN  4.079461e-02 -9.372323e-02  1.000000e+00   \n",
       "mjd        7.035433e-02    NaN  2.628396e-02 -8.655805e-02  9.668799e-01   \n",
       "fiberid    1.385659e-01    NaN  5.356292e-01 -4.049295e-02  2.298375e-01   \n",
       "\n",
       "               redshift         plate           mjd       fiberid  \n",
       "objid      5.085882e-16  4.156934e-16 -3.317582e-15  4.665195e-15  \n",
       "ra         3.030740e-02 -9.532933e-02 -8.688726e-02  5.748482e-02  \n",
       "dec        6.702076e-02  8.834153e-02  6.614663e-02  1.550124e-01  \n",
       "u          1.637409e-01 -1.294304e-01 -1.687927e-01  1.130112e-02  \n",
       "g          4.075763e-01 -5.498078e-02 -9.277155e-02  4.718739e-02  \n",
       "r          4.410797e-01  1.978671e-02 -9.344506e-03  6.108141e-02  \n",
       "i          4.314500e-01  7.295843e-02  5.089616e-02  6.997739e-02  \n",
       "z          4.240342e-01  1.123969e-01  9.565845e-02  6.797999e-02  \n",
       "run        5.905595e-02  9.360107e-02  7.035433e-02  1.385659e-01  \n",
       "rerun               NaN           NaN           NaN           NaN  \n",
       "camcol     6.833537e-03  4.079461e-02  2.628396e-02  5.356292e-01  \n",
       "field      1.541360e-02 -9.372323e-02 -8.655805e-02 -4.049295e-02  \n",
       "specobjid -3.808992e-02  1.000000e+00  9.668799e-01  2.298375e-01  \n",
       "redshift   1.000000e+00 -3.809149e-02 -5.795732e-02  4.653223e-02  \n",
       "plate     -3.809149e-02  1.000000e+00  9.668808e-01  2.298108e-01  \n",
       "mjd       -5.795732e-02  9.668808e-01  1.000000e+00  1.903281e-01  \n",
       "fiberid    4.653223e-02  2.298108e-01  1.903281e-01  1.000000e+00  "
      ]
     },
     "execution_count": 12,
     "metadata": {},
     "output_type": "execute_result"
    }
   ],
   "source": [
    "df.corr()        # Statistical correlation"
   ]
  },
  {
   "cell_type": "code",
   "execution_count": 13,
   "metadata": {},
   "outputs": [
    {
     "data": {
      "image/png": "[encoded data removed]",
      "text/plain": [
       "<Figure size 1080x576 with 2 Axes>"
      ]
     },
     "metadata": {
      "needs_background": "light"
     },
     "output_type": "display_data"
    }
   ],
   "source": [
    "import matplotlib.pyplot as plt      # Checking correlation --- from below info all features are positively correlated.\n",
    "plt.figure(figsize=(15,8))\n",
    "sns.heatmap(df.corr(),annot=True)    \n",
    "plt.show()"
   ]
  },
  {
   "cell_type": "code",
   "execution_count": 14,
   "metadata": {},
   "outputs": [
    {
     "data": {
      "text/plain": [
       "<matplotlib.axes._subplots.AxesSubplot at 0x550b92c408>"
      ]
     },
     "execution_count": 14,
     "metadata": {},
     "output_type": "execute_result"
    },
    {
     "data": {
      "image/png": "[encoded data removed]",
      "text/plain": [
       "<Figure size 432x288 with 1 Axes>"
      ]
     },
     "metadata": {
      "needs_background": "light"
     },
     "output_type": "display_data"
    }
   ],
   "source": [
    "sns.barplot(x=df['objid'],y=df['class'],data=df)   # we can drop this column as this one is useless"
   ]
  },
  {
   "cell_type": "code",
   "execution_count": 15,
   "metadata": {},
   "outputs": [],
   "source": [
    "df.drop('objid',axis=1,inplace=True)"
   ]
  },
  {
   "cell_type": "code",
   "execution_count": 16,
   "metadata": {},
   "outputs": [
    {
     "data": {
      "text/plain": [
       "<matplotlib.axes._subplots.AxesSubplot at 0x550c348508>"
      ]
     },
     "execution_count": 16,
     "metadata": {},
     "output_type": "execute_result"
    },
    {
     "data": {
      "image/png": "[encoded data removed]",
      "text/plain": [
       "<Figure size 432x288 with 1 Axes>"
      ]
     },
     "metadata": {
      "needs_background": "light"
     },
     "output_type": "display_data"
    }
   ],
   "source": [
    "#plt.figure(figsize=(28,10))\n",
    "sns.barplot(x=df['ra'],y=df['class'],data=df)"
   ]
  },
  {
   "cell_type": "code",
   "execution_count": 17,
   "metadata": {},
   "outputs": [
    {
     "data": {
      "text/plain": [
       "<matplotlib.axes._subplots.AxesSubplot at 0x550c1e0b08>"
      ]
     },
     "execution_count": 17,
     "metadata": {},
     "output_type": "execute_result"
    },
    {
     "data": {
      "image/png": "[encoded data removed]",
      "text/plain": [
       "<Figure size 432x288 with 1 Axes>"
      ]
     },
     "metadata": {
      "needs_background": "light"
     },
     "output_type": "display_data"
    }
   ],
   "source": [
    "sns.barplot(x=df['dec'],y=df['class'],data=df)      # declination r-band is higher for QSO than star and galaxy."
   ]
  },
  {
   "cell_type": "code",
   "execution_count": 18,
   "metadata": {},
   "outputs": [
    {
     "data": {
      "text/plain": [
       "<matplotlib.axes._subplots.AxesSubplot at 0x550c9c1148>"
      ]
     },
     "execution_count": 18,
     "metadata": {},
     "output_type": "execute_result"
    },
    {
     "data": {
      "image/png": "[encoded data removed]",
      "text/plain": [
       "<Figure size 432x288 with 1 Axes>"
      ]
     },
     "metadata": {
      "needs_background": "light"
     },
     "output_type": "display_data"
    }
   ],
   "source": [
    "sns.barplot(x=df['g'],y=df['class'],data=df)   "
   ]
  },
  {
   "cell_type": "code",
   "execution_count": 19,
   "metadata": {},
   "outputs": [
    {
     "data": {
      "text/plain": [
       "<matplotlib.axes._subplots.AxesSubplot at 0x550b8e2548>"
      ]
     },
     "execution_count": 19,
     "metadata": {},
     "output_type": "execute_result"
    },
    {
     "data": {
      "image/png": "[encoded data removed]",
      "text/plain": [
       "<Figure size 432x288 with 1 Axes>"
      ]
     },
     "metadata": {
      "needs_background": "light"
     },
     "output_type": "display_data"
    }
   ],
   "source": [
    "sns.barplot(x=df['i'],y=df['class'],data=df) "
   ]
  },
  {
   "cell_type": "code",
   "execution_count": 20,
   "metadata": {},
   "outputs": [
    {
     "data": {
      "text/plain": [
       "<matplotlib.axes._subplots.AxesSubplot at 0x550b91cd08>"
      ]
     },
     "execution_count": 20,
     "metadata": {},
     "output_type": "execute_result"
    },
    {
     "data": {
      "image/png": "[encoded data removed]",
      "text/plain": [
       "<Figure size 432x288 with 1 Axes>"
      ]
     },
     "metadata": {
      "needs_background": "light"
     },
     "output_type": "display_data"
    }
   ],
   "source": [
    "sns.barplot(x=df['z'],y=df['class'],data=df) "
   ]
  },
  {
   "cell_type": "code",
   "execution_count": 21,
   "metadata": {},
   "outputs": [
    {
     "data": {
      "text/plain": [
       "<matplotlib.axes._subplots.AxesSubplot at 0x550b8aba48>"
      ]
     },
     "execution_count": 21,
     "metadata": {},
     "output_type": "execute_result"
    },
    {
     "data": {
      "image/png": "[encoded data removed]",
      "text/plain": [
       "<Figure size 432x288 with 1 Axes>"
      ]
     },
     "metadata": {
      "needs_background": "light"
     },
     "output_type": "display_data"
    }
   ],
   "source": [
    "sns.barplot(x=df['r'],y=df['class'],data=df) "
   ]
  },
  {
   "cell_type": "code",
   "execution_count": 22,
   "metadata": {},
   "outputs": [
    {
     "data": {
      "text/plain": [
       "<matplotlib.axes._subplots.AxesSubplot at 0x550b984808>"
      ]
     },
     "execution_count": 22,
     "metadata": {},
     "output_type": "execute_result"
    },
    {
     "data": {
      "image/png": "[encoded data removed]",
      "text/plain": [
       "<Figure size 432x288 with 1 Axes>"
      ]
     },
     "metadata": {
      "needs_background": "light"
     },
     "output_type": "display_data"
    }
   ],
   "source": [
    "#plt.figure(figsize=(30,20))\n",
    "sns.barplot(x=df['redshift'],y=df['class'],data=df) # No redshift happened in star and highly in QSO"
   ]
  },
  {
   "cell_type": "code",
   "execution_count": 23,
   "metadata": {},
   "outputs": [
    {
     "data": {
      "text/plain": [
       "<matplotlib.axes._subplots.AxesSubplot at 0x550c21df48>"
      ]
     },
     "execution_count": 23,
     "metadata": {},
     "output_type": "execute_result"
    },
    {
     "data": {
      "image/png": "[encoded data removed]",
      "text/plain": [
       "<Figure size 432x288 with 1 Axes>"
      ]
     },
     "metadata": {
      "needs_background": "light"
     },
     "output_type": "display_data"
    }
   ],
   "source": [
    "sns.barplot(x=df['specobjid'],y=df['class'],data=df)   # STAR highly identifies by specobjid"
   ]
  },
  {
   "cell_type": "code",
   "execution_count": 24,
   "metadata": {},
   "outputs": [
    {
     "data": {
      "text/plain": [
       "<matplotlib.axes._subplots.AxesSubplot at 0x550c2a2f08>"
      ]
     },
     "execution_count": 24,
     "metadata": {},
     "output_type": "execute_result"
    },
    {
     "data": {
      "image/png": "[encoded data removed]",
      "text/plain": [
       "<Figure size 432x288 with 1 Axes>"
      ]
     },
     "metadata": {
      "needs_background": "light"
     },
     "output_type": "display_data"
    }
   ],
   "source": [
    "sns.barplot(x=df['fiberid'],y=df['class'],data=df)"
   ]
  },
  {
   "cell_type": "code",
   "execution_count": 25,
   "metadata": {},
   "outputs": [
    {
     "data": {
      "text/plain": [
       "<matplotlib.axes._subplots.AxesSubplot at 0x550c2f9a88>"
      ]
     },
     "execution_count": 25,
     "metadata": {},
     "output_type": "execute_result"
    },
    {
     "data": {
      "image/png": "[encoded data removed]",
      "text/plain": [
       "<Figure size 432x288 with 1 Axes>"
      ]
     },
     "metadata": {
      "needs_background": "light"
     },
     "output_type": "display_data"
    }
   ],
   "source": [
    "sns.barplot(x=df['camcol'],y=df['specobjid'],data=df)"
   ]
  },
  {
   "cell_type": "code",
   "execution_count": 26,
   "metadata": {},
   "outputs": [
    {
     "data": {
      "text/html": [
       "<div>\n",
       "<style scoped>\n",
       "    .dataframe tbody tr th:only-of-type {\n",
       "        vertical-align: middle;\n",
       "    }\n",
       "\n",
       "    .dataframe tbody tr th {\n",
       "        vertical-align: top;\n",
       "    }\n",
       "\n",
       "    .dataframe thead th {\n",
       "        text-align: right;\n",
       "    }\n",
       "</style>\n",
       "<table border=\"1\" class=\"dataframe\">\n",
       "  <thead>\n",
       "    <tr style=\"text-align: right;\">\n",
       "      <th></th>\n",
       "      <th>ra</th>\n",
       "      <th>dec</th>\n",
       "      <th>u</th>\n",
       "      <th>g</th>\n",
       "      <th>r</th>\n",
       "      <th>i</th>\n",
       "      <th>z</th>\n",
       "      <th>run</th>\n",
       "      <th>rerun</th>\n",
       "      <th>camcol</th>\n",
       "      <th>field</th>\n",
       "      <th>specobjid</th>\n",
       "      <th>class</th>\n",
       "      <th>redshift</th>\n",
       "      <th>plate</th>\n",
       "      <th>mjd</th>\n",
       "      <th>fiberid</th>\n",
       "    </tr>\n",
       "  </thead>\n",
       "  <tbody>\n",
       "    <tr>\n",
       "      <th>0</th>\n",
       "      <td>183.531326</td>\n",
       "      <td>0.089693</td>\n",
       "      <td>19.47406</td>\n",
       "      <td>17.04240</td>\n",
       "      <td>15.94699</td>\n",
       "      <td>15.50342</td>\n",
       "      <td>15.22531</td>\n",
       "      <td>752</td>\n",
       "      <td>301</td>\n",
       "      <td>4</td>\n",
       "      <td>267</td>\n",
       "      <td>3.722360e+18</td>\n",
       "      <td>2</td>\n",
       "      <td>-0.000009</td>\n",
       "      <td>3306</td>\n",
       "      <td>54922</td>\n",
       "      <td>491</td>\n",
       "    </tr>\n",
       "    <tr>\n",
       "      <th>1</th>\n",
       "      <td>183.598371</td>\n",
       "      <td>0.135285</td>\n",
       "      <td>18.66280</td>\n",
       "      <td>17.21449</td>\n",
       "      <td>16.67637</td>\n",
       "      <td>16.48922</td>\n",
       "      <td>16.39150</td>\n",
       "      <td>752</td>\n",
       "      <td>301</td>\n",
       "      <td>4</td>\n",
       "      <td>267</td>\n",
       "      <td>3.638140e+17</td>\n",
       "      <td>2</td>\n",
       "      <td>-0.000055</td>\n",
       "      <td>323</td>\n",
       "      <td>51615</td>\n",
       "      <td>541</td>\n",
       "    </tr>\n",
       "    <tr>\n",
       "      <th>2</th>\n",
       "      <td>183.680207</td>\n",
       "      <td>0.126185</td>\n",
       "      <td>19.38298</td>\n",
       "      <td>18.19169</td>\n",
       "      <td>17.47428</td>\n",
       "      <td>17.08732</td>\n",
       "      <td>16.80125</td>\n",
       "      <td>752</td>\n",
       "      <td>301</td>\n",
       "      <td>4</td>\n",
       "      <td>268</td>\n",
       "      <td>3.232740e+17</td>\n",
       "      <td>0</td>\n",
       "      <td>0.123111</td>\n",
       "      <td>287</td>\n",
       "      <td>52023</td>\n",
       "      <td>513</td>\n",
       "    </tr>\n",
       "    <tr>\n",
       "      <th>3</th>\n",
       "      <td>183.870529</td>\n",
       "      <td>0.049911</td>\n",
       "      <td>17.76536</td>\n",
       "      <td>16.60272</td>\n",
       "      <td>16.16116</td>\n",
       "      <td>15.98233</td>\n",
       "      <td>15.90438</td>\n",
       "      <td>752</td>\n",
       "      <td>301</td>\n",
       "      <td>4</td>\n",
       "      <td>269</td>\n",
       "      <td>3.722370e+18</td>\n",
       "      <td>2</td>\n",
       "      <td>-0.000111</td>\n",
       "      <td>3306</td>\n",
       "      <td>54922</td>\n",
       "      <td>510</td>\n",
       "    </tr>\n",
       "    <tr>\n",
       "      <th>4</th>\n",
       "      <td>183.883288</td>\n",
       "      <td>0.102557</td>\n",
       "      <td>17.55025</td>\n",
       "      <td>16.26342</td>\n",
       "      <td>16.43869</td>\n",
       "      <td>16.55492</td>\n",
       "      <td>16.61326</td>\n",
       "      <td>752</td>\n",
       "      <td>301</td>\n",
       "      <td>4</td>\n",
       "      <td>269</td>\n",
       "      <td>3.722370e+18</td>\n",
       "      <td>2</td>\n",
       "      <td>0.000590</td>\n",
       "      <td>3306</td>\n",
       "      <td>54922</td>\n",
       "      <td>512</td>\n",
       "    </tr>\n",
       "    <tr>\n",
       "      <th>...</th>\n",
       "      <td>...</td>\n",
       "      <td>...</td>\n",
       "      <td>...</td>\n",
       "      <td>...</td>\n",
       "      <td>...</td>\n",
       "      <td>...</td>\n",
       "      <td>...</td>\n",
       "      <td>...</td>\n",
       "      <td>...</td>\n",
       "      <td>...</td>\n",
       "      <td>...</td>\n",
       "      <td>...</td>\n",
       "      <td>...</td>\n",
       "      <td>...</td>\n",
       "      <td>...</td>\n",
       "      <td>...</td>\n",
       "      <td>...</td>\n",
       "    </tr>\n",
       "    <tr>\n",
       "      <th>9995</th>\n",
       "      <td>131.316413</td>\n",
       "      <td>51.539547</td>\n",
       "      <td>18.81777</td>\n",
       "      <td>17.47053</td>\n",
       "      <td>16.91508</td>\n",
       "      <td>16.68305</td>\n",
       "      <td>16.50570</td>\n",
       "      <td>1345</td>\n",
       "      <td>301</td>\n",
       "      <td>3</td>\n",
       "      <td>161</td>\n",
       "      <td>5.033450e+17</td>\n",
       "      <td>0</td>\n",
       "      <td>0.027583</td>\n",
       "      <td>447</td>\n",
       "      <td>51877</td>\n",
       "      <td>246</td>\n",
       "    </tr>\n",
       "    <tr>\n",
       "      <th>9996</th>\n",
       "      <td>131.306083</td>\n",
       "      <td>51.671341</td>\n",
       "      <td>18.27255</td>\n",
       "      <td>17.43849</td>\n",
       "      <td>17.07692</td>\n",
       "      <td>16.71661</td>\n",
       "      <td>16.69897</td>\n",
       "      <td>1345</td>\n",
       "      <td>301</td>\n",
       "      <td>3</td>\n",
       "      <td>162</td>\n",
       "      <td>5.033400e+17</td>\n",
       "      <td>0</td>\n",
       "      <td>0.117772</td>\n",
       "      <td>447</td>\n",
       "      <td>51877</td>\n",
       "      <td>228</td>\n",
       "    </tr>\n",
       "    <tr>\n",
       "      <th>9997</th>\n",
       "      <td>131.552562</td>\n",
       "      <td>51.666986</td>\n",
       "      <td>18.75818</td>\n",
       "      <td>17.77784</td>\n",
       "      <td>17.51872</td>\n",
       "      <td>17.43302</td>\n",
       "      <td>17.42048</td>\n",
       "      <td>1345</td>\n",
       "      <td>301</td>\n",
       "      <td>3</td>\n",
       "      <td>162</td>\n",
       "      <td>8.222620e+18</td>\n",
       "      <td>2</td>\n",
       "      <td>-0.000402</td>\n",
       "      <td>7303</td>\n",
       "      <td>57013</td>\n",
       "      <td>622</td>\n",
       "    </tr>\n",
       "    <tr>\n",
       "      <th>9998</th>\n",
       "      <td>131.477151</td>\n",
       "      <td>51.753068</td>\n",
       "      <td>18.88287</td>\n",
       "      <td>17.91068</td>\n",
       "      <td>17.53152</td>\n",
       "      <td>17.36284</td>\n",
       "      <td>17.13988</td>\n",
       "      <td>1345</td>\n",
       "      <td>301</td>\n",
       "      <td>3</td>\n",
       "      <td>163</td>\n",
       "      <td>5.033400e+17</td>\n",
       "      <td>0</td>\n",
       "      <td>0.014019</td>\n",
       "      <td>447</td>\n",
       "      <td>51877</td>\n",
       "      <td>229</td>\n",
       "    </tr>\n",
       "    <tr>\n",
       "      <th>9999</th>\n",
       "      <td>131.665012</td>\n",
       "      <td>51.805307</td>\n",
       "      <td>19.27586</td>\n",
       "      <td>17.37829</td>\n",
       "      <td>16.30542</td>\n",
       "      <td>15.83548</td>\n",
       "      <td>15.50588</td>\n",
       "      <td>1345</td>\n",
       "      <td>301</td>\n",
       "      <td>3</td>\n",
       "      <td>163</td>\n",
       "      <td>5.033410e+17</td>\n",
       "      <td>0</td>\n",
       "      <td>0.118417</td>\n",
       "      <td>447</td>\n",
       "      <td>51877</td>\n",
       "      <td>233</td>\n",
       "    </tr>\n",
       "  </tbody>\n",
       "</table>\n",
       "<p>10000 rows × 17 columns</p>\n",
       "</div>"
      ],
      "text/plain": [
       "              ra        dec         u         g         r         i         z  \\\n",
       "0     183.531326   0.089693  19.47406  17.04240  15.94699  15.50342  15.22531   \n",
       "1     183.598371   0.135285  18.66280  17.21449  16.67637  16.48922  16.39150   \n",
       "2     183.680207   0.126185  19.38298  18.19169  17.47428  17.08732  16.80125   \n",
       "3     183.870529   0.049911  17.76536  16.60272  16.16116  15.98233  15.90438   \n",
       "4     183.883288   0.102557  17.55025  16.26342  16.43869  16.55492  16.61326   \n",
       "...          ...        ...       ...       ...       ...       ...       ...   \n",
       "9995  131.316413  51.539547  18.81777  17.47053  16.91508  16.68305  16.50570   \n",
       "9996  131.306083  51.671341  18.27255  17.43849  17.07692  16.71661  16.69897   \n",
       "9997  131.552562  51.666986  18.75818  17.77784  17.51872  17.43302  17.42048   \n",
       "9998  131.477151  51.753068  18.88287  17.91068  17.53152  17.36284  17.13988   \n",
       "9999  131.665012  51.805307  19.27586  17.37829  16.30542  15.83548  15.50588   \n",
       "\n",
       "       run  rerun  camcol  field     specobjid  class  redshift  plate    mjd  \\\n",
       "0      752    301       4    267  3.722360e+18      2 -0.000009   3306  54922   \n",
       "1      752    301       4    267  3.638140e+17      2 -0.000055    323  51615   \n",
       "2      752    301       4    268  3.232740e+17      0  0.123111    287  52023   \n",
       "3      752    301       4    269  3.722370e+18      2 -0.000111   3306  54922   \n",
       "4      752    301       4    269  3.722370e+18      2  0.000590   3306  54922   \n",
       "...    ...    ...     ...    ...           ...    ...       ...    ...    ...   \n",
       "9995  1345    301       3    161  5.033450e+17      0  0.027583    447  51877   \n",
       "9996  1345    301       3    162  5.033400e+17      0  0.117772    447  51877   \n",
       "9997  1345    301       3    162  8.222620e+18      2 -0.000402   7303  57013   \n",
       "9998  1345    301       3    163  5.033400e+17      0  0.014019    447  51877   \n",
       "9999  1345    301       3    163  5.033410e+17      0  0.118417    447  51877   \n",
       "\n",
       "      fiberid  \n",
       "0         491  \n",
       "1         541  \n",
       "2         513  \n",
       "3         510  \n",
       "4         512  \n",
       "...       ...  \n",
       "9995      246  \n",
       "9996      228  \n",
       "9997      622  \n",
       "9998      229  \n",
       "9999      233  \n",
       "\n",
       "[10000 rows x 17 columns]"
      ]
     },
     "execution_count": 26,
     "metadata": {},
     "output_type": "execute_result"
    }
   ],
   "source": [
    "from sklearn.preprocessing import LabelEncoder\n",
    "le=LabelEncoder()\n",
    "df['class']=le.fit_transform(df['class'])\n",
    "df"
   ]
  },
  {
   "cell_type": "code",
   "execution_count": 27,
   "metadata": {},
   "outputs": [
    {
     "data": {
      "text/plain": [
       "0    4998\n",
       "2    4152\n",
       "1     850\n",
       "Name: class, dtype: int64"
      ]
     },
     "execution_count": 27,
     "metadata": {},
     "output_type": "execute_result"
    }
   ],
   "source": [
    "df['class'].value_counts()"
   ]
  },
  {
   "cell_type": "code",
   "execution_count": 28,
   "metadata": {},
   "outputs": [
    {
     "data": {
      "text/plain": [
       "<matplotlib.axes._subplots.AxesSubplot at 0x550c4813c8>"
      ]
     },
     "execution_count": 28,
     "metadata": {},
     "output_type": "execute_result"
    },
    {
     "data": {
      "image/png": "[encoded data removed]",
      "text/plain": [
       "<Figure size 432x288 with 1 Axes>"
      ]
     },
     "metadata": {
      "needs_background": "light"
     },
     "output_type": "display_data"
    }
   ],
   "source": [
    "sns.boxplot(df['dec'])"
   ]
  },
  {
   "cell_type": "code",
   "execution_count": 29,
   "metadata": {},
   "outputs": [
    {
     "data": {
      "text/plain": [
       "<matplotlib.axes._subplots.AxesSubplot at 0x550c55d248>"
      ]
     },
     "execution_count": 29,
     "metadata": {},
     "output_type": "execute_result"
    },
    {
     "data": {
      "image/png": "[encoded data removed]",
      "text/plain": [
       "<Figure size 432x288 with 1 Axes>"
      ]
     },
     "metadata": {
      "needs_background": "light"
     },
     "output_type": "display_data"
    }
   ],
   "source": [
    "sns.boxplot(df['specobjid'])"
   ]
  },
  {
   "cell_type": "code",
   "execution_count": 30,
   "metadata": {},
   "outputs": [
    {
     "data": {
      "image/png": "[encoded data removed]",
      "text/plain": [
       "<Figure size 1296x25920 with 16 Axes>"
      ]
     },
     "metadata": {
      "needs_background": "light"
     },
     "output_type": "display_data"
    }
   ],
   "source": [
    "import warnings\n",
    "import matplotlib.pyplot as plt\n",
    "warnings.filterwarnings('ignore')\n",
    "collist=df.columns.values\n",
    "ncol=18\n",
    "nrows=1000\n",
    "plt.figure(figsize=(ncol,20*ncol))\n",
    "for i in range(1,len(collist)):\n",
    "    plt.subplot(nrows,ncol,i+1)\n",
    "    sns.boxplot(df[collist[i]],color='green',orient='H')\n",
    "    plt.tight_layout()"
   ]
  },
  {
   "cell_type": "code",
   "execution_count": 31,
   "metadata": {},
   "outputs": [],
   "source": [
    "from scipy.stats import zscore\n",
    "import numpy as np"
   ]
  },
  {
   "cell_type": "code",
   "execution_count": 32,
   "metadata": {},
   "outputs": [
    {
     "name": "stdout",
     "output_type": "stream",
     "text": [
      "[[ 0.07408641 -0.29852842  1.32418059 ...  1.32678164  1.33879117\n",
      "   0.7081785 ]\n",
      " [ 0.07573554 -0.28696465 -0.20368564 ... -0.80680079 -0.92440343\n",
      "   0.90966661]\n",
      " [ 0.07774912 -0.28924255  1.11220308 ... -1.01795982 -0.62158161\n",
      "   0.79763994]\n",
      " ...\n",
      " [-1.06731453  1.33754889 -0.06145018 ...  1.58529981  2.51820244\n",
      "   1.22334937]\n",
      " [-1.06876571  1.33853454  0.13784767 ... -0.29912303 -0.71720956\n",
      "  -0.4947363 ]\n",
      " [-1.06514946  1.33913207  0.87751907 ... -0.29912303 -0.71720956\n",
      "  -0.47365745]]\n"
     ]
    }
   ],
   "source": [
    "from sklearn.preprocessing import power_transform    #Tranforming data\n",
    "print(power_transform(df,method='yeo-johnson'))"
   ]
  },
  {
   "cell_type": "code",
   "execution_count": 33,
   "metadata": {},
   "outputs": [
    {
     "data": {
      "text/html": [
       "<div>\n",
       "<style scoped>\n",
       "    .dataframe tbody tr th:only-of-type {\n",
       "        vertical-align: middle;\n",
       "    }\n",
       "\n",
       "    .dataframe tbody tr th {\n",
       "        vertical-align: top;\n",
       "    }\n",
       "\n",
       "    .dataframe thead th {\n",
       "        text-align: right;\n",
       "    }\n",
       "</style>\n",
       "<table border=\"1\" class=\"dataframe\">\n",
       "  <thead>\n",
       "    <tr style=\"text-align: right;\">\n",
       "      <th></th>\n",
       "      <th>ra</th>\n",
       "      <th>dec</th>\n",
       "      <th>u</th>\n",
       "      <th>g</th>\n",
       "      <th>r</th>\n",
       "      <th>i</th>\n",
       "      <th>z</th>\n",
       "      <th>run</th>\n",
       "      <th>camcol</th>\n",
       "      <th>field</th>\n",
       "      <th>specobjid</th>\n",
       "      <th>class</th>\n",
       "      <th>redshift</th>\n",
       "      <th>plate</th>\n",
       "      <th>mjd</th>\n",
       "      <th>fiberid</th>\n",
       "    </tr>\n",
       "  </thead>\n",
       "  <tbody>\n",
       "    <tr>\n",
       "      <th>0</th>\n",
       "      <td>183.531326</td>\n",
       "      <td>0.089693</td>\n",
       "      <td>19.47406</td>\n",
       "      <td>17.04240</td>\n",
       "      <td>15.94699</td>\n",
       "      <td>15.50342</td>\n",
       "      <td>15.22531</td>\n",
       "      <td>752</td>\n",
       "      <td>4</td>\n",
       "      <td>267</td>\n",
       "      <td>3.722360e+18</td>\n",
       "      <td>2</td>\n",
       "      <td>-0.000009</td>\n",
       "      <td>3306</td>\n",
       "      <td>54922</td>\n",
       "      <td>491</td>\n",
       "    </tr>\n",
       "    <tr>\n",
       "      <th>1</th>\n",
       "      <td>183.598371</td>\n",
       "      <td>0.135285</td>\n",
       "      <td>18.66280</td>\n",
       "      <td>17.21449</td>\n",
       "      <td>16.67637</td>\n",
       "      <td>16.48922</td>\n",
       "      <td>16.39150</td>\n",
       "      <td>752</td>\n",
       "      <td>4</td>\n",
       "      <td>267</td>\n",
       "      <td>3.638140e+17</td>\n",
       "      <td>2</td>\n",
       "      <td>-0.000055</td>\n",
       "      <td>323</td>\n",
       "      <td>51615</td>\n",
       "      <td>541</td>\n",
       "    </tr>\n",
       "    <tr>\n",
       "      <th>2</th>\n",
       "      <td>183.680207</td>\n",
       "      <td>0.126185</td>\n",
       "      <td>19.38298</td>\n",
       "      <td>18.19169</td>\n",
       "      <td>17.47428</td>\n",
       "      <td>17.08732</td>\n",
       "      <td>16.80125</td>\n",
       "      <td>752</td>\n",
       "      <td>4</td>\n",
       "      <td>268</td>\n",
       "      <td>3.232740e+17</td>\n",
       "      <td>0</td>\n",
       "      <td>0.123111</td>\n",
       "      <td>287</td>\n",
       "      <td>52023</td>\n",
       "      <td>513</td>\n",
       "    </tr>\n",
       "    <tr>\n",
       "      <th>3</th>\n",
       "      <td>183.870529</td>\n",
       "      <td>0.049911</td>\n",
       "      <td>17.76536</td>\n",
       "      <td>16.60272</td>\n",
       "      <td>16.16116</td>\n",
       "      <td>15.98233</td>\n",
       "      <td>15.90438</td>\n",
       "      <td>752</td>\n",
       "      <td>4</td>\n",
       "      <td>269</td>\n",
       "      <td>3.722370e+18</td>\n",
       "      <td>2</td>\n",
       "      <td>-0.000111</td>\n",
       "      <td>3306</td>\n",
       "      <td>54922</td>\n",
       "      <td>510</td>\n",
       "    </tr>\n",
       "    <tr>\n",
       "      <th>4</th>\n",
       "      <td>183.883288</td>\n",
       "      <td>0.102557</td>\n",
       "      <td>17.55025</td>\n",
       "      <td>16.26342</td>\n",
       "      <td>16.43869</td>\n",
       "      <td>16.55492</td>\n",
       "      <td>16.61326</td>\n",
       "      <td>752</td>\n",
       "      <td>4</td>\n",
       "      <td>269</td>\n",
       "      <td>3.722370e+18</td>\n",
       "      <td>2</td>\n",
       "      <td>0.000590</td>\n",
       "      <td>3306</td>\n",
       "      <td>54922</td>\n",
       "      <td>512</td>\n",
       "    </tr>\n",
       "    <tr>\n",
       "      <th>...</th>\n",
       "      <td>...</td>\n",
       "      <td>...</td>\n",
       "      <td>...</td>\n",
       "      <td>...</td>\n",
       "      <td>...</td>\n",
       "      <td>...</td>\n",
       "      <td>...</td>\n",
       "      <td>...</td>\n",
       "      <td>...</td>\n",
       "      <td>...</td>\n",
       "      <td>...</td>\n",
       "      <td>...</td>\n",
       "      <td>...</td>\n",
       "      <td>...</td>\n",
       "      <td>...</td>\n",
       "      <td>...</td>\n",
       "    </tr>\n",
       "    <tr>\n",
       "      <th>9995</th>\n",
       "      <td>131.316413</td>\n",
       "      <td>51.539547</td>\n",
       "      <td>18.81777</td>\n",
       "      <td>17.47053</td>\n",
       "      <td>16.91508</td>\n",
       "      <td>16.68305</td>\n",
       "      <td>16.50570</td>\n",
       "      <td>1345</td>\n",
       "      <td>3</td>\n",
       "      <td>161</td>\n",
       "      <td>5.033450e+17</td>\n",
       "      <td>0</td>\n",
       "      <td>0.027583</td>\n",
       "      <td>447</td>\n",
       "      <td>51877</td>\n",
       "      <td>246</td>\n",
       "    </tr>\n",
       "    <tr>\n",
       "      <th>9996</th>\n",
       "      <td>131.306083</td>\n",
       "      <td>51.671341</td>\n",
       "      <td>18.27255</td>\n",
       "      <td>17.43849</td>\n",
       "      <td>17.07692</td>\n",
       "      <td>16.71661</td>\n",
       "      <td>16.69897</td>\n",
       "      <td>1345</td>\n",
       "      <td>3</td>\n",
       "      <td>162</td>\n",
       "      <td>5.033400e+17</td>\n",
       "      <td>0</td>\n",
       "      <td>0.117772</td>\n",
       "      <td>447</td>\n",
       "      <td>51877</td>\n",
       "      <td>228</td>\n",
       "    </tr>\n",
       "    <tr>\n",
       "      <th>9997</th>\n",
       "      <td>131.552562</td>\n",
       "      <td>51.666986</td>\n",
       "      <td>18.75818</td>\n",
       "      <td>17.77784</td>\n",
       "      <td>17.51872</td>\n",
       "      <td>17.43302</td>\n",
       "      <td>17.42048</td>\n",
       "      <td>1345</td>\n",
       "      <td>3</td>\n",
       "      <td>162</td>\n",
       "      <td>8.222620e+18</td>\n",
       "      <td>2</td>\n",
       "      <td>-0.000402</td>\n",
       "      <td>7303</td>\n",
       "      <td>57013</td>\n",
       "      <td>622</td>\n",
       "    </tr>\n",
       "    <tr>\n",
       "      <th>9998</th>\n",
       "      <td>131.477151</td>\n",
       "      <td>51.753068</td>\n",
       "      <td>18.88287</td>\n",
       "      <td>17.91068</td>\n",
       "      <td>17.53152</td>\n",
       "      <td>17.36284</td>\n",
       "      <td>17.13988</td>\n",
       "      <td>1345</td>\n",
       "      <td>3</td>\n",
       "      <td>163</td>\n",
       "      <td>5.033400e+17</td>\n",
       "      <td>0</td>\n",
       "      <td>0.014019</td>\n",
       "      <td>447</td>\n",
       "      <td>51877</td>\n",
       "      <td>229</td>\n",
       "    </tr>\n",
       "    <tr>\n",
       "      <th>9999</th>\n",
       "      <td>131.665012</td>\n",
       "      <td>51.805307</td>\n",
       "      <td>19.27586</td>\n",
       "      <td>17.37829</td>\n",
       "      <td>16.30542</td>\n",
       "      <td>15.83548</td>\n",
       "      <td>15.50588</td>\n",
       "      <td>1345</td>\n",
       "      <td>3</td>\n",
       "      <td>163</td>\n",
       "      <td>5.033410e+17</td>\n",
       "      <td>0</td>\n",
       "      <td>0.118417</td>\n",
       "      <td>447</td>\n",
       "      <td>51877</td>\n",
       "      <td>233</td>\n",
       "    </tr>\n",
       "  </tbody>\n",
       "</table>\n",
       "<p>10000 rows × 16 columns</p>\n",
       "</div>"
      ],
      "text/plain": [
       "              ra        dec         u         g         r         i         z  \\\n",
       "0     183.531326   0.089693  19.47406  17.04240  15.94699  15.50342  15.22531   \n",
       "1     183.598371   0.135285  18.66280  17.21449  16.67637  16.48922  16.39150   \n",
       "2     183.680207   0.126185  19.38298  18.19169  17.47428  17.08732  16.80125   \n",
       "3     183.870529   0.049911  17.76536  16.60272  16.16116  15.98233  15.90438   \n",
       "4     183.883288   0.102557  17.55025  16.26342  16.43869  16.55492  16.61326   \n",
       "...          ...        ...       ...       ...       ...       ...       ...   \n",
       "9995  131.316413  51.539547  18.81777  17.47053  16.91508  16.68305  16.50570   \n",
       "9996  131.306083  51.671341  18.27255  17.43849  17.07692  16.71661  16.69897   \n",
       "9997  131.552562  51.666986  18.75818  17.77784  17.51872  17.43302  17.42048   \n",
       "9998  131.477151  51.753068  18.88287  17.91068  17.53152  17.36284  17.13988   \n",
       "9999  131.665012  51.805307  19.27586  17.37829  16.30542  15.83548  15.50588   \n",
       "\n",
       "       run  camcol  field     specobjid  class  redshift  plate    mjd  \\\n",
       "0      752       4    267  3.722360e+18      2 -0.000009   3306  54922   \n",
       "1      752       4    267  3.638140e+17      2 -0.000055    323  51615   \n",
       "2      752       4    268  3.232740e+17      0  0.123111    287  52023   \n",
       "3      752       4    269  3.722370e+18      2 -0.000111   3306  54922   \n",
       "4      752       4    269  3.722370e+18      2  0.000590   3306  54922   \n",
       "...    ...     ...    ...           ...    ...       ...    ...    ...   \n",
       "9995  1345       3    161  5.033450e+17      0  0.027583    447  51877   \n",
       "9996  1345       3    162  5.033400e+17      0  0.117772    447  51877   \n",
       "9997  1345       3    162  8.222620e+18      2 -0.000402   7303  57013   \n",
       "9998  1345       3    163  5.033400e+17      0  0.014019    447  51877   \n",
       "9999  1345       3    163  5.033410e+17      0  0.118417    447  51877   \n",
       "\n",
       "      fiberid  \n",
       "0         491  \n",
       "1         541  \n",
       "2         513  \n",
       "3         510  \n",
       "4         512  \n",
       "...       ...  \n",
       "9995      246  \n",
       "9996      228  \n",
       "9997      622  \n",
       "9998      229  \n",
       "9999      233  \n",
       "\n",
       "[10000 rows x 16 columns]"
      ]
     },
     "execution_count": 33,
     "metadata": {},
     "output_type": "execute_result"
    }
   ],
   "source": [
    "df.drop('rerun',axis=1,inplace=True)\n",
    "df"
   ]
  },
  {
   "cell_type": "code",
   "execution_count": 34,
   "metadata": {},
   "outputs": [
    {
     "data": {
      "text/plain": [
       "ra          -1.227350\n",
       "dec          1.191544\n",
       "u           -1.219795\n",
       "g           -0.536293\n",
       "r           -0.021673\n",
       "i            0.286442\n",
       "z            0.214313\n",
       "run          0.412555\n",
       "camcol      -0.100220\n",
       "field        0.249795\n",
       "specobjid    1.794627\n",
       "class        0.169292\n",
       "redshift     4.265729\n",
       "plate        1.794609\n",
       "mjd          1.039610\n",
       "fiberid      0.308053\n",
       "dtype: float64"
      ]
     },
     "execution_count": 34,
     "metadata": {},
     "output_type": "execute_result"
    }
   ],
   "source": [
    "df.skew()"
   ]
  },
  {
   "cell_type": "code",
   "execution_count": null,
   "metadata": {},
   "outputs": [],
   "source": []
  },
  {
   "cell_type": "code",
   "execution_count": 35,
   "metadata": {},
   "outputs": [],
   "source": [
    "import matplotlib.pyplot as plt"
   ]
  },
  {
   "cell_type": "code",
   "execution_count": 36,
   "metadata": {},
   "outputs": [
    {
     "data": {
      "text/plain": [
       "<matplotlib.axes._subplots.AxesSubplot at 0x5515dd0408>"
      ]
     },
     "execution_count": 36,
     "metadata": {},
     "output_type": "execute_result"
    },
    {
     "data": {
      "image/png": "[encoded data removed]",
      "text/plain": [
       "<Figure size 1152x1152 with 1 Axes>"
      ]
     },
     "metadata": {
      "needs_background": "light"
     },
     "output_type": "display_data"
    }
   ],
   "source": [
    "plt.figure(figsize = (16,16))\n",
    "sns.heatmap(df.corr(), annot = True, cbar = False)"
   ]
  },
  {
   "cell_type": "code",
   "execution_count": 37,
   "metadata": {},
   "outputs": [],
   "source": [
    "#df_new.shape"
   ]
  },
  {
   "cell_type": "code",
   "execution_count": 38,
   "metadata": {},
   "outputs": [
    {
     "data": {
      "text/plain": [
       "array([[0.16745842, 0.58492272, 1.03148637, ..., 1.03148936, 1.30931064,\n",
       "        0.66863177],\n",
       "       [0.16886159, 0.58311429, 0.05243046, ..., 0.63621258, 0.87919741,\n",
       "        0.91101156],\n",
       "       [0.17057433, 0.58347525, 0.92156796, ..., 0.65633905, 0.60919097,\n",
       "        0.77527888],\n",
       "       ...,\n",
       "       [0.92039468, 1.46090664, 0.16753826, ..., 3.26608697, 2.69309363,\n",
       "        1.3036668 ],\n",
       "       [0.92197294, 1.46432109, 0.31801835, ..., 0.56688806, 0.70581092,\n",
       "        0.60143828],\n",
       "       [0.91804124, 1.46639319, 0.79229193, ..., 0.56688806, 0.70581092,\n",
       "        0.5820479 ]])"
      ]
     },
     "execution_count": 38,
     "metadata": {},
     "output_type": "execute_result"
    }
   ],
   "source": [
    "z=np.abs(zscore(df))    \n",
    "z"
   ]
  },
  {
   "cell_type": "code",
   "execution_count": 39,
   "metadata": {},
   "outputs": [
    {
     "name": "stdout",
     "output_type": "stream",
     "text": [
      "(array([  45,  109,  129, ..., 9994, 9997, 9997], dtype=int64), array([12, 12, 12, ..., 13, 10, 13], dtype=int64))\n"
     ]
    }
   ],
   "source": [
    "threshold=3               #Identifying outlirs\n",
    "print(np.where(z>3))"
   ]
  },
  {
   "cell_type": "code",
   "execution_count": 40,
   "metadata": {},
   "outputs": [
    {
     "data": {
      "text/html": [
       "<div>\n",
       "<style scoped>\n",
       "    .dataframe tbody tr th:only-of-type {\n",
       "        vertical-align: middle;\n",
       "    }\n",
       "\n",
       "    .dataframe tbody tr th {\n",
       "        vertical-align: top;\n",
       "    }\n",
       "\n",
       "    .dataframe thead th {\n",
       "        text-align: right;\n",
       "    }\n",
       "</style>\n",
       "<table border=\"1\" class=\"dataframe\">\n",
       "  <thead>\n",
       "    <tr style=\"text-align: right;\">\n",
       "      <th></th>\n",
       "      <th>ra</th>\n",
       "      <th>dec</th>\n",
       "      <th>u</th>\n",
       "      <th>g</th>\n",
       "      <th>r</th>\n",
       "      <th>i</th>\n",
       "      <th>z</th>\n",
       "      <th>run</th>\n",
       "      <th>camcol</th>\n",
       "      <th>field</th>\n",
       "      <th>specobjid</th>\n",
       "      <th>class</th>\n",
       "      <th>redshift</th>\n",
       "      <th>plate</th>\n",
       "      <th>mjd</th>\n",
       "      <th>fiberid</th>\n",
       "    </tr>\n",
       "  </thead>\n",
       "  <tbody>\n",
       "    <tr>\n",
       "      <th>0</th>\n",
       "      <td>183.531326</td>\n",
       "      <td>0.089693</td>\n",
       "      <td>19.47406</td>\n",
       "      <td>17.04240</td>\n",
       "      <td>15.94699</td>\n",
       "      <td>15.50342</td>\n",
       "      <td>15.22531</td>\n",
       "      <td>752</td>\n",
       "      <td>4</td>\n",
       "      <td>267</td>\n",
       "      <td>3.722360e+18</td>\n",
       "      <td>2</td>\n",
       "      <td>-0.000009</td>\n",
       "      <td>3306</td>\n",
       "      <td>54922</td>\n",
       "      <td>491</td>\n",
       "    </tr>\n",
       "    <tr>\n",
       "      <th>1</th>\n",
       "      <td>183.598371</td>\n",
       "      <td>0.135285</td>\n",
       "      <td>18.66280</td>\n",
       "      <td>17.21449</td>\n",
       "      <td>16.67637</td>\n",
       "      <td>16.48922</td>\n",
       "      <td>16.39150</td>\n",
       "      <td>752</td>\n",
       "      <td>4</td>\n",
       "      <td>267</td>\n",
       "      <td>3.638140e+17</td>\n",
       "      <td>2</td>\n",
       "      <td>-0.000055</td>\n",
       "      <td>323</td>\n",
       "      <td>51615</td>\n",
       "      <td>541</td>\n",
       "    </tr>\n",
       "    <tr>\n",
       "      <th>2</th>\n",
       "      <td>183.680207</td>\n",
       "      <td>0.126185</td>\n",
       "      <td>19.38298</td>\n",
       "      <td>18.19169</td>\n",
       "      <td>17.47428</td>\n",
       "      <td>17.08732</td>\n",
       "      <td>16.80125</td>\n",
       "      <td>752</td>\n",
       "      <td>4</td>\n",
       "      <td>268</td>\n",
       "      <td>3.232740e+17</td>\n",
       "      <td>0</td>\n",
       "      <td>0.123111</td>\n",
       "      <td>287</td>\n",
       "      <td>52023</td>\n",
       "      <td>513</td>\n",
       "    </tr>\n",
       "    <tr>\n",
       "      <th>3</th>\n",
       "      <td>183.870529</td>\n",
       "      <td>0.049911</td>\n",
       "      <td>17.76536</td>\n",
       "      <td>16.60272</td>\n",
       "      <td>16.16116</td>\n",
       "      <td>15.98233</td>\n",
       "      <td>15.90438</td>\n",
       "      <td>752</td>\n",
       "      <td>4</td>\n",
       "      <td>269</td>\n",
       "      <td>3.722370e+18</td>\n",
       "      <td>2</td>\n",
       "      <td>-0.000111</td>\n",
       "      <td>3306</td>\n",
       "      <td>54922</td>\n",
       "      <td>510</td>\n",
       "    </tr>\n",
       "    <tr>\n",
       "      <th>4</th>\n",
       "      <td>183.883288</td>\n",
       "      <td>0.102557</td>\n",
       "      <td>17.55025</td>\n",
       "      <td>16.26342</td>\n",
       "      <td>16.43869</td>\n",
       "      <td>16.55492</td>\n",
       "      <td>16.61326</td>\n",
       "      <td>752</td>\n",
       "      <td>4</td>\n",
       "      <td>269</td>\n",
       "      <td>3.722370e+18</td>\n",
       "      <td>2</td>\n",
       "      <td>0.000590</td>\n",
       "      <td>3306</td>\n",
       "      <td>54922</td>\n",
       "      <td>512</td>\n",
       "    </tr>\n",
       "    <tr>\n",
       "      <th>...</th>\n",
       "      <td>...</td>\n",
       "      <td>...</td>\n",
       "      <td>...</td>\n",
       "      <td>...</td>\n",
       "      <td>...</td>\n",
       "      <td>...</td>\n",
       "      <td>...</td>\n",
       "      <td>...</td>\n",
       "      <td>...</td>\n",
       "      <td>...</td>\n",
       "      <td>...</td>\n",
       "      <td>...</td>\n",
       "      <td>...</td>\n",
       "      <td>...</td>\n",
       "      <td>...</td>\n",
       "      <td>...</td>\n",
       "    </tr>\n",
       "    <tr>\n",
       "      <th>9993</th>\n",
       "      <td>131.398915</td>\n",
       "      <td>51.533706</td>\n",
       "      <td>17.79613</td>\n",
       "      <td>16.02621</td>\n",
       "      <td>15.15955</td>\n",
       "      <td>14.71488</td>\n",
       "      <td>14.33840</td>\n",
       "      <td>1345</td>\n",
       "      <td>3</td>\n",
       "      <td>161</td>\n",
       "      <td>5.033460e+17</td>\n",
       "      <td>0</td>\n",
       "      <td>0.055515</td>\n",
       "      <td>447</td>\n",
       "      <td>51877</td>\n",
       "      <td>249</td>\n",
       "    </tr>\n",
       "    <tr>\n",
       "      <th>9995</th>\n",
       "      <td>131.316413</td>\n",
       "      <td>51.539547</td>\n",
       "      <td>18.81777</td>\n",
       "      <td>17.47053</td>\n",
       "      <td>16.91508</td>\n",
       "      <td>16.68305</td>\n",
       "      <td>16.50570</td>\n",
       "      <td>1345</td>\n",
       "      <td>3</td>\n",
       "      <td>161</td>\n",
       "      <td>5.033450e+17</td>\n",
       "      <td>0</td>\n",
       "      <td>0.027583</td>\n",
       "      <td>447</td>\n",
       "      <td>51877</td>\n",
       "      <td>246</td>\n",
       "    </tr>\n",
       "    <tr>\n",
       "      <th>9996</th>\n",
       "      <td>131.306083</td>\n",
       "      <td>51.671341</td>\n",
       "      <td>18.27255</td>\n",
       "      <td>17.43849</td>\n",
       "      <td>17.07692</td>\n",
       "      <td>16.71661</td>\n",
       "      <td>16.69897</td>\n",
       "      <td>1345</td>\n",
       "      <td>3</td>\n",
       "      <td>162</td>\n",
       "      <td>5.033400e+17</td>\n",
       "      <td>0</td>\n",
       "      <td>0.117772</td>\n",
       "      <td>447</td>\n",
       "      <td>51877</td>\n",
       "      <td>228</td>\n",
       "    </tr>\n",
       "    <tr>\n",
       "      <th>9998</th>\n",
       "      <td>131.477151</td>\n",
       "      <td>51.753068</td>\n",
       "      <td>18.88287</td>\n",
       "      <td>17.91068</td>\n",
       "      <td>17.53152</td>\n",
       "      <td>17.36284</td>\n",
       "      <td>17.13988</td>\n",
       "      <td>1345</td>\n",
       "      <td>3</td>\n",
       "      <td>163</td>\n",
       "      <td>5.033400e+17</td>\n",
       "      <td>0</td>\n",
       "      <td>0.014019</td>\n",
       "      <td>447</td>\n",
       "      <td>51877</td>\n",
       "      <td>229</td>\n",
       "    </tr>\n",
       "    <tr>\n",
       "      <th>9999</th>\n",
       "      <td>131.665012</td>\n",
       "      <td>51.805307</td>\n",
       "      <td>19.27586</td>\n",
       "      <td>17.37829</td>\n",
       "      <td>16.30542</td>\n",
       "      <td>15.83548</td>\n",
       "      <td>15.50588</td>\n",
       "      <td>1345</td>\n",
       "      <td>3</td>\n",
       "      <td>163</td>\n",
       "      <td>5.033410e+17</td>\n",
       "      <td>0</td>\n",
       "      <td>0.118417</td>\n",
       "      <td>447</td>\n",
       "      <td>51877</td>\n",
       "      <td>233</td>\n",
       "    </tr>\n",
       "  </tbody>\n",
       "</table>\n",
       "<p>8698 rows × 16 columns</p>\n",
       "</div>"
      ],
      "text/plain": [
       "              ra        dec         u         g         r         i         z  \\\n",
       "0     183.531326   0.089693  19.47406  17.04240  15.94699  15.50342  15.22531   \n",
       "1     183.598371   0.135285  18.66280  17.21449  16.67637  16.48922  16.39150   \n",
       "2     183.680207   0.126185  19.38298  18.19169  17.47428  17.08732  16.80125   \n",
       "3     183.870529   0.049911  17.76536  16.60272  16.16116  15.98233  15.90438   \n",
       "4     183.883288   0.102557  17.55025  16.26342  16.43869  16.55492  16.61326   \n",
       "...          ...        ...       ...       ...       ...       ...       ...   \n",
       "9993  131.398915  51.533706  17.79613  16.02621  15.15955  14.71488  14.33840   \n",
       "9995  131.316413  51.539547  18.81777  17.47053  16.91508  16.68305  16.50570   \n",
       "9996  131.306083  51.671341  18.27255  17.43849  17.07692  16.71661  16.69897   \n",
       "9998  131.477151  51.753068  18.88287  17.91068  17.53152  17.36284  17.13988   \n",
       "9999  131.665012  51.805307  19.27586  17.37829  16.30542  15.83548  15.50588   \n",
       "\n",
       "       run  camcol  field     specobjid  class  redshift  plate    mjd  \\\n",
       "0      752       4    267  3.722360e+18      2 -0.000009   3306  54922   \n",
       "1      752       4    267  3.638140e+17      2 -0.000055    323  51615   \n",
       "2      752       4    268  3.232740e+17      0  0.123111    287  52023   \n",
       "3      752       4    269  3.722370e+18      2 -0.000111   3306  54922   \n",
       "4      752       4    269  3.722370e+18      2  0.000590   3306  54922   \n",
       "...    ...     ...    ...           ...    ...       ...    ...    ...   \n",
       "9993  1345       3    161  5.033460e+17      0  0.055515    447  51877   \n",
       "9995  1345       3    161  5.033450e+17      0  0.027583    447  51877   \n",
       "9996  1345       3    162  5.033400e+17      0  0.117772    447  51877   \n",
       "9998  1345       3    163  5.033400e+17      0  0.014019    447  51877   \n",
       "9999  1345       3    163  5.033410e+17      0  0.118417    447  51877   \n",
       "\n",
       "      fiberid  \n",
       "0         491  \n",
       "1         541  \n",
       "2         513  \n",
       "3         510  \n",
       "4         512  \n",
       "...       ...  \n",
       "9993      249  \n",
       "9995      246  \n",
       "9996      228  \n",
       "9998      229  \n",
       "9999      233  \n",
       "\n",
       "[8698 rows x 16 columns]"
      ]
     },
     "execution_count": 40,
     "metadata": {},
     "output_type": "execute_result"
    }
   ],
   "source": [
    "df1=df[(z<3).all(axis=1)]   #Removing outliers\n",
    "df1"
   ]
  },
  {
   "cell_type": "code",
   "execution_count": 41,
   "metadata": {},
   "outputs": [
    {
     "data": {
      "text/plain": [
       "(8698, 16)"
      ]
     },
     "execution_count": 41,
     "metadata": {},
     "output_type": "execute_result"
    }
   ],
   "source": [
    "df1.shape"
   ]
  },
  {
   "cell_type": "code",
   "execution_count": 42,
   "metadata": {},
   "outputs": [
    {
     "data": {
      "text/plain": [
       "ra          -0.130951\n",
       "dec          1.212911\n",
       "u           -0.981103\n",
       "g           -0.528033\n",
       "r           -0.153454\n",
       "i            0.055966\n",
       "z            0.167256\n",
       "run          0.518602\n",
       "camcol      -0.141193\n",
       "field        0.220032\n",
       "specobjid    1.320102\n",
       "class        0.292107\n",
       "redshift     4.951700\n",
       "plate        1.320088\n",
       "mjd          0.963989\n",
       "fiberid      0.065374\n",
       "dtype: float64"
      ]
     },
     "execution_count": 42,
     "metadata": {},
     "output_type": "execute_result"
    }
   ],
   "source": [
    "df1.skew()     # checking skeweness"
   ]
  },
  {
   "cell_type": "code",
   "execution_count": 43,
   "metadata": {},
   "outputs": [
    {
     "name": "stdout",
     "output_type": "stream",
     "text": [
      "MinMaxScaler(copy=True, feature_range=(0, 1))\n",
      "[[0.66136488 0.07402547 0.96369071 ... 0.46341463 0.65071025 0.50567595]\n",
      " [0.66165839 0.07464221 0.72961354 ... 0.00868902 0.00719984 0.55727554]\n",
      " [0.66201666 0.07451911 0.93741091 ... 0.00320122 0.08659272 0.52837977]\n",
      " ...\n",
      " [0.43273395 0.77178291 0.61701262 ... 0.02759146 0.05818253 0.23426213]\n",
      " [0.43348286 0.77288846 0.79311151 ... 0.02759146 0.05818253 0.23529412]\n",
      " [0.43430527 0.77359512 0.90650301 ... 0.02759146 0.05818253 0.23942208]]\n"
     ]
    }
   ],
   "source": [
    "from sklearn.preprocessing import MinMaxScaler\n",
    "scaler = MinMaxScaler()                   # scaling\n",
    "print(scaler.fit(df1))\n",
    "print(scaler.transform(df1))"
   ]
  },
  {
   "cell_type": "code",
   "execution_count": 44,
   "metadata": {},
   "outputs": [
    {
     "data": {
      "text/plain": [
       "ra           True\n",
       "dec          True\n",
       "u            True\n",
       "g            True\n",
       "r            True\n",
       "i            True\n",
       "z            True\n",
       "run          True\n",
       "camcol       True\n",
       "field        True\n",
       "specobjid    True\n",
       "class        True\n",
       "redshift     True\n",
       "plate        True\n",
       "mjd          True\n",
       "fiberid      True\n",
       "dtype: bool"
      ]
     },
     "execution_count": 44,
     "metadata": {},
     "output_type": "execute_result"
    }
   ],
   "source": [
    "np.isnan(df1.any()) #and gets False\n",
    "np.isfinite(df1.all()) #and gets True"
   ]
  },
  {
   "cell_type": "code",
   "execution_count": 45,
   "metadata": {},
   "outputs": [],
   "source": [
    "df1.replace([np.inf, -np.inf], np.nan, inplace=True)"
   ]
  },
  {
   "cell_type": "code",
   "execution_count": 46,
   "metadata": {},
   "outputs": [
    {
     "data": {
      "text/plain": [
       "ra           False\n",
       "dec          False\n",
       "u            False\n",
       "g            False\n",
       "r            False\n",
       "i            False\n",
       "z            False\n",
       "run          False\n",
       "camcol       False\n",
       "field        False\n",
       "specobjid    False\n",
       "class        False\n",
       "redshift     False\n",
       "plate        False\n",
       "mjd          False\n",
       "fiberid      False\n",
       "dtype: bool"
      ]
     },
     "execution_count": 46,
     "metadata": {},
     "output_type": "execute_result"
    }
   ],
   "source": [
    "np.isnan(df1.any())"
   ]
  },
  {
   "cell_type": "code",
   "execution_count": 47,
   "metadata": {},
   "outputs": [],
   "source": [
    "#removing skewness\n",
    "df1['dec']=np.cbrt(df1['dec'])\n",
    "df1['specobjid']=np.log1p(df1['specobjid'])\n",
    "df['redshift']=np.cbrt(df['redshift'])\n",
    "df['plate']=np.log(df['plate'])\n",
    "df['mjd']=np.log(df['mjd'])"
   ]
  },
  {
   "cell_type": "markdown",
   "metadata": {},
   "source": [
    "Separating x and y variables"
   ]
  },
  {
   "cell_type": "code",
   "execution_count": 48,
   "metadata": {},
   "outputs": [
    {
     "data": {
      "text/plain": [
       "0       2\n",
       "1       2\n",
       "2       0\n",
       "3       2\n",
       "4       2\n",
       "       ..\n",
       "9993    0\n",
       "9995    0\n",
       "9996    0\n",
       "9998    0\n",
       "9999    0\n",
       "Name: class, Length: 8698, dtype: int32"
      ]
     },
     "execution_count": 48,
     "metadata": {},
     "output_type": "execute_result"
    }
   ],
   "source": [
    "y=df1['class']\n",
    "y"
   ]
  },
  {
   "cell_type": "code",
   "execution_count": 49,
   "metadata": {},
   "outputs": [
    {
     "data": {
      "text/html": [
       "<div>\n",
       "<style scoped>\n",
       "    .dataframe tbody tr th:only-of-type {\n",
       "        vertical-align: middle;\n",
       "    }\n",
       "\n",
       "    .dataframe tbody tr th {\n",
       "        vertical-align: top;\n",
       "    }\n",
       "\n",
       "    .dataframe thead th {\n",
       "        text-align: right;\n",
       "    }\n",
       "</style>\n",
       "<table border=\"1\" class=\"dataframe\">\n",
       "  <thead>\n",
       "    <tr style=\"text-align: right;\">\n",
       "      <th></th>\n",
       "      <th>ra</th>\n",
       "      <th>dec</th>\n",
       "      <th>u</th>\n",
       "      <th>g</th>\n",
       "      <th>r</th>\n",
       "      <th>i</th>\n",
       "      <th>z</th>\n",
       "      <th>run</th>\n",
       "      <th>camcol</th>\n",
       "      <th>field</th>\n",
       "      <th>specobjid</th>\n",
       "      <th>redshift</th>\n",
       "      <th>plate</th>\n",
       "      <th>mjd</th>\n",
       "      <th>fiberid</th>\n",
       "    </tr>\n",
       "  </thead>\n",
       "  <tbody>\n",
       "    <tr>\n",
       "      <th>0</th>\n",
       "      <td>183.531326</td>\n",
       "      <td>0.447630</td>\n",
       "      <td>19.47406</td>\n",
       "      <td>17.04240</td>\n",
       "      <td>15.94699</td>\n",
       "      <td>15.50342</td>\n",
       "      <td>15.22531</td>\n",
       "      <td>752</td>\n",
       "      <td>4</td>\n",
       "      <td>267</td>\n",
       "      <td>42.760890</td>\n",
       "      <td>-0.000009</td>\n",
       "      <td>3306</td>\n",
       "      <td>54922</td>\n",
       "      <td>491</td>\n",
       "    </tr>\n",
       "    <tr>\n",
       "      <th>1</th>\n",
       "      <td>183.598371</td>\n",
       "      <td>0.513354</td>\n",
       "      <td>18.66280</td>\n",
       "      <td>17.21449</td>\n",
       "      <td>16.67637</td>\n",
       "      <td>16.48922</td>\n",
       "      <td>16.39150</td>\n",
       "      <td>752</td>\n",
       "      <td>4</td>\n",
       "      <td>267</td>\n",
       "      <td>40.435419</td>\n",
       "      <td>-0.000055</td>\n",
       "      <td>323</td>\n",
       "      <td>51615</td>\n",
       "      <td>541</td>\n",
       "    </tr>\n",
       "    <tr>\n",
       "      <th>2</th>\n",
       "      <td>183.680207</td>\n",
       "      <td>0.501575</td>\n",
       "      <td>19.38298</td>\n",
       "      <td>18.19169</td>\n",
       "      <td>17.47428</td>\n",
       "      <td>17.08732</td>\n",
       "      <td>16.80125</td>\n",
       "      <td>752</td>\n",
       "      <td>4</td>\n",
       "      <td>268</td>\n",
       "      <td>40.317277</td>\n",
       "      <td>0.123111</td>\n",
       "      <td>287</td>\n",
       "      <td>52023</td>\n",
       "      <td>513</td>\n",
       "    </tr>\n",
       "    <tr>\n",
       "      <th>3</th>\n",
       "      <td>183.870529</td>\n",
       "      <td>0.368184</td>\n",
       "      <td>17.76536</td>\n",
       "      <td>16.60272</td>\n",
       "      <td>16.16116</td>\n",
       "      <td>15.98233</td>\n",
       "      <td>15.90438</td>\n",
       "      <td>752</td>\n",
       "      <td>4</td>\n",
       "      <td>269</td>\n",
       "      <td>42.760892</td>\n",
       "      <td>-0.000111</td>\n",
       "      <td>3306</td>\n",
       "      <td>54922</td>\n",
       "      <td>510</td>\n",
       "    </tr>\n",
       "    <tr>\n",
       "      <th>4</th>\n",
       "      <td>183.883288</td>\n",
       "      <td>0.468081</td>\n",
       "      <td>17.55025</td>\n",
       "      <td>16.26342</td>\n",
       "      <td>16.43869</td>\n",
       "      <td>16.55492</td>\n",
       "      <td>16.61326</td>\n",
       "      <td>752</td>\n",
       "      <td>4</td>\n",
       "      <td>269</td>\n",
       "      <td>42.760892</td>\n",
       "      <td>0.000590</td>\n",
       "      <td>3306</td>\n",
       "      <td>54922</td>\n",
       "      <td>512</td>\n",
       "    </tr>\n",
       "    <tr>\n",
       "      <th>...</th>\n",
       "      <td>...</td>\n",
       "      <td>...</td>\n",
       "      <td>...</td>\n",
       "      <td>...</td>\n",
       "      <td>...</td>\n",
       "      <td>...</td>\n",
       "      <td>...</td>\n",
       "      <td>...</td>\n",
       "      <td>...</td>\n",
       "      <td>...</td>\n",
       "      <td>...</td>\n",
       "      <td>...</td>\n",
       "      <td>...</td>\n",
       "      <td>...</td>\n",
       "      <td>...</td>\n",
       "    </tr>\n",
       "    <tr>\n",
       "      <th>9993</th>\n",
       "      <td>131.398915</td>\n",
       "      <td>3.721321</td>\n",
       "      <td>17.79613</td>\n",
       "      <td>16.02621</td>\n",
       "      <td>15.15955</td>\n",
       "      <td>14.71488</td>\n",
       "      <td>14.33840</td>\n",
       "      <td>1345</td>\n",
       "      <td>3</td>\n",
       "      <td>161</td>\n",
       "      <td>40.760054</td>\n",
       "      <td>0.055515</td>\n",
       "      <td>447</td>\n",
       "      <td>51877</td>\n",
       "      <td>249</td>\n",
       "    </tr>\n",
       "    <tr>\n",
       "      <th>9995</th>\n",
       "      <td>131.316413</td>\n",
       "      <td>3.721462</td>\n",
       "      <td>18.81777</td>\n",
       "      <td>17.47053</td>\n",
       "      <td>16.91508</td>\n",
       "      <td>16.68305</td>\n",
       "      <td>16.50570</td>\n",
       "      <td>1345</td>\n",
       "      <td>3</td>\n",
       "      <td>161</td>\n",
       "      <td>40.760052</td>\n",
       "      <td>0.027583</td>\n",
       "      <td>447</td>\n",
       "      <td>51877</td>\n",
       "      <td>246</td>\n",
       "    </tr>\n",
       "    <tr>\n",
       "      <th>9996</th>\n",
       "      <td>131.306083</td>\n",
       "      <td>3.724631</td>\n",
       "      <td>18.27255</td>\n",
       "      <td>17.43849</td>\n",
       "      <td>17.07692</td>\n",
       "      <td>16.71661</td>\n",
       "      <td>16.69897</td>\n",
       "      <td>1345</td>\n",
       "      <td>3</td>\n",
       "      <td>162</td>\n",
       "      <td>40.760042</td>\n",
       "      <td>0.117772</td>\n",
       "      <td>447</td>\n",
       "      <td>51877</td>\n",
       "      <td>228</td>\n",
       "    </tr>\n",
       "    <tr>\n",
       "      <th>9998</th>\n",
       "      <td>131.477151</td>\n",
       "      <td>3.726594</td>\n",
       "      <td>18.88287</td>\n",
       "      <td>17.91068</td>\n",
       "      <td>17.53152</td>\n",
       "      <td>17.36284</td>\n",
       "      <td>17.13988</td>\n",
       "      <td>1345</td>\n",
       "      <td>3</td>\n",
       "      <td>163</td>\n",
       "      <td>40.760042</td>\n",
       "      <td>0.014019</td>\n",
       "      <td>447</td>\n",
       "      <td>51877</td>\n",
       "      <td>229</td>\n",
       "    </tr>\n",
       "    <tr>\n",
       "      <th>9999</th>\n",
       "      <td>131.665012</td>\n",
       "      <td>3.727847</td>\n",
       "      <td>19.27586</td>\n",
       "      <td>17.37829</td>\n",
       "      <td>16.30542</td>\n",
       "      <td>15.83548</td>\n",
       "      <td>15.50588</td>\n",
       "      <td>1345</td>\n",
       "      <td>3</td>\n",
       "      <td>163</td>\n",
       "      <td>40.760044</td>\n",
       "      <td>0.118417</td>\n",
       "      <td>447</td>\n",
       "      <td>51877</td>\n",
       "      <td>233</td>\n",
       "    </tr>\n",
       "  </tbody>\n",
       "</table>\n",
       "<p>8698 rows × 15 columns</p>\n",
       "</div>"
      ],
      "text/plain": [
       "              ra       dec         u         g         r         i         z  \\\n",
       "0     183.531326  0.447630  19.47406  17.04240  15.94699  15.50342  15.22531   \n",
       "1     183.598371  0.513354  18.66280  17.21449  16.67637  16.48922  16.39150   \n",
       "2     183.680207  0.501575  19.38298  18.19169  17.47428  17.08732  16.80125   \n",
       "3     183.870529  0.368184  17.76536  16.60272  16.16116  15.98233  15.90438   \n",
       "4     183.883288  0.468081  17.55025  16.26342  16.43869  16.55492  16.61326   \n",
       "...          ...       ...       ...       ...       ...       ...       ...   \n",
       "9993  131.398915  3.721321  17.79613  16.02621  15.15955  14.71488  14.33840   \n",
       "9995  131.316413  3.721462  18.81777  17.47053  16.91508  16.68305  16.50570   \n",
       "9996  131.306083  3.724631  18.27255  17.43849  17.07692  16.71661  16.69897   \n",
       "9998  131.477151  3.726594  18.88287  17.91068  17.53152  17.36284  17.13988   \n",
       "9999  131.665012  3.727847  19.27586  17.37829  16.30542  15.83548  15.50588   \n",
       "\n",
       "       run  camcol  field  specobjid  redshift  plate    mjd  fiberid  \n",
       "0      752       4    267  42.760890 -0.000009   3306  54922      491  \n",
       "1      752       4    267  40.435419 -0.000055    323  51615      541  \n",
       "2      752       4    268  40.317277  0.123111    287  52023      513  \n",
       "3      752       4    269  42.760892 -0.000111   3306  54922      510  \n",
       "4      752       4    269  42.760892  0.000590   3306  54922      512  \n",
       "...    ...     ...    ...        ...       ...    ...    ...      ...  \n",
       "9993  1345       3    161  40.760054  0.055515    447  51877      249  \n",
       "9995  1345       3    161  40.760052  0.027583    447  51877      246  \n",
       "9996  1345       3    162  40.760042  0.117772    447  51877      228  \n",
       "9998  1345       3    163  40.760042  0.014019    447  51877      229  \n",
       "9999  1345       3    163  40.760044  0.118417    447  51877      233  \n",
       "\n",
       "[8698 rows x 15 columns]"
      ]
     },
     "execution_count": 49,
     "metadata": {},
     "output_type": "execute_result"
    }
   ],
   "source": [
    "x=df1.drop(['class'],axis=1)\n",
    "x"
   ]
  },
  {
   "cell_type": "code",
   "execution_count": 50,
   "metadata": {},
   "outputs": [
    {
     "data": {
      "text/plain": [
       "array([[ 0.02256312, -0.23353061,  1.07641039, ...,  1.63757141,\n",
       "         1.66737566,  0.75499423],\n",
       "       [ 0.02442123, -0.19889793,  0.03976563, ..., -0.65934688,\n",
       "        -0.883708  ,  1.0168139 ],\n",
       "       [ 0.0266893 , -0.20510454,  0.96002649, ..., -0.68706698,\n",
       "        -0.56896893,  0.87019489],\n",
       "       ...,\n",
       "       [-1.42483409,  1.49327757, -0.45890387, ..., -0.56386654,\n",
       "        -0.68159614, -0.62217719],\n",
       "       [-1.42009301,  1.4943118 ,  0.32097561, ..., -0.56386654,\n",
       "        -0.68159614, -0.6169408 ],\n",
       "       [-1.41488653,  1.4949723 ,  0.82314634, ..., -0.56386654,\n",
       "        -0.68159614, -0.59599523]])"
      ]
     },
     "execution_count": 50,
     "metadata": {},
     "output_type": "execute_result"
    }
   ],
   "source": [
    "from sklearn.preprocessing import StandardScaler       # scaling data by StandardScaler\n",
    "sc=StandardScaler()\n",
    "x=sc.fit_transform(x)\n",
    "x"
   ]
  },
  {
   "cell_type": "markdown",
   "metadata": {},
   "source": [
    "Checking shape of x and y"
   ]
  },
  {
   "cell_type": "code",
   "execution_count": 51,
   "metadata": {},
   "outputs": [
    {
     "data": {
      "text/plain": [
       "(8698, 15)"
      ]
     },
     "execution_count": 51,
     "metadata": {},
     "output_type": "execute_result"
    }
   ],
   "source": [
    "x.shape"
   ]
  },
  {
   "cell_type": "code",
   "execution_count": 52,
   "metadata": {},
   "outputs": [
    {
     "data": {
      "text/plain": [
       "(8698,)"
      ]
     },
     "execution_count": 52,
     "metadata": {},
     "output_type": "execute_result"
    }
   ],
   "source": [
    "y.shape"
   ]
  },
  {
   "cell_type": "markdown",
   "metadata": {},
   "source": [
    "Building Models"
   ]
  },
  {
   "cell_type": "code",
   "execution_count": 53,
   "metadata": {},
   "outputs": [],
   "source": [
    "from sklearn.model_selection import train_test_split\n",
    "from sklearn.metrics import accuracy_score,confusion_matrix,classification_report,roc_curve,auc\n",
    "from sklearn.svm import SVC\n",
    "from sklearn.ensemble import RandomForestRegressor\n",
    "from sklearn.tree import DecisionTreeClassifier\n",
    "from sklearn.neighbors import KNeighborsClassifier\n",
    "from sklearn.metrics import r2_score\n",
    "import warnings\n",
    "warnings.filterwarnings('ignore')"
   ]
  },
  {
   "cell_type": "code",
   "execution_count": 54,
   "metadata": {},
   "outputs": [
    {
     "name": "stdout",
     "output_type": "stream",
     "text": [
      "r2_score corresponding to random state: 42 is:  0.9810166018678852\n",
      "r2_score corresponding to random state: 43 is:  0.9774838098711259\n",
      "r2_score corresponding to random state: 44 is:  0.9803278457449386\n",
      "r2_score corresponding to random state: 45 is:  0.9805933245555715\n",
      "r2_score corresponding to random state: 46 is:  0.9758446889396898\n",
      "r2_score corresponding to random state: 47 is:  0.9854670043408578\n",
      "r2_score corresponding to random state: 48 is:  0.9741537908742133\n",
      "r2_score corresponding to random state: 49 is:  0.9718905582235537\n",
      "r2_score corresponding to random state: 50 is:  0.9792720181025195\n",
      "r2_score corresponding to random state: 51 is:  0.9826345729865087\n",
      "r2_score corresponding to random state: 52 is:  0.9785644626659676\n",
      "r2_score corresponding to random state: 53 is:  0.9641840165443084\n",
      "r2_score corresponding to random state: 54 is:  0.9697980664287081\n",
      "r2_score corresponding to random state: 55 is:  0.9695628345942845\n",
      "r2_score corresponding to random state: 56 is:  0.9786879985934993\n",
      "r2_score corresponding to random state: 57 is:  0.9766216541503907\n",
      "r2_score corresponding to random state: 58 is:  0.9865805691689629\n",
      "r2_score corresponding to random state: 59 is:  0.9749733621615716\n",
      "r2_score corresponding to random state: 60 is:  0.9743281137109869\n",
      "r2_score corresponding to random state: 61 is:  0.9673010654282082\n",
      "r2_score corresponding to random state: 62 is:  0.976382588666651\n",
      "r2_score corresponding to random state: 63 is:  0.9730742673323853\n",
      "r2_score corresponding to random state: 64 is:  0.9706723825097053\n",
      "r2_score corresponding to random state: 65 is:  0.9771315302734606\n",
      "r2_score corresponding to random state: 66 is:  0.9762598972467116\n",
      "r2_score corresponding to random state: 67 is:  0.9763173803348351\n",
      "r2_score corresponding to random state: 68 is:  0.9692074944518205\n",
      "r2_score corresponding to random state: 69 is:  0.9737815325903436\n",
      "r2_score corresponding to random state: 70 is:  0.97835652725571\n",
      "r2_score corresponding to random state: 71 is:  0.9675429702164386\n",
      "r2_score corresponding to random state: 72 is:  0.9809952523175507\n",
      "r2_score corresponding to random state: 73 is:  0.9769034071845079\n",
      "r2_score corresponding to random state: 74 is:  0.9785597361561108\n",
      "r2_score corresponding to random state: 75 is:  0.9792937574266226\n",
      "r2_score corresponding to random state: 76 is:  0.9704315555306825\n",
      "r2_score corresponding to random state: 77 is:  0.9820763021369843\n",
      "r2_score corresponding to random state: 78 is:  0.9781222843727881\n",
      "r2_score corresponding to random state: 79 is:  0.9763767865518007\n",
      "r2_score corresponding to random state: 80 is:  0.9796476801474497\n",
      "r2_score corresponding to random state: 81 is:  0.9781332819323189\n",
      "r2_score corresponding to random state: 82 is:  0.9737264988330547\n",
      "r2_score corresponding to random state: 83 is:  0.978742464128712\n",
      "r2_score corresponding to random state: 84 is:  0.9781180708396896\n",
      "r2_score corresponding to random state: 85 is:  0.9776543943876805\n",
      "r2_score corresponding to random state: 86 is:  0.9755046194978761\n",
      "r2_score corresponding to random state: 87 is:  0.9737984169185134\n",
      "r2_score corresponding to random state: 88 is:  0.974770169218259\n",
      "r2_score corresponding to random state: 89 is:  0.973333206853957\n",
      "r2_score corresponding to random state: 90 is:  0.9645242300961814\n",
      "r2_score corresponding to random state: 91 is:  0.9803770052128797\n",
      "r2_score corresponding to random state: 92 is:  0.9794348041358062\n",
      "r2_score corresponding to random state: 93 is:  0.9802459772446869\n",
      "r2_score corresponding to random state: 94 is:  0.9849821976358832\n",
      "r2_score corresponding to random state: 95 is:  0.9859740597783521\n",
      "r2_score corresponding to random state: 96 is:  0.9811042443149548\n",
      "r2_score corresponding to random state: 97 is:  0.970126301058752\n",
      "r2_score corresponding to random state: 98 is:  0.9802896384521231\n",
      "r2_score corresponding to random state: 99 is:  0.9711915088526185\n",
      "r2_score corresponding to random state: 100 is:  0.9865713423746413\n",
      "\n",
      "max r2 score corresponding to  58 is 0.9865805691689629\n",
      "0.9890282131661442\n",
      "[[1029   10    1]\n",
      " [  10   82    0]\n",
      " [   0    0  782]]\n",
      "              precision    recall  f1-score   support\n",
      "\n",
      "           0       0.99      0.99      0.99      1040\n",
      "           1       0.89      0.89      0.89        92\n",
      "           2       1.00      1.00      1.00       782\n",
      "\n",
      "    accuracy                           0.99      1914\n",
      "   macro avg       0.96      0.96      0.96      1914\n",
      "weighted avg       0.99      0.99      0.99      1914\n",
      "\n"
     ]
    }
   ],
   "source": [
    "max_r_score=0\n",
    "for r_state in range(42,101):\n",
    "    x_train,x_test,y_train,y_test=train_test_split(x,y,random_state=r_state,test_size=0.22)\n",
    "    dtc=DecisionTreeClassifier()\n",
    "    dtc.fit(x_train,y_train)\n",
    "    y_preddtc=dtc.predict(x_test)\n",
    "    r2_scr=r2_score(y_test,y_preddtc)\n",
    "    print(\"r2_score corresponding to random state:\",r_state, \"is: \",r2_scr)\n",
    "    if r2_scr>max_r_score:\n",
    "        max_r_score=r2_scr\n",
    "        final_r_state=r_state\n",
    "        \n",
    "print()\n",
    "\n",
    "print(\"max r2 score corresponding to \",final_r_state, \"is\" , max_r_score)   \n",
    "print(accuracy_score(y_test,y_preddtc))\n",
    "print(confusion_matrix(y_test,y_preddtc))\n",
    "print(classification_report(y_test,y_preddtc))"
   ]
  },
  {
   "cell_type": "code",
   "execution_count": 55,
   "metadata": {},
   "outputs": [
    {
     "name": "stdout",
     "output_type": "stream",
     "text": [
      "r2_score corresponding to random state: 42 is:  0.9034080036218862\n",
      "r2_score corresponding to random state: 43 is:  0.8891077636152954\n",
      "r2_score corresponding to random state: 44 is:  0.9117563366272959\n",
      "r2_score corresponding to random state: 45 is:  0.8940949997175472\n",
      "r2_score corresponding to random state: 46 is:  0.9039405071787664\n",
      "r2_score corresponding to random state: 47 is:  0.917832678388696\n",
      "r2_score corresponding to random state: 48 is:  0.9258326172912208\n",
      "r2_score corresponding to random state: 49 is:  0.9316554748964837\n",
      "r2_score corresponding to random state: 50 is:  0.9271719554953387\n",
      "r2_score corresponding to random state: 51 is:  0.9114923397376894\n",
      "r2_score corresponding to random state: 52 is:  0.8888736617156741\n",
      "r2_score corresponding to random state: 53 is:  0.9126985403267518\n",
      "r2_score corresponding to random state: 54 is:  0.9049198387570442\n",
      "r2_score corresponding to random state: 55 is:  0.9092521549940705\n",
      "r2_score corresponding to random state: 56 is:  0.8979267301057073\n",
      "r2_score corresponding to random state: 57 is:  0.9053462094869479\n",
      "r2_score corresponding to random state: 58 is:  0.8820208372771317\n",
      "r2_score corresponding to random state: 59 is:  0.9076795137515752\n",
      "r2_score corresponding to random state: 60 is:  0.8927485639481233\n",
      "r2_score corresponding to random state: 61 is:  0.9114873667625634\n",
      "r2_score corresponding to random state: 62 is:  0.8914723717300868\n",
      "r2_score corresponding to random state: 63 is:  0.8962237386769017\n",
      "r2_score corresponding to random state: 64 is:  0.9031635271546874\n",
      "r2_score corresponding to random state: 65 is:  0.9168926344084298\n",
      "r2_score corresponding to random state: 66 is:  0.8988219430276516\n",
      "r2_score corresponding to random state: 67 is:  0.9109082403072365\n",
      "r2_score corresponding to random state: 68 is:  0.8813088877051993\n",
      "r2_score corresponding to random state: 69 is:  0.8901055727722915\n",
      "r2_score corresponding to random state: 70 is:  0.920085639098006\n",
      "r2_score corresponding to random state: 71 is:  0.9003904948021738\n",
      "r2_score corresponding to random state: 72 is:  0.8926790719108744\n",
      "r2_score corresponding to random state: 73 is:  0.9109936179305425\n",
      "r2_score corresponding to random state: 74 is:  0.89618398559801\n",
      "r2_score corresponding to random state: 75 is:  0.9026246970873605\n",
      "r2_score corresponding to random state: 76 is:  0.8967893919467219\n",
      "r2_score corresponding to random state: 77 is:  0.9042202395445096\n",
      "r2_score corresponding to random state: 78 is:  0.9051965656154152\n",
      "r2_score corresponding to random state: 79 is:  0.9032573163549935\n",
      "r2_score corresponding to random state: 80 is:  0.9191560628079254\n",
      "r2_score corresponding to random state: 81 is:  0.8934698350548865\n",
      "r2_score corresponding to random state: 82 is:  0.8686324941652738\n",
      "r2_score corresponding to random state: 83 is:  0.9088163592889487\n",
      "r2_score corresponding to random state: 84 is:  0.896762180371869\n",
      "r2_score corresponding to random state: 85 is:  0.9257008613390376\n",
      "r2_score corresponding to random state: 86 is:  0.904802043957655\n",
      "r2_score corresponding to random state: 87 is:  0.8935212262007676\n",
      "r2_score corresponding to random state: 88 is:  0.897959351060514\n",
      "r2_score corresponding to random state: 89 is:  0.9086520490103631\n",
      "r2_score corresponding to random state: 90 is:  0.8997668723352426\n",
      "r2_score corresponding to random state: 91 is:  0.8873079442225381\n",
      "r2_score corresponding to random state: 92 is:  0.9182950326476622\n",
      "r2_score corresponding to random state: 93 is:  0.9159043031273811\n",
      "r2_score corresponding to random state: 94 is:  0.9065558964010513\n",
      "r2_score corresponding to random state: 95 is:  0.9136002082346486\n",
      "r2_score corresponding to random state: 96 is:  0.9321975825418967\n",
      "r2_score corresponding to random state: 97 is:  0.9047423562062092\n",
      "r2_score corresponding to random state: 98 is:  0.8901851285189718\n",
      "r2_score corresponding to random state: 99 is:  0.9096204199297835\n",
      "r2_score corresponding to random state: 100 is:  0.9048803418203759\n",
      "\n",
      "max r2 score corresponding to  96 is 0.9321975825418967\n",
      "0.9691745036572623\n",
      "[[1005    7   28]\n",
      " [  15   77    0]\n",
      " [   9    0  773]]\n",
      "              precision    recall  f1-score   support\n",
      "\n",
      "           0       0.98      0.97      0.97      1040\n",
      "           1       0.92      0.84      0.88        92\n",
      "           2       0.97      0.99      0.98       782\n",
      "\n",
      "    accuracy                           0.97      1914\n",
      "   macro avg       0.95      0.93      0.94      1914\n",
      "weighted avg       0.97      0.97      0.97      1914\n",
      "\n"
     ]
    }
   ],
   "source": [
    "max_r_score=0\n",
    "for r_state in range(42,101):\n",
    "    x_train,x_test,y_train,y_test=train_test_split(x,y,random_state=r_state,test_size=0.22)\n",
    "    svc=SVC()\n",
    "    svc.fit(x_train,y_train)\n",
    "    y_predsvc=svc.predict(x_test)\n",
    "    r2_scr=r2_score(y_test,y_predsvc)\n",
    "    print(\"r2_score corresponding to random state:\",r_state, \"is: \",r2_scr)\n",
    "    if r2_scr>max_r_score:\n",
    "        max_r_score=r2_scr\n",
    "        final_r_state=r_state\n",
    "        \n",
    "print()\n",
    "\n",
    "print(\"max r2 score corresponding to \",final_r_state, \"is\" , max_r_score)   \n",
    "print(accuracy_score(y_test,y_predsvc))\n",
    "print(confusion_matrix(y_test,y_predsvc))\n",
    "print(classification_report(y_test,y_predsvc))"
   ]
  },
  {
   "cell_type": "code",
   "execution_count": 56,
   "metadata": {},
   "outputs": [
    {
     "name": "stdout",
     "output_type": "stream",
     "text": [
      "r2_score corresponding to random state: 42 is:  -0.9820900990884613\n",
      "r2_score corresponding to random state: 43 is:  -0.9983118739375696\n",
      "r2_score corresponding to random state: 44 is:  -1.0082459186666983\n",
      "r2_score corresponding to random state: 45 is:  -0.9345683035888881\n",
      "r2_score corresponding to random state: 46 is:  -1.0138788407258628\n",
      "r2_score corresponding to random state: 47 is:  -0.9943741735315146\n",
      "r2_score corresponding to random state: 48 is:  -1.021061178814234\n",
      "r2_score corresponding to random state: 49 is:  -0.9483701309752433\n",
      "r2_score corresponding to random state: 50 is:  -0.9882056149772529\n",
      "r2_score corresponding to random state: 51 is:  -1.0373567112279978\n",
      "r2_score corresponding to random state: 52 is:  -0.9827872033979981\n",
      "r2_score corresponding to random state: 53 is:  -1.0006584508452705\n",
      "r2_score corresponding to random state: 54 is:  -1.0587651384430612\n",
      "r2_score corresponding to random state: 55 is:  -1.0240714994800801\n",
      "r2_score corresponding to random state: 56 is:  -0.972481814385864\n",
      "r2_score corresponding to random state: 57 is:  -1.0265034426710073\n",
      "r2_score corresponding to random state: 58 is:  -1.0498180594409265\n",
      "r2_score corresponding to random state: 59 is:  -0.9937888144614628\n",
      "r2_score corresponding to random state: 60 is:  -1.0138168577825786\n",
      "r2_score corresponding to random state: 61 is:  -1.0008365309532654\n",
      "r2_score corresponding to random state: 62 is:  -1.107572801842668\n",
      "r2_score corresponding to random state: 63 is:  -0.9925042174034866\n",
      "r2_score corresponding to random state: 64 is:  -1.0053450148080731\n",
      "r2_score corresponding to random state: 65 is:  -0.9594374182764167\n",
      "r2_score corresponding to random state: 66 is:  -0.9822985798995865\n",
      "r2_score corresponding to random state: 67 is:  -1.0603879108693524\n",
      "r2_score corresponding to random state: 68 is:  -0.928730574790511\n",
      "r2_score corresponding to random state: 69 is:  -0.9730791325096693\n",
      "r2_score corresponding to random state: 70 is:  -1.0922023652813708\n",
      "r2_score corresponding to random state: 71 is:  -1.0425544605172217\n",
      "r2_score corresponding to random state: 72 is:  -0.9479866374510575\n",
      "r2_score corresponding to random state: 73 is:  -0.9570137424638954\n",
      "r2_score corresponding to random state: 74 is:  -1.0069215392819464\n",
      "r2_score corresponding to random state: 75 is:  -0.9642949035825559\n",
      "r2_score corresponding to random state: 76 is:  -0.9236225760416368\n",
      "r2_score corresponding to random state: 77 is:  -1.004093467308448\n",
      "r2_score corresponding to random state: 78 is:  -0.9729211759206211\n",
      "r2_score corresponding to random state: 79 is:  -1.0090980580230413\n",
      "r2_score corresponding to random state: 80 is:  -1.0318399319462657\n",
      "r2_score corresponding to random state: 81 is:  -1.020148338406547\n",
      "r2_score corresponding to random state: 82 is:  -1.0087805131336176\n",
      "r2_score corresponding to random state: 83 is:  -0.9540150736423447\n",
      "r2_score corresponding to random state: 84 is:  -0.9783508261347258\n",
      "r2_score corresponding to random state: 85 is:  -1.0027249030041356\n",
      "r2_score corresponding to random state: 86 is:  -0.9852392470584947\n",
      "r2_score corresponding to random state: 87 is:  -0.9233076942793295\n",
      "r2_score corresponding to random state: 88 is:  -1.0127798334766722\n",
      "r2_score corresponding to random state: 89 is:  -1.0283784148319994\n",
      "r2_score corresponding to random state: 90 is:  -1.01254605771822\n",
      "r2_score corresponding to random state: 91 is:  -1.032942259945656\n",
      "r2_score corresponding to random state: 92 is:  -1.0203915396309369\n",
      "r2_score corresponding to random state: 93 is:  -0.9562126534261532\n",
      "r2_score corresponding to random state: 94 is:  -1.0201725254248912\n",
      "r2_score corresponding to random state: 95 is:  -0.9815848345144234\n",
      "r2_score corresponding to random state: 96 is:  -0.9395937453178731\n",
      "r2_score corresponding to random state: 97 is:  -1.059594262855097\n",
      "r2_score corresponding to random state: 98 is:  -0.9699098484135205\n",
      "r2_score corresponding to random state: 99 is:  -0.9623666322745765\n",
      "r2_score corresponding to random state: 100 is:  0.9048803418203759\n",
      "\n",
      "max r2 score corresponding to  100 is 0.9048803418203759\n",
      "0.9122257053291536\n",
      "[[982   6  52]\n",
      " [ 21  70   1]\n",
      " [ 88   0 694]]\n",
      "              precision    recall  f1-score   support\n",
      "\n",
      "           0       0.90      0.94      0.92      1040\n",
      "           1       0.92      0.76      0.83        92\n",
      "           2       0.93      0.89      0.91       782\n",
      "\n",
      "    accuracy                           0.91      1914\n",
      "   macro avg       0.92      0.86      0.89      1914\n",
      "weighted avg       0.91      0.91      0.91      1914\n",
      "\n"
     ]
    }
   ],
   "source": [
    "max_r_score=0\n",
    "for r_state in range(42,101):\n",
    "    x_train,x_test,y_train,y_test=train_test_split(x,y,random_state=r_state,test_size=0.22)\n",
    "    knn=KNeighborsClassifier()\n",
    "    knn.fit(x_train,y_train)\n",
    "    y_predknn=knn.predict(x_test)\n",
    "    r2_scr=r2_score(y_test,y_predsvc)\n",
    "    print(\"r2_score corresponding to random state:\",r_state, \"is: \",r2_scr)\n",
    "    if r2_scr>max_r_score:\n",
    "        max_r_score=r2_scr\n",
    "        final_r_state=r_state\n",
    "        \n",
    "print()\n",
    "\n",
    "print(\"max r2 score corresponding to \",final_r_state, \"is\" , max_r_score)   \n",
    "print(accuracy_score(y_test,y_predknn))\n",
    "print(confusion_matrix(y_test,y_predknn))\n",
    "print(classification_report(y_test,y_predknn))"
   ]
  },
  {
   "cell_type": "code",
   "execution_count": 57,
   "metadata": {},
   "outputs": [],
   "source": [
    "from sklearn.ensemble import RandomForestClassifier"
   ]
  },
  {
   "cell_type": "code",
   "execution_count": 58,
   "metadata": {},
   "outputs": [
    {
     "name": "stdout",
     "output_type": "stream",
     "text": [
      "r2_score corresponding to random state: 42 is:  -0.9820900990884613\n",
      "r2_score corresponding to random state: 43 is:  -0.9983118739375696\n",
      "r2_score corresponding to random state: 44 is:  -1.0082459186666983\n",
      "r2_score corresponding to random state: 45 is:  -0.9345683035888881\n",
      "r2_score corresponding to random state: 46 is:  -1.0138788407258628\n",
      "r2_score corresponding to random state: 47 is:  -0.9943741735315146\n",
      "r2_score corresponding to random state: 48 is:  -1.021061178814234\n",
      "r2_score corresponding to random state: 49 is:  -0.9483701309752433\n",
      "r2_score corresponding to random state: 50 is:  -0.9882056149772529\n",
      "r2_score corresponding to random state: 51 is:  -1.0373567112279978\n",
      "r2_score corresponding to random state: 52 is:  -0.9827872033979981\n",
      "r2_score corresponding to random state: 53 is:  -1.0006584508452705\n",
      "r2_score corresponding to random state: 54 is:  -1.0587651384430612\n",
      "r2_score corresponding to random state: 55 is:  -1.0240714994800801\n",
      "r2_score corresponding to random state: 56 is:  -0.972481814385864\n",
      "r2_score corresponding to random state: 57 is:  -1.0265034426710073\n",
      "r2_score corresponding to random state: 58 is:  -1.0498180594409265\n",
      "r2_score corresponding to random state: 59 is:  -0.9937888144614628\n",
      "r2_score corresponding to random state: 60 is:  -1.0138168577825786\n",
      "r2_score corresponding to random state: 61 is:  -1.0008365309532654\n",
      "r2_score corresponding to random state: 62 is:  -1.107572801842668\n",
      "r2_score corresponding to random state: 63 is:  -0.9925042174034866\n",
      "r2_score corresponding to random state: 64 is:  -1.0053450148080731\n",
      "r2_score corresponding to random state: 65 is:  -0.9594374182764167\n",
      "r2_score corresponding to random state: 66 is:  -0.9822985798995865\n",
      "r2_score corresponding to random state: 67 is:  -1.0603879108693524\n",
      "r2_score corresponding to random state: 68 is:  -0.928730574790511\n",
      "r2_score corresponding to random state: 69 is:  -0.9730791325096693\n",
      "r2_score corresponding to random state: 70 is:  -1.0922023652813708\n",
      "r2_score corresponding to random state: 71 is:  -1.0425544605172217\n",
      "r2_score corresponding to random state: 72 is:  -0.9479866374510575\n",
      "r2_score corresponding to random state: 73 is:  -0.9570137424638954\n",
      "r2_score corresponding to random state: 74 is:  -1.0069215392819464\n",
      "r2_score corresponding to random state: 75 is:  -0.9642949035825559\n",
      "r2_score corresponding to random state: 76 is:  -0.9236225760416368\n",
      "r2_score corresponding to random state: 77 is:  -1.004093467308448\n",
      "r2_score corresponding to random state: 78 is:  -0.9729211759206211\n",
      "r2_score corresponding to random state: 79 is:  -1.0090980580230413\n",
      "r2_score corresponding to random state: 80 is:  -1.0318399319462657\n",
      "r2_score corresponding to random state: 81 is:  -1.020148338406547\n",
      "r2_score corresponding to random state: 82 is:  -1.0087805131336176\n",
      "r2_score corresponding to random state: 83 is:  -0.9540150736423447\n",
      "r2_score corresponding to random state: 84 is:  -0.9783508261347258\n",
      "r2_score corresponding to random state: 85 is:  -1.0027249030041356\n",
      "r2_score corresponding to random state: 86 is:  -0.9852392470584947\n",
      "r2_score corresponding to random state: 87 is:  -0.9233076942793295\n",
      "r2_score corresponding to random state: 88 is:  -1.0127798334766722\n",
      "r2_score corresponding to random state: 89 is:  -1.0283784148319994\n",
      "r2_score corresponding to random state: 90 is:  -1.01254605771822\n",
      "r2_score corresponding to random state: 91 is:  -1.032942259945656\n",
      "r2_score corresponding to random state: 92 is:  -1.0203915396309369\n",
      "r2_score corresponding to random state: 93 is:  -0.9562126534261532\n",
      "r2_score corresponding to random state: 94 is:  -1.0201725254248912\n",
      "r2_score corresponding to random state: 95 is:  -0.9815848345144234\n",
      "r2_score corresponding to random state: 96 is:  -0.9395937453178731\n",
      "r2_score corresponding to random state: 97 is:  -1.059594262855097\n",
      "r2_score corresponding to random state: 98 is:  -0.9699098484135205\n",
      "r2_score corresponding to random state: 99 is:  -0.9623666322745765\n",
      "r2_score corresponding to random state: 100 is:  0.9048803418203759\n",
      "\n",
      "max r2 score corresponding to  100 is 0.9048803418203759\n",
      "0.9853709508881923\n",
      "[[1027    7    6]\n",
      " [  15   77    0]\n",
      " [   0    0  782]]\n",
      "              precision    recall  f1-score   support\n",
      "\n",
      "           0       0.99      0.99      0.99      1040\n",
      "           1       0.92      0.84      0.88        92\n",
      "           2       0.99      1.00      1.00       782\n",
      "\n",
      "    accuracy                           0.99      1914\n",
      "   macro avg       0.96      0.94      0.95      1914\n",
      "weighted avg       0.99      0.99      0.99      1914\n",
      "\n"
     ]
    }
   ],
   "source": [
    "max_r_score=0\n",
    "for r_state in range(42,101):\n",
    "    x_train,x_test,y_train,y_test=train_test_split(x,y,random_state=r_state,test_size=0.22)\n",
    "    rf=RandomForestClassifier(n_estimators=100)\n",
    "    rf.fit(x_train,y_train)\n",
    "    y_predrf=rf.predict(x_test)\n",
    "    r2_scr=r2_score(y_test,y_predsvc)\n",
    "    print(\"r2_score corresponding to random state:\",r_state, \"is: \",r2_scr)\n",
    "    if r2_scr>max_r_score:\n",
    "        max_r_score=r2_scr\n",
    "        final_r_state=r_state\n",
    "        \n",
    "print()\n",
    "\n",
    "print(\"max r2 score corresponding to \",final_r_state, \"is\" , max_r_score)   \n",
    "print(accuracy_score(y_test,y_predrf))\n",
    "print(confusion_matrix(y_test,y_predrf))\n",
    "print(classification_report(y_test,y_predrf))"
   ]
  },
  {
   "cell_type": "code",
   "execution_count": 59,
   "metadata": {},
   "outputs": [
    {
     "name": "stdout",
     "output_type": "stream",
     "text": [
      "Scores: [0.99705449 0.98969072 0.98379971 0.98969072 0.98377581 0.99262537\n",
      " 0.98082596 0.98377581 0.98525074 0.97345133]\n",
      "Mean: 0.9859940655397275\n",
      "Standard Deviation: 0.006267985409564958\n",
      "Scores: [0.97938144 0.96759941 0.96759941 0.98232695 0.9660767  0.96460177\n",
      " 0.96902655 0.96460177 0.97935103 0.9660767 ]\n",
      "Mean: 0.9706641729769181\n",
      "Standard Deviation: 0.006515638305488661\n",
      "Scores: [0.90574374 0.8910162  0.92341679 0.92047128 0.90117994 0.92035398\n",
      " 0.92182891 0.90117994 0.9100295  0.90412979]\n",
      "Mean: 0.9099350076678789\n",
      "Standard Deviation: 0.010513283151425124\n",
      "Scores: [0.99263623 0.98969072 0.98674521 0.99116348 0.98967552 0.99410029\n",
      " 0.98377581 0.98525074 0.98820059 0.98377581]\n",
      "Mean: 0.9885014401709957\n",
      "Standard Deviation: 0.003416547779690682\n"
     ]
    }
   ],
   "source": [
    "from sklearn.model_selection import cross_val_score\n",
    "list=[DecisionTreeClassifier(),SVC(),KNeighborsClassifier(),RandomForestClassifier()]\n",
    "for i in list:\n",
    "    scores = cross_val_score(i,x_train,y_train,cv=10,scoring=\"accuracy\")\n",
    "    print(\"Scores:\",scores)\n",
    "    print(\"Mean:\",scores.mean())\n",
    "    print(\"Standard Deviation:\",scores.std())"
   ]
  },
  {
   "cell_type": "code",
   "execution_count": 60,
   "metadata": {},
   "outputs": [
    {
     "name": "stdout",
     "output_type": "stream",
     "text": [
      "{'criterion': 'entropy'}\n"
     ]
    }
   ],
   "source": [
    "from sklearn.model_selection import GridSearchCV\n",
    "dtc=DecisionTreeClassifier()\n",
    "param= {\"criterion\" : [\"gini\",\"entropy\"]}\n",
    "clf= GridSearchCV(estimator=dtc,param_grid=param)\n",
    "clf.fit(x_train,y_train)\n",
    "print(clf.best_params_)"
   ]
  },
  {
   "cell_type": "code",
   "execution_count": 61,
   "metadata": {},
   "outputs": [
    {
     "name": "stdout",
     "output_type": "stream",
     "text": [
      "0.9879832810867294\n"
     ]
    }
   ],
   "source": [
    "dt=DecisionTreeClassifier()\n",
    "param= {\"criterion\" : [\"entropy\"]}\n",
    "clf= GridSearchCV(estimator=dtc,param_grid=param)\n",
    "dt.fit(x_train,y_train)\n",
    "print(accuracy_score(y_test,dt.predict(x_test)))"
   ]
  },
  {
   "cell_type": "code",
   "execution_count": 62,
   "metadata": {},
   "outputs": [
    {
     "data": {
      "text/plain": [
       "['dtcSpace-Server.obj']"
      ]
     },
     "execution_count": 62,
     "metadata": {},
     "output_type": "execute_result"
    }
   ],
   "source": [
    "from sklearn.externals import joblib\n",
    "joblib.dump(dtc,'dtcSpace-Server.obj')"
   ]
  },
  {
   "cell_type": "code",
   "execution_count": null,
   "metadata": {},
   "outputs": [],
   "source": [
    "# Conclusion : The prediction of STAR, GALAXY, QSO dtc model working good with accuracy of 98%. redshift, dec, specobjid having more impact on target variable"
   ]
  },
  {
   "cell_type": "code",
   "execution_count": null,
   "metadata": {},
   "outputs": [],
   "source": []
  },
  {
   "cell_type": "code",
   "execution_count": null,
   "metadata": {},
   "outputs": [],
   "source": []
  },
  {
   "cell_type": "code",
   "execution_count": null,
   "metadata": {},
   "outputs": [],
   "source": []
  },
  {
   "cell_type": "code",
   "execution_count": null,
   "metadata": {},
   "outputs": [],
   "source": []
  },
  {
   "cell_type": "code",
   "execution_count": null,
   "metadata": {},
   "outputs": [],
   "source": []
  },
  {
   "cell_type": "code",
   "execution_count": null,
   "metadata": {},
   "outputs": [],
   "source": []
  },
  {
   "cell_type": "code",
   "execution_count": null,
   "metadata": {},
   "outputs": [],
   "source": []
  },
  {
   "cell_type": "code",
   "execution_count": null,
   "metadata": {},
   "outputs": [],
   "source": []
  },
  {
   "cell_type": "code",
   "execution_count": null,
   "metadata": {},
   "outputs": [],
   "source": []
  },
  {
   "cell_type": "code",
   "execution_count": null,
   "metadata": {},
   "outputs": [],
   "source": []
  },
  {
   "cell_type": "code",
   "execution_count": null,
   "metadata": {},
   "outputs": [],
   "source": []
  },
  {
   "cell_type": "code",
   "execution_count": null,
   "metadata": {},
   "outputs": [],
   "source": []
  },
  {
   "cell_type": "code",
   "execution_count": null,
   "metadata": {},
   "outputs": [],
   "source": []
  },
  {
   "cell_type": "code",
   "execution_count": null,
   "metadata": {},
   "outputs": [],
   "source": []
  },
  {
   "cell_type": "code",
   "execution_count": null,
   "metadata": {},
   "outputs": [],
   "source": []
  },
  {
   "cell_type": "code",
   "execution_count": null,
   "metadata": {},
   "outputs": [],
   "source": []
  },
  {
   "cell_type": "code",
   "execution_count": null,
   "metadata": {},
   "outputs": [],
   "source": []
  },
  {
   "cell_type": "code",
   "execution_count": null,
   "metadata": {},
   "outputs": [],
   "source": []
  },
  {
   "cell_type": "code",
   "execution_count": null,
   "metadata": {},
   "outputs": [],
   "source": []
  },
  {
   "cell_type": "code",
   "execution_count": null,
   "metadata": {},
   "outputs": [],
   "source": []
  },
  {
   "cell_type": "code",
   "execution_count": null,
   "metadata": {},
   "outputs": [],
   "source": []
  },
  {
   "cell_type": "code",
   "execution_count": null,
   "metadata": {},
   "outputs": [],
   "source": []
  },
  {
   "cell_type": "code",
   "execution_count": null,
   "metadata": {},
   "outputs": [],
   "source": []
  },
  {
   "cell_type": "code",
   "execution_count": null,
   "metadata": {},
   "outputs": [],
   "source": []
  },
  {
   "cell_type": "code",
   "execution_count": null,
   "metadata": {},
   "outputs": [],
   "source": []
  },
  {
   "cell_type": "code",
   "execution_count": null,
   "metadata": {},
   "outputs": [],
   "source": []
  },
  {
   "cell_type": "code",
   "execution_count": null,
   "metadata": {},
   "outputs": [],
   "source": []
  },
  {
   "cell_type": "code",
   "execution_count": null,
   "metadata": {},
   "outputs": [],
   "source": []
  },
  {
   "cell_type": "code",
   "execution_count": null,
   "metadata": {},
   "outputs": [],
   "source": []
  },
  {
   "cell_type": "code",
   "execution_count": null,
   "metadata": {},
   "outputs": [],
   "source": []
  },
  {
   "cell_type": "code",
   "execution_count": null,
   "metadata": {},
   "outputs": [],
   "source": []
  },
  {
   "cell_type": "code",
   "execution_count": null,
   "metadata": {},
   "outputs": [],
   "source": []
  },
  {
   "cell_type": "code",
   "execution_count": null,
   "metadata": {},
   "outputs": [],
   "source": []
  },
  {
   "cell_type": "code",
   "execution_count": null,
   "metadata": {},
   "outputs": [],
   "source": []
  },
  {
   "cell_type": "code",
   "execution_count": null,
   "metadata": {},
   "outputs": [],
   "source": []
  },
  {
   "cell_type": "code",
   "execution_count": null,
   "metadata": {},
   "outputs": [],
   "source": []
  },
  {
   "cell_type": "code",
   "execution_count": null,
   "metadata": {},
   "outputs": [],
   "source": []
  },
  {
   "cell_type": "code",
   "execution_count": null,
   "metadata": {},
   "outputs": [],
   "source": []
  },
  {
   "cell_type": "code",
   "execution_count": null,
   "metadata": {},
   "outputs": [],
   "source": []
  },
  {
   "cell_type": "code",
   "execution_count": null,
   "metadata": {},
   "outputs": [],
   "source": []
  },
  {
   "cell_type": "code",
   "execution_count": null,
   "metadata": {},
   "outputs": [],
   "source": []
  },
  {
   "cell_type": "code",
   "execution_count": null,
   "metadata": {},
   "outputs": [],
   "source": []
  },
  {
   "cell_type": "code",
   "execution_count": null,
   "metadata": {},
   "outputs": [],
   "source": []
  },
  {
   "cell_type": "code",
   "execution_count": null,
   "metadata": {},
   "outputs": [],
   "source": []
  },
  {
   "cell_type": "code",
   "execution_count": null,
   "metadata": {},
   "outputs": [],
   "source": []
  },
  {
   "cell_type": "code",
   "execution_count": null,
   "metadata": {},
   "outputs": [],
   "source": []
  },
  {
   "cell_type": "code",
   "execution_count": null,
   "metadata": {},
   "outputs": [],
   "source": []
  },
  {
   "cell_type": "code",
   "execution_count": null,
   "metadata": {},
   "outputs": [],
   "source": []
  },
  {
   "cell_type": "code",
   "execution_count": null,
   "metadata": {},
   "outputs": [],
   "source": []
  },
  {
   "cell_type": "code",
   "execution_count": null,
   "metadata": {},
   "outputs": [],
   "source": []
  },
  {
   "cell_type": "code",
   "execution_count": null,
   "metadata": {},
   "outputs": [],
   "source": []
  },
  {
   "cell_type": "code",
   "execution_count": null,
   "metadata": {},
   "outputs": [],
   "source": []
  },
  {
   "cell_type": "code",
   "execution_count": null,
   "metadata": {},
   "outputs": [],
   "source": []
  },
  {
   "cell_type": "code",
   "execution_count": null,
   "metadata": {},
   "outputs": [],
   "source": []
  },
  {
   "cell_type": "code",
   "execution_count": null,
   "metadata": {},
   "outputs": [],
   "source": []
  },
  {
   "cell_type": "code",
   "execution_count": null,
   "metadata": {},
   "outputs": [],
   "source": []
  }
 ],
 "metadata": {
  "kernelspec": {
   "display_name": "Python 3",
   "language": "python",
   "name": "python3"
  },
  "language_info": {
   "codemirror_mode": {
    "name": "ipython",
    "version": 3
   },
   "file_extension": ".py",
   "mimetype": "text/x-python",
   "name": "python",
   "nbconvert_exporter": "python",
   "pygments_lexer": "ipython3",
   "version": "3.7.6"
  }
 },
 "nbformat": 4,
 "nbformat_minor": 4
}
