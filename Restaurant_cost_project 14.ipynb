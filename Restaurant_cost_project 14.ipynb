{
 "cells": [
  {
   "cell_type": "code",
   "execution_count": 1,
   "metadata": {},
   "outputs": [],
   "source": [
    "import pandas as pd\n",
    "import warnings\n",
    "warnings.filterwarnings(\"ignore\")"
   ]
  },
  {
   "cell_type": "code",
   "execution_count": 2,
   "metadata": {},
   "outputs": [],
   "source": [
    "Train_data=pd.read_csv(\"Train_Data_Restaurant.csv\",sep='\\t')         # Loading dataset\n",
    "Test_data=pd.read_csv(\"Test_Data_Restaurant.csv\",sep='\\t')"
   ]
  },
  {
   "cell_type": "code",
   "execution_count": 3,
   "metadata": {},
   "outputs": [
    {
     "data": {
      "text/html": [
       "<div>\n",
       "<style scoped>\n",
       "    .dataframe tbody tr th:only-of-type {\n",
       "        vertical-align: middle;\n",
       "    }\n",
       "\n",
       "    .dataframe tbody tr th {\n",
       "        vertical-align: top;\n",
       "    }\n",
       "\n",
       "    .dataframe thead th {\n",
       "        text-align: right;\n",
       "    }\n",
       "</style>\n",
       "<table border=\"1\" class=\"dataframe\">\n",
       "  <thead>\n",
       "    <tr style=\"text-align: right;\">\n",
       "      <th></th>\n",
       "      <th>TITLE</th>\n",
       "      <th>RESTAURANT_ID</th>\n",
       "      <th>CUISINES</th>\n",
       "      <th>TIME</th>\n",
       "      <th>CITY</th>\n",
       "      <th>LOCALITY</th>\n",
       "      <th>RATING</th>\n",
       "      <th>VOTES</th>\n",
       "      <th>COST</th>\n",
       "    </tr>\n",
       "  </thead>\n",
       "  <tbody>\n",
       "    <tr>\n",
       "      <th>0</th>\n",
       "      <td>CASUAL DINING</td>\n",
       "      <td>9438</td>\n",
       "      <td>Malwani, Goan, North Indian</td>\n",
       "      <td>11am – 4pm, 7:30pm – 11:30pm (Mon-Sun)</td>\n",
       "      <td>Thane</td>\n",
       "      <td>Dombivali East</td>\n",
       "      <td>3.6</td>\n",
       "      <td>49 votes</td>\n",
       "      <td>1200</td>\n",
       "    </tr>\n",
       "    <tr>\n",
       "      <th>1</th>\n",
       "      <td>CASUAL DINING,BAR</td>\n",
       "      <td>13198</td>\n",
       "      <td>Asian, Modern Indian, Japanese</td>\n",
       "      <td>6pm – 11pm (Mon-Sun)</td>\n",
       "      <td>Chennai</td>\n",
       "      <td>Ramapuram</td>\n",
       "      <td>4.2</td>\n",
       "      <td>30 votes</td>\n",
       "      <td>1500</td>\n",
       "    </tr>\n",
       "    <tr>\n",
       "      <th>2</th>\n",
       "      <td>CASUAL DINING</td>\n",
       "      <td>10915</td>\n",
       "      <td>North Indian, Chinese, Biryani, Hyderabadi</td>\n",
       "      <td>11am – 3:30pm, 7pm – 11pm (Mon-Sun)</td>\n",
       "      <td>Chennai</td>\n",
       "      <td>Saligramam</td>\n",
       "      <td>3.8</td>\n",
       "      <td>221 votes</td>\n",
       "      <td>800</td>\n",
       "    </tr>\n",
       "    <tr>\n",
       "      <th>3</th>\n",
       "      <td>QUICK BITES</td>\n",
       "      <td>6346</td>\n",
       "      <td>Tibetan, Chinese</td>\n",
       "      <td>11:30am – 1am (Mon-Sun)</td>\n",
       "      <td>Mumbai</td>\n",
       "      <td>Bandra West</td>\n",
       "      <td>4.1</td>\n",
       "      <td>24 votes</td>\n",
       "      <td>800</td>\n",
       "    </tr>\n",
       "    <tr>\n",
       "      <th>4</th>\n",
       "      <td>DESSERT PARLOR</td>\n",
       "      <td>15387</td>\n",
       "      <td>Desserts</td>\n",
       "      <td>11am – 1am (Mon-Sun)</td>\n",
       "      <td>Mumbai</td>\n",
       "      <td>Lower Parel</td>\n",
       "      <td>3.8</td>\n",
       "      <td>165 votes</td>\n",
       "      <td>300</td>\n",
       "    </tr>\n",
       "  </tbody>\n",
       "</table>\n",
       "</div>"
      ],
      "text/plain": [
       "               TITLE  RESTAURANT_ID  \\\n",
       "0      CASUAL DINING           9438   \n",
       "1  CASUAL DINING,BAR          13198   \n",
       "2      CASUAL DINING          10915   \n",
       "3        QUICK BITES           6346   \n",
       "4     DESSERT PARLOR          15387   \n",
       "\n",
       "                                     CUISINES  \\\n",
       "0                 Malwani, Goan, North Indian   \n",
       "1              Asian, Modern Indian, Japanese   \n",
       "2  North Indian, Chinese, Biryani, Hyderabadi   \n",
       "3                            Tibetan, Chinese   \n",
       "4                                    Desserts   \n",
       "\n",
       "                                     TIME     CITY        LOCALITY RATING  \\\n",
       "0  11am – 4pm, 7:30pm – 11:30pm (Mon-Sun)    Thane  Dombivali East    3.6   \n",
       "1                    6pm – 11pm (Mon-Sun)  Chennai       Ramapuram    4.2   \n",
       "2     11am – 3:30pm, 7pm – 11pm (Mon-Sun)  Chennai      Saligramam    3.8   \n",
       "3                 11:30am – 1am (Mon-Sun)   Mumbai     Bandra West    4.1   \n",
       "4                    11am – 1am (Mon-Sun)   Mumbai     Lower Parel    3.8   \n",
       "\n",
       "       VOTES  COST  \n",
       "0   49 votes  1200  \n",
       "1   30 votes  1500  \n",
       "2  221 votes   800  \n",
       "3   24 votes   800  \n",
       "4  165 votes   300  "
      ]
     },
     "execution_count": 3,
     "metadata": {},
     "output_type": "execute_result"
    }
   ],
   "source": [
    "Train_data.head()          # Checking Train data"
   ]
  },
  {
   "cell_type": "code",
   "execution_count": 4,
   "metadata": {},
   "outputs": [
    {
     "data": {
      "text/html": [
       "<div>\n",
       "<style scoped>\n",
       "    .dataframe tbody tr th:only-of-type {\n",
       "        vertical-align: middle;\n",
       "    }\n",
       "\n",
       "    .dataframe tbody tr th {\n",
       "        vertical-align: top;\n",
       "    }\n",
       "\n",
       "    .dataframe thead th {\n",
       "        text-align: right;\n",
       "    }\n",
       "</style>\n",
       "<table border=\"1\" class=\"dataframe\">\n",
       "  <thead>\n",
       "    <tr style=\"text-align: right;\">\n",
       "      <th></th>\n",
       "      <th>TITLE</th>\n",
       "      <th>RESTAURANT_ID</th>\n",
       "      <th>CUISINES</th>\n",
       "      <th>TIME</th>\n",
       "      <th>CITY</th>\n",
       "      <th>LOCALITY</th>\n",
       "      <th>RATING</th>\n",
       "      <th>VOTES</th>\n",
       "    </tr>\n",
       "  </thead>\n",
       "  <tbody>\n",
       "    <tr>\n",
       "      <th>0</th>\n",
       "      <td>CASUAL DINING</td>\n",
       "      <td>4085</td>\n",
       "      <td>North Indian, Chinese, Mughlai, Kebab</td>\n",
       "      <td>12noon – 12midnight (Mon-Sun)</td>\n",
       "      <td>Noida</td>\n",
       "      <td>Sector 18</td>\n",
       "      <td>4.3</td>\n",
       "      <td>564 votes</td>\n",
       "    </tr>\n",
       "    <tr>\n",
       "      <th>1</th>\n",
       "      <td>QUICK BITES</td>\n",
       "      <td>12680</td>\n",
       "      <td>South Indian, Fast Food, Pizza, North Indian</td>\n",
       "      <td>7am – 12:30AM (Mon-Sun)</td>\n",
       "      <td>Mumbai</td>\n",
       "      <td>Grant Road</td>\n",
       "      <td>4.2</td>\n",
       "      <td>61 votes</td>\n",
       "    </tr>\n",
       "    <tr>\n",
       "      <th>2</th>\n",
       "      <td>CASUAL DINING</td>\n",
       "      <td>1411</td>\n",
       "      <td>North Indian, Seafood, Biryani, Chinese</td>\n",
       "      <td>11am – 11:30pm (Mon-Sun)</td>\n",
       "      <td>Mumbai</td>\n",
       "      <td>Marine Lines</td>\n",
       "      <td>3.8</td>\n",
       "      <td>350 votes</td>\n",
       "    </tr>\n",
       "    <tr>\n",
       "      <th>3</th>\n",
       "      <td>None</td>\n",
       "      <td>204</td>\n",
       "      <td>Biryani</td>\n",
       "      <td>9am – 10pm (Mon, Wed, Thu, Fri, Sat, Sun), 10:...</td>\n",
       "      <td>Faridabad</td>\n",
       "      <td>NIT</td>\n",
       "      <td>3.8</td>\n",
       "      <td>1445 votes</td>\n",
       "    </tr>\n",
       "    <tr>\n",
       "      <th>4</th>\n",
       "      <td>QUICK BITES</td>\n",
       "      <td>13453</td>\n",
       "      <td>South Indian, Kerala</td>\n",
       "      <td>11am – 10pm (Mon-Sun)</td>\n",
       "      <td>Kochi</td>\n",
       "      <td>Kaloor</td>\n",
       "      <td>3.6</td>\n",
       "      <td>23 votes</td>\n",
       "    </tr>\n",
       "  </tbody>\n",
       "</table>\n",
       "</div>"
      ],
      "text/plain": [
       "           TITLE  RESTAURANT_ID                                      CUISINES  \\\n",
       "0  CASUAL DINING           4085         North Indian, Chinese, Mughlai, Kebab   \n",
       "1    QUICK BITES          12680  South Indian, Fast Food, Pizza, North Indian   \n",
       "2  CASUAL DINING           1411       North Indian, Seafood, Biryani, Chinese   \n",
       "3           None            204                                       Biryani   \n",
       "4    QUICK BITES          13453                          South Indian, Kerala   \n",
       "\n",
       "                                                TIME       CITY      LOCALITY  \\\n",
       "0                      12noon – 12midnight (Mon-Sun)      Noida     Sector 18   \n",
       "1                            7am – 12:30AM (Mon-Sun)     Mumbai    Grant Road   \n",
       "2                           11am – 11:30pm (Mon-Sun)     Mumbai  Marine Lines   \n",
       "3  9am – 10pm (Mon, Wed, Thu, Fri, Sat, Sun), 10:...  Faridabad           NIT   \n",
       "4                              11am – 10pm (Mon-Sun)      Kochi        Kaloor   \n",
       "\n",
       "  RATING       VOTES  \n",
       "0    4.3   564 votes  \n",
       "1    4.2    61 votes  \n",
       "2    3.8   350 votes  \n",
       "3    3.8  1445 votes  \n",
       "4    3.6    23 votes  "
      ]
     },
     "execution_count": 4,
     "metadata": {},
     "output_type": "execute_result"
    }
   ],
   "source": [
    "Test_data.head()        # Checking Test data"
   ]
  },
  {
   "cell_type": "code",
   "execution_count": 5,
   "metadata": {},
   "outputs": [
    {
     "data": {
      "text/plain": [
       "(12690, 9)"
      ]
     },
     "execution_count": 5,
     "metadata": {},
     "output_type": "execute_result"
    }
   ],
   "source": [
    "Train_data.shape         # Checking shape"
   ]
  },
  {
   "cell_type": "code",
   "execution_count": 6,
   "metadata": {},
   "outputs": [
    {
     "data": {
      "text/plain": [
       "(4231, 8)"
      ]
     },
     "execution_count": 6,
     "metadata": {},
     "output_type": "execute_result"
    }
   ],
   "source": [
    "Test_data.shape          # Checking shape"
   ]
  },
  {
   "cell_type": "code",
   "execution_count": 7,
   "metadata": {},
   "outputs": [
    {
     "data": {
      "text/plain": [
       "TITLE            object\n",
       "RESTAURANT_ID     int64\n",
       "CUISINES         object\n",
       "TIME             object\n",
       "CITY             object\n",
       "LOCALITY         object\n",
       "RATING           object\n",
       "VOTES            object\n",
       "COST              int64\n",
       "dtype: object"
      ]
     },
     "execution_count": 7,
     "metadata": {},
     "output_type": "execute_result"
    }
   ],
   "source": [
    "Train_data.dtypes       # Checking Train datatypes"
   ]
  },
  {
   "cell_type": "code",
   "execution_count": 8,
   "metadata": {},
   "outputs": [
    {
     "data": {
      "text/plain": [
       "TITLE            object\n",
       "RESTAURANT_ID     int64\n",
       "CUISINES         object\n",
       "TIME             object\n",
       "CITY             object\n",
       "LOCALITY         object\n",
       "RATING           object\n",
       "VOTES            object\n",
       "dtype: object"
      ]
     },
     "execution_count": 8,
     "metadata": {},
     "output_type": "execute_result"
    }
   ],
   "source": [
    "Test_data.dtypes      # Checking Test datatypes"
   ]
  },
  {
   "cell_type": "code",
   "execution_count": 9,
   "metadata": {},
   "outputs": [
    {
     "name": "stdout",
     "output_type": "stream",
     "text": [
      "<class 'pandas.core.frame.DataFrame'>\n",
      "RangeIndex: 12690 entries, 0 to 12689\n",
      "Data columns (total 9 columns):\n",
      " #   Column         Non-Null Count  Dtype \n",
      "---  ------         --------------  ----- \n",
      " 0   TITLE          12690 non-null  object\n",
      " 1   RESTAURANT_ID  12690 non-null  int64 \n",
      " 2   CUISINES       12690 non-null  object\n",
      " 3   TIME           12690 non-null  object\n",
      " 4   CITY           12578 non-null  object\n",
      " 5   LOCALITY       12592 non-null  object\n",
      " 6   RATING         12688 non-null  object\n",
      " 7   VOTES          11486 non-null  object\n",
      " 8   COST           12690 non-null  int64 \n",
      "dtypes: int64(2), object(7)\n",
      "memory usage: 892.4+ KB\n"
     ]
    }
   ],
   "source": [
    "Train_data.info()       # Checking Train Info"
   ]
  },
  {
   "cell_type": "code",
   "execution_count": 10,
   "metadata": {},
   "outputs": [
    {
     "name": "stdout",
     "output_type": "stream",
     "text": [
      "<class 'pandas.core.frame.DataFrame'>\n",
      "RangeIndex: 4231 entries, 0 to 4230\n",
      "Data columns (total 8 columns):\n",
      " #   Column         Non-Null Count  Dtype \n",
      "---  ------         --------------  ----- \n",
      " 0   TITLE          4231 non-null   object\n",
      " 1   RESTAURANT_ID  4231 non-null   int64 \n",
      " 2   CUISINES       4231 non-null   object\n",
      " 3   TIME           4231 non-null   object\n",
      " 4   CITY           4196 non-null   object\n",
      " 5   LOCALITY       4201 non-null   object\n",
      " 6   RATING         4229 non-null   object\n",
      " 7   VOTES          3829 non-null   object\n",
      "dtypes: int64(1), object(7)\n",
      "memory usage: 264.6+ KB\n"
     ]
    }
   ],
   "source": [
    "Test_data.info()           # Checking Test info"
   ]
  },
  {
   "cell_type": "code",
   "execution_count": 11,
   "metadata": {},
   "outputs": [
    {
     "data": {
      "text/plain": [
       "TITLE               0\n",
       "RESTAURANT_ID       0\n",
       "CUISINES            0\n",
       "TIME                0\n",
       "CITY              112\n",
       "LOCALITY           98\n",
       "RATING              2\n",
       "VOTES            1204\n",
       "COST                0\n",
       "dtype: int64"
      ]
     },
     "execution_count": 11,
     "metadata": {},
     "output_type": "execute_result"
    }
   ],
   "source": [
    "Train_data.isnull().sum()          # Checking null values in Train data"
   ]
  },
  {
   "cell_type": "code",
   "execution_count": 12,
   "metadata": {},
   "outputs": [],
   "source": [
    "list=['CITY','LOCALITY','RATING','VOTES']             # Imputing Null values in train data.\n",
    "for i in list:\n",
    "    Train_data[i].fillna(Train_data[i].mode,inplace=True)"
   ]
  },
  {
   "cell_type": "code",
   "execution_count": 13,
   "metadata": {},
   "outputs": [
    {
     "data": {
      "text/plain": [
       "TITLE            0\n",
       "RESTAURANT_ID    0\n",
       "CUISINES         0\n",
       "TIME             0\n",
       "CITY             0\n",
       "LOCALITY         0\n",
       "RATING           0\n",
       "VOTES            0\n",
       "COST             0\n",
       "dtype: int64"
      ]
     },
     "execution_count": 13,
     "metadata": {},
     "output_type": "execute_result"
    }
   ],
   "source": [
    "Train_data.isnull().sum()                      # Checking null values in Train data"
   ]
  },
  {
   "cell_type": "code",
   "execution_count": 14,
   "metadata": {},
   "outputs": [
    {
     "data": {
      "text/plain": [
       "TITLE              0\n",
       "RESTAURANT_ID      0\n",
       "CUISINES           0\n",
       "TIME               0\n",
       "CITY              35\n",
       "LOCALITY          30\n",
       "RATING             2\n",
       "VOTES            402\n",
       "dtype: int64"
      ]
     },
     "execution_count": 14,
     "metadata": {},
     "output_type": "execute_result"
    }
   ],
   "source": [
    "Test_data.isnull().sum()                 # Checking null values in Test data"
   ]
  },
  {
   "cell_type": "code",
   "execution_count": 15,
   "metadata": {},
   "outputs": [],
   "source": [
    "list=['CITY','LOCALITY','RATING','VOTES']     # Imputing Null values in test data.\n",
    "for i in list:\n",
    "    Test_data[i].fillna(Test_data[i].mode,inplace=True)"
   ]
  },
  {
   "cell_type": "code",
   "execution_count": 16,
   "metadata": {},
   "outputs": [
    {
     "data": {
      "text/plain": [
       "TITLE            0\n",
       "RESTAURANT_ID    0\n",
       "CUISINES         0\n",
       "TIME             0\n",
       "CITY             0\n",
       "LOCALITY         0\n",
       "RATING           0\n",
       "VOTES            0\n",
       "dtype: int64"
      ]
     },
     "execution_count": 16,
     "metadata": {},
     "output_type": "execute_result"
    }
   ],
   "source": [
    "Test_data.isnull().sum()                   # Checking null values in Test data"
   ]
  },
  {
   "cell_type": "code",
   "execution_count": 17,
   "metadata": {},
   "outputs": [
    {
     "data": {
      "text/plain": [
       "<bound method IndexOpsMixin.nunique of 0              Thane\n",
       "1            Chennai\n",
       "2            Chennai\n",
       "3             Mumbai\n",
       "4             Mumbai\n",
       "            ...     \n",
       "12685      Hyderabad\n",
       "12686         Mumbai\n",
       "12687    Navi Mumbai\n",
       "12688        Chennai\n",
       "12689      Hyderabad\n",
       "Name: CITY, Length: 12690, dtype: object>"
      ]
     },
     "execution_count": 17,
     "metadata": {},
     "output_type": "execute_result"
    }
   ],
   "source": [
    "Train_data['CITY'].nunique           # Checking unique values for CITY."
   ]
  },
  {
   "cell_type": "code",
   "execution_count": 18,
   "metadata": {},
   "outputs": [
    {
     "data": {
      "text/plain": [
       "<bound method IndexOpsMixin.nunique of 0              Dombivali East\n",
       "1                   Ramapuram\n",
       "2                  Saligramam\n",
       "3                 Bandra West\n",
       "4                 Lower Parel\n",
       "                 ...         \n",
       "12685              Gachibowli\n",
       "12686    Bandra Kurla Complex\n",
       "12687                   Vashi\n",
       "12688             Maduravoyal\n",
       "12689         Vanasthalipuram\n",
       "Name: LOCALITY, Length: 12690, dtype: object>"
      ]
     },
     "execution_count": 18,
     "metadata": {},
     "output_type": "execute_result"
    }
   ],
   "source": [
    "Train_data['LOCALITY'].nunique                   # Checking Unique count for locality"
   ]
  },
  {
   "cell_type": "code",
   "execution_count": null,
   "metadata": {},
   "outputs": [],
   "source": []
  },
  {
   "cell_type": "code",
   "execution_count": 19,
   "metadata": {},
   "outputs": [],
   "source": [
    "from sklearn.preprocessing import LabelEncoder       # converting string data to numeric using LabelEncoder in Train data\n",
    "le=LabelEncoder()\n",
    "Train_data['TITLE']=le.fit_transform(Train_data['TITLE'])\n",
    "Train_data['CUISINES']=le.fit_transform(Train_data['CUISINES'])\n",
    "Train_data['TIME']=le.fit_transform(Train_data['TIME'])"
   ]
  },
  {
   "cell_type": "code",
   "execution_count": 20,
   "metadata": {},
   "outputs": [
    {
     "data": {
      "text/html": [
       "<div>\n",
       "<style scoped>\n",
       "    .dataframe tbody tr th:only-of-type {\n",
       "        vertical-align: middle;\n",
       "    }\n",
       "\n",
       "    .dataframe tbody tr th {\n",
       "        vertical-align: top;\n",
       "    }\n",
       "\n",
       "    .dataframe thead th {\n",
       "        text-align: right;\n",
       "    }\n",
       "</style>\n",
       "<table border=\"1\" class=\"dataframe\">\n",
       "  <thead>\n",
       "    <tr style=\"text-align: right;\">\n",
       "      <th></th>\n",
       "      <th>TITLE</th>\n",
       "      <th>RESTAURANT_ID</th>\n",
       "      <th>CUISINES</th>\n",
       "      <th>TIME</th>\n",
       "      <th>CITY</th>\n",
       "      <th>LOCALITY</th>\n",
       "      <th>RATING</th>\n",
       "      <th>VOTES</th>\n",
       "      <th>COST</th>\n",
       "    </tr>\n",
       "  </thead>\n",
       "  <tbody>\n",
       "    <tr>\n",
       "      <th>0</th>\n",
       "      <td>31</td>\n",
       "      <td>9438</td>\n",
       "      <td>2627</td>\n",
       "      <td>739</td>\n",
       "      <td>Thane</td>\n",
       "      <td>Dombivali East</td>\n",
       "      <td>3.6</td>\n",
       "      <td>49 votes</td>\n",
       "      <td>1200</td>\n",
       "    </tr>\n",
       "    <tr>\n",
       "      <th>1</th>\n",
       "      <td>33</td>\n",
       "      <td>13198</td>\n",
       "      <td>289</td>\n",
       "      <td>1885</td>\n",
       "      <td>Chennai</td>\n",
       "      <td>Ramapuram</td>\n",
       "      <td>4.2</td>\n",
       "      <td>30 votes</td>\n",
       "      <td>1500</td>\n",
       "    </tr>\n",
       "    <tr>\n",
       "      <th>2</th>\n",
       "      <td>31</td>\n",
       "      <td>10915</td>\n",
       "      <td>2976</td>\n",
       "      <td>661</td>\n",
       "      <td>Chennai</td>\n",
       "      <td>Saligramam</td>\n",
       "      <td>3.8</td>\n",
       "      <td>221 votes</td>\n",
       "      <td>800</td>\n",
       "    </tr>\n",
       "    <tr>\n",
       "      <th>3</th>\n",
       "      <td>95</td>\n",
       "      <td>6346</td>\n",
       "      <td>4130</td>\n",
       "      <td>275</td>\n",
       "      <td>Mumbai</td>\n",
       "      <td>Bandra West</td>\n",
       "      <td>4.1</td>\n",
       "      <td>24 votes</td>\n",
       "      <td>800</td>\n",
       "    </tr>\n",
       "    <tr>\n",
       "      <th>4</th>\n",
       "      <td>50</td>\n",
       "      <td>15387</td>\n",
       "      <td>1766</td>\n",
       "      <td>615</td>\n",
       "      <td>Mumbai</td>\n",
       "      <td>Lower Parel</td>\n",
       "      <td>3.8</td>\n",
       "      <td>165 votes</td>\n",
       "      <td>300</td>\n",
       "    </tr>\n",
       "    <tr>\n",
       "      <th>...</th>\n",
       "      <td>...</td>\n",
       "      <td>...</td>\n",
       "      <td>...</td>\n",
       "      <td>...</td>\n",
       "      <td>...</td>\n",
       "      <td>...</td>\n",
       "      <td>...</td>\n",
       "      <td>...</td>\n",
       "      <td>...</td>\n",
       "    </tr>\n",
       "    <tr>\n",
       "      <th>12685</th>\n",
       "      <td>95</td>\n",
       "      <td>13228</td>\n",
       "      <td>2934</td>\n",
       "      <td>1144</td>\n",
       "      <td>Hyderabad</td>\n",
       "      <td>Gachibowli</td>\n",
       "      <td>3.8</td>\n",
       "      <td>546 votes</td>\n",
       "      <td>500</td>\n",
       "    </tr>\n",
       "    <tr>\n",
       "      <th>12686</th>\n",
       "      <td>33</td>\n",
       "      <td>9686</td>\n",
       "      <td>2143</td>\n",
       "      <td>1177</td>\n",
       "      <td>Mumbai</td>\n",
       "      <td>Bandra Kurla Complex</td>\n",
       "      <td>4.3</td>\n",
       "      <td>1214 votes</td>\n",
       "      <td>1800</td>\n",
       "    </tr>\n",
       "    <tr>\n",
       "      <th>12687</th>\n",
       "      <td>71</td>\n",
       "      <td>11133</td>\n",
       "      <td>2088</td>\n",
       "      <td>1137</td>\n",
       "      <td>Navi Mumbai</td>\n",
       "      <td>Vashi</td>\n",
       "      <td>4.0</td>\n",
       "      <td>608 votes</td>\n",
       "      <td>1300</td>\n",
       "    </tr>\n",
       "    <tr>\n",
       "      <th>12688</th>\n",
       "      <td>31</td>\n",
       "      <td>6134</td>\n",
       "      <td>3506</td>\n",
       "      <td>1837</td>\n",
       "      <td>Chennai</td>\n",
       "      <td>Maduravoyal</td>\n",
       "      <td>3.5</td>\n",
       "      <td>32 votes</td>\n",
       "      <td>400</td>\n",
       "    </tr>\n",
       "    <tr>\n",
       "      <th>12689</th>\n",
       "      <td>31</td>\n",
       "      <td>6430</td>\n",
       "      <td>2946</td>\n",
       "      <td>835</td>\n",
       "      <td>Hyderabad</td>\n",
       "      <td>Vanasthalipuram</td>\n",
       "      <td>3.4</td>\n",
       "      <td>677 votes</td>\n",
       "      <td>600</td>\n",
       "    </tr>\n",
       "  </tbody>\n",
       "</table>\n",
       "<p>12690 rows × 9 columns</p>\n",
       "</div>"
      ],
      "text/plain": [
       "       TITLE  RESTAURANT_ID  CUISINES  TIME         CITY  \\\n",
       "0         31           9438      2627   739        Thane   \n",
       "1         33          13198       289  1885      Chennai   \n",
       "2         31          10915      2976   661      Chennai   \n",
       "3         95           6346      4130   275       Mumbai   \n",
       "4         50          15387      1766   615       Mumbai   \n",
       "...      ...            ...       ...   ...          ...   \n",
       "12685     95          13228      2934  1144    Hyderabad   \n",
       "12686     33           9686      2143  1177       Mumbai   \n",
       "12687     71          11133      2088  1137  Navi Mumbai   \n",
       "12688     31           6134      3506  1837      Chennai   \n",
       "12689     31           6430      2946   835    Hyderabad   \n",
       "\n",
       "                   LOCALITY RATING       VOTES  COST  \n",
       "0            Dombivali East    3.6    49 votes  1200  \n",
       "1                 Ramapuram    4.2    30 votes  1500  \n",
       "2                Saligramam    3.8   221 votes   800  \n",
       "3               Bandra West    4.1    24 votes   800  \n",
       "4               Lower Parel    3.8   165 votes   300  \n",
       "...                     ...    ...         ...   ...  \n",
       "12685            Gachibowli    3.8   546 votes   500  \n",
       "12686  Bandra Kurla Complex    4.3  1214 votes  1800  \n",
       "12687                 Vashi    4.0   608 votes  1300  \n",
       "12688           Maduravoyal    3.5    32 votes   400  \n",
       "12689       Vanasthalipuram    3.4   677 votes   600  \n",
       "\n",
       "[12690 rows x 9 columns]"
      ]
     },
     "execution_count": 20,
     "metadata": {},
     "output_type": "execute_result"
    }
   ],
   "source": [
    "Train_data"
   ]
  },
  {
   "cell_type": "code",
   "execution_count": 21,
   "metadata": {},
   "outputs": [],
   "source": [
    "from sklearn.preprocessing import LabelEncoder       # converting string data to numeric using LabelEncoder in Test data\n",
    "le=LabelEncoder()\n",
    "Test_data['TITLE']=le.fit_transform(Test_data['TITLE'])\n",
    "Test_data['CUISINES']=le.fit_transform(Test_data['CUISINES'])\n",
    "Test_data['TIME']=le.fit_transform(Test_data['TIME'])"
   ]
  },
  {
   "cell_type": "code",
   "execution_count": 22,
   "metadata": {},
   "outputs": [
    {
     "data": {
      "text/html": [
       "<div>\n",
       "<style scoped>\n",
       "    .dataframe tbody tr th:only-of-type {\n",
       "        vertical-align: middle;\n",
       "    }\n",
       "\n",
       "    .dataframe tbody tr th {\n",
       "        vertical-align: top;\n",
       "    }\n",
       "\n",
       "    .dataframe thead th {\n",
       "        text-align: right;\n",
       "    }\n",
       "</style>\n",
       "<table border=\"1\" class=\"dataframe\">\n",
       "  <thead>\n",
       "    <tr style=\"text-align: right;\">\n",
       "      <th></th>\n",
       "      <th>TITLE</th>\n",
       "      <th>RESTAURANT_ID</th>\n",
       "      <th>CUISINES</th>\n",
       "      <th>TIME</th>\n",
       "      <th>CITY</th>\n",
       "      <th>LOCALITY</th>\n",
       "      <th>RATING</th>\n",
       "      <th>VOTES</th>\n",
       "    </tr>\n",
       "  </thead>\n",
       "  <tbody>\n",
       "    <tr>\n",
       "      <th>0</th>\n",
       "      <td>23</td>\n",
       "      <td>4085</td>\n",
       "      <td>1293</td>\n",
       "      <td>503</td>\n",
       "      <td>Noida</td>\n",
       "      <td>Sector 18</td>\n",
       "      <td>4.3</td>\n",
       "      <td>564 votes</td>\n",
       "    </tr>\n",
       "    <tr>\n",
       "      <th>1</th>\n",
       "      <td>75</td>\n",
       "      <td>12680</td>\n",
       "      <td>1632</td>\n",
       "      <td>933</td>\n",
       "      <td>Mumbai</td>\n",
       "      <td>Grant Road</td>\n",
       "      <td>4.2</td>\n",
       "      <td>61 votes</td>\n",
       "    </tr>\n",
       "    <tr>\n",
       "      <th>2</th>\n",
       "      <td>23</td>\n",
       "      <td>1411</td>\n",
       "      <td>1455</td>\n",
       "      <td>219</td>\n",
       "      <td>Mumbai</td>\n",
       "      <td>Marine Lines</td>\n",
       "      <td>3.8</td>\n",
       "      <td>350 votes</td>\n",
       "    </tr>\n",
       "    <tr>\n",
       "      <th>3</th>\n",
       "      <td>66</td>\n",
       "      <td>204</td>\n",
       "      <td>208</td>\n",
       "      <td>1071</td>\n",
       "      <td>Faridabad</td>\n",
       "      <td>NIT</td>\n",
       "      <td>3.8</td>\n",
       "      <td>1445 votes</td>\n",
       "    </tr>\n",
       "    <tr>\n",
       "      <th>4</th>\n",
       "      <td>75</td>\n",
       "      <td>13453</td>\n",
       "      <td>1637</td>\n",
       "      <td>208</td>\n",
       "      <td>Kochi</td>\n",
       "      <td>Kaloor</td>\n",
       "      <td>3.6</td>\n",
       "      <td>23 votes</td>\n",
       "    </tr>\n",
       "  </tbody>\n",
       "</table>\n",
       "</div>"
      ],
      "text/plain": [
       "   TITLE  RESTAURANT_ID  CUISINES  TIME       CITY      LOCALITY RATING  \\\n",
       "0     23           4085      1293   503      Noida     Sector 18    4.3   \n",
       "1     75          12680      1632   933     Mumbai    Grant Road    4.2   \n",
       "2     23           1411      1455   219     Mumbai  Marine Lines    3.8   \n",
       "3     66            204       208  1071  Faridabad           NIT    3.8   \n",
       "4     75          13453      1637   208      Kochi        Kaloor    3.6   \n",
       "\n",
       "        VOTES  \n",
       "0   564 votes  \n",
       "1    61 votes  \n",
       "2   350 votes  \n",
       "3  1445 votes  \n",
       "4    23 votes  "
      ]
     },
     "execution_count": 22,
     "metadata": {},
     "output_type": "execute_result"
    }
   ],
   "source": [
    "Test_data.head()"
   ]
  },
  {
   "cell_type": "code",
   "execution_count": 23,
   "metadata": {},
   "outputs": [
    {
     "name": "stdout",
     "output_type": "stream",
     "text": [
      "(12690, 10) (4231, 9) (16921, 10)\n"
     ]
    }
   ],
   "source": [
    "Train_data['source']='train'         #Adding source with train and test into both Train & Test data\n",
    "Test_data['source']='test'\n",
    "data=pd.concat([Train_data,Test_data],sort=False)\n",
    "print(Train_data.shape,Test_data.shape,data.shape)"
   ]
  },
  {
   "cell_type": "code",
   "execution_count": 24,
   "metadata": {},
   "outputs": [
    {
     "data": {
      "text/html": [
       "<div>\n",
       "<style scoped>\n",
       "    .dataframe tbody tr th:only-of-type {\n",
       "        vertical-align: middle;\n",
       "    }\n",
       "\n",
       "    .dataframe tbody tr th {\n",
       "        vertical-align: top;\n",
       "    }\n",
       "\n",
       "    .dataframe thead th {\n",
       "        text-align: right;\n",
       "    }\n",
       "</style>\n",
       "<table border=\"1\" class=\"dataframe\">\n",
       "  <thead>\n",
       "    <tr style=\"text-align: right;\">\n",
       "      <th></th>\n",
       "      <th>TITLE</th>\n",
       "      <th>RESTAURANT_ID</th>\n",
       "      <th>CUISINES</th>\n",
       "      <th>TIME</th>\n",
       "      <th>CITY</th>\n",
       "      <th>LOCALITY</th>\n",
       "      <th>RATING</th>\n",
       "      <th>VOTES</th>\n",
       "      <th>COST</th>\n",
       "      <th>source</th>\n",
       "    </tr>\n",
       "  </thead>\n",
       "  <tbody>\n",
       "    <tr>\n",
       "      <th>0</th>\n",
       "      <td>31</td>\n",
       "      <td>9438</td>\n",
       "      <td>2627</td>\n",
       "      <td>739</td>\n",
       "      <td>Thane</td>\n",
       "      <td>Dombivali East</td>\n",
       "      <td>3.6</td>\n",
       "      <td>49 votes</td>\n",
       "      <td>1200.0</td>\n",
       "      <td>train</td>\n",
       "    </tr>\n",
       "    <tr>\n",
       "      <th>1</th>\n",
       "      <td>33</td>\n",
       "      <td>13198</td>\n",
       "      <td>289</td>\n",
       "      <td>1885</td>\n",
       "      <td>Chennai</td>\n",
       "      <td>Ramapuram</td>\n",
       "      <td>4.2</td>\n",
       "      <td>30 votes</td>\n",
       "      <td>1500.0</td>\n",
       "      <td>train</td>\n",
       "    </tr>\n",
       "    <tr>\n",
       "      <th>2</th>\n",
       "      <td>31</td>\n",
       "      <td>10915</td>\n",
       "      <td>2976</td>\n",
       "      <td>661</td>\n",
       "      <td>Chennai</td>\n",
       "      <td>Saligramam</td>\n",
       "      <td>3.8</td>\n",
       "      <td>221 votes</td>\n",
       "      <td>800.0</td>\n",
       "      <td>train</td>\n",
       "    </tr>\n",
       "    <tr>\n",
       "      <th>3</th>\n",
       "      <td>95</td>\n",
       "      <td>6346</td>\n",
       "      <td>4130</td>\n",
       "      <td>275</td>\n",
       "      <td>Mumbai</td>\n",
       "      <td>Bandra West</td>\n",
       "      <td>4.1</td>\n",
       "      <td>24 votes</td>\n",
       "      <td>800.0</td>\n",
       "      <td>train</td>\n",
       "    </tr>\n",
       "    <tr>\n",
       "      <th>4</th>\n",
       "      <td>50</td>\n",
       "      <td>15387</td>\n",
       "      <td>1766</td>\n",
       "      <td>615</td>\n",
       "      <td>Mumbai</td>\n",
       "      <td>Lower Parel</td>\n",
       "      <td>3.8</td>\n",
       "      <td>165 votes</td>\n",
       "      <td>300.0</td>\n",
       "      <td>train</td>\n",
       "    </tr>\n",
       "  </tbody>\n",
       "</table>\n",
       "</div>"
      ],
      "text/plain": [
       "   TITLE  RESTAURANT_ID  CUISINES  TIME     CITY        LOCALITY RATING  \\\n",
       "0     31           9438      2627   739    Thane  Dombivali East    3.6   \n",
       "1     33          13198       289  1885  Chennai       Ramapuram    4.2   \n",
       "2     31          10915      2976   661  Chennai      Saligramam    3.8   \n",
       "3     95           6346      4130   275   Mumbai     Bandra West    4.1   \n",
       "4     50          15387      1766   615   Mumbai     Lower Parel    3.8   \n",
       "\n",
       "       VOTES    COST source  \n",
       "0   49 votes  1200.0  train  \n",
       "1   30 votes  1500.0  train  \n",
       "2  221 votes   800.0  train  \n",
       "3   24 votes   800.0  train  \n",
       "4  165 votes   300.0  train  "
      ]
     },
     "execution_count": 24,
     "metadata": {},
     "output_type": "execute_result"
    }
   ],
   "source": [
    "data.head()"
   ]
  },
  {
   "cell_type": "code",
   "execution_count": 25,
   "metadata": {},
   "outputs": [
    {
     "data": {
      "text/plain": [
       "TITLE               0\n",
       "RESTAURANT_ID       0\n",
       "CUISINES            0\n",
       "TIME                0\n",
       "CITY                0\n",
       "LOCALITY            0\n",
       "RATING              0\n",
       "VOTES               0\n",
       "COST             4231\n",
       "source              0\n",
       "dtype: int64"
      ]
     },
     "execution_count": 25,
     "metadata": {},
     "output_type": "execute_result"
    }
   ],
   "source": [
    "data.isnull().sum()"
   ]
  },
  {
   "cell_type": "code",
   "execution_count": 26,
   "metadata": {},
   "outputs": [],
   "source": [
    "data['COST'].fillna(data['COST'].mean(),inplace=True)           # Imputing Null values with mean"
   ]
  },
  {
   "cell_type": "code",
   "execution_count": 27,
   "metadata": {},
   "outputs": [],
   "source": [
    "data['source']=le.fit_transform(data['source'])       # Converting string to numeric"
   ]
  },
  {
   "cell_type": "code",
   "execution_count": 28,
   "metadata": {},
   "outputs": [
    {
     "data": {
      "text/html": [
       "<div>\n",
       "<style scoped>\n",
       "    .dataframe tbody tr th:only-of-type {\n",
       "        vertical-align: middle;\n",
       "    }\n",
       "\n",
       "    .dataframe tbody tr th {\n",
       "        vertical-align: top;\n",
       "    }\n",
       "\n",
       "    .dataframe thead th {\n",
       "        text-align: right;\n",
       "    }\n",
       "</style>\n",
       "<table border=\"1\" class=\"dataframe\">\n",
       "  <thead>\n",
       "    <tr style=\"text-align: right;\">\n",
       "      <th></th>\n",
       "      <th>TITLE</th>\n",
       "      <th>RESTAURANT_ID</th>\n",
       "      <th>CUISINES</th>\n",
       "      <th>TIME</th>\n",
       "      <th>CITY</th>\n",
       "      <th>LOCALITY</th>\n",
       "      <th>RATING</th>\n",
       "      <th>VOTES</th>\n",
       "      <th>COST</th>\n",
       "      <th>source</th>\n",
       "    </tr>\n",
       "  </thead>\n",
       "  <tbody>\n",
       "    <tr>\n",
       "      <th>0</th>\n",
       "      <td>31</td>\n",
       "      <td>9438</td>\n",
       "      <td>2627</td>\n",
       "      <td>739</td>\n",
       "      <td>Thane</td>\n",
       "      <td>Dombivali East</td>\n",
       "      <td>3.6</td>\n",
       "      <td>49 votes</td>\n",
       "      <td>1200.0</td>\n",
       "      <td>1</td>\n",
       "    </tr>\n",
       "    <tr>\n",
       "      <th>1</th>\n",
       "      <td>33</td>\n",
       "      <td>13198</td>\n",
       "      <td>289</td>\n",
       "      <td>1885</td>\n",
       "      <td>Chennai</td>\n",
       "      <td>Ramapuram</td>\n",
       "      <td>4.2</td>\n",
       "      <td>30 votes</td>\n",
       "      <td>1500.0</td>\n",
       "      <td>1</td>\n",
       "    </tr>\n",
       "    <tr>\n",
       "      <th>2</th>\n",
       "      <td>31</td>\n",
       "      <td>10915</td>\n",
       "      <td>2976</td>\n",
       "      <td>661</td>\n",
       "      <td>Chennai</td>\n",
       "      <td>Saligramam</td>\n",
       "      <td>3.8</td>\n",
       "      <td>221 votes</td>\n",
       "      <td>800.0</td>\n",
       "      <td>1</td>\n",
       "    </tr>\n",
       "    <tr>\n",
       "      <th>3</th>\n",
       "      <td>95</td>\n",
       "      <td>6346</td>\n",
       "      <td>4130</td>\n",
       "      <td>275</td>\n",
       "      <td>Mumbai</td>\n",
       "      <td>Bandra West</td>\n",
       "      <td>4.1</td>\n",
       "      <td>24 votes</td>\n",
       "      <td>800.0</td>\n",
       "      <td>1</td>\n",
       "    </tr>\n",
       "    <tr>\n",
       "      <th>4</th>\n",
       "      <td>50</td>\n",
       "      <td>15387</td>\n",
       "      <td>1766</td>\n",
       "      <td>615</td>\n",
       "      <td>Mumbai</td>\n",
       "      <td>Lower Parel</td>\n",
       "      <td>3.8</td>\n",
       "      <td>165 votes</td>\n",
       "      <td>300.0</td>\n",
       "      <td>1</td>\n",
       "    </tr>\n",
       "  </tbody>\n",
       "</table>\n",
       "</div>"
      ],
      "text/plain": [
       "   TITLE  RESTAURANT_ID  CUISINES  TIME     CITY        LOCALITY RATING  \\\n",
       "0     31           9438      2627   739    Thane  Dombivali East    3.6   \n",
       "1     33          13198       289  1885  Chennai       Ramapuram    4.2   \n",
       "2     31          10915      2976   661  Chennai      Saligramam    3.8   \n",
       "3     95           6346      4130   275   Mumbai     Bandra West    4.1   \n",
       "4     50          15387      1766   615   Mumbai     Lower Parel    3.8   \n",
       "\n",
       "       VOTES    COST  source  \n",
       "0   49 votes  1200.0       1  \n",
       "1   30 votes  1500.0       1  \n",
       "2  221 votes   800.0       1  \n",
       "3   24 votes   800.0       1  \n",
       "4  165 votes   300.0       1  "
      ]
     },
     "execution_count": 28,
     "metadata": {},
     "output_type": "execute_result"
    }
   ],
   "source": [
    "data.head()"
   ]
  },
  {
   "cell_type": "code",
   "execution_count": 29,
   "metadata": {},
   "outputs": [],
   "source": [
    "data['CITY']=le.fit_transform(data['CITY'].astype(str))   # Converting string to numeric\n"
   ]
  },
  {
   "cell_type": "code",
   "execution_count": 30,
   "metadata": {},
   "outputs": [],
   "source": [
    "data['LOCALITY']=le.fit_transform(data['LOCALITY'].astype(str))    # Converting string to numeric"
   ]
  },
  {
   "cell_type": "code",
   "execution_count": 31,
   "metadata": {},
   "outputs": [
    {
     "data": {
      "text/plain": [
       "TITLE            0\n",
       "RESTAURANT_ID    0\n",
       "CUISINES         0\n",
       "TIME             0\n",
       "CITY             0\n",
       "LOCALITY         0\n",
       "RATING           0\n",
       "VOTES            0\n",
       "COST             0\n",
       "source           0\n",
       "dtype: int64"
      ]
     },
     "execution_count": 31,
     "metadata": {},
     "output_type": "execute_result"
    }
   ],
   "source": [
    "data.isnull().sum()                 # Checking Null values"
   ]
  },
  {
   "cell_type": "code",
   "execution_count": 32,
   "metadata": {},
   "outputs": [
    {
     "data": {
      "text/html": [
       "<div>\n",
       "<style scoped>\n",
       "    .dataframe tbody tr th:only-of-type {\n",
       "        vertical-align: middle;\n",
       "    }\n",
       "\n",
       "    .dataframe tbody tr th {\n",
       "        vertical-align: top;\n",
       "    }\n",
       "\n",
       "    .dataframe thead th {\n",
       "        text-align: right;\n",
       "    }\n",
       "</style>\n",
       "<table border=\"1\" class=\"dataframe\">\n",
       "  <thead>\n",
       "    <tr style=\"text-align: right;\">\n",
       "      <th></th>\n",
       "      <th>TITLE</th>\n",
       "      <th>RESTAURANT_ID</th>\n",
       "      <th>CUISINES</th>\n",
       "      <th>TIME</th>\n",
       "      <th>CITY</th>\n",
       "      <th>LOCALITY</th>\n",
       "      <th>RATING</th>\n",
       "      <th>VOTES</th>\n",
       "      <th>COST</th>\n",
       "      <th>source</th>\n",
       "    </tr>\n",
       "  </thead>\n",
       "  <tbody>\n",
       "    <tr>\n",
       "      <th>0</th>\n",
       "      <td>31</td>\n",
       "      <td>9438</td>\n",
       "      <td>2627</td>\n",
       "      <td>739</td>\n",
       "      <td>402</td>\n",
       "      <td>330</td>\n",
       "      <td>3.6</td>\n",
       "      <td>49 votes</td>\n",
       "      <td>1200.0</td>\n",
       "      <td>1</td>\n",
       "    </tr>\n",
       "    <tr>\n",
       "      <th>1</th>\n",
       "      <td>33</td>\n",
       "      <td>13198</td>\n",
       "      <td>289</td>\n",
       "      <td>1885</td>\n",
       "      <td>77</td>\n",
       "      <td>1216</td>\n",
       "      <td>4.2</td>\n",
       "      <td>30 votes</td>\n",
       "      <td>1500.0</td>\n",
       "      <td>1</td>\n",
       "    </tr>\n",
       "    <tr>\n",
       "      <th>2</th>\n",
       "      <td>31</td>\n",
       "      <td>10915</td>\n",
       "      <td>2976</td>\n",
       "      <td>661</td>\n",
       "      <td>77</td>\n",
       "      <td>1274</td>\n",
       "      <td>3.8</td>\n",
       "      <td>221 votes</td>\n",
       "      <td>800.0</td>\n",
       "      <td>1</td>\n",
       "    </tr>\n",
       "    <tr>\n",
       "      <th>3</th>\n",
       "      <td>95</td>\n",
       "      <td>6346</td>\n",
       "      <td>4130</td>\n",
       "      <td>275</td>\n",
       "      <td>279</td>\n",
       "      <td>163</td>\n",
       "      <td>4.1</td>\n",
       "      <td>24 votes</td>\n",
       "      <td>800.0</td>\n",
       "      <td>1</td>\n",
       "    </tr>\n",
       "    <tr>\n",
       "      <th>4</th>\n",
       "      <td>50</td>\n",
       "      <td>15387</td>\n",
       "      <td>1766</td>\n",
       "      <td>615</td>\n",
       "      <td>279</td>\n",
       "      <td>711</td>\n",
       "      <td>3.8</td>\n",
       "      <td>165 votes</td>\n",
       "      <td>300.0</td>\n",
       "      <td>1</td>\n",
       "    </tr>\n",
       "  </tbody>\n",
       "</table>\n",
       "</div>"
      ],
      "text/plain": [
       "   TITLE  RESTAURANT_ID  CUISINES  TIME  CITY  LOCALITY RATING      VOTES  \\\n",
       "0     31           9438      2627   739   402       330    3.6   49 votes   \n",
       "1     33          13198       289  1885    77      1216    4.2   30 votes   \n",
       "2     31          10915      2976   661    77      1274    3.8  221 votes   \n",
       "3     95           6346      4130   275   279       163    4.1   24 votes   \n",
       "4     50          15387      1766   615   279       711    3.8  165 votes   \n",
       "\n",
       "     COST  source  \n",
       "0  1200.0       1  \n",
       "1  1500.0       1  \n",
       "2   800.0       1  \n",
       "3   800.0       1  \n",
       "4   300.0       1  "
      ]
     },
     "execution_count": 32,
     "metadata": {},
     "output_type": "execute_result"
    }
   ],
   "source": [
    "data.head()"
   ]
  },
  {
   "cell_type": "code",
   "execution_count": 33,
   "metadata": {},
   "outputs": [],
   "source": [
    "data['RATING'] = data['RATING'].str.replace('NEW', '1')         # replacing string value with numeric\n",
    "data['RATING'] = data['RATING'].str.replace('-', '1').astype(float)  # replacing '-' with numeric"
   ]
  },
  {
   "cell_type": "code",
   "execution_count": 34,
   "metadata": {},
   "outputs": [],
   "source": [
    "data['VOTES'] = data['VOTES'].str.replace(' votes', '').astype(float)     # replacing string value "
   ]
  },
  {
   "cell_type": "code",
   "execution_count": 35,
   "metadata": {},
   "outputs": [
    {
     "data": {
      "text/html": [
       "<div>\n",
       "<style scoped>\n",
       "    .dataframe tbody tr th:only-of-type {\n",
       "        vertical-align: middle;\n",
       "    }\n",
       "\n",
       "    .dataframe tbody tr th {\n",
       "        vertical-align: top;\n",
       "    }\n",
       "\n",
       "    .dataframe thead th {\n",
       "        text-align: right;\n",
       "    }\n",
       "</style>\n",
       "<table border=\"1\" class=\"dataframe\">\n",
       "  <thead>\n",
       "    <tr style=\"text-align: right;\">\n",
       "      <th></th>\n",
       "      <th>TITLE</th>\n",
       "      <th>RESTAURANT_ID</th>\n",
       "      <th>CUISINES</th>\n",
       "      <th>TIME</th>\n",
       "      <th>CITY</th>\n",
       "      <th>LOCALITY</th>\n",
       "      <th>RATING</th>\n",
       "      <th>VOTES</th>\n",
       "      <th>COST</th>\n",
       "      <th>source</th>\n",
       "    </tr>\n",
       "  </thead>\n",
       "  <tbody>\n",
       "    <tr>\n",
       "      <th>0</th>\n",
       "      <td>31</td>\n",
       "      <td>9438</td>\n",
       "      <td>2627</td>\n",
       "      <td>739</td>\n",
       "      <td>402</td>\n",
       "      <td>330</td>\n",
       "      <td>3.6</td>\n",
       "      <td>49.0</td>\n",
       "      <td>1200.0</td>\n",
       "      <td>1</td>\n",
       "    </tr>\n",
       "    <tr>\n",
       "      <th>1</th>\n",
       "      <td>33</td>\n",
       "      <td>13198</td>\n",
       "      <td>289</td>\n",
       "      <td>1885</td>\n",
       "      <td>77</td>\n",
       "      <td>1216</td>\n",
       "      <td>4.2</td>\n",
       "      <td>30.0</td>\n",
       "      <td>1500.0</td>\n",
       "      <td>1</td>\n",
       "    </tr>\n",
       "    <tr>\n",
       "      <th>2</th>\n",
       "      <td>31</td>\n",
       "      <td>10915</td>\n",
       "      <td>2976</td>\n",
       "      <td>661</td>\n",
       "      <td>77</td>\n",
       "      <td>1274</td>\n",
       "      <td>3.8</td>\n",
       "      <td>221.0</td>\n",
       "      <td>800.0</td>\n",
       "      <td>1</td>\n",
       "    </tr>\n",
       "    <tr>\n",
       "      <th>3</th>\n",
       "      <td>95</td>\n",
       "      <td>6346</td>\n",
       "      <td>4130</td>\n",
       "      <td>275</td>\n",
       "      <td>279</td>\n",
       "      <td>163</td>\n",
       "      <td>4.1</td>\n",
       "      <td>24.0</td>\n",
       "      <td>800.0</td>\n",
       "      <td>1</td>\n",
       "    </tr>\n",
       "    <tr>\n",
       "      <th>4</th>\n",
       "      <td>50</td>\n",
       "      <td>15387</td>\n",
       "      <td>1766</td>\n",
       "      <td>615</td>\n",
       "      <td>279</td>\n",
       "      <td>711</td>\n",
       "      <td>3.8</td>\n",
       "      <td>165.0</td>\n",
       "      <td>300.0</td>\n",
       "      <td>1</td>\n",
       "    </tr>\n",
       "  </tbody>\n",
       "</table>\n",
       "</div>"
      ],
      "text/plain": [
       "   TITLE  RESTAURANT_ID  CUISINES  TIME  CITY  LOCALITY  RATING  VOTES  \\\n",
       "0     31           9438      2627   739   402       330     3.6   49.0   \n",
       "1     33          13198       289  1885    77      1216     4.2   30.0   \n",
       "2     31          10915      2976   661    77      1274     3.8  221.0   \n",
       "3     95           6346      4130   275   279       163     4.1   24.0   \n",
       "4     50          15387      1766   615   279       711     3.8  165.0   \n",
       "\n",
       "     COST  source  \n",
       "0  1200.0       1  \n",
       "1  1500.0       1  \n",
       "2   800.0       1  \n",
       "3   800.0       1  \n",
       "4   300.0       1  "
      ]
     },
     "execution_count": 35,
     "metadata": {},
     "output_type": "execute_result"
    }
   ],
   "source": [
    "data.head()"
   ]
  },
  {
   "cell_type": "code",
   "execution_count": 36,
   "metadata": {},
   "outputs": [
    {
     "data": {
      "text/html": [
       "<div>\n",
       "<style scoped>\n",
       "    .dataframe tbody tr th:only-of-type {\n",
       "        vertical-align: middle;\n",
       "    }\n",
       "\n",
       "    .dataframe tbody tr th {\n",
       "        vertical-align: top;\n",
       "    }\n",
       "\n",
       "    .dataframe thead th {\n",
       "        text-align: right;\n",
       "    }\n",
       "</style>\n",
       "<table border=\"1\" class=\"dataframe\">\n",
       "  <thead>\n",
       "    <tr style=\"text-align: right;\">\n",
       "      <th></th>\n",
       "      <th>TITLE</th>\n",
       "      <th>RESTAURANT_ID</th>\n",
       "      <th>CUISINES</th>\n",
       "      <th>TIME</th>\n",
       "      <th>CITY</th>\n",
       "      <th>LOCALITY</th>\n",
       "      <th>RATING</th>\n",
       "      <th>VOTES</th>\n",
       "      <th>COST</th>\n",
       "      <th>source</th>\n",
       "    </tr>\n",
       "  </thead>\n",
       "  <tbody>\n",
       "    <tr>\n",
       "      <th>0</th>\n",
       "      <td>31</td>\n",
       "      <td>9438</td>\n",
       "      <td>2627</td>\n",
       "      <td>739</td>\n",
       "      <td>402</td>\n",
       "      <td>330</td>\n",
       "      <td>3.6</td>\n",
       "      <td>49.0</td>\n",
       "      <td>1200.000000</td>\n",
       "      <td>1</td>\n",
       "    </tr>\n",
       "    <tr>\n",
       "      <th>1</th>\n",
       "      <td>33</td>\n",
       "      <td>13198</td>\n",
       "      <td>289</td>\n",
       "      <td>1885</td>\n",
       "      <td>77</td>\n",
       "      <td>1216</td>\n",
       "      <td>4.2</td>\n",
       "      <td>30.0</td>\n",
       "      <td>1500.000000</td>\n",
       "      <td>1</td>\n",
       "    </tr>\n",
       "    <tr>\n",
       "      <th>2</th>\n",
       "      <td>31</td>\n",
       "      <td>10915</td>\n",
       "      <td>2976</td>\n",
       "      <td>661</td>\n",
       "      <td>77</td>\n",
       "      <td>1274</td>\n",
       "      <td>3.8</td>\n",
       "      <td>221.0</td>\n",
       "      <td>800.000000</td>\n",
       "      <td>1</td>\n",
       "    </tr>\n",
       "    <tr>\n",
       "      <th>3</th>\n",
       "      <td>95</td>\n",
       "      <td>6346</td>\n",
       "      <td>4130</td>\n",
       "      <td>275</td>\n",
       "      <td>279</td>\n",
       "      <td>163</td>\n",
       "      <td>4.1</td>\n",
       "      <td>24.0</td>\n",
       "      <td>800.000000</td>\n",
       "      <td>1</td>\n",
       "    </tr>\n",
       "    <tr>\n",
       "      <th>4</th>\n",
       "      <td>50</td>\n",
       "      <td>15387</td>\n",
       "      <td>1766</td>\n",
       "      <td>615</td>\n",
       "      <td>279</td>\n",
       "      <td>711</td>\n",
       "      <td>3.8</td>\n",
       "      <td>165.0</td>\n",
       "      <td>300.000000</td>\n",
       "      <td>1</td>\n",
       "    </tr>\n",
       "    <tr>\n",
       "      <th>...</th>\n",
       "      <td>...</td>\n",
       "      <td>...</td>\n",
       "      <td>...</td>\n",
       "      <td>...</td>\n",
       "      <td>...</td>\n",
       "      <td>...</td>\n",
       "      <td>...</td>\n",
       "      <td>...</td>\n",
       "      <td>...</td>\n",
       "      <td>...</td>\n",
       "    </tr>\n",
       "    <tr>\n",
       "      <th>4226</th>\n",
       "      <td>23</td>\n",
       "      <td>9057</td>\n",
       "      <td>1425</td>\n",
       "      <td>103</td>\n",
       "      <td>318</td>\n",
       "      <td>1186</td>\n",
       "      <td>3.9</td>\n",
       "      <td>287.0</td>\n",
       "      <td>655.252246</td>\n",
       "      <td>0</td>\n",
       "    </tr>\n",
       "    <tr>\n",
       "      <th>4227</th>\n",
       "      <td>66</td>\n",
       "      <td>1247</td>\n",
       "      <td>267</td>\n",
       "      <td>262</td>\n",
       "      <td>44</td>\n",
       "      <td>463</td>\n",
       "      <td>4.3</td>\n",
       "      <td>469.0</td>\n",
       "      <td>655.252246</td>\n",
       "      <td>0</td>\n",
       "    </tr>\n",
       "    <tr>\n",
       "      <th>4228</th>\n",
       "      <td>75</td>\n",
       "      <td>8617</td>\n",
       "      <td>679</td>\n",
       "      <td>1052</td>\n",
       "      <td>130</td>\n",
       "      <td>1372</td>\n",
       "      <td>3.7</td>\n",
       "      <td>53.0</td>\n",
       "      <td>655.252246</td>\n",
       "      <td>0</td>\n",
       "    </tr>\n",
       "    <tr>\n",
       "      <th>4229</th>\n",
       "      <td>75</td>\n",
       "      <td>6485</td>\n",
       "      <td>1541</td>\n",
       "      <td>215</td>\n",
       "      <td>218</td>\n",
       "      <td>644</td>\n",
       "      <td>1.0</td>\n",
       "      <td>NaN</td>\n",
       "      <td>655.252246</td>\n",
       "      <td>0</td>\n",
       "    </tr>\n",
       "    <tr>\n",
       "      <th>4230</th>\n",
       "      <td>75</td>\n",
       "      <td>2421</td>\n",
       "      <td>1145</td>\n",
       "      <td>781</td>\n",
       "      <td>42</td>\n",
       "      <td>1150</td>\n",
       "      <td>3.7</td>\n",
       "      <td>63.0</td>\n",
       "      <td>655.252246</td>\n",
       "      <td>0</td>\n",
       "    </tr>\n",
       "  </tbody>\n",
       "</table>\n",
       "<p>16921 rows × 10 columns</p>\n",
       "</div>"
      ],
      "text/plain": [
       "      TITLE  RESTAURANT_ID  CUISINES  TIME  CITY  LOCALITY  RATING  VOTES  \\\n",
       "0        31           9438      2627   739   402       330     3.6   49.0   \n",
       "1        33          13198       289  1885    77      1216     4.2   30.0   \n",
       "2        31          10915      2976   661    77      1274     3.8  221.0   \n",
       "3        95           6346      4130   275   279       163     4.1   24.0   \n",
       "4        50          15387      1766   615   279       711     3.8  165.0   \n",
       "...     ...            ...       ...   ...   ...       ...     ...    ...   \n",
       "4226     23           9057      1425   103   318      1186     3.9  287.0   \n",
       "4227     66           1247       267   262    44       463     4.3  469.0   \n",
       "4228     75           8617       679  1052   130      1372     3.7   53.0   \n",
       "4229     75           6485      1541   215   218       644     1.0    NaN   \n",
       "4230     75           2421      1145   781    42      1150     3.7   63.0   \n",
       "\n",
       "             COST  source  \n",
       "0     1200.000000       1  \n",
       "1     1500.000000       1  \n",
       "2      800.000000       1  \n",
       "3      800.000000       1  \n",
       "4      300.000000       1  \n",
       "...           ...     ...  \n",
       "4226   655.252246       0  \n",
       "4227   655.252246       0  \n",
       "4228   655.252246       0  \n",
       "4229   655.252246       0  \n",
       "4230   655.252246       0  \n",
       "\n",
       "[16921 rows x 10 columns]"
      ]
     },
     "execution_count": 36,
     "metadata": {},
     "output_type": "execute_result"
    }
   ],
   "source": [
    "data"
   ]
  },
  {
   "cell_type": "code",
   "execution_count": 37,
   "metadata": {},
   "outputs": [
    {
     "data": {
      "text/html": [
       "<div>\n",
       "<style scoped>\n",
       "    .dataframe tbody tr th:only-of-type {\n",
       "        vertical-align: middle;\n",
       "    }\n",
       "\n",
       "    .dataframe tbody tr th {\n",
       "        vertical-align: top;\n",
       "    }\n",
       "\n",
       "    .dataframe thead th {\n",
       "        text-align: right;\n",
       "    }\n",
       "</style>\n",
       "<table border=\"1\" class=\"dataframe\">\n",
       "  <thead>\n",
       "    <tr style=\"text-align: right;\">\n",
       "      <th></th>\n",
       "      <th>TITLE</th>\n",
       "      <th>RESTAURANT_ID</th>\n",
       "      <th>CUISINES</th>\n",
       "      <th>TIME</th>\n",
       "      <th>CITY</th>\n",
       "      <th>LOCALITY</th>\n",
       "      <th>RATING</th>\n",
       "      <th>VOTES</th>\n",
       "      <th>COST</th>\n",
       "      <th>source</th>\n",
       "    </tr>\n",
       "  </thead>\n",
       "  <tbody>\n",
       "    <tr>\n",
       "      <th>count</th>\n",
       "      <td>16921.000000</td>\n",
       "      <td>16921.000000</td>\n",
       "      <td>16921.000000</td>\n",
       "      <td>16921.000000</td>\n",
       "      <td>16921.000000</td>\n",
       "      <td>16921.000000</td>\n",
       "      <td>16917.000000</td>\n",
       "      <td>15315.000000</td>\n",
       "      <td>16921.000000</td>\n",
       "      <td>16921.000000</td>\n",
       "    </tr>\n",
       "    <tr>\n",
       "      <th>mean</th>\n",
       "      <td>56.044087</td>\n",
       "      <td>7767.211631</td>\n",
       "      <td>1908.430648</td>\n",
       "      <td>1015.813604</td>\n",
       "      <td>176.377755</td>\n",
       "      <td>751.393653</td>\n",
       "      <td>3.520790</td>\n",
       "      <td>419.194254</td>\n",
       "      <td>655.252246</td>\n",
       "      <td>0.749956</td>\n",
       "    </tr>\n",
       "    <tr>\n",
       "      <th>std</th>\n",
       "      <td>31.850379</td>\n",
       "      <td>4493.287626</td>\n",
       "      <td>1212.302948</td>\n",
       "      <td>732.670071</td>\n",
       "      <td>107.598087</td>\n",
       "      <td>461.905119</td>\n",
       "      <td>0.910054</td>\n",
       "      <td>839.915407</td>\n",
       "      <td>542.979598</td>\n",
       "      <td>0.433051</td>\n",
       "    </tr>\n",
       "    <tr>\n",
       "      <th>min</th>\n",
       "      <td>0.000000</td>\n",
       "      <td>0.000000</td>\n",
       "      <td>0.000000</td>\n",
       "      <td>0.000000</td>\n",
       "      <td>0.000000</td>\n",
       "      <td>0.000000</td>\n",
       "      <td>1.000000</td>\n",
       "      <td>3.000000</td>\n",
       "      <td>20.000000</td>\n",
       "      <td>0.000000</td>\n",
       "    </tr>\n",
       "    <tr>\n",
       "      <th>25%</th>\n",
       "      <td>31.000000</td>\n",
       "      <td>3873.000000</td>\n",
       "      <td>849.000000</td>\n",
       "      <td>478.000000</td>\n",
       "      <td>77.000000</td>\n",
       "      <td>383.000000</td>\n",
       "      <td>3.400000</td>\n",
       "      <td>57.000000</td>\n",
       "      <td>350.000000</td>\n",
       "      <td>0.000000</td>\n",
       "    </tr>\n",
       "    <tr>\n",
       "      <th>50%</th>\n",
       "      <td>50.000000</td>\n",
       "      <td>7751.000000</td>\n",
       "      <td>1694.000000</td>\n",
       "      <td>843.000000</td>\n",
       "      <td>162.000000</td>\n",
       "      <td>668.000000</td>\n",
       "      <td>3.800000</td>\n",
       "      <td>164.000000</td>\n",
       "      <td>600.000000</td>\n",
       "      <td>1.000000</td>\n",
       "    </tr>\n",
       "    <tr>\n",
       "      <th>75%</th>\n",
       "      <td>95.000000</td>\n",
       "      <td>11672.000000</td>\n",
       "      <td>2946.000000</td>\n",
       "      <td>1528.000000</td>\n",
       "      <td>279.000000</td>\n",
       "      <td>1173.000000</td>\n",
       "      <td>4.000000</td>\n",
       "      <td>462.000000</td>\n",
       "      <td>655.252246</td>\n",
       "      <td>1.000000</td>\n",
       "    </tr>\n",
       "    <tr>\n",
       "      <th>max</th>\n",
       "      <td>112.000000</td>\n",
       "      <td>15573.000000</td>\n",
       "      <td>4154.000000</td>\n",
       "      <td>2688.000000</td>\n",
       "      <td>451.000000</td>\n",
       "      <td>1637.000000</td>\n",
       "      <td>4.900000</td>\n",
       "      <td>41186.000000</td>\n",
       "      <td>14000.000000</td>\n",
       "      <td>1.000000</td>\n",
       "    </tr>\n",
       "  </tbody>\n",
       "</table>\n",
       "</div>"
      ],
      "text/plain": [
       "              TITLE  RESTAURANT_ID      CUISINES          TIME          CITY  \\\n",
       "count  16921.000000   16921.000000  16921.000000  16921.000000  16921.000000   \n",
       "mean      56.044087    7767.211631   1908.430648   1015.813604    176.377755   \n",
       "std       31.850379    4493.287626   1212.302948    732.670071    107.598087   \n",
       "min        0.000000       0.000000      0.000000      0.000000      0.000000   \n",
       "25%       31.000000    3873.000000    849.000000    478.000000     77.000000   \n",
       "50%       50.000000    7751.000000   1694.000000    843.000000    162.000000   \n",
       "75%       95.000000   11672.000000   2946.000000   1528.000000    279.000000   \n",
       "max      112.000000   15573.000000   4154.000000   2688.000000    451.000000   \n",
       "\n",
       "           LOCALITY        RATING         VOTES          COST        source  \n",
       "count  16921.000000  16917.000000  15315.000000  16921.000000  16921.000000  \n",
       "mean     751.393653      3.520790    419.194254    655.252246      0.749956  \n",
       "std      461.905119      0.910054    839.915407    542.979598      0.433051  \n",
       "min        0.000000      1.000000      3.000000     20.000000      0.000000  \n",
       "25%      383.000000      3.400000     57.000000    350.000000      0.000000  \n",
       "50%      668.000000      3.800000    164.000000    600.000000      1.000000  \n",
       "75%     1173.000000      4.000000    462.000000    655.252246      1.000000  \n",
       "max     1637.000000      4.900000  41186.000000  14000.000000      1.000000  "
      ]
     },
     "execution_count": 37,
     "metadata": {},
     "output_type": "execute_result"
    }
   ],
   "source": [
    "data.describe()           # Checking Statistical description"
   ]
  },
  {
   "cell_type": "markdown",
   "metadata": {},
   "source": [
    "Observations: TITLE  Maximum-112, Minimum-0\n",
    "              RESTAURANT_ID Maximum-15573, Minimum-0\n",
    "              CUISINES Maximum-4154, Minimum-0\n",
    "              TIME Maximum-2688, Minimum-0\n",
    "              CITY Maximum-451, Minimum-0\n",
    "              LOCALITY Maximum-1637, Minimum-0\n",
    "              RATING Maximum-4.9, Minimum-1\n",
    "              VOTES Maximum-41186, Minimum-3\n",
    "              COST Maximum-14000, Minimum-20\n",
    "        "
   ]
  },
  {
   "cell_type": "code",
   "execution_count": 91,
   "metadata": {},
   "outputs": [
    {
     "data": {
      "text/plain": [
       "<matplotlib.axes._subplots.AxesSubplot at 0x13c1464fc8>"
      ]
     },
     "execution_count": 91,
     "metadata": {},
     "output_type": "execute_result"
    },
    {
     "data": {
      "image/png": "[encoded data removed]",
      "text/plain": [
       "<Figure size 432x288 with 2 Axes>"
      ]
     },
     "metadata": {
      "needs_background": "light"
     },
     "output_type": "display_data"
    }
   ],
   "source": [
    "import seaborn as sns\n",
    "sns.heatmap(data.isnull(),annot=True)"
   ]
  },
  {
   "cell_type": "code",
   "execution_count": 39,
   "metadata": {},
   "outputs": [
    {
     "data": {
      "text/plain": [
       "655.252246      4231\n",
       "300.000000      1595\n",
       "400.000000      1357\n",
       "500.000000      1300\n",
       "200.000000      1031\n",
       "                ... \n",
       "4050.000000        1\n",
       "5200.000000        1\n",
       "14000.000000       1\n",
       "3600.000000        1\n",
       "140.000000         1\n",
       "Name: COST, Length: 87, dtype: int64"
      ]
     },
     "execution_count": 39,
     "metadata": {},
     "output_type": "execute_result"
    }
   ],
   "source": [
    "data['COST'].value_counts()          # Checking count for COST"
   ]
  },
  {
   "cell_type": "code",
   "execution_count": 40,
   "metadata": {},
   "outputs": [
    {
     "data": {
      "text/plain": [
       "TITLE              int32\n",
       "RESTAURANT_ID      int64\n",
       "CUISINES           int32\n",
       "TIME               int32\n",
       "CITY               int32\n",
       "LOCALITY           int32\n",
       "RATING           float64\n",
       "VOTES            float64\n",
       "COST             float64\n",
       "source             int32\n",
       "dtype: object"
      ]
     },
     "execution_count": 40,
     "metadata": {},
     "output_type": "execute_result"
    }
   ],
   "source": [
    "data.dtypes            # Checking  data types"
   ]
  },
  {
   "cell_type": "code",
   "execution_count": 41,
   "metadata": {},
   "outputs": [
    {
     "data": {
      "text/html": [
       "<div>\n",
       "<style scoped>\n",
       "    .dataframe tbody tr th:only-of-type {\n",
       "        vertical-align: middle;\n",
       "    }\n",
       "\n",
       "    .dataframe tbody tr th {\n",
       "        vertical-align: top;\n",
       "    }\n",
       "\n",
       "    .dataframe thead th {\n",
       "        text-align: right;\n",
       "    }\n",
       "</style>\n",
       "<table border=\"1\" class=\"dataframe\">\n",
       "  <thead>\n",
       "    <tr style=\"text-align: right;\">\n",
       "      <th></th>\n",
       "      <th>TITLE</th>\n",
       "      <th>RESTAURANT_ID</th>\n",
       "      <th>CUISINES</th>\n",
       "      <th>TIME</th>\n",
       "      <th>CITY</th>\n",
       "      <th>LOCALITY</th>\n",
       "      <th>RATING</th>\n",
       "      <th>VOTES</th>\n",
       "      <th>COST</th>\n",
       "      <th>source</th>\n",
       "    </tr>\n",
       "  </thead>\n",
       "  <tbody>\n",
       "    <tr>\n",
       "      <th>count</th>\n",
       "      <td>16921.000000</td>\n",
       "      <td>16921.000000</td>\n",
       "      <td>16921.000000</td>\n",
       "      <td>16921.000000</td>\n",
       "      <td>16921.000000</td>\n",
       "      <td>16921.000000</td>\n",
       "      <td>16917.000000</td>\n",
       "      <td>15315.000000</td>\n",
       "      <td>16921.000000</td>\n",
       "      <td>16921.000000</td>\n",
       "    </tr>\n",
       "    <tr>\n",
       "      <th>mean</th>\n",
       "      <td>56.044087</td>\n",
       "      <td>7767.211631</td>\n",
       "      <td>1908.430648</td>\n",
       "      <td>1015.813604</td>\n",
       "      <td>176.377755</td>\n",
       "      <td>751.393653</td>\n",
       "      <td>3.520790</td>\n",
       "      <td>419.194254</td>\n",
       "      <td>655.252246</td>\n",
       "      <td>0.749956</td>\n",
       "    </tr>\n",
       "    <tr>\n",
       "      <th>std</th>\n",
       "      <td>31.850379</td>\n",
       "      <td>4493.287626</td>\n",
       "      <td>1212.302948</td>\n",
       "      <td>732.670071</td>\n",
       "      <td>107.598087</td>\n",
       "      <td>461.905119</td>\n",
       "      <td>0.910054</td>\n",
       "      <td>839.915407</td>\n",
       "      <td>542.979598</td>\n",
       "      <td>0.433051</td>\n",
       "    </tr>\n",
       "    <tr>\n",
       "      <th>min</th>\n",
       "      <td>0.000000</td>\n",
       "      <td>0.000000</td>\n",
       "      <td>0.000000</td>\n",
       "      <td>0.000000</td>\n",
       "      <td>0.000000</td>\n",
       "      <td>0.000000</td>\n",
       "      <td>1.000000</td>\n",
       "      <td>3.000000</td>\n",
       "      <td>20.000000</td>\n",
       "      <td>0.000000</td>\n",
       "    </tr>\n",
       "    <tr>\n",
       "      <th>25%</th>\n",
       "      <td>31.000000</td>\n",
       "      <td>3873.000000</td>\n",
       "      <td>849.000000</td>\n",
       "      <td>478.000000</td>\n",
       "      <td>77.000000</td>\n",
       "      <td>383.000000</td>\n",
       "      <td>3.400000</td>\n",
       "      <td>57.000000</td>\n",
       "      <td>350.000000</td>\n",
       "      <td>0.000000</td>\n",
       "    </tr>\n",
       "    <tr>\n",
       "      <th>50%</th>\n",
       "      <td>50.000000</td>\n",
       "      <td>7751.000000</td>\n",
       "      <td>1694.000000</td>\n",
       "      <td>843.000000</td>\n",
       "      <td>162.000000</td>\n",
       "      <td>668.000000</td>\n",
       "      <td>3.800000</td>\n",
       "      <td>164.000000</td>\n",
       "      <td>600.000000</td>\n",
       "      <td>1.000000</td>\n",
       "    </tr>\n",
       "    <tr>\n",
       "      <th>75%</th>\n",
       "      <td>95.000000</td>\n",
       "      <td>11672.000000</td>\n",
       "      <td>2946.000000</td>\n",
       "      <td>1528.000000</td>\n",
       "      <td>279.000000</td>\n",
       "      <td>1173.000000</td>\n",
       "      <td>4.000000</td>\n",
       "      <td>462.000000</td>\n",
       "      <td>655.252246</td>\n",
       "      <td>1.000000</td>\n",
       "    </tr>\n",
       "    <tr>\n",
       "      <th>max</th>\n",
       "      <td>112.000000</td>\n",
       "      <td>15573.000000</td>\n",
       "      <td>4154.000000</td>\n",
       "      <td>2688.000000</td>\n",
       "      <td>451.000000</td>\n",
       "      <td>1637.000000</td>\n",
       "      <td>4.900000</td>\n",
       "      <td>41186.000000</td>\n",
       "      <td>14000.000000</td>\n",
       "      <td>1.000000</td>\n",
       "    </tr>\n",
       "  </tbody>\n",
       "</table>\n",
       "</div>"
      ],
      "text/plain": [
       "              TITLE  RESTAURANT_ID      CUISINES          TIME          CITY  \\\n",
       "count  16921.000000   16921.000000  16921.000000  16921.000000  16921.000000   \n",
       "mean      56.044087    7767.211631   1908.430648   1015.813604    176.377755   \n",
       "std       31.850379    4493.287626   1212.302948    732.670071    107.598087   \n",
       "min        0.000000       0.000000      0.000000      0.000000      0.000000   \n",
       "25%       31.000000    3873.000000    849.000000    478.000000     77.000000   \n",
       "50%       50.000000    7751.000000   1694.000000    843.000000    162.000000   \n",
       "75%       95.000000   11672.000000   2946.000000   1528.000000    279.000000   \n",
       "max      112.000000   15573.000000   4154.000000   2688.000000    451.000000   \n",
       "\n",
       "           LOCALITY        RATING         VOTES          COST        source  \n",
       "count  16921.000000  16917.000000  15315.000000  16921.000000  16921.000000  \n",
       "mean     751.393653      3.520790    419.194254    655.252246      0.749956  \n",
       "std      461.905119      0.910054    839.915407    542.979598      0.433051  \n",
       "min        0.000000      1.000000      3.000000     20.000000      0.000000  \n",
       "25%      383.000000      3.400000     57.000000    350.000000      0.000000  \n",
       "50%      668.000000      3.800000    164.000000    600.000000      1.000000  \n",
       "75%     1173.000000      4.000000    462.000000    655.252246      1.000000  \n",
       "max     1637.000000      4.900000  41186.000000  14000.000000      1.000000  "
      ]
     },
     "execution_count": 41,
     "metadata": {},
     "output_type": "execute_result"
    }
   ],
   "source": [
    "data.describe()"
   ]
  },
  {
   "cell_type": "markdown",
   "metadata": {},
   "source": [
    "Observations:  TITLE Maximum-112 Minimum-0\n",
    "               RESTAURANT_ID Maximum-15573 Minimum-0\n",
    "               CUISINES Maximum-4154 Minimum-0\n",
    "               CITY Maximum-451 Minimum-0\n",
    "               LOCALITY Maximum-1637 Minimum-0\n",
    "               RATING Maximum-2.21 Minimum-1\n",
    "               VOTES  Maximum-34.53 Minimum-1\n",
    "               COST Maximum-24.10 Minimum-2.71"
   ]
  },
  {
   "cell_type": "code",
   "execution_count": 42,
   "metadata": {},
   "outputs": [],
   "source": [
    "import matplotlib.pyplot as plt\n",
    "import seaborn as sns"
   ]
  },
  {
   "cell_type": "code",
   "execution_count": 92,
   "metadata": {},
   "outputs": [
    {
     "data": {
      "text/html": [
       "<div>\n",
       "<style scoped>\n",
       "    .dataframe tbody tr th:only-of-type {\n",
       "        vertical-align: middle;\n",
       "    }\n",
       "\n",
       "    .dataframe tbody tr th {\n",
       "        vertical-align: top;\n",
       "    }\n",
       "\n",
       "    .dataframe thead th {\n",
       "        text-align: right;\n",
       "    }\n",
       "</style>\n",
       "<table border=\"1\" class=\"dataframe\">\n",
       "  <thead>\n",
       "    <tr style=\"text-align: right;\">\n",
       "      <th></th>\n",
       "      <th>TITLE</th>\n",
       "      <th>RESTAURANT_ID</th>\n",
       "      <th>CUISINES</th>\n",
       "      <th>TIME</th>\n",
       "      <th>CITY</th>\n",
       "      <th>LOCALITY</th>\n",
       "      <th>COST</th>\n",
       "      <th>source</th>\n",
       "    </tr>\n",
       "  </thead>\n",
       "  <tbody>\n",
       "    <tr>\n",
       "      <th>TITLE</th>\n",
       "      <td>1.000000</td>\n",
       "      <td>-0.000412</td>\n",
       "      <td>0.296237</td>\n",
       "      <td>0.120275</td>\n",
       "      <td>-0.019674</td>\n",
       "      <td>0.025669</td>\n",
       "      <td>-0.367780</td>\n",
       "      <td>0.186055</td>\n",
       "    </tr>\n",
       "    <tr>\n",
       "      <th>RESTAURANT_ID</th>\n",
       "      <td>-0.000412</td>\n",
       "      <td>1.000000</td>\n",
       "      <td>0.045859</td>\n",
       "      <td>0.005870</td>\n",
       "      <td>0.001796</td>\n",
       "      <td>-0.004591</td>\n",
       "      <td>0.038828</td>\n",
       "      <td>-0.003113</td>\n",
       "    </tr>\n",
       "    <tr>\n",
       "      <th>CUISINES</th>\n",
       "      <td>0.296237</td>\n",
       "      <td>0.045859</td>\n",
       "      <td>1.000000</td>\n",
       "      <td>0.266934</td>\n",
       "      <td>0.017753</td>\n",
       "      <td>0.016352</td>\n",
       "      <td>-0.119502</td>\n",
       "      <td>0.466814</td>\n",
       "    </tr>\n",
       "    <tr>\n",
       "      <th>TIME</th>\n",
       "      <td>0.120275</td>\n",
       "      <td>0.005870</td>\n",
       "      <td>0.266934</td>\n",
       "      <td>1.000000</td>\n",
       "      <td>-0.005901</td>\n",
       "      <td>-0.007233</td>\n",
       "      <td>-0.107957</td>\n",
       "      <td>0.388305</td>\n",
       "    </tr>\n",
       "    <tr>\n",
       "      <th>CITY</th>\n",
       "      <td>-0.019674</td>\n",
       "      <td>0.001796</td>\n",
       "      <td>0.017753</td>\n",
       "      <td>-0.005901</td>\n",
       "      <td>1.000000</td>\n",
       "      <td>0.053234</td>\n",
       "      <td>0.042606</td>\n",
       "      <td>-0.004350</td>\n",
       "    </tr>\n",
       "    <tr>\n",
       "      <th>LOCALITY</th>\n",
       "      <td>0.025669</td>\n",
       "      <td>-0.004591</td>\n",
       "      <td>0.016352</td>\n",
       "      <td>-0.007233</td>\n",
       "      <td>0.053234</td>\n",
       "      <td>1.000000</td>\n",
       "      <td>-0.013902</td>\n",
       "      <td>0.003068</td>\n",
       "    </tr>\n",
       "    <tr>\n",
       "      <th>COST</th>\n",
       "      <td>-0.367780</td>\n",
       "      <td>0.038828</td>\n",
       "      <td>-0.119502</td>\n",
       "      <td>-0.107957</td>\n",
       "      <td>0.042606</td>\n",
       "      <td>-0.013902</td>\n",
       "      <td>1.000000</td>\n",
       "      <td>-0.174454</td>\n",
       "    </tr>\n",
       "    <tr>\n",
       "      <th>source</th>\n",
       "      <td>0.186055</td>\n",
       "      <td>-0.003113</td>\n",
       "      <td>0.466814</td>\n",
       "      <td>0.388305</td>\n",
       "      <td>-0.004350</td>\n",
       "      <td>0.003068</td>\n",
       "      <td>-0.174454</td>\n",
       "      <td>1.000000</td>\n",
       "    </tr>\n",
       "  </tbody>\n",
       "</table>\n",
       "</div>"
      ],
      "text/plain": [
       "                  TITLE  RESTAURANT_ID  CUISINES      TIME      CITY  \\\n",
       "TITLE          1.000000      -0.000412  0.296237  0.120275 -0.019674   \n",
       "RESTAURANT_ID -0.000412       1.000000  0.045859  0.005870  0.001796   \n",
       "CUISINES       0.296237       0.045859  1.000000  0.266934  0.017753   \n",
       "TIME           0.120275       0.005870  0.266934  1.000000 -0.005901   \n",
       "CITY          -0.019674       0.001796  0.017753 -0.005901  1.000000   \n",
       "LOCALITY       0.025669      -0.004591  0.016352 -0.007233  0.053234   \n",
       "COST          -0.367780       0.038828 -0.119502 -0.107957  0.042606   \n",
       "source         0.186055      -0.003113  0.466814  0.388305 -0.004350   \n",
       "\n",
       "               LOCALITY      COST    source  \n",
       "TITLE          0.025669 -0.367780  0.186055  \n",
       "RESTAURANT_ID -0.004591  0.038828 -0.003113  \n",
       "CUISINES       0.016352 -0.119502  0.466814  \n",
       "TIME          -0.007233 -0.107957  0.388305  \n",
       "CITY           0.053234  0.042606 -0.004350  \n",
       "LOCALITY       1.000000 -0.013902  0.003068  \n",
       "COST          -0.013902  1.000000 -0.174454  \n",
       "source         0.003068 -0.174454  1.000000  "
      ]
     },
     "execution_count": 92,
     "metadata": {},
     "output_type": "execute_result"
    }
   ],
   "source": [
    "data.corr()       # Checking Statistical Description"
   ]
  },
  {
   "cell_type": "code",
   "execution_count": 43,
   "metadata": {},
   "outputs": [
    {
     "data": {
      "text/plain": [
       "<matplotlib.axes._subplots.AxesSubplot at 0x138ae55cc8>"
      ]
     },
     "execution_count": 43,
     "metadata": {},
     "output_type": "execute_result"
    },
    {
     "data": {
      "image/png": "[encoded data removed]",
      "text/plain": [
       "<Figure size 432x288 with 2 Axes>"
      ]
     },
     "metadata": {
      "needs_background": "light"
     },
     "output_type": "display_data"
    }
   ],
   "source": [
    "sns.heatmap(data.corr(),annot=True)   # Checking correlation using heatmap--All features correlated with target variable"
   ]
  },
  {
   "cell_type": "markdown",
   "metadata": {},
   "source": [
    "Univariate Analysis"
   ]
  },
  {
   "cell_type": "code",
   "execution_count": 44,
   "metadata": {},
   "outputs": [
    {
     "name": "stdout",
     "output_type": "stream",
     "text": [
      "655.252246      4231\n",
      "300.000000      1595\n",
      "400.000000      1357\n",
      "500.000000      1300\n",
      "200.000000      1031\n",
      "                ... \n",
      "4050.000000        1\n",
      "5200.000000        1\n",
      "14000.000000       1\n",
      "3600.000000        1\n",
      "140.000000         1\n",
      "Name: COST, Length: 87, dtype: int64\n"
     ]
    },
    {
     "data": {
      "image/png": "[encoded data removed]",
      "text/plain": [
       "<Figure size 1440x720 with 1 Axes>"
      ]
     },
     "metadata": {
      "needs_background": "light"
     },
     "output_type": "display_data"
    }
   ],
   "source": [
    "plt.figure(figsize=(20,10))\n",
    "sns.countplot(x='COST',data=data)      # 655 has maximum count for cost\n",
    "print(data.COST.value_counts())"
   ]
  },
  {
   "cell_type": "code",
   "execution_count": 45,
   "metadata": {},
   "outputs": [
    {
     "name": "stdout",
     "output_type": "stream",
     "text": [
      "77     2855\n",
      "44     2835\n",
      "162    2458\n",
      "279    2311\n",
      "318    1754\n",
      "       ... \n",
      "26        1\n",
      "58        1\n",
      "74        1\n",
      "106       1\n",
      "0         1\n",
      "Name: CITY, Length: 452, dtype: int64\n"
     ]
    },
    {
     "data": {
      "image/png": "[encoded data removed]",
      "text/plain": [
       "<Figure size 1440x720 with 1 Axes>"
      ]
     },
     "metadata": {
      "needs_background": "light"
     },
     "output_type": "display_data"
    }
   ],
   "source": [
    "plt.figure(figsize=(20,10))\n",
    "sns.countplot(x='CITY',data=data)    # 77 has maximum count for city\n",
    "print(data.CITY.value_counts())"
   ]
  },
  {
   "cell_type": "code",
   "execution_count": 46,
   "metadata": {},
   "outputs": [
    {
     "name": "stdout",
     "output_type": "stream",
     "text": [
      "3801    532\n",
      "2850    526\n",
      "2946    501\n",
      "1893    286\n",
      "1212    214\n",
      "       ... \n",
      "1752      1\n",
      "1736      1\n",
      "3753      1\n",
      "3737      1\n",
      "2023      1\n",
      "Name: CUISINES, Length: 4155, dtype: int64\n"
     ]
    },
    {
     "data": {
      "image/png": "[encoded data removed]",
      "text/plain": [
       "<Figure size 1080x720 with 1 Axes>"
      ]
     },
     "metadata": {
      "needs_background": "light"
     },
     "output_type": "display_data"
    }
   ],
   "source": [
    "plt.figure(figsize=(15,10))\n",
    "sns.countplot(x='CUISINES',data=data)\n",
    "print(data.CUISINES.value_counts())"
   ]
  },
  {
   "cell_type": "code",
   "execution_count": 47,
   "metadata": {},
   "outputs": [
    {
     "name": "stdout",
     "output_type": "stream",
     "text": [
      "397     216\n",
      "501     187\n",
      "565     175\n",
      "676     171\n",
      "719     169\n",
      "       ... \n",
      "1224      1\n",
      "1192      1\n",
      "1160      1\n",
      "1144      1\n",
      "0         1\n",
      "Name: LOCALITY, Length: 1638, dtype: int64\n"
     ]
    },
    {
     "data": {
      "image/png": "[encoded data removed]",
      "text/plain": [
       "<Figure size 720x360 with 1 Axes>"
      ]
     },
     "metadata": {
      "needs_background": "light"
     },
     "output_type": "display_data"
    }
   ],
   "source": [
    "plt.figure(figsize=(10,5))           # maximum count for locality is 216\n",
    "sns.countplot(x='LOCALITY',data=data)\n",
    "print(data.LOCALITY.value_counts())"
   ]
  },
  {
   "cell_type": "code",
   "execution_count": 48,
   "metadata": {},
   "outputs": [
    {
     "name": "stdout",
     "output_type": "stream",
     "text": [
      "4634     8\n",
      "7264     8\n",
      "7745     7\n",
      "4058     7\n",
      "12747    7\n",
      "        ..\n",
      "15309    1\n",
      "13260    1\n",
      "3019     1\n",
      "970      1\n",
      "0        1\n",
      "Name: RESTAURANT_ID, Length: 15574, dtype: int64\n"
     ]
    },
    {
     "data": {
      "image/png": "[encoded data removed]",
      "text/plain": [
       "<Figure size 1080x720 with 1 Axes>"
      ]
     },
     "metadata": {
      "needs_background": "light"
     },
     "output_type": "display_data"
    }
   ],
   "source": [
    "plt.figure(figsize=(15,10))           # 4634 and 7264 id's has maximum count of 8\n",
    "sns.countplot(x='RESTAURANT_ID',data=data)\n",
    "print(data.RESTAURANT_ID.value_counts())"
   ]
  },
  {
   "cell_type": "markdown",
   "metadata": {},
   "source": [
    "Bivariate Analysis"
   ]
  },
  {
   "cell_type": "code",
   "execution_count": 49,
   "metadata": {},
   "outputs": [
    {
     "data": {
      "image/png": "[encoded data removed]",
      "text/plain": [
       "<Figure size 1440x720 with 1 Axes>"
      ]
     },
     "metadata": {
      "needs_background": "light"
     },
     "output_type": "display_data"
    },
    {
     "name": "stdout",
     "output_type": "stream",
     "text": [
      "CITY  COST       \n",
      "0     300.000000     1\n",
      "1     655.252246     2\n",
      "      200.000000     1\n",
      "2     400.000000     1\n",
      "3     1200.000000    1\n",
      "                    ..\n",
      "448   800.000000     1\n",
      "449   655.252246     1\n",
      "450   300.000000     1\n",
      "      400.000000     1\n",
      "451   100.000000     1\n",
      "Name: COST, Length: 1247, dtype: int64\n"
     ]
    }
   ],
   "source": [
    "plt.figure(figsize=(20,10))            # Checking cost city-wise\n",
    "sns.barplot(x='CITY',y='COST',data=data)\n",
    "plt.show()\n",
    "print(data.groupby('CITY')['COST'].value_counts())"
   ]
  },
  {
   "cell_type": "code",
   "execution_count": 50,
   "metadata": {},
   "outputs": [
    {
     "data": {
      "image/png": "[encoded data removed]",
      "text/plain": [
       "<Figure size 1440x720 with 1 Axes>"
      ]
     },
     "metadata": {
      "needs_background": "light"
     },
     "output_type": "display_data"
    },
    {
     "name": "stdout",
     "output_type": "stream",
     "text": [
      "CUISINES  COST       \n",
      "0         250.000000     1\n",
      "          655.252246     1\n",
      "1         655.252246     1\n",
      "          900.000000     1\n",
      "2         500.000000     2\n",
      "                        ..\n",
      "4150      1000.000000    1\n",
      "4151      500.000000     1\n",
      "4152      500.000000     1\n",
      "4153      250.000000     1\n",
      "4154      400.000000     1\n",
      "Name: COST, Length: 8711, dtype: int64\n"
     ]
    }
   ],
   "source": [
    "plt.figure(figsize=(20,10))                 # Checking cost as per cuisines\n",
    "sns.barplot(x='CUISINES',y='COST',data=data)\n",
    "plt.show()\n",
    "print(data.groupby('CUISINES')['COST'].value_counts())"
   ]
  },
  {
   "cell_type": "code",
   "execution_count": 51,
   "metadata": {},
   "outputs": [
    {
     "data": {
      "image/png": "[encoded data removed]",
      "text/plain": [
       "<Figure size 1440x720 with 1 Axes>"
      ]
     },
     "metadata": {
      "needs_background": "light"
     },
     "output_type": "display_data"
    },
    {
     "name": "stdout",
     "output_type": "stream",
     "text": [
      "RESTAURANT_ID  COST       \n",
      "0              1900.000000    1\n",
      "1              500.000000     1\n",
      "2              1100.000000    1\n",
      "3              655.252246     1\n",
      "4              800.000000     1\n",
      "                             ..\n",
      "15569          300.000000     1\n",
      "15570          655.252246     1\n",
      "15571          400.000000     1\n",
      "15572          655.252246     1\n",
      "15573          500.000000     1\n",
      "Name: COST, Length: 16556, dtype: int64\n"
     ]
    }
   ],
   "source": [
    "plt.figure(figsize=(20,10))\n",
    "sns.barplot(x='RESTAURANT_ID',y='COST',data=data)\n",
    "plt.show()\n",
    "print(data.groupby('RESTAURANT_ID')['COST'].value_counts())"
   ]
  },
  {
   "cell_type": "code",
   "execution_count": 52,
   "metadata": {},
   "outputs": [
    {
     "data": {
      "text/plain": [
       "array([[<matplotlib.axes._subplots.AxesSubplot object at 0x0000001398963EC8>,\n",
       "        <matplotlib.axes._subplots.AxesSubplot object at 0x0000001399EA4C08>,\n",
       "        <matplotlib.axes._subplots.AxesSubplot object at 0x000000139A084CC8>],\n",
       "       [<matplotlib.axes._subplots.AxesSubplot object at 0x00000013C04BCE88>,\n",
       "        <matplotlib.axes._subplots.AxesSubplot object at 0x00000013C04E8788>,\n",
       "        <matplotlib.axes._subplots.AxesSubplot object at 0x00000013C00E7848>],\n",
       "       [<matplotlib.axes._subplots.AxesSubplot object at 0x00000013C0702588>,\n",
       "        <matplotlib.axes._subplots.AxesSubplot object at 0x00000013C036D448>,\n",
       "        <matplotlib.axes._subplots.AxesSubplot object at 0x00000013C037A6C8>],\n",
       "       [<matplotlib.axes._subplots.AxesSubplot object at 0x00000013C00C6888>,\n",
       "        <matplotlib.axes._subplots.AxesSubplot object at 0x00000013C0349D48>,\n",
       "        <matplotlib.axes._subplots.AxesSubplot object at 0x00000013BFF26F08>]],\n",
       "      dtype=object)"
      ]
     },
     "execution_count": 52,
     "metadata": {},
     "output_type": "execute_result"
    },
    {
     "data": {
      "image/png": "[encoded data removed]",
      "text/plain": [
       "<Figure size 432x288 with 12 Axes>"
      ]
     },
     "metadata": {
      "needs_background": "light"
     },
     "output_type": "display_data"
    }
   ],
   "source": [
    "data.hist()                # histograph for dataset"
   ]
  },
  {
   "cell_type": "markdown",
   "metadata": {},
   "source": [
    "# after removing outliers, there is no data left, so skipping this step\n",
    "applying power tranformation/ Yeo Johnshon method to make data Normal like¶\n"
   ]
  },
  {
   "cell_type": "code",
   "execution_count": 53,
   "metadata": {},
   "outputs": [
    {
     "name": "stdout",
     "output_type": "stream",
     "text": [
      "[[-0.70582803  0.44019033  0.66592702 ... -0.83622176  1.277049\n",
      "   0.57741851]\n",
      " [-0.63444924  1.14332327 -1.52182299 ... -1.17186856  1.61247917\n",
      "   0.57741851]\n",
      " [-0.70582803  0.72482881  0.89056778 ...  0.21457698  0.65851186\n",
      "   0.57741851]\n",
      " ...\n",
      " [ 0.64214061  0.27628371 -0.97579794 ... -0.78212419  0.34972341\n",
      "  -1.73184611]\n",
      " [ 0.64214061 -0.17302197 -0.13403462 ...         nan  0.34972341\n",
      "  -1.73184611]\n",
      " [ 0.64214061 -1.18791864 -0.48509673 ... -0.66263917  0.34972341\n",
      "  -1.73184611]]\n"
     ]
    }
   ],
   "source": [
    "from sklearn.preprocessing import power_transform    #Tranforming data\n",
    "print(power_transform(data,method='yeo-johnson'))"
   ]
  },
  {
   "cell_type": "code",
   "execution_count": null,
   "metadata": {},
   "outputs": [],
   "source": []
  },
  {
   "cell_type": "code",
   "execution_count": 54,
   "metadata": {},
   "outputs": [
    {
     "name": "stdout",
     "output_type": "stream",
     "text": [
      "MinMaxScaler(copy=True, feature_range=(0, 1))\n",
      "[[2.76785714e-01 6.06048931e-01 6.32402504e-01 ... 1.11696574e-03\n",
      "  8.44062947e-02 1.00000000e+00]\n",
      " [2.94642857e-01 8.47492455e-01 6.95714974e-02 ... 6.55610325e-04\n",
      "  1.05865522e-01 1.00000000e+00]\n",
      " [2.76785714e-01 7.00892570e-01 7.16417910e-01 ... 5.29344632e-03\n",
      "  5.57939914e-02 1.00000000e+00]\n",
      " ...\n",
      " [6.69642857e-01 5.53329481e-01 1.63456909e-01 ... 1.21409319e-03\n",
      "  4.54400748e-02 0.00000000e+00]\n",
      " [6.69642857e-01 4.16425865e-01 3.70967742e-01 ...            nan\n",
      "  4.54400748e-02 0.00000000e+00]\n",
      " [6.69642857e-01 1.55461375e-01 2.75637939e-01 ... 1.45691183e-03\n",
      "  4.54400748e-02 0.00000000e+00]]\n"
     ]
    }
   ],
   "source": [
    "from sklearn.preprocessing import MinMaxScaler       # scaling data using MinMaxScaler\n",
    "scaler = MinMaxScaler()\n",
    "print(scaler.fit(data))\n",
    "print(scaler.transform(data))"
   ]
  },
  {
   "cell_type": "code",
   "execution_count": 55,
   "metadata": {},
   "outputs": [],
   "source": [
    "import numpy as np"
   ]
  },
  {
   "cell_type": "markdown",
   "metadata": {},
   "source": [
    "Checking and removing skewness"
   ]
  },
  {
   "cell_type": "code",
   "execution_count": 56,
   "metadata": {},
   "outputs": [
    {
     "data": {
      "text/plain": [
       "TITLE             0.022361\n",
       "RESTAURANT_ID     0.006775\n",
       "CUISINES          0.213905\n",
       "TIME              0.616982\n",
       "CITY              0.239753\n",
       "LOCALITY          0.358353\n",
       "RATING           -1.867870\n",
       "VOTES            12.385436\n",
       "COST              4.594323\n",
       "source           -1.154530\n",
       "dtype: float64"
      ]
     },
     "execution_count": 56,
     "metadata": {},
     "output_type": "execute_result"
    }
   ],
   "source": [
    "data.skew()          # Checking Skewness"
   ]
  },
  {
   "cell_type": "code",
   "execution_count": 57,
   "metadata": {},
   "outputs": [],
   "source": [
    "# Removing Skewness-- Using for loop skewness is not removed that much so removing it separately"
   ]
  },
  {
   "cell_type": "code",
   "execution_count": 58,
   "metadata": {},
   "outputs": [],
   "source": [
    "data['VOTES']=np.cbrt(data['VOTES'])"
   ]
  },
  {
   "cell_type": "code",
   "execution_count": 59,
   "metadata": {},
   "outputs": [],
   "source": [
    "data['COST']=np.cbrt(data['COST'])"
   ]
  },
  {
   "cell_type": "code",
   "execution_count": 60,
   "metadata": {},
   "outputs": [],
   "source": [
    "data['COST']=np.cbrt(data['COST'])"
   ]
  },
  {
   "cell_type": "code",
   "execution_count": 61,
   "metadata": {},
   "outputs": [],
   "source": [
    "data['RATING']=np.sqrt(data['RATING'])"
   ]
  },
  {
   "cell_type": "code",
   "execution_count": 62,
   "metadata": {},
   "outputs": [
    {
     "data": {
      "text/plain": [
       "TITLE            True\n",
       "RESTAURANT_ID    True\n",
       "CUISINES         True\n",
       "TIME             True\n",
       "CITY             True\n",
       "LOCALITY         True\n",
       "RATING           True\n",
       "VOTES            True\n",
       "COST             True\n",
       "source           True\n",
       "dtype: bool"
      ]
     },
     "execution_count": 62,
     "metadata": {},
     "output_type": "execute_result"
    }
   ],
   "source": [
    "np.isnan(data.any()) #and gets False\n",
    "np.isfinite(data.all()) #and gets True"
   ]
  },
  {
   "cell_type": "code",
   "execution_count": 63,
   "metadata": {},
   "outputs": [],
   "source": [
    "data.replace([np.inf, -np.inf], np.nan, inplace=True)"
   ]
  },
  {
   "cell_type": "code",
   "execution_count": 64,
   "metadata": {},
   "outputs": [
    {
     "data": {
      "text/plain": [
       "TITLE            False\n",
       "RESTAURANT_ID    False\n",
       "CUISINES         False\n",
       "TIME             False\n",
       "CITY             False\n",
       "LOCALITY         False\n",
       "RATING           False\n",
       "VOTES            False\n",
       "COST             False\n",
       "source           False\n",
       "dtype: bool"
      ]
     },
     "execution_count": 64,
     "metadata": {},
     "output_type": "execute_result"
    }
   ],
   "source": [
    "np.isnan(data.any())"
   ]
  },
  {
   "cell_type": "code",
   "execution_count": 65,
   "metadata": {},
   "outputs": [
    {
     "data": {
      "text/plain": [
       "TITLE            True\n",
       "RESTAURANT_ID    True\n",
       "CUISINES         True\n",
       "TIME             True\n",
       "CITY             True\n",
       "LOCALITY         True\n",
       "RATING           True\n",
       "VOTES            True\n",
       "COST             True\n",
       "source           True\n",
       "dtype: bool"
      ]
     },
     "execution_count": 65,
     "metadata": {},
     "output_type": "execute_result"
    }
   ],
   "source": [
    "np.isfinite(data.all())"
   ]
  },
  {
   "cell_type": "code",
   "execution_count": 66,
   "metadata": {},
   "outputs": [
    {
     "data": {
      "text/plain": [
       "TITLE               0\n",
       "RESTAURANT_ID       0\n",
       "CUISINES            0\n",
       "TIME                0\n",
       "CITY                0\n",
       "LOCALITY            0\n",
       "RATING              4\n",
       "VOTES            1606\n",
       "COST                0\n",
       "source              0\n",
       "dtype: int64"
      ]
     },
     "execution_count": 66,
     "metadata": {},
     "output_type": "execute_result"
    }
   ],
   "source": [
    "data.isnull().sum()"
   ]
  },
  {
   "cell_type": "code",
   "execution_count": 67,
   "metadata": {},
   "outputs": [],
   "source": [
    "data.drop(['RATING'],axis=1,inplace=True)   # Dropping columns beacuse it affecting training data\n",
    "data.drop(['VOTES'],axis=1,inplace=True)"
   ]
  },
  {
   "cell_type": "code",
   "execution_count": 68,
   "metadata": {},
   "outputs": [],
   "source": [
    "train=data.loc[data['source']==1]       # Separating train & test from source values \n",
    "test=data.loc[data['source']==0]"
   ]
  },
  {
   "cell_type": "code",
   "execution_count": 69,
   "metadata": {},
   "outputs": [],
   "source": [
    "train.drop(['source'],axis=1,inplace=True)    # dropping source from train data"
   ]
  },
  {
   "cell_type": "code",
   "execution_count": 70,
   "metadata": {},
   "outputs": [
    {
     "data": {
      "text/plain": [
       "(12690, 7)"
      ]
     },
     "execution_count": 70,
     "metadata": {},
     "output_type": "execute_result"
    }
   ],
   "source": [
    "train.shape                                  # Checking shape of train"
   ]
  },
  {
   "cell_type": "markdown",
   "metadata": {},
   "source": [
    " Separating x and y"
   ]
  },
  {
   "cell_type": "code",
   "execution_count": 71,
   "metadata": {},
   "outputs": [],
   "source": [
    "x=train.drop(['COST'],axis=1)          # dropping cost from train data"
   ]
  },
  {
   "cell_type": "code",
   "execution_count": 72,
   "metadata": {},
   "outputs": [
    {
     "data": {
      "text/html": [
       "<div>\n",
       "<style scoped>\n",
       "    .dataframe tbody tr th:only-of-type {\n",
       "        vertical-align: middle;\n",
       "    }\n",
       "\n",
       "    .dataframe tbody tr th {\n",
       "        vertical-align: top;\n",
       "    }\n",
       "\n",
       "    .dataframe thead th {\n",
       "        text-align: right;\n",
       "    }\n",
       "</style>\n",
       "<table border=\"1\" class=\"dataframe\">\n",
       "  <thead>\n",
       "    <tr style=\"text-align: right;\">\n",
       "      <th></th>\n",
       "      <th>TITLE</th>\n",
       "      <th>RESTAURANT_ID</th>\n",
       "      <th>CUISINES</th>\n",
       "      <th>TIME</th>\n",
       "      <th>CITY</th>\n",
       "      <th>LOCALITY</th>\n",
       "    </tr>\n",
       "  </thead>\n",
       "  <tbody>\n",
       "    <tr>\n",
       "      <th>0</th>\n",
       "      <td>31</td>\n",
       "      <td>9438</td>\n",
       "      <td>2627</td>\n",
       "      <td>739</td>\n",
       "      <td>402</td>\n",
       "      <td>330</td>\n",
       "    </tr>\n",
       "    <tr>\n",
       "      <th>1</th>\n",
       "      <td>33</td>\n",
       "      <td>13198</td>\n",
       "      <td>289</td>\n",
       "      <td>1885</td>\n",
       "      <td>77</td>\n",
       "      <td>1216</td>\n",
       "    </tr>\n",
       "    <tr>\n",
       "      <th>2</th>\n",
       "      <td>31</td>\n",
       "      <td>10915</td>\n",
       "      <td>2976</td>\n",
       "      <td>661</td>\n",
       "      <td>77</td>\n",
       "      <td>1274</td>\n",
       "    </tr>\n",
       "    <tr>\n",
       "      <th>3</th>\n",
       "      <td>95</td>\n",
       "      <td>6346</td>\n",
       "      <td>4130</td>\n",
       "      <td>275</td>\n",
       "      <td>279</td>\n",
       "      <td>163</td>\n",
       "    </tr>\n",
       "    <tr>\n",
       "      <th>4</th>\n",
       "      <td>50</td>\n",
       "      <td>15387</td>\n",
       "      <td>1766</td>\n",
       "      <td>615</td>\n",
       "      <td>279</td>\n",
       "      <td>711</td>\n",
       "    </tr>\n",
       "  </tbody>\n",
       "</table>\n",
       "</div>"
      ],
      "text/plain": [
       "   TITLE  RESTAURANT_ID  CUISINES  TIME  CITY  LOCALITY\n",
       "0     31           9438      2627   739   402       330\n",
       "1     33          13198       289  1885    77      1216\n",
       "2     31          10915      2976   661    77      1274\n",
       "3     95           6346      4130   275   279       163\n",
       "4     50          15387      1766   615   279       711"
      ]
     },
     "execution_count": 72,
     "metadata": {},
     "output_type": "execute_result"
    }
   ],
   "source": [
    "x.head()"
   ]
  },
  {
   "cell_type": "code",
   "execution_count": 73,
   "metadata": {},
   "outputs": [
    {
     "data": {
      "text/plain": [
       "0        2.198524\n",
       "1        2.253715\n",
       "2        2.101675\n",
       "3        2.101675\n",
       "4        1.884672\n",
       "           ...   \n",
       "12685    1.994737\n",
       "12686    2.299836\n",
       "12687    2.218164\n",
       "12688    1.945888\n",
       "12689    2.035558\n",
       "Name: COST, Length: 12690, dtype: float64"
      ]
     },
     "execution_count": 73,
     "metadata": {},
     "output_type": "execute_result"
    }
   ],
   "source": [
    "y=train['COST']\n",
    "y"
   ]
  },
  {
   "cell_type": "code",
   "execution_count": 74,
   "metadata": {},
   "outputs": [],
   "source": [
    "test.drop(['COST','source'],axis=1,inplace=True)  # Dropping cost and source from test"
   ]
  },
  {
   "cell_type": "code",
   "execution_count": 75,
   "metadata": {},
   "outputs": [
    {
     "data": {
      "text/plain": [
       "array([[-0.86888688,  0.37269233,  0.32540837, -0.58465845,  2.08867967,\n",
       "        -0.91385137],\n",
       "       [-0.80783894,  1.20737672, -1.61638078,  0.93436872, -0.91638181,\n",
       "         1.00384047],\n",
       "       [-0.86888688,  0.70057234,  0.61526483, -0.68804774, -0.91638181,\n",
       "         1.12937786],\n",
       "       ...,\n",
       "       [ 0.35207201,  0.74896628, -0.12224961, -0.057108  ,  1.16404537,\n",
       "         1.72676267],\n",
       "       [-0.86888688, -0.36076439,  1.055448  ,  0.87074455, -0.91638181,\n",
       "        -0.06539177],\n",
       "       [-0.86888688, -0.29505519,  0.59034881, -0.4574101 , -0.13044266,\n",
       "         1.70728273]])"
      ]
     },
     "execution_count": 75,
     "metadata": {},
     "output_type": "execute_result"
    }
   ],
   "source": [
    "from sklearn.preprocessing import StandardScaler       # scaling data by StandardScaler\n",
    "sc=StandardScaler()\n",
    "x=sc.fit_transform(x)\n",
    "x"
   ]
  },
  {
   "cell_type": "markdown",
   "metadata": {},
   "source": [
    "Building models"
   ]
  },
  {
   "cell_type": "code",
   "execution_count": 76,
   "metadata": {},
   "outputs": [],
   "source": [
    "from sklearn.model_selection import train_test_split\n",
    "from sklearn.linear_model import LinearRegression\n",
    "from sklearn.tree import DecisionTreeRegressor\n",
    "from sklearn.ensemble import RandomForestRegressor\n",
    "from sklearn.neighbors import KNeighborsRegressor\n",
    "from sklearn import linear_model\n",
    "from sklearn.metrics import r2_score\n",
    "from sklearn.metrics import mean_squared_error\n",
    "from sklearn.metrics import mean_absolute_error\n",
    "import warnings\n",
    "warnings.filterwarnings('ignore')"
   ]
  },
  {
   "cell_type": "code",
   "execution_count": 77,
   "metadata": {},
   "outputs": [],
   "source": [
    "lr=LinearRegression()\n",
    "dtr=DecisionTreeRegressor()\n",
    "rfr=RandomForestRegressor()\n",
    "knn=KNeighborsRegressor()"
   ]
  },
  {
   "cell_type": "code",
   "execution_count": 78,
   "metadata": {},
   "outputs": [],
   "source": [
    "models = []\n",
    "models.append(('LinearRegression',lr))\n",
    "models.append(('DecisionTreeRegressor',dtr))\n",
    "models.append(('RandomForestRegressor',rfr))\n",
    "models.append(('KNeighborsRegressor',knn))"
   ]
  },
  {
   "cell_type": "code",
   "execution_count": 79,
   "metadata": {},
   "outputs": [],
   "source": [
    "max_r_score=0\n",
    "for r_state in range(42,101):\n",
    "    x_train,x_test,y_train,y_test=train_test_split(x,y,random_state=r_state,test_size=0.22)\n"
   ]
  },
  {
   "cell_type": "code",
   "execution_count": 80,
   "metadata": {},
   "outputs": [
    {
     "name": "stdout",
     "output_type": "stream",
     "text": [
      "********** LinearRegression **************\n",
      "\n",
      "\n",
      "LinearRegression(copy_X=True, fit_intercept=True, n_jobs=None, normalize=False)\n",
      "r2_score corresponding to random state is 0.1502716234172593\n",
      "Absolute error is 0.02219093215547951\n",
      "\n",
      "\n",
      "RMSE is 0.14896621145575098\n",
      "********** DecisionTreeRegressor **************\n",
      "\n",
      "\n",
      "DecisionTreeRegressor(ccp_alpha=0.0, criterion='mse', max_depth=None,\n",
      "                      max_features=None, max_leaf_nodes=None,\n",
      "                      min_impurity_decrease=0.0, min_impurity_split=None,\n",
      "                      min_samples_leaf=1, min_samples_split=2,\n",
      "                      min_weight_fraction_leaf=0.0, presort='deprecated',\n",
      "                      random_state=None, splitter='best')\n",
      "r2_score corresponding to random state is 0.46761119748887525\n",
      "Absolute error is 0.013903506252637149\n",
      "\n",
      "\n",
      "RMSE is 0.11791313011126942\n",
      "********** RandomForestRegressor **************\n",
      "\n",
      "\n",
      "RandomForestRegressor(bootstrap=True, ccp_alpha=0.0, criterion='mse',\n",
      "                      max_depth=None, max_features='auto', max_leaf_nodes=None,\n",
      "                      max_samples=None, min_impurity_decrease=0.0,\n",
      "                      min_impurity_split=None, min_samples_leaf=1,\n",
      "                      min_samples_split=2, min_weight_fraction_leaf=0.0,\n",
      "                      n_estimators=100, n_jobs=None, oob_score=False,\n",
      "                      random_state=None, verbose=0, warm_start=False)\n",
      "r2_score corresponding to random state is 0.7065729675675705\n",
      "Absolute error is 0.007662942122137887\n",
      "\n",
      "\n",
      "RMSE is 0.08753823234528949\n",
      "********** KNeighborsRegressor **************\n",
      "\n",
      "\n",
      "KNeighborsRegressor(algorithm='auto', leaf_size=30, metric='minkowski',\n",
      "                    metric_params=None, n_jobs=None, n_neighbors=5, p=2,\n",
      "                    weights='uniform')\n",
      "r2_score corresponding to random state is 0.37535029459798863\n",
      "Absolute error is 0.01631292965554688\n",
      "\n",
      "\n",
      "RMSE is 0.12772207974953617\n"
     ]
    }
   ],
   "source": [
    "Model = []\n",
    "score = []\n",
    "\n",
    "for name,model in models:\n",
    "    print(\"**********\",name,'**************')\n",
    "    print('\\n')\n",
    "    x_train,x_test,y_train,y_test=train_test_split(x,y,random_state=r_state,test_size=0.22)\n",
    "    Model.append(name)\n",
    "    model.fit(x_train,y_train)\n",
    "    print(model)\n",
    "    pre=model.predict(x_test)\n",
    "    r2_scr=r2_score(y_test,pre)\n",
    "    print(\"r2_score corresponding to random state is\" ,r2_scr)\n",
    "    print(\"Absolute error is\", np.abs(mean_squared_error(y_test,pre)))   \n",
    "    print('\\n')\n",
    "    print(\"RMSE is\", np.sqrt(mean_squared_error(y_test,pre)))"
   ]
  },
  {
   "cell_type": "code",
   "execution_count": 81,
   "metadata": {},
   "outputs": [],
   "source": [
    "from sklearn.linear_model import Lasso\n",
    "from sklearn.linear_model import Ridge"
   ]
  },
  {
   "cell_type": "code",
   "execution_count": 82,
   "metadata": {},
   "outputs": [
    {
     "data": {
      "text/plain": [
       "{'alpha': 0.001}"
      ]
     },
     "execution_count": 82,
     "metadata": {},
     "output_type": "execute_result"
    }
   ],
   "source": [
    "from sklearn.model_selection import GridSearchCV\n",
    "lsreg=Lasso()\n",
    "parameters={\"alpha\":[0.001,0.01,0.1,1]}\n",
    "clf = GridSearchCV(lsreg,parameters,cv=5)\n",
    "clf.fit(x_train,y_train)\n",
    "clf.best_params_"
   ]
  },
  {
   "cell_type": "code",
   "execution_count": 83,
   "metadata": {},
   "outputs": [
    {
     "name": "stdout",
     "output_type": "stream",
     "text": [
      "r2_score corresponding to random state is 0.14179977316480274\n",
      "\n",
      "\n",
      "RMSE is 0.14970697135599104\n"
     ]
    }
   ],
   "source": [
    "lsreg=Lasso(alpha=0.01)\n",
    "lsreg.fit(x_train,y_train)\n",
    "pre=lsreg.predict(x_test)\n",
    "r2_scr=r2_score(y_test,pre)\n",
    "print(\"r2_score corresponding to random state is\" ,r2_scr)\n",
    "print('\\n')\n",
    "print(\"RMSE is\", np.sqrt(mean_squared_error(y_test,pre)))\n"
   ]
  },
  {
   "cell_type": "code",
   "execution_count": 84,
   "metadata": {},
   "outputs": [
    {
     "data": {
      "text/plain": [
       "{'alpha': 0.001}"
      ]
     },
     "execution_count": 84,
     "metadata": {},
     "output_type": "execute_result"
    }
   ],
   "source": [
    "rreg=Ridge()\n",
    "parameters=parameters={\"alpha\":[0.001,0.01,0.1,1]}\n",
    "clf = GridSearchCV(lsreg,parameters,cv=5)\n",
    "clf.fit(x_train,y_train)\n",
    "clf.best_params_"
   ]
  },
  {
   "cell_type": "code",
   "execution_count": 85,
   "metadata": {},
   "outputs": [
    {
     "name": "stdout",
     "output_type": "stream",
     "text": [
      "r2_score corresponding to random state is 0.1502716243809109\n",
      "RMSE is 0.1489662113712819\n"
     ]
    }
   ],
   "source": [
    "rreg=Ridge(alpha=0.001)\n",
    "rreg.fit(x_train,y_train)\n",
    "pre=rreg.predict(x_test)\n",
    "r2_scr=r2_score(y_test,pre)\n",
    "print(\"r2_score corresponding to random state is\" ,r2_scr)\n",
    "print(\"RMSE is\", np.sqrt(mean_squared_error(y_test,pre)))"
   ]
  },
  {
   "cell_type": "code",
   "execution_count": 86,
   "metadata": {},
   "outputs": [
    {
     "name": "stdout",
     "output_type": "stream",
     "text": [
      "Mean r2 score for linear regression 0.7127771601751745\n",
      "Standard Deviation for linear regression 0.016333653073442277\n"
     ]
    }
   ],
   "source": [
    "from sklearn.model_selection import cross_val_score\n",
    "print(\"Mean r2 score for regression\",cross_val_score(rfr,x_train,y_train,cv=5,scoring=\"r2\").mean())\n",
    "print(\"Standard Deviation for linear regression\",cross_val_score(rfr,x_train,y_train,cv=5,scoring=\"r2\").std())\n"
   ]
  },
  {
   "cell_type": "code",
   "execution_count": 87,
   "metadata": {},
   "outputs": [],
   "source": [
    "from xgboost import XGBRegressor"
   ]
  },
  {
   "cell_type": "code",
   "execution_count": 88,
   "metadata": {},
   "outputs": [
    {
     "name": "stdout",
     "output_type": "stream",
     "text": [
      "r2 score 71.67065655050783\n",
      "RMSE is 0.08601337061915021\n",
      "MAE is 0.06682003628442097\n"
     ]
    }
   ],
   "source": [
    "xgb = XGBRegressor(n_jobs=4)\n",
    "xgb.fit(x_train, y_train, verbose=True)\n",
    "xgb_pre=xgb.predict(x_test)\n",
    "r2_scr=r2_score(y_test,xgb_pre)\n",
    "print(\"r2 score\",r2_scr*100)\n",
    "print(\"RMSE is\", np.sqrt(mean_squared_error(y_test,xgb_pre)))\n",
    "print(\"MAE is\",np.abs(mean_absolute_error(y_test,xgb_pre)))"
   ]
  },
  {
   "cell_type": "code",
   "execution_count": 89,
   "metadata": {},
   "outputs": [
    {
     "name": "stdout",
     "output_type": "stream",
     "text": [
      "r2 score 71.67065655050783\n",
      "RMSE is 0.08601337061915021\n",
      "MAE is 0.06682003628442097\n"
     ]
    }
   ],
   "source": [
    "from sklearn.ensemble import GradientBoostingRegressor\n",
    "gb=GradientBoostingRegressor()\n",
    "gb.fit(x_train,y_train)\n",
    "gb_pred=gb.predict(x_test)\n",
    "r2_scr=r2_score(y_test,xgb_pre)\n",
    "print(\"r2 score\",r2_scr*100)\n",
    "print(\"RMSE is\", np.sqrt(mean_squared_error(y_test,xgb_pre)))\n",
    "print(\"MAE is\",np.abs(mean_absolute_error(y_test,xgb_pre)))"
   ]
  },
  {
   "cell_type": "code",
   "execution_count": 90,
   "metadata": {},
   "outputs": [
    {
     "name": "stdout",
     "output_type": "stream",
     "text": [
      "r2 score 70.97241835317939\n",
      "RMSE is 0.08706691159772674\n",
      "MAE is 0.06722246139708597\n"
     ]
    }
   ],
   "source": [
    "from sklearn.ensemble import BaggingRegressor\n",
    "br=BaggingRegressor(n_estimators=700)\n",
    "br.fit(x_train,y_train)\n",
    "br_pred=br.predict(x_test)\n",
    "r2_scr=r2_score(y_test,br_pred)\n",
    "print(\"r2 score\",r2_scr*100)\n",
    "print(\"RMSE is\", np.sqrt(mean_squared_error(y_test,br_pred)))\n",
    "print(\"MAE is\",np.abs(mean_absolute_error(y_test,br_pred)))"
   ]
  },
  {
   "cell_type": "code",
   "execution_count": 93,
   "metadata": {},
   "outputs": [
    {
     "data": {
      "text/plain": [
       "['xgbRestaurant.obj']"
      ]
     },
     "execution_count": 93,
     "metadata": {},
     "output_type": "execute_result"
    }
   ],
   "source": [
    "from sklearn.externals import joblib   # saving model\n",
    "joblib.dump(xgb,'xgbRestaurant.obj')"
   ]
  },
  {
   "cell_type": "code",
   "execution_count": null,
   "metadata": {},
   "outputs": [],
   "source": []
  },
  {
   "cell_type": "markdown",
   "metadata": {},
   "source": [
    "Conclusion: Predicting COST for restaurant dataset CITY, LOCALITY, CUISINES, TIME,TITLE has more impact on target variable.\n",
    "            I have applied all regressor models, cross-validation technique,ensemble methods. xgboost regressor working good               with accuracy of 72%.\n",
    "            I have saved model with xgboost regressor."
   ]
  },
  {
   "cell_type": "code",
   "execution_count": null,
   "metadata": {},
   "outputs": [],
   "source": []
  },
  {
   "cell_type": "code",
   "execution_count": null,
   "metadata": {},
   "outputs": [],
   "source": []
  },
  {
   "cell_type": "code",
   "execution_count": null,
   "metadata": {},
   "outputs": [],
   "source": []
  },
  {
   "cell_type": "code",
   "execution_count": null,
   "metadata": {},
   "outputs": [],
   "source": []
  },
  {
   "cell_type": "code",
   "execution_count": null,
   "metadata": {},
   "outputs": [],
   "source": []
  },
  {
   "cell_type": "code",
   "execution_count": null,
   "metadata": {},
   "outputs": [],
   "source": []
  },
  {
   "cell_type": "code",
   "execution_count": null,
   "metadata": {},
   "outputs": [],
   "source": []
  },
  {
   "cell_type": "code",
   "execution_count": null,
   "metadata": {},
   "outputs": [],
   "source": []
  },
  {
   "cell_type": "code",
   "execution_count": null,
   "metadata": {},
   "outputs": [],
   "source": []
  },
  {
   "cell_type": "code",
   "execution_count": null,
   "metadata": {},
   "outputs": [],
   "source": []
  },
  {
   "cell_type": "code",
   "execution_count": null,
   "metadata": {},
   "outputs": [],
   "source": []
  },
  {
   "cell_type": "code",
   "execution_count": null,
   "metadata": {},
   "outputs": [],
   "source": []
  },
  {
   "cell_type": "code",
   "execution_count": null,
   "metadata": {},
   "outputs": [],
   "source": []
  },
  {
   "cell_type": "code",
   "execution_count": null,
   "metadata": {},
   "outputs": [],
   "source": []
  },
  {
   "cell_type": "code",
   "execution_count": null,
   "metadata": {},
   "outputs": [],
   "source": []
  },
  {
   "cell_type": "code",
   "execution_count": null,
   "metadata": {},
   "outputs": [],
   "source": []
  },
  {
   "cell_type": "code",
   "execution_count": null,
   "metadata": {},
   "outputs": [],
   "source": []
  },
  {
   "cell_type": "code",
   "execution_count": null,
   "metadata": {},
   "outputs": [],
   "source": []
  }
 ],
 "metadata": {
  "kernelspec": {
   "display_name": "Python 3",
   "language": "python",
   "name": "python3"
  },
  "language_info": {
   "codemirror_mode": {
    "name": "ipython",
    "version": 3
   },
   "file_extension": ".py",
   "mimetype": "text/x-python",
   "name": "python",
   "nbconvert_exporter": "python",
   "pygments_lexer": "ipython3",
   "version": "3.7.6"
  }
 },
 "nbformat": 4,
 "nbformat_minor": 4
}
