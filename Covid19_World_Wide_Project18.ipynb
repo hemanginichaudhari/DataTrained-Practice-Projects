{
 "cells": [
  {
   "cell_type": "code",
   "execution_count": 2,
   "metadata": {},
   "outputs": [],
   "source": [
    "import pandas as pd\n",
    "import warnings\n",
    "warnings.filterwarnings(\"ignore\")"
   ]
  },
  {
   "cell_type": "code",
   "execution_count": 3,
   "metadata": {},
   "outputs": [],
   "source": [
    "df=pd.read_csv(\"World_Wide_Covid_19_dataset.csv\")     # Loading datasets\n",
    "df1=pd.read_csv(\"World_Wide_Covid19_Age.csv\")"
   ]
  },
  {
   "cell_type": "code",
   "execution_count": 4,
   "metadata": {},
   "outputs": [
    {
     "data": {
      "text/html": [
       "<div>\n",
       "<style scoped>\n",
       "    .dataframe tbody tr th:only-of-type {\n",
       "        vertical-align: middle;\n",
       "    }\n",
       "\n",
       "    .dataframe tbody tr th {\n",
       "        vertical-align: top;\n",
       "    }\n",
       "\n",
       "    .dataframe thead th {\n",
       "        text-align: right;\n",
       "    }\n",
       "</style>\n",
       "<table border=\"1\" class=\"dataframe\">\n",
       "  <thead>\n",
       "    <tr style=\"text-align: right;\">\n",
       "      <th></th>\n",
       "      <th>Date</th>\n",
       "      <th>Country</th>\n",
       "      <th>Population</th>\n",
       "      <th>Total Tests</th>\n",
       "      <th>Total Cases</th>\n",
       "      <th>Total Deaths</th>\n",
       "      <th>Total Recovered</th>\n",
       "      <th>Serious or Critical</th>\n",
       "      <th>Active Cases</th>\n",
       "    </tr>\n",
       "  </thead>\n",
       "  <tbody>\n",
       "    <tr>\n",
       "      <th>0</th>\n",
       "      <td>2020-04-18</td>\n",
       "      <td>USA</td>\n",
       "      <td>330774664</td>\n",
       "      <td>3722145.0</td>\n",
       "      <td>738792.0</td>\n",
       "      <td>39014.0</td>\n",
       "      <td>68269.0</td>\n",
       "      <td>13551.0</td>\n",
       "      <td>631509.0</td>\n",
       "    </tr>\n",
       "    <tr>\n",
       "      <th>1</th>\n",
       "      <td>2020-04-18</td>\n",
       "      <td>Russia</td>\n",
       "      <td>145927292</td>\n",
       "      <td>1831892.0</td>\n",
       "      <td>36793.0</td>\n",
       "      <td>313.0</td>\n",
       "      <td>3057.0</td>\n",
       "      <td>8.0</td>\n",
       "      <td>33423.0</td>\n",
       "    </tr>\n",
       "    <tr>\n",
       "      <th>2</th>\n",
       "      <td>2020-04-18</td>\n",
       "      <td>Spain</td>\n",
       "      <td>46752703</td>\n",
       "      <td>930230.0</td>\n",
       "      <td>194416.0</td>\n",
       "      <td>20043.0</td>\n",
       "      <td>74797.0</td>\n",
       "      <td>7371.0</td>\n",
       "      <td>99576.0</td>\n",
       "    </tr>\n",
       "    <tr>\n",
       "      <th>3</th>\n",
       "      <td>2020-04-18</td>\n",
       "      <td>Brazil</td>\n",
       "      <td>212380932</td>\n",
       "      <td>62985.0</td>\n",
       "      <td>36722.0</td>\n",
       "      <td>2361.0</td>\n",
       "      <td>14026.0</td>\n",
       "      <td>6634.0</td>\n",
       "      <td>20335.0</td>\n",
       "    </tr>\n",
       "    <tr>\n",
       "      <th>4</th>\n",
       "      <td>2020-04-18</td>\n",
       "      <td>UK</td>\n",
       "      <td>67844241</td>\n",
       "      <td>460437.0</td>\n",
       "      <td>114217.0</td>\n",
       "      <td>15464.0</td>\n",
       "      <td>NaN</td>\n",
       "      <td>1559.0</td>\n",
       "      <td>98409.0</td>\n",
       "    </tr>\n",
       "  </tbody>\n",
       "</table>\n",
       "</div>"
      ],
      "text/plain": [
       "         Date Country  Population  Total Tests  Total Cases  Total Deaths  \\\n",
       "0  2020-04-18     USA   330774664    3722145.0     738792.0       39014.0   \n",
       "1  2020-04-18  Russia   145927292    1831892.0      36793.0         313.0   \n",
       "2  2020-04-18   Spain    46752703     930230.0     194416.0       20043.0   \n",
       "3  2020-04-18  Brazil   212380932      62985.0      36722.0        2361.0   \n",
       "4  2020-04-18      UK    67844241     460437.0     114217.0       15464.0   \n",
       "\n",
       "   Total Recovered  Serious or Critical  Active Cases  \n",
       "0          68269.0              13551.0      631509.0  \n",
       "1           3057.0                  8.0       33423.0  \n",
       "2          74797.0               7371.0       99576.0  \n",
       "3          14026.0               6634.0       20335.0  \n",
       "4              NaN               1559.0       98409.0  "
      ]
     },
     "execution_count": 4,
     "metadata": {},
     "output_type": "execute_result"
    }
   ],
   "source": [
    "df.head()"
   ]
  },
  {
   "cell_type": "code",
   "execution_count": 5,
   "metadata": {},
   "outputs": [
    {
     "name": "stdout",
     "output_type": "stream",
     "text": [
      "<class 'pandas.core.frame.DataFrame'>\n",
      "RangeIndex: 6603 entries, 0 to 6602\n",
      "Data columns (total 9 columns):\n",
      " #   Column               Non-Null Count  Dtype  \n",
      "---  ------               --------------  -----  \n",
      " 0   Date                 6603 non-null   object \n",
      " 1   Country              6603 non-null   object \n",
      " 2   Population           6603 non-null   int64  \n",
      " 3   Total Tests          5505 non-null   float64\n",
      " 4   Total Cases          6554 non-null   float64\n",
      " 5   Total Deaths         5367 non-null   float64\n",
      " 6   Total Recovered      6318 non-null   float64\n",
      " 7   Serious or Critical  4117 non-null   float64\n",
      " 8   Active Cases         6544 non-null   float64\n",
      "dtypes: float64(6), int64(1), object(2)\n",
      "memory usage: 464.4+ KB\n"
     ]
    }
   ],
   "source": [
    "df.info()         # Checking Info"
   ]
  },
  {
   "cell_type": "code",
   "execution_count": 6,
   "metadata": {},
   "outputs": [
    {
     "data": {
      "text/plain": [
       "Date                    object\n",
       "Country                 object\n",
       "Population               int64\n",
       "Total Tests            float64\n",
       "Total Cases            float64\n",
       "Total Deaths           float64\n",
       "Total Recovered        float64\n",
       "Serious or Critical    float64\n",
       "Active Cases           float64\n",
       "dtype: object"
      ]
     },
     "execution_count": 6,
     "metadata": {},
     "output_type": "execute_result"
    }
   ],
   "source": [
    "df.dtypes         # Checking Datatypes"
   ]
  },
  {
   "cell_type": "code",
   "execution_count": 7,
   "metadata": {},
   "outputs": [
    {
     "data": {
      "text/plain": [
       "(6603, 9)"
      ]
     },
     "execution_count": 7,
     "metadata": {},
     "output_type": "execute_result"
    }
   ],
   "source": [
    "df.shape         # Checking shape"
   ]
  },
  {
   "cell_type": "code",
   "execution_count": 8,
   "metadata": {
    "scrolled": true
   },
   "outputs": [
    {
     "data": {
      "text/plain": [
       "Date                      0\n",
       "Country                   0\n",
       "Population                0\n",
       "Total Tests            1098\n",
       "Total Cases              49\n",
       "Total Deaths           1236\n",
       "Total Recovered         285\n",
       "Serious or Critical    2486\n",
       "Active Cases             59\n",
       "dtype: int64"
      ]
     },
     "execution_count": 8,
     "metadata": {},
     "output_type": "execute_result"
    }
   ],
   "source": [
    "df.isnull().sum()    # Checking Null values"
   ]
  },
  {
   "cell_type": "code",
   "execution_count": 9,
   "metadata": {},
   "outputs": [],
   "source": [
    "df['Date']=pd.to_datetime(df['Date'])       # Converting date object to datetime format"
   ]
  },
  {
   "cell_type": "code",
   "execution_count": 10,
   "metadata": {},
   "outputs": [
    {
     "data": {
      "text/html": [
       "<div>\n",
       "<style scoped>\n",
       "    .dataframe tbody tr th:only-of-type {\n",
       "        vertical-align: middle;\n",
       "    }\n",
       "\n",
       "    .dataframe tbody tr th {\n",
       "        vertical-align: top;\n",
       "    }\n",
       "\n",
       "    .dataframe thead th {\n",
       "        text-align: right;\n",
       "    }\n",
       "</style>\n",
       "<table border=\"1\" class=\"dataframe\">\n",
       "  <thead>\n",
       "    <tr style=\"text-align: right;\">\n",
       "      <th></th>\n",
       "      <th>month</th>\n",
       "      <th>year</th>\n",
       "      <th>day</th>\n",
       "    </tr>\n",
       "  </thead>\n",
       "  <tbody>\n",
       "    <tr>\n",
       "      <th>0</th>\n",
       "      <td>April</td>\n",
       "      <td>2020</td>\n",
       "      <td>Saturday</td>\n",
       "    </tr>\n",
       "    <tr>\n",
       "      <th>1</th>\n",
       "      <td>April</td>\n",
       "      <td>2020</td>\n",
       "      <td>Saturday</td>\n",
       "    </tr>\n",
       "    <tr>\n",
       "      <th>2</th>\n",
       "      <td>April</td>\n",
       "      <td>2020</td>\n",
       "      <td>Saturday</td>\n",
       "    </tr>\n",
       "    <tr>\n",
       "      <th>3</th>\n",
       "      <td>April</td>\n",
       "      <td>2020</td>\n",
       "      <td>Saturday</td>\n",
       "    </tr>\n",
       "    <tr>\n",
       "      <th>4</th>\n",
       "      <td>April</td>\n",
       "      <td>2020</td>\n",
       "      <td>Saturday</td>\n",
       "    </tr>\n",
       "    <tr>\n",
       "      <th>...</th>\n",
       "      <td>...</td>\n",
       "      <td>...</td>\n",
       "      <td>...</td>\n",
       "    </tr>\n",
       "    <tr>\n",
       "      <th>6598</th>\n",
       "      <td>May</td>\n",
       "      <td>2020</td>\n",
       "      <td>Monday</td>\n",
       "    </tr>\n",
       "    <tr>\n",
       "      <th>6599</th>\n",
       "      <td>May</td>\n",
       "      <td>2020</td>\n",
       "      <td>Monday</td>\n",
       "    </tr>\n",
       "    <tr>\n",
       "      <th>6600</th>\n",
       "      <td>May</td>\n",
       "      <td>2020</td>\n",
       "      <td>Monday</td>\n",
       "    </tr>\n",
       "    <tr>\n",
       "      <th>6601</th>\n",
       "      <td>May</td>\n",
       "      <td>2020</td>\n",
       "      <td>Monday</td>\n",
       "    </tr>\n",
       "    <tr>\n",
       "      <th>6602</th>\n",
       "      <td>May</td>\n",
       "      <td>2020</td>\n",
       "      <td>Monday</td>\n",
       "    </tr>\n",
       "  </tbody>\n",
       "</table>\n",
       "<p>6603 rows × 3 columns</p>\n",
       "</div>"
      ],
      "text/plain": [
       "      month  year       day\n",
       "0     April  2020  Saturday\n",
       "1     April  2020  Saturday\n",
       "2     April  2020  Saturday\n",
       "3     April  2020  Saturday\n",
       "4     April  2020  Saturday\n",
       "...     ...   ...       ...\n",
       "6598    May  2020    Monday\n",
       "6599    May  2020    Monday\n",
       "6600    May  2020    Monday\n",
       "6601    May  2020    Monday\n",
       "6602    May  2020    Monday\n",
       "\n",
       "[6603 rows x 3 columns]"
      ]
     },
     "execution_count": 10,
     "metadata": {},
     "output_type": "execute_result"
    }
   ],
   "source": [
    "df_dates=pd.DataFrame()                     # Extracting month,year,day from Date\n",
    "df_dates[\"month\"]=df[\"Date\"].dt.month_name()\n",
    "df_dates[\"year\"]=df[\"Date\"].dt.year\n",
    "df_dates[\"day\"]=df['Date'].dt.day_name()\n",
    "df_dates"
   ]
  },
  {
   "cell_type": "code",
   "execution_count": 11,
   "metadata": {},
   "outputs": [
    {
     "data": {
      "text/plain": [
       "1"
      ]
     },
     "execution_count": 11,
     "metadata": {},
     "output_type": "execute_result"
    }
   ],
   "source": [
    "df_dates['year'].nunique()    # year has only one unique value"
   ]
  },
  {
   "cell_type": "code",
   "execution_count": 12,
   "metadata": {},
   "outputs": [
    {
     "data": {
      "text/plain": [
       "2"
      ]
     },
     "execution_count": 12,
     "metadata": {},
     "output_type": "execute_result"
    }
   ],
   "source": [
    "df_dates['month'].nunique()   # year has only two unique value"
   ]
  },
  {
   "cell_type": "code",
   "execution_count": 13,
   "metadata": {},
   "outputs": [
    {
     "data": {
      "text/plain": [
       "7"
      ]
     },
     "execution_count": 13,
     "metadata": {},
     "output_type": "execute_result"
    }
   ],
   "source": [
    "df_dates['day'].nunique()    # year has only 7 unique value"
   ]
  },
  {
   "cell_type": "code",
   "execution_count": 14,
   "metadata": {},
   "outputs": [],
   "source": [
    "df_dates.drop('year',axis=1,inplace=True)      # dropping year"
   ]
  },
  {
   "cell_type": "code",
   "execution_count": 15,
   "metadata": {},
   "outputs": [],
   "source": [
    "df['Date']=df_dates['day']"
   ]
  },
  {
   "cell_type": "code",
   "execution_count": 16,
   "metadata": {},
   "outputs": [],
   "source": [
    "#data=pd.concat([df,df_dates],sort=False)\n",
    "#print(df.shape,df_dates.shape,data.shape)"
   ]
  },
  {
   "cell_type": "code",
   "execution_count": 17,
   "metadata": {},
   "outputs": [
    {
     "data": {
      "text/html": [
       "<div>\n",
       "<style scoped>\n",
       "    .dataframe tbody tr th:only-of-type {\n",
       "        vertical-align: middle;\n",
       "    }\n",
       "\n",
       "    .dataframe tbody tr th {\n",
       "        vertical-align: top;\n",
       "    }\n",
       "\n",
       "    .dataframe thead th {\n",
       "        text-align: right;\n",
       "    }\n",
       "</style>\n",
       "<table border=\"1\" class=\"dataframe\">\n",
       "  <thead>\n",
       "    <tr style=\"text-align: right;\">\n",
       "      <th></th>\n",
       "      <th>Date</th>\n",
       "      <th>Country</th>\n",
       "      <th>Population</th>\n",
       "      <th>Total Tests</th>\n",
       "      <th>Total Cases</th>\n",
       "      <th>Total Deaths</th>\n",
       "      <th>Total Recovered</th>\n",
       "      <th>Serious or Critical</th>\n",
       "      <th>Active Cases</th>\n",
       "    </tr>\n",
       "  </thead>\n",
       "  <tbody>\n",
       "    <tr>\n",
       "      <th>0</th>\n",
       "      <td>Saturday</td>\n",
       "      <td>USA</td>\n",
       "      <td>330774664</td>\n",
       "      <td>3722145.0</td>\n",
       "      <td>738792.0</td>\n",
       "      <td>39014.0</td>\n",
       "      <td>68269.0</td>\n",
       "      <td>13551.0</td>\n",
       "      <td>631509.0</td>\n",
       "    </tr>\n",
       "    <tr>\n",
       "      <th>1</th>\n",
       "      <td>Saturday</td>\n",
       "      <td>Russia</td>\n",
       "      <td>145927292</td>\n",
       "      <td>1831892.0</td>\n",
       "      <td>36793.0</td>\n",
       "      <td>313.0</td>\n",
       "      <td>3057.0</td>\n",
       "      <td>8.0</td>\n",
       "      <td>33423.0</td>\n",
       "    </tr>\n",
       "    <tr>\n",
       "      <th>2</th>\n",
       "      <td>Saturday</td>\n",
       "      <td>Spain</td>\n",
       "      <td>46752703</td>\n",
       "      <td>930230.0</td>\n",
       "      <td>194416.0</td>\n",
       "      <td>20043.0</td>\n",
       "      <td>74797.0</td>\n",
       "      <td>7371.0</td>\n",
       "      <td>99576.0</td>\n",
       "    </tr>\n",
       "    <tr>\n",
       "      <th>3</th>\n",
       "      <td>Saturday</td>\n",
       "      <td>Brazil</td>\n",
       "      <td>212380932</td>\n",
       "      <td>62985.0</td>\n",
       "      <td>36722.0</td>\n",
       "      <td>2361.0</td>\n",
       "      <td>14026.0</td>\n",
       "      <td>6634.0</td>\n",
       "      <td>20335.0</td>\n",
       "    </tr>\n",
       "    <tr>\n",
       "      <th>4</th>\n",
       "      <td>Saturday</td>\n",
       "      <td>UK</td>\n",
       "      <td>67844241</td>\n",
       "      <td>460437.0</td>\n",
       "      <td>114217.0</td>\n",
       "      <td>15464.0</td>\n",
       "      <td>NaN</td>\n",
       "      <td>1559.0</td>\n",
       "      <td>98409.0</td>\n",
       "    </tr>\n",
       "  </tbody>\n",
       "</table>\n",
       "</div>"
      ],
      "text/plain": [
       "       Date Country  Population  Total Tests  Total Cases  Total Deaths  \\\n",
       "0  Saturday     USA   330774664    3722145.0     738792.0       39014.0   \n",
       "1  Saturday  Russia   145927292    1831892.0      36793.0         313.0   \n",
       "2  Saturday   Spain    46752703     930230.0     194416.0       20043.0   \n",
       "3  Saturday  Brazil   212380932      62985.0      36722.0        2361.0   \n",
       "4  Saturday      UK    67844241     460437.0     114217.0       15464.0   \n",
       "\n",
       "   Total Recovered  Serious or Critical  Active Cases  \n",
       "0          68269.0              13551.0      631509.0  \n",
       "1           3057.0                  8.0       33423.0  \n",
       "2          74797.0               7371.0       99576.0  \n",
       "3          14026.0               6634.0       20335.0  \n",
       "4              NaN               1559.0       98409.0  "
      ]
     },
     "execution_count": 17,
     "metadata": {},
     "output_type": "execute_result"
    }
   ],
   "source": [
    "df.head()"
   ]
  },
  {
   "cell_type": "code",
   "execution_count": 18,
   "metadata": {},
   "outputs": [
    {
     "data": {
      "text/plain": [
       "Date                      0\n",
       "Country                   0\n",
       "Population                0\n",
       "Total Tests            1098\n",
       "Total Cases              49\n",
       "Total Deaths           1236\n",
       "Total Recovered         285\n",
       "Serious or Critical    2486\n",
       "Active Cases             59\n",
       "dtype: int64"
      ]
     },
     "execution_count": 18,
     "metadata": {},
     "output_type": "execute_result"
    }
   ],
   "source": [
    "df.isnull().sum()      # Checking Null Values"
   ]
  },
  {
   "cell_type": "code",
   "execution_count": 19,
   "metadata": {},
   "outputs": [],
   "source": [
    "# Imputing Null values with mean\n",
    "df['Total Tests'].fillna(df['Total Tests'].mean(),inplace=True)\n",
    "df['Total Cases'].fillna(df['Total Cases'].mean(),inplace=True)\n",
    "df['Total Deaths'].fillna(df['Total Deaths'].mean(),inplace=True)\n",
    "df['Total Recovered'].fillna(df['Total Recovered'].mean(),inplace=True)\n",
    "df['Serious or Critical'].fillna(df['Serious or Critical'].mean(),inplace=True)\n",
    "df['Active Cases'].fillna(df['Active Cases'].mean(),inplace=True)"
   ]
  },
  {
   "cell_type": "code",
   "execution_count": 20,
   "metadata": {},
   "outputs": [
    {
     "data": {
      "text/plain": [
       "Date                   0\n",
       "Country                0\n",
       "Population             0\n",
       "Total Tests            0\n",
       "Total Cases            0\n",
       "Total Deaths           0\n",
       "Total Recovered        0\n",
       "Serious or Critical    0\n",
       "Active Cases           0\n",
       "dtype: int64"
      ]
     },
     "execution_count": 20,
     "metadata": {},
     "output_type": "execute_result"
    }
   ],
   "source": [
    "df.isnull().sum()   # Checking Null values"
   ]
  },
  {
   "cell_type": "code",
   "execution_count": 21,
   "metadata": {},
   "outputs": [
    {
     "data": {
      "text/plain": [
       "<matplotlib.axes._subplots.AxesSubplot at 0xae3b209e48>"
      ]
     },
     "execution_count": 21,
     "metadata": {},
     "output_type": "execute_result"
    },
    {
     "data": {
      "image/png": "[encoded data removed]",
      "text/plain": [
       "<Figure size 432x288 with 2 Axes>"
      ]
     },
     "metadata": {
      "needs_background": "light"
     },
     "output_type": "display_data"
    }
   ],
   "source": [
    "import seaborn as sns            # Checking Null values by heatmap\n",
    "sns.heatmap(df.isnull())"
   ]
  },
  {
   "cell_type": "code",
   "execution_count": 22,
   "metadata": {},
   "outputs": [
    {
     "data": {
      "text/html": [
       "<div>\n",
       "<style scoped>\n",
       "    .dataframe tbody tr th:only-of-type {\n",
       "        vertical-align: middle;\n",
       "    }\n",
       "\n",
       "    .dataframe tbody tr th {\n",
       "        vertical-align: top;\n",
       "    }\n",
       "\n",
       "    .dataframe thead th {\n",
       "        text-align: right;\n",
       "    }\n",
       "</style>\n",
       "<table border=\"1\" class=\"dataframe\">\n",
       "  <thead>\n",
       "    <tr style=\"text-align: right;\">\n",
       "      <th></th>\n",
       "      <th>Country</th>\n",
       "      <th>Fraction age 0-14 years</th>\n",
       "      <th>Fraction age 15-64 years</th>\n",
       "      <th>Fraction age 65+ years</th>\n",
       "    </tr>\n",
       "  </thead>\n",
       "  <tbody>\n",
       "    <tr>\n",
       "      <th>0</th>\n",
       "      <td>USA</td>\n",
       "      <td>0.189</td>\n",
       "      <td>0.657</td>\n",
       "      <td>0.154</td>\n",
       "    </tr>\n",
       "    <tr>\n",
       "      <th>1</th>\n",
       "      <td>Russia</td>\n",
       "      <td>0.176</td>\n",
       "      <td>0.682</td>\n",
       "      <td>0.142</td>\n",
       "    </tr>\n",
       "    <tr>\n",
       "      <th>2</th>\n",
       "      <td>Spain</td>\n",
       "      <td>0.147</td>\n",
       "      <td>0.659</td>\n",
       "      <td>0.194</td>\n",
       "    </tr>\n",
       "    <tr>\n",
       "      <th>3</th>\n",
       "      <td>Brazil</td>\n",
       "      <td>0.217</td>\n",
       "      <td>0.697</td>\n",
       "      <td>0.086</td>\n",
       "    </tr>\n",
       "    <tr>\n",
       "      <th>4</th>\n",
       "      <td>UK</td>\n",
       "      <td>0.177</td>\n",
       "      <td>0.638</td>\n",
       "      <td>0.185</td>\n",
       "    </tr>\n",
       "  </tbody>\n",
       "</table>\n",
       "</div>"
      ],
      "text/plain": [
       "  Country  Fraction age 0-14 years  Fraction age 15-64 years  \\\n",
       "0     USA                    0.189                     0.657   \n",
       "1  Russia                    0.176                     0.682   \n",
       "2   Spain                    0.147                     0.659   \n",
       "3  Brazil                    0.217                     0.697   \n",
       "4      UK                    0.177                     0.638   \n",
       "\n",
       "   Fraction age 65+ years  \n",
       "0                   0.154  \n",
       "1                   0.142  \n",
       "2                   0.194  \n",
       "3                   0.086  \n",
       "4                   0.185  "
      ]
     },
     "execution_count": 22,
     "metadata": {},
     "output_type": "execute_result"
    }
   ],
   "source": [
    "df1.head()"
   ]
  },
  {
   "cell_type": "code",
   "execution_count": 23,
   "metadata": {},
   "outputs": [],
   "source": [
    "df1['Fraction age 0-14 years'].fillna(df1['Fraction age 0-14 years'].mean(),inplace=True)"
   ]
  },
  {
   "cell_type": "code",
   "execution_count": 24,
   "metadata": {},
   "outputs": [],
   "source": [
    "df1['Fraction age 15-64 years'].fillna(df1['Fraction age 15-64 years'].mean(),inplace=True)"
   ]
  },
  {
   "cell_type": "code",
   "execution_count": 25,
   "metadata": {},
   "outputs": [],
   "source": [
    "df1['Fraction age 65+ years'].fillna(df1['Fraction age 65+ years'].mean(),inplace=True)"
   ]
  },
  {
   "cell_type": "code",
   "execution_count": 26,
   "metadata": {},
   "outputs": [
    {
     "data": {
      "text/plain": [
       "Country                     0\n",
       "Fraction age 0-14 years     0\n",
       "Fraction age 15-64 years    0\n",
       "Fraction age 65+ years      0\n",
       "dtype: int64"
      ]
     },
     "execution_count": 26,
     "metadata": {},
     "output_type": "execute_result"
    }
   ],
   "source": [
    "df1.isnull().sum()"
   ]
  },
  {
   "cell_type": "code",
   "execution_count": 27,
   "metadata": {},
   "outputs": [
    {
     "data": {
      "text/html": [
       "<div>\n",
       "<style scoped>\n",
       "    .dataframe tbody tr th:only-of-type {\n",
       "        vertical-align: middle;\n",
       "    }\n",
       "\n",
       "    .dataframe tbody tr th {\n",
       "        vertical-align: top;\n",
       "    }\n",
       "\n",
       "    .dataframe thead th {\n",
       "        text-align: right;\n",
       "    }\n",
       "</style>\n",
       "<table border=\"1\" class=\"dataframe\">\n",
       "  <thead>\n",
       "    <tr style=\"text-align: right;\">\n",
       "      <th></th>\n",
       "      <th>Population</th>\n",
       "      <th>Total Tests</th>\n",
       "      <th>Total Cases</th>\n",
       "      <th>Total Deaths</th>\n",
       "      <th>Total Recovered</th>\n",
       "      <th>Serious or Critical</th>\n",
       "      <th>Active Cases</th>\n",
       "    </tr>\n",
       "  </thead>\n",
       "  <tbody>\n",
       "    <tr>\n",
       "      <th>count</th>\n",
       "      <td>6.603000e+03</td>\n",
       "      <td>6.603000e+03</td>\n",
       "      <td>6.603000e+03</td>\n",
       "      <td>6603.000000</td>\n",
       "      <td>6603.000000</td>\n",
       "      <td>6603.000000</td>\n",
       "      <td>6.603000e+03</td>\n",
       "    </tr>\n",
       "    <tr>\n",
       "      <th>mean</th>\n",
       "      <td>3.637913e+07</td>\n",
       "      <td>2.167252e+05</td>\n",
       "      <td>1.692968e+04</td>\n",
       "      <td>1416.252096</td>\n",
       "      <td>5855.424185</td>\n",
       "      <td>386.748360</td>\n",
       "      <td>9.964142e+03</td>\n",
       "    </tr>\n",
       "    <tr>\n",
       "      <th>std</th>\n",
       "      <td>1.411537e+08</td>\n",
       "      <td>6.934856e+05</td>\n",
       "      <td>8.828521e+04</td>\n",
       "      <td>5990.992214</td>\n",
       "      <td>22955.519135</td>\n",
       "      <td>1309.473245</td>\n",
       "      <td>6.511732e+04</td>\n",
       "    </tr>\n",
       "    <tr>\n",
       "      <th>min</th>\n",
       "      <td>8.010000e+02</td>\n",
       "      <td>1.000000e+01</td>\n",
       "      <td>1.000000e+00</td>\n",
       "      <td>0.000000</td>\n",
       "      <td>1.000000</td>\n",
       "      <td>1.000000</td>\n",
       "      <td>0.000000e+00</td>\n",
       "    </tr>\n",
       "    <tr>\n",
       "      <th>25%</th>\n",
       "      <td>8.672680e+05</td>\n",
       "      <td>4.733000e+03</td>\n",
       "      <td>8.000000e+01</td>\n",
       "      <td>8.000000</td>\n",
       "      <td>29.000000</td>\n",
       "      <td>7.000000</td>\n",
       "      <td>2.700000e+01</td>\n",
       "    </tr>\n",
       "    <tr>\n",
       "      <th>50%</th>\n",
       "      <td>6.859926e+06</td>\n",
       "      <td>5.419500e+04</td>\n",
       "      <td>6.320000e+02</td>\n",
       "      <td>55.000000</td>\n",
       "      <td>253.000000</td>\n",
       "      <td>137.000000</td>\n",
       "      <td>2.840000e+02</td>\n",
       "    </tr>\n",
       "    <tr>\n",
       "      <th>75%</th>\n",
       "      <td>2.546422e+07</td>\n",
       "      <td>2.167252e+05</td>\n",
       "      <td>5.222500e+03</td>\n",
       "      <td>1416.252096</td>\n",
       "      <td>1786.500000</td>\n",
       "      <td>386.748360</td>\n",
       "      <td>2.230500e+03</td>\n",
       "    </tr>\n",
       "    <tr>\n",
       "      <th>max</th>\n",
       "      <td>1.439324e+09</td>\n",
       "      <td>1.230074e+07</td>\n",
       "      <td>1.550294e+06</td>\n",
       "      <td>91981.000000</td>\n",
       "      <td>356383.000000</td>\n",
       "      <td>18671.000000</td>\n",
       "      <td>1.101930e+06</td>\n",
       "    </tr>\n",
       "  </tbody>\n",
       "</table>\n",
       "</div>"
      ],
      "text/plain": [
       "         Population   Total Tests   Total Cases  Total Deaths  \\\n",
       "count  6.603000e+03  6.603000e+03  6.603000e+03   6603.000000   \n",
       "mean   3.637913e+07  2.167252e+05  1.692968e+04   1416.252096   \n",
       "std    1.411537e+08  6.934856e+05  8.828521e+04   5990.992214   \n",
       "min    8.010000e+02  1.000000e+01  1.000000e+00      0.000000   \n",
       "25%    8.672680e+05  4.733000e+03  8.000000e+01      8.000000   \n",
       "50%    6.859926e+06  5.419500e+04  6.320000e+02     55.000000   \n",
       "75%    2.546422e+07  2.167252e+05  5.222500e+03   1416.252096   \n",
       "max    1.439324e+09  1.230074e+07  1.550294e+06  91981.000000   \n",
       "\n",
       "       Total Recovered  Serious or Critical  Active Cases  \n",
       "count      6603.000000          6603.000000  6.603000e+03  \n",
       "mean       5855.424185           386.748360  9.964142e+03  \n",
       "std       22955.519135          1309.473245  6.511732e+04  \n",
       "min           1.000000             1.000000  0.000000e+00  \n",
       "25%          29.000000             7.000000  2.700000e+01  \n",
       "50%         253.000000           137.000000  2.840000e+02  \n",
       "75%        1786.500000           386.748360  2.230500e+03  \n",
       "max      356383.000000         18671.000000  1.101930e+06  "
      ]
     },
     "execution_count": 27,
     "metadata": {},
     "output_type": "execute_result"
    }
   ],
   "source": [
    "df.describe()             # Checking Statistical Description"
   ]
  },
  {
   "cell_type": "markdown",
   "metadata": {},
   "source": [
    "Observations: Population maximum-1.439324e+09,minimum-8.010000e+02\n",
    "              Total Tests maximum-1.230074e+07,minimum-1.000000e+01\n",
    "              Total Cases maximum-1.550294e+06,minimum-1.000000e+00\n",
    "              Total Deaths maximum-91981,minimum-0\n",
    "              Total Recovered maximum-356383,minimum-1\n",
    "              Serious or Critical maximum-18671,minimum-1\n",
    "              Active Cases maximum-18671,minimum-1\n",
    "       Outliers present in some columns.\n",
    "       And skewness also present."
   ]
  },
  {
   "cell_type": "code",
   "execution_count": 28,
   "metadata": {},
   "outputs": [
    {
     "data": {
      "text/html": [
       "<div>\n",
       "<style scoped>\n",
       "    .dataframe tbody tr th:only-of-type {\n",
       "        vertical-align: middle;\n",
       "    }\n",
       "\n",
       "    .dataframe tbody tr th {\n",
       "        vertical-align: top;\n",
       "    }\n",
       "\n",
       "    .dataframe thead th {\n",
       "        text-align: right;\n",
       "    }\n",
       "</style>\n",
       "<table border=\"1\" class=\"dataframe\">\n",
       "  <thead>\n",
       "    <tr style=\"text-align: right;\">\n",
       "      <th></th>\n",
       "      <th>Population</th>\n",
       "      <th>Total Tests</th>\n",
       "      <th>Total Cases</th>\n",
       "      <th>Total Deaths</th>\n",
       "      <th>Total Recovered</th>\n",
       "      <th>Serious or Critical</th>\n",
       "      <th>Active Cases</th>\n",
       "    </tr>\n",
       "  </thead>\n",
       "  <tbody>\n",
       "    <tr>\n",
       "      <th>Population</th>\n",
       "      <td>1.000000</td>\n",
       "      <td>0.223735</td>\n",
       "      <td>0.225844</td>\n",
       "      <td>0.176773</td>\n",
       "      <td>0.309361</td>\n",
       "      <td>0.170461</td>\n",
       "      <td>0.179359</td>\n",
       "    </tr>\n",
       "    <tr>\n",
       "      <th>Total Tests</th>\n",
       "      <td>0.223735</td>\n",
       "      <td>1.000000</td>\n",
       "      <td>0.896328</td>\n",
       "      <td>0.803680</td>\n",
       "      <td>0.795205</td>\n",
       "      <td>0.728773</td>\n",
       "      <td>0.853809</td>\n",
       "    </tr>\n",
       "    <tr>\n",
       "      <th>Total Cases</th>\n",
       "      <td>0.225844</td>\n",
       "      <td>0.896328</td>\n",
       "      <td>1.000000</td>\n",
       "      <td>0.930952</td>\n",
       "      <td>0.821121</td>\n",
       "      <td>0.881620</td>\n",
       "      <td>0.975361</td>\n",
       "    </tr>\n",
       "    <tr>\n",
       "      <th>Total Deaths</th>\n",
       "      <td>0.176773</td>\n",
       "      <td>0.803680</td>\n",
       "      <td>0.930952</td>\n",
       "      <td>1.000000</td>\n",
       "      <td>0.794887</td>\n",
       "      <td>0.822177</td>\n",
       "      <td>0.879732</td>\n",
       "    </tr>\n",
       "    <tr>\n",
       "      <th>Total Recovered</th>\n",
       "      <td>0.309361</td>\n",
       "      <td>0.795205</td>\n",
       "      <td>0.821121</td>\n",
       "      <td>0.794887</td>\n",
       "      <td>1.000000</td>\n",
       "      <td>0.707686</td>\n",
       "      <td>0.687265</td>\n",
       "    </tr>\n",
       "    <tr>\n",
       "      <th>Serious or Critical</th>\n",
       "      <td>0.170461</td>\n",
       "      <td>0.728773</td>\n",
       "      <td>0.881620</td>\n",
       "      <td>0.822177</td>\n",
       "      <td>0.707686</td>\n",
       "      <td>1.000000</td>\n",
       "      <td>0.869204</td>\n",
       "    </tr>\n",
       "    <tr>\n",
       "      <th>Active Cases</th>\n",
       "      <td>0.179359</td>\n",
       "      <td>0.853809</td>\n",
       "      <td>0.975361</td>\n",
       "      <td>0.879732</td>\n",
       "      <td>0.687265</td>\n",
       "      <td>0.869204</td>\n",
       "      <td>1.000000</td>\n",
       "    </tr>\n",
       "  </tbody>\n",
       "</table>\n",
       "</div>"
      ],
      "text/plain": [
       "                     Population  Total Tests  Total Cases  Total Deaths  \\\n",
       "Population             1.000000     0.223735     0.225844      0.176773   \n",
       "Total Tests            0.223735     1.000000     0.896328      0.803680   \n",
       "Total Cases            0.225844     0.896328     1.000000      0.930952   \n",
       "Total Deaths           0.176773     0.803680     0.930952      1.000000   \n",
       "Total Recovered        0.309361     0.795205     0.821121      0.794887   \n",
       "Serious or Critical    0.170461     0.728773     0.881620      0.822177   \n",
       "Active Cases           0.179359     0.853809     0.975361      0.879732   \n",
       "\n",
       "                     Total Recovered  Serious or Critical  Active Cases  \n",
       "Population                  0.309361             0.170461      0.179359  \n",
       "Total Tests                 0.795205             0.728773      0.853809  \n",
       "Total Cases                 0.821121             0.881620      0.975361  \n",
       "Total Deaths                0.794887             0.822177      0.879732  \n",
       "Total Recovered             1.000000             0.707686      0.687265  \n",
       "Serious or Critical         0.707686             1.000000      0.869204  \n",
       "Active Cases                0.687265             0.869204      1.000000  "
      ]
     },
     "execution_count": 28,
     "metadata": {},
     "output_type": "execute_result"
    }
   ],
   "source": [
    "df.corr()     # Checking Statistical Correlation"
   ]
  },
  {
   "cell_type": "code",
   "execution_count": 29,
   "metadata": {},
   "outputs": [
    {
     "data": {
      "text/plain": [
       "<matplotlib.axes._subplots.AxesSubplot at 0xae3d6fd148>"
      ]
     },
     "execution_count": 29,
     "metadata": {},
     "output_type": "execute_result"
    },
    {
     "data": {
      "image/png": "[encoded data removed]",
      "text/plain": [
       "<Figure size 432x288 with 2 Axes>"
      ]
     },
     "metadata": {
      "needs_background": "light"
     },
     "output_type": "display_data"
    }
   ],
   "source": [
    "sns.heatmap(df.corr(),annot=True)    # features positively correlated"
   ]
  },
  {
   "cell_type": "code",
   "execution_count": 30,
   "metadata": {},
   "outputs": [
    {
     "data": {
      "text/html": [
       "<div>\n",
       "<style scoped>\n",
       "    .dataframe tbody tr th:only-of-type {\n",
       "        vertical-align: middle;\n",
       "    }\n",
       "\n",
       "    .dataframe tbody tr th {\n",
       "        vertical-align: top;\n",
       "    }\n",
       "\n",
       "    .dataframe thead th {\n",
       "        text-align: right;\n",
       "    }\n",
       "</style>\n",
       "<table border=\"1\" class=\"dataframe\">\n",
       "  <thead>\n",
       "    <tr style=\"text-align: right;\">\n",
       "      <th></th>\n",
       "      <th>Date</th>\n",
       "      <th>Country</th>\n",
       "      <th>Population</th>\n",
       "      <th>Total Tests</th>\n",
       "      <th>Total Cases</th>\n",
       "      <th>Total Deaths</th>\n",
       "      <th>Total Recovered</th>\n",
       "      <th>Serious or Critical</th>\n",
       "      <th>Active Cases</th>\n",
       "    </tr>\n",
       "  </thead>\n",
       "  <tbody>\n",
       "    <tr>\n",
       "      <th>0</th>\n",
       "      <td>Saturday</td>\n",
       "      <td>USA</td>\n",
       "      <td>330774664</td>\n",
       "      <td>3722145.0</td>\n",
       "      <td>738792.0</td>\n",
       "      <td>39014.0</td>\n",
       "      <td>68269.000000</td>\n",
       "      <td>13551.0</td>\n",
       "      <td>631509.0</td>\n",
       "    </tr>\n",
       "    <tr>\n",
       "      <th>1</th>\n",
       "      <td>Saturday</td>\n",
       "      <td>Russia</td>\n",
       "      <td>145927292</td>\n",
       "      <td>1831892.0</td>\n",
       "      <td>36793.0</td>\n",
       "      <td>313.0</td>\n",
       "      <td>3057.000000</td>\n",
       "      <td>8.0</td>\n",
       "      <td>33423.0</td>\n",
       "    </tr>\n",
       "    <tr>\n",
       "      <th>2</th>\n",
       "      <td>Saturday</td>\n",
       "      <td>Spain</td>\n",
       "      <td>46752703</td>\n",
       "      <td>930230.0</td>\n",
       "      <td>194416.0</td>\n",
       "      <td>20043.0</td>\n",
       "      <td>74797.000000</td>\n",
       "      <td>7371.0</td>\n",
       "      <td>99576.0</td>\n",
       "    </tr>\n",
       "    <tr>\n",
       "      <th>3</th>\n",
       "      <td>Saturday</td>\n",
       "      <td>Brazil</td>\n",
       "      <td>212380932</td>\n",
       "      <td>62985.0</td>\n",
       "      <td>36722.0</td>\n",
       "      <td>2361.0</td>\n",
       "      <td>14026.000000</td>\n",
       "      <td>6634.0</td>\n",
       "      <td>20335.0</td>\n",
       "    </tr>\n",
       "    <tr>\n",
       "      <th>4</th>\n",
       "      <td>Saturday</td>\n",
       "      <td>UK</td>\n",
       "      <td>67844241</td>\n",
       "      <td>460437.0</td>\n",
       "      <td>114217.0</td>\n",
       "      <td>15464.0</td>\n",
       "      <td>5855.424185</td>\n",
       "      <td>1559.0</td>\n",
       "      <td>98409.0</td>\n",
       "    </tr>\n",
       "  </tbody>\n",
       "</table>\n",
       "</div>"
      ],
      "text/plain": [
       "       Date Country  Population  Total Tests  Total Cases  Total Deaths  \\\n",
       "0  Saturday     USA   330774664    3722145.0     738792.0       39014.0   \n",
       "1  Saturday  Russia   145927292    1831892.0      36793.0         313.0   \n",
       "2  Saturday   Spain    46752703     930230.0     194416.0       20043.0   \n",
       "3  Saturday  Brazil   212380932      62985.0      36722.0        2361.0   \n",
       "4  Saturday      UK    67844241     460437.0     114217.0       15464.0   \n",
       "\n",
       "   Total Recovered  Serious or Critical  Active Cases  \n",
       "0     68269.000000              13551.0      631509.0  \n",
       "1      3057.000000                  8.0       33423.0  \n",
       "2     74797.000000               7371.0       99576.0  \n",
       "3     14026.000000               6634.0       20335.0  \n",
       "4      5855.424185               1559.0       98409.0  "
      ]
     },
     "execution_count": 30,
     "metadata": {},
     "output_type": "execute_result"
    }
   ],
   "source": [
    "df.head()"
   ]
  },
  {
   "cell_type": "code",
   "execution_count": 31,
   "metadata": {},
   "outputs": [],
   "source": [
    "import matplotlib.pyplot as plt"
   ]
  },
  {
   "cell_type": "code",
   "execution_count": 32,
   "metadata": {},
   "outputs": [
    {
     "data": {
      "image/png": "[encoded data removed]",
      "text/plain": [
       "<Figure size 1800x720 with 1 Axes>"
      ]
     },
     "metadata": {
      "needs_background": "light"
     },
     "output_type": "display_data"
    },
    {
     "name": "stdout",
     "output_type": "stream",
     "text": [
      "Active Cases  Country         \n",
      "0.0           Greenland           31\n",
      "              St. Barth           28\n",
      "              Anguilla            22\n",
      "              Falkland Islands    18\n",
      "              Suriname            16\n",
      "                                  ..\n",
      "1052654.0     USA                  1\n",
      "1068027.0     USA                  1\n",
      "1078428.0     USA                  1\n",
      "1090297.0     USA                  1\n",
      "1101930.0     USA                  1\n",
      "Name: Country, Length: 4515, dtype: int64\n"
     ]
    }
   ],
   "source": [
    "plt.figure(figsize=(25,10))\n",
    "sns.barplot(x='Active Cases',y='Country',data=df)\n",
    "plt.show()\n",
    "print(df.groupby('Active Cases')['Country'].value_counts())"
   ]
  },
  {
   "cell_type": "code",
   "execution_count": 33,
   "metadata": {},
   "outputs": [],
   "source": [
    "from sklearn.preprocessing import LabelEncoder       # converting string data to numerical\n",
    "le=LabelEncoder()\n",
    "df['Country']=le.fit_transform(df['Country'])\n",
    "df['Date']=le.fit_transform(df['Date'])"
   ]
  },
  {
   "cell_type": "code",
   "execution_count": 34,
   "metadata": {},
   "outputs": [
    {
     "data": {
      "text/html": [
       "<div>\n",
       "<style scoped>\n",
       "    .dataframe tbody tr th:only-of-type {\n",
       "        vertical-align: middle;\n",
       "    }\n",
       "\n",
       "    .dataframe tbody tr th {\n",
       "        vertical-align: top;\n",
       "    }\n",
       "\n",
       "    .dataframe thead th {\n",
       "        text-align: right;\n",
       "    }\n",
       "</style>\n",
       "<table border=\"1\" class=\"dataframe\">\n",
       "  <thead>\n",
       "    <tr style=\"text-align: right;\">\n",
       "      <th></th>\n",
       "      <th>Date</th>\n",
       "      <th>Country</th>\n",
       "      <th>Population</th>\n",
       "      <th>Total Tests</th>\n",
       "      <th>Total Cases</th>\n",
       "      <th>Total Deaths</th>\n",
       "      <th>Total Recovered</th>\n",
       "      <th>Serious or Critical</th>\n",
       "      <th>Active Cases</th>\n",
       "    </tr>\n",
       "  </thead>\n",
       "  <tbody>\n",
       "    <tr>\n",
       "      <th>0</th>\n",
       "      <td>2</td>\n",
       "      <td>201</td>\n",
       "      <td>330774664</td>\n",
       "      <td>3722145.0</td>\n",
       "      <td>738792.0</td>\n",
       "      <td>39014.0</td>\n",
       "      <td>68269.000000</td>\n",
       "      <td>13551.0</td>\n",
       "      <td>631509.0</td>\n",
       "    </tr>\n",
       "    <tr>\n",
       "      <th>1</th>\n",
       "      <td>2</td>\n",
       "      <td>158</td>\n",
       "      <td>145927292</td>\n",
       "      <td>1831892.0</td>\n",
       "      <td>36793.0</td>\n",
       "      <td>313.0</td>\n",
       "      <td>3057.000000</td>\n",
       "      <td>8.0</td>\n",
       "      <td>33423.0</td>\n",
       "    </tr>\n",
       "    <tr>\n",
       "      <th>2</th>\n",
       "      <td>2</td>\n",
       "      <td>180</td>\n",
       "      <td>46752703</td>\n",
       "      <td>930230.0</td>\n",
       "      <td>194416.0</td>\n",
       "      <td>20043.0</td>\n",
       "      <td>74797.000000</td>\n",
       "      <td>7371.0</td>\n",
       "      <td>99576.0</td>\n",
       "    </tr>\n",
       "    <tr>\n",
       "      <th>3</th>\n",
       "      <td>2</td>\n",
       "      <td>26</td>\n",
       "      <td>212380932</td>\n",
       "      <td>62985.0</td>\n",
       "      <td>36722.0</td>\n",
       "      <td>2361.0</td>\n",
       "      <td>14026.000000</td>\n",
       "      <td>6634.0</td>\n",
       "      <td>20335.0</td>\n",
       "    </tr>\n",
       "    <tr>\n",
       "      <th>4</th>\n",
       "      <td>2</td>\n",
       "      <td>200</td>\n",
       "      <td>67844241</td>\n",
       "      <td>460437.0</td>\n",
       "      <td>114217.0</td>\n",
       "      <td>15464.0</td>\n",
       "      <td>5855.424185</td>\n",
       "      <td>1559.0</td>\n",
       "      <td>98409.0</td>\n",
       "    </tr>\n",
       "  </tbody>\n",
       "</table>\n",
       "</div>"
      ],
      "text/plain": [
       "   Date  Country  Population  Total Tests  Total Cases  Total Deaths  \\\n",
       "0     2      201   330774664    3722145.0     738792.0       39014.0   \n",
       "1     2      158   145927292    1831892.0      36793.0         313.0   \n",
       "2     2      180    46752703     930230.0     194416.0       20043.0   \n",
       "3     2       26   212380932      62985.0      36722.0        2361.0   \n",
       "4     2      200    67844241     460437.0     114217.0       15464.0   \n",
       "\n",
       "   Total Recovered  Serious or Critical  Active Cases  \n",
       "0     68269.000000              13551.0      631509.0  \n",
       "1      3057.000000                  8.0       33423.0  \n",
       "2     74797.000000               7371.0       99576.0  \n",
       "3     14026.000000               6634.0       20335.0  \n",
       "4      5855.424185               1559.0       98409.0  "
      ]
     },
     "execution_count": 34,
     "metadata": {},
     "output_type": "execute_result"
    }
   ],
   "source": [
    "df.head()"
   ]
  },
  {
   "cell_type": "markdown",
   "metadata": {},
   "source": [
    "Univariate Analysis"
   ]
  },
  {
   "cell_type": "code",
   "execution_count": 35,
   "metadata": {},
   "outputs": [],
   "source": [
    "import matplotlib.pyplot as plt"
   ]
  },
  {
   "cell_type": "code",
   "execution_count": 36,
   "metadata": {},
   "outputs": [
    {
     "name": "stdout",
     "output_type": "stream",
     "text": [
      "11.0        139\n",
      "18.0        114\n",
      "16.0        105\n",
      "6.0          95\n",
      "15.0         65\n",
      "           ... \n",
      "28063.0       1\n",
      "171253.0      1\n",
      "11929.0       1\n",
      "11178.0       1\n",
      "2144.0        1\n",
      "Name: Total Cases, Length: 3258, dtype: int64\n"
     ]
    },
    {
     "data": {
      "image/png": "[encoded data removed]",
      "text/plain": [
       "<Figure size 432x288 with 1 Axes>"
      ]
     },
     "metadata": {
      "needs_background": "light"
     },
     "output_type": "display_data"
    }
   ],
   "source": [
    "#plt.figure(figsize=(10,5))            # countplot for tatal cases 139 is maximum count\n",
    "sns.countplot(x='Total Cases',data=df)\n",
    "print(df['Total Cases'].value_counts())"
   ]
  },
  {
   "cell_type": "code",
   "execution_count": 37,
   "metadata": {},
   "outputs": [
    {
     "name": "stdout",
     "output_type": "stream",
     "text": [
      "16687100    31\n",
      "26461313    31\n",
      "84980       31\n",
      "16364523    31\n",
      "33409960    31\n",
      "            ..\n",
      "7121943     31\n",
      "4262847     31\n",
      "20829100    31\n",
      "4992        31\n",
      "20174887    31\n",
      "Name: Population, Length: 213, dtype: int64\n"
     ]
    },
    {
     "data": {
      "image/png": "[encoded data removed]",
      "text/plain": [
       "<Figure size 720x360 with 1 Axes>"
      ]
     },
     "metadata": {
      "needs_background": "light"
     },
     "output_type": "display_data"
    }
   ],
   "source": [
    "plt.figure(figsize=(10,5))\n",
    "sns.countplot(x='Population',data=df)\n",
    "print(df['Population'].value_counts())"
   ]
  },
  {
   "cell_type": "code",
   "execution_count": 38,
   "metadata": {},
   "outputs": [
    {
     "name": "stdout",
     "output_type": "stream",
     "text": [
      "0.0        244\n",
      "1.0        185\n",
      "2.0        125\n",
      "6.0        111\n",
      "3.0        110\n",
      "          ... \n",
      "12222.0      1\n",
      "93806.0      1\n",
      "47096.0      1\n",
      "10955.0      1\n",
      "1856.0       1\n",
      "Name: Active Cases, Length: 2681, dtype: int64\n"
     ]
    },
    {
     "data": {
      "image/png": "[encoded data removed]",
      "text/plain": [
       "<Figure size 432x288 with 1 Axes>"
      ]
     },
     "metadata": {
      "needs_background": "light"
     },
     "output_type": "display_data"
    }
   ],
   "source": [
    "#plt.figure(figsize=(10,5))            # 244 is max count for active cases\n",
    "sns.countplot(x='Active Cases',data=df)\n",
    "print(df['Active Cases'].value_counts())"
   ]
  },
  {
   "cell_type": "markdown",
   "metadata": {},
   "source": [
    "Bivariate Analysis"
   ]
  },
  {
   "cell_type": "code",
   "execution_count": 39,
   "metadata": {},
   "outputs": [
    {
     "data": {
      "image/png": "[encoded data removed]",
      "text/plain": [
       "<Figure size 1440x720 with 1 Axes>"
      ]
     },
     "metadata": {
      "needs_background": "light"
     },
     "output_type": "display_data"
    },
    {
     "name": "stdout",
     "output_type": "stream",
     "text": [
      "Total Tests  Total Deaths\n",
      "10.0         1416.252096      1\n",
      "19.0         1416.252096     13\n",
      "             1.000000         3\n",
      "36.0         1.000000        24\n",
      "             1416.252096      7\n",
      "                             ..\n",
      "10638893.0   86912.000000     1\n",
      "11090900.0   88507.000000     1\n",
      "11875580.0   90978.000000     1\n",
      "11949625.0   90113.000000     1\n",
      "12300744.0   91981.000000     1\n",
      "Name: Total Deaths, Length: 4029, dtype: int64\n"
     ]
    }
   ],
   "source": [
    "plt.figure(figsize=(20,10))\n",
    "sns.barplot(x='Total Tests',y='Total Deaths',data=df)\n",
    "plt.show()\n",
    "print(df.groupby('Total Tests')['Total Deaths'].value_counts())"
   ]
  },
  {
   "cell_type": "code",
   "execution_count": 40,
   "metadata": {},
   "outputs": [
    {
     "data": {
      "image/png": "[encoded data removed]",
      "text/plain": [
       "<Figure size 1440x720 with 1 Axes>"
      ]
     },
     "metadata": {
      "needs_background": "light"
     },
     "output_type": "display_data"
    },
    {
     "name": "stdout",
     "output_type": "stream",
     "text": [
      "Serious or Critical  Total Deaths\n",
      "1.0                  1416.252096     141\n",
      "                     3.000000        103\n",
      "                     4.000000         51\n",
      "                     9.000000         37\n",
      "                     11.000000        26\n",
      "                                    ... \n",
      "16816.0              80037.000000      1\n",
      "16868.0              91981.000000      1\n",
      "16978.0              78615.000000      1\n",
      "16995.0              76928.000000      1\n",
      "18671.0              61656.000000      1\n",
      "Name: Total Deaths, Length: 2517, dtype: int64\n"
     ]
    }
   ],
   "source": [
    "plt.figure(figsize=(20,10))\n",
    "sns.barplot(x='Serious or Critical',y='Total Deaths',data=df)\n",
    "plt.show()\n",
    "print(df.groupby('Serious or Critical')['Total Deaths'].value_counts())"
   ]
  },
  {
   "cell_type": "code",
   "execution_count": 41,
   "metadata": {},
   "outputs": [
    {
     "data": {
      "image/png": "[encoded data removed]",
      "text/plain": [
       "<Figure size 1440x720 with 1 Axes>"
      ]
     },
     "metadata": {
      "needs_background": "light"
     },
     "output_type": "display_data"
    },
    {
     "name": "stdout",
     "output_type": "stream",
     "text": [
      "Country  Total Deaths\n",
      "0        36.0             2\n",
      "         30.0             1\n",
      "         33.0             1\n",
      "         40.0             1\n",
      "         42.0             1\n",
      "                         ..\n",
      "211      7.0             10\n",
      "         4.0              3\n",
      "         2.0              1\n",
      "212      4.0             27\n",
      "         3.0              4\n",
      "Name: Total Deaths, Length: 2788, dtype: int64\n"
     ]
    }
   ],
   "source": [
    "plt.figure(figsize=(20,10))\n",
    "sns.barplot(x='Country',y='Total Deaths',data=df)\n",
    "plt.show()\n",
    "print(df.groupby('Country')['Total Deaths'].value_counts())"
   ]
  },
  {
   "cell_type": "code",
   "execution_count": 42,
   "metadata": {},
   "outputs": [
    {
     "data": {
      "image/png": "[encoded data removed]",
      "text/plain": [
       "<Figure size 1440x720 with 1 Axes>"
      ]
     },
     "metadata": {
      "needs_background": "light"
     },
     "output_type": "display_data"
    },
    {
     "name": "stdout",
     "output_type": "stream",
     "text": [
      "Country  Total Recovered\n",
      "0        188.0              2\n",
      "         345.0              2\n",
      "         558.0              2\n",
      "         745.0              2\n",
      "         112.0              1\n",
      "                           ..\n",
      "212      9.0                5\n",
      "         13.0               3\n",
      "         12.0               1\n",
      "         17.0               1\n",
      "         18.0               1\n",
      "Name: Total Recovered, Length: 3905, dtype: int64\n"
     ]
    }
   ],
   "source": [
    "plt.figure(figsize=(20,10))\n",
    "sns.barplot(x='Country',y='Total Recovered',data=df)\n",
    "plt.show()\n",
    "print(df.groupby('Country')['Total Recovered'].value_counts())"
   ]
  },
  {
   "cell_type": "code",
   "execution_count": 43,
   "metadata": {},
   "outputs": [
    {
     "data": {
      "image/png": "[encoded data removed]",
      "text/plain": [
       "<Figure size 720x360 with 1 Axes>"
      ]
     },
     "metadata": {
      "needs_background": "light"
     },
     "output_type": "display_data"
    },
    {
     "name": "stdout",
     "output_type": "stream",
     "text": [
      "Date  Total Recovered\n",
      "0     5855.424185        31\n",
      "      8.000000           16\n",
      "      6.000000           15\n",
      "      10.000000          14\n",
      "      13.000000          14\n",
      "                         ..\n",
      "6     148700.000000       1\n",
      "      159359.000000       1\n",
      "      183227.000000       1\n",
      "      212981.000000       1\n",
      "      310259.000000       1\n",
      "Name: Total Recovered, Length: 3968, dtype: int64\n"
     ]
    }
   ],
   "source": [
    "plt.figure(figsize=(10,5))\n",
    "sns.barplot(x='Date',y='Total Recovered',data=df)\n",
    "plt.show()\n",
    "print(df.groupby('Date')['Total Recovered'].value_counts())"
   ]
  },
  {
   "cell_type": "code",
   "execution_count": 44,
   "metadata": {},
   "outputs": [
    {
     "data": {
      "image/png": "[encoded data removed]",
      "text/plain": [
       "<Figure size 1440x720 with 1 Axes>"
      ]
     },
     "metadata": {
      "needs_background": "light"
     },
     "output_type": "display_data"
    },
    {
     "name": "stdout",
     "output_type": "stream",
     "text": [
      "Country         Fraction age 65+ years\n",
      "Afghanistan     0.026000                  1\n",
      "Albania         0.132000                  1\n",
      "Algeria         0.062000                  1\n",
      "Andorra         0.087731                  1\n",
      "Angola          0.024000                  1\n",
      "                                         ..\n",
      "Vietnam         0.072000                  1\n",
      "Western Sahara  0.087731                  1\n",
      "Yemen           0.029000                  1\n",
      "Zambia          0.025000                  1\n",
      "Zimbabwe        0.028000                  1\n",
      "Name: Fraction age 65+ years, Length: 213, dtype: int64\n"
     ]
    }
   ],
   "source": [
    "plt.figure(figsize=(20,10))\n",
    "sns.barplot(x='Country',y='Fraction age 65+ years',data=df1)\n",
    "plt.show()\n",
    "print(df1.groupby('Country')['Fraction age 65+ years'].value_counts())"
   ]
  },
  {
   "cell_type": "code",
   "execution_count": 45,
   "metadata": {},
   "outputs": [
    {
     "data": {
      "text/plain": [
       "array([[<matplotlib.axes._subplots.AxesSubplot object at 0x000000AE3D9AFF48>,\n",
       "        <matplotlib.axes._subplots.AxesSubplot object at 0x000000AE47159B08>,\n",
       "        <matplotlib.axes._subplots.AxesSubplot object at 0x000000AE4278FDC8>],\n",
       "       [<matplotlib.axes._subplots.AxesSubplot object at 0x000000AE3DE29D88>,\n",
       "        <matplotlib.axes._subplots.AxesSubplot object at 0x000000AE46A4F6C8>,\n",
       "        <matplotlib.axes._subplots.AxesSubplot object at 0x000000AE46979388>],\n",
       "       [<matplotlib.axes._subplots.AxesSubplot object at 0x000000AE3D9007C8>,\n",
       "        <matplotlib.axes._subplots.AxesSubplot object at 0x000000AE3DEF7788>,\n",
       "        <matplotlib.axes._subplots.AxesSubplot object at 0x000000AE40BC0F08>]],\n",
       "      dtype=object)"
      ]
     },
     "execution_count": 45,
     "metadata": {},
     "output_type": "execute_result"
    },
    {
     "data": {
      "image/png": "[encoded data removed]",
      "text/plain": [
       "<Figure size 432x288 with 9 Axes>"
      ]
     },
     "metadata": {
      "needs_background": "light"
     },
     "output_type": "display_data"
    }
   ],
   "source": [
    "df.hist()           # hist graph of dataset"
   ]
  },
  {
   "cell_type": "code",
   "execution_count": null,
   "metadata": {},
   "outputs": [],
   "source": []
  },
  {
   "cell_type": "markdown",
   "metadata": {},
   "source": [
    "Removing Outliers"
   ]
  },
  {
   "cell_type": "code",
   "execution_count": 46,
   "metadata": {},
   "outputs": [],
   "source": [
    "from scipy.stats import zscore\n",
    "import numpy as np"
   ]
  },
  {
   "cell_type": "code",
   "execution_count": 47,
   "metadata": {},
   "outputs": [
    {
     "data": {
      "text/plain": [
       "array([[4.65504357e-01, 1.54503887e+00, 2.08579650e+00, ...,\n",
       "        2.71909784e+00, 1.00538508e+01, 9.54572314e+00],\n",
       "       [4.65504357e-01, 8.45705489e-01, 7.76150267e-01, ...,\n",
       "        1.21915610e-01, 2.89259093e-01, 3.60282544e-01],\n",
       "       [4.65504357e-01, 1.20350397e+00, 7.34969097e-02, ...,\n",
       "        3.00349543e+00, 5.33403840e+00, 1.37626428e+00],\n",
       "       ...,\n",
       "       [9.80884181e-01, 1.64262028e+00, 2.57640465e-01, ...,\n",
       "        2.54965586e-01, 4.34126653e-17, 1.53029891e-01],\n",
       "       [9.80884181e-01, 6.50542684e-02, 2.42583053e-01, ...,\n",
       "        0.00000000e+00, 4.34126653e-17, 1.53014533e-01],\n",
       "       [9.80884181e-01, 9.59550459e-01, 2.57705576e-01, ...,\n",
       "        2.55052718e-01, 4.34126653e-17, 1.53029891e-01]])"
      ]
     },
     "execution_count": 47,
     "metadata": {},
     "output_type": "execute_result"
    }
   ],
   "source": [
    "z=np.abs(zscore(df))            \n",
    "z"
   ]
  },
  {
   "cell_type": "code",
   "execution_count": 48,
   "metadata": {},
   "outputs": [
    {
     "name": "stdout",
     "output_type": "stream",
     "text": [
      "(array([   0,    0,    0,    0,    0,    2,    2,    2,    3,    5,    6,\n",
      "          7,   10,   12,   12,  213,  213,  213,  213,  213,  215,  215,\n",
      "        215,  216,  218,  219,  219,  220,  223,  225,  225,  426,  426,\n",
      "        426,  426,  426,  428,  428,  428,  429,  431,  432,  432,  433,\n",
      "        436,  438,  438,  639,  639,  639,  639,  639,  639,  641,  641,\n",
      "        641,  642,  644,  645,  645,  646,  649,  651,  651,  852,  852,\n",
      "        852,  852,  852,  852,  854,  854,  854,  855,  857,  858,  858,\n",
      "        859,  862,  864,  864, 1065, 1065, 1065, 1065, 1065, 1065, 1066,\n",
      "       1067, 1067, 1067, 1068, 1070, 1071, 1071, 1072, 1075, 1077, 1077,\n",
      "       1278, 1278, 1278, 1278, 1278, 1278, 1279, 1280, 1280, 1280, 1281,\n",
      "       1282, 1283, 1284, 1284, 1285, 1288, 1290, 1290, 1491, 1491, 1491,\n",
      "       1491, 1491, 1491, 1492, 1493, 1493, 1493, 1494, 1495, 1496, 1497,\n",
      "       1497, 1498, 1501, 1503, 1503, 1704, 1704, 1704, 1704, 1704, 1704,\n",
      "       1705, 1706, 1706, 1706, 1707, 1708, 1709, 1710, 1710, 1711, 1714,\n",
      "       1716, 1716, 1917, 1917, 1917, 1917, 1917, 1917, 1918, 1919, 1919,\n",
      "       1919, 1920, 1921, 1922, 1923, 1923, 1924, 1927, 1929, 1929, 2130,\n",
      "       2130, 2130, 2130, 2130, 2130, 2131, 2132, 2132, 2132, 2133, 2134,\n",
      "       2135, 2136, 2136, 2137, 2140, 2142, 2142, 2343, 2343, 2343, 2343,\n",
      "       2343, 2343, 2344, 2345, 2345, 2345, 2346, 2347, 2348, 2349, 2350,\n",
      "       2350, 2353, 2355, 2355, 2556, 2556, 2556, 2556, 2556, 2556, 2557,\n",
      "       2558, 2558, 2559, 2560, 2561, 2561, 2562, 2563, 2563, 2565, 2566,\n",
      "       2568, 2568, 2769, 2769, 2769, 2769, 2769, 2769, 2770, 2771, 2771,\n",
      "       2772, 2773, 2774, 2774, 2775, 2776, 2776, 2778, 2779, 2781, 2781,\n",
      "       2982, 2982, 2982, 2982, 2982, 2982, 2983, 2984, 2984, 2985, 2986,\n",
      "       2987, 2987, 2988, 2989, 2989, 2991, 2992, 2994, 2994, 3195, 3195,\n",
      "       3195, 3195, 3195, 3195, 3196, 3197, 3197, 3198, 3199, 3200, 3200,\n",
      "       3201, 3202, 3202, 3204, 3205, 3207, 3207, 3408, 3408, 3408, 3408,\n",
      "       3408, 3408, 3409, 3410, 3410, 3411, 3412, 3413, 3413, 3414, 3415,\n",
      "       3415, 3417, 3418, 3420, 3420, 3621, 3621, 3621, 3621, 3621, 3621,\n",
      "       3622, 3623, 3623, 3624, 3625, 3626, 3626, 3627, 3628, 3628, 3630,\n",
      "       3631, 3633, 3633, 3834, 3834, 3834, 3834, 3834, 3834, 3835, 3836,\n",
      "       3836, 3837, 3838, 3839, 3839, 3839, 3840, 3841, 3841, 3842, 3843,\n",
      "       3844, 3846, 3846, 4047, 4047, 4047, 4047, 4047, 4047, 4048, 4049,\n",
      "       4049, 4050, 4051, 4052, 4052, 4052, 4053, 4054, 4054, 4055, 4056,\n",
      "       4057, 4059, 4059, 4260, 4260, 4260, 4260, 4260, 4260, 4261, 4262,\n",
      "       4262, 4263, 4264, 4265, 4265, 4265, 4266, 4267, 4267, 4268, 4269,\n",
      "       4270, 4272, 4272, 4473, 4473, 4473, 4473, 4473, 4473, 4474, 4475,\n",
      "       4475, 4475, 4476, 4477, 4478, 4478, 4478, 4479, 4480, 4480, 4481,\n",
      "       4482, 4483, 4485, 4485, 4686, 4686, 4686, 4686, 4686, 4686, 4687,\n",
      "       4688, 4688, 4688, 4689, 4690, 4691, 4691, 4691, 4692, 4693, 4693,\n",
      "       4694, 4695, 4696, 4698, 4698, 4899, 4899, 4899, 4899, 4899, 4899,\n",
      "       4900, 4901, 4901, 4901, 4902, 4903, 4904, 4904, 4904, 4905, 4906,\n",
      "       4906, 4907, 4908, 4909, 4911, 4911, 5112, 5112, 5112, 5112, 5112,\n",
      "       5112, 5113, 5114, 5114, 5114, 5115, 5116, 5117, 5117, 5117, 5118,\n",
      "       5119, 5119, 5120, 5121, 5122, 5124, 5124, 5325, 5325, 5325, 5325,\n",
      "       5325, 5325, 5326, 5327, 5327, 5327, 5328, 5328, 5329, 5330, 5330,\n",
      "       5330, 5331, 5332, 5332, 5333, 5334, 5335, 5337, 5337, 5538, 5538,\n",
      "       5538, 5538, 5538, 5538, 5539, 5540, 5540, 5540, 5541, 5541, 5542,\n",
      "       5543, 5543, 5543, 5544, 5545, 5545, 5546, 5547, 5548, 5550, 5550,\n",
      "       5751, 5751, 5751, 5751, 5751, 5751, 5752, 5753, 5753, 5753, 5754,\n",
      "       5754, 5755, 5755, 5756, 5756, 5756, 5757, 5758, 5758, 5759, 5760,\n",
      "       5761, 5763, 5763, 5964, 5964, 5964, 5964, 5964, 5964, 5965, 5965,\n",
      "       5966, 5966, 5966, 5967, 5967, 5968, 5968, 5969, 5969, 5969, 5970,\n",
      "       5971, 5971, 5972, 5973, 5974, 5976, 5976, 6177, 6177, 6177, 6177,\n",
      "       6177, 6177, 6178, 6178, 6179, 6179, 6179, 6180, 6180, 6181, 6181,\n",
      "       6182, 6182, 6182, 6183, 6184, 6184, 6185, 6186, 6187, 6189, 6189,\n",
      "       6390, 6390, 6390, 6390, 6390, 6390, 6391, 6391, 6391, 6392, 6392,\n",
      "       6392, 6393, 6393, 6394, 6394, 6395, 6395, 6395, 6396, 6397, 6397,\n",
      "       6398, 6399, 6400, 6400, 6402, 6402], dtype=int64), array([3, 4, 5, 7, 8, 5, 6, 7, 7, 5, 7, 6, 2, 2, 6, 3, 4, 5, 7, 8, 5, 6,\n",
      "       7, 7, 5, 5, 7, 6, 2, 2, 6, 3, 4, 5, 7, 8, 5, 6, 7, 7, 5, 5, 7, 6,\n",
      "       2, 2, 6, 3, 4, 5, 6, 7, 8, 5, 6, 7, 7, 5, 5, 7, 6, 2, 2, 6, 3, 4,\n",
      "       5, 6, 7, 8, 5, 6, 7, 7, 5, 5, 7, 6, 2, 2, 6, 3, 4, 5, 6, 7, 8, 3,\n",
      "       5, 6, 7, 7, 5, 5, 7, 6, 2, 2, 6, 3, 4, 5, 6, 7, 8, 3, 5, 6, 7, 7,\n",
      "       5, 5, 5, 7, 6, 2, 2, 6, 3, 4, 5, 6, 7, 8, 3, 5, 6, 7, 7, 5, 5, 5,\n",
      "       7, 6, 2, 2, 6, 3, 4, 5, 6, 7, 8, 3, 5, 6, 7, 7, 5, 5, 5, 7, 6, 2,\n",
      "       2, 6, 3, 4, 5, 6, 7, 8, 3, 5, 6, 7, 7, 5, 5, 5, 7, 6, 2, 2, 6, 3,\n",
      "       4, 5, 6, 7, 8, 3, 5, 6, 7, 7, 5, 5, 5, 7, 6, 2, 2, 6, 3, 4, 5, 6,\n",
      "       7, 8, 3, 5, 6, 7, 7, 5, 5, 5, 3, 6, 2, 2, 6, 3, 4, 5, 6, 7, 8, 3,\n",
      "       5, 6, 7, 5, 5, 6, 5, 3, 6, 6, 2, 2, 6, 3, 4, 5, 6, 7, 8, 3, 5, 6,\n",
      "       7, 5, 5, 6, 5, 3, 6, 6, 2, 2, 6, 3, 4, 5, 6, 7, 8, 3, 5, 6, 7, 5,\n",
      "       5, 6, 5, 3, 6, 6, 2, 2, 6, 3, 4, 5, 6, 7, 8, 3, 5, 6, 7, 5, 5, 6,\n",
      "       5, 3, 6, 6, 2, 2, 6, 3, 4, 5, 6, 7, 8, 3, 5, 6, 7, 5, 5, 6, 5, 3,\n",
      "       6, 6, 2, 2, 6, 3, 4, 5, 6, 7, 8, 3, 5, 6, 7, 5, 5, 6, 5, 3, 6, 6,\n",
      "       2, 2, 6, 3, 4, 5, 6, 7, 8, 3, 5, 6, 7, 5, 3, 5, 6, 5, 3, 6, 6, 6,\n",
      "       2, 2, 6, 3, 4, 5, 6, 7, 8, 3, 5, 6, 7, 5, 3, 5, 6, 5, 3, 6, 6, 6,\n",
      "       2, 2, 6, 3, 4, 5, 6, 7, 8, 3, 5, 6, 7, 5, 3, 5, 6, 5, 3, 6, 6, 6,\n",
      "       2, 2, 6, 3, 4, 5, 6, 7, 8, 3, 3, 5, 6, 7, 5, 3, 5, 6, 5, 3, 6, 6,\n",
      "       6, 2, 2, 6, 3, 4, 5, 6, 7, 8, 3, 3, 5, 6, 7, 5, 3, 5, 6, 5, 3, 6,\n",
      "       6, 6, 2, 2, 6, 3, 4, 5, 6, 7, 8, 3, 3, 5, 6, 7, 5, 3, 5, 6, 5, 3,\n",
      "       6, 6, 6, 2, 2, 6, 3, 4, 5, 6, 7, 8, 3, 3, 5, 6, 7, 5, 3, 5, 6, 5,\n",
      "       3, 6, 6, 6, 2, 2, 6, 3, 4, 5, 6, 7, 8, 3, 3, 5, 6, 6, 7, 5, 3, 5,\n",
      "       6, 5, 3, 6, 6, 6, 2, 2, 6, 3, 4, 5, 6, 7, 8, 3, 3, 5, 6, 6, 7, 5,\n",
      "       3, 5, 6, 5, 3, 6, 6, 6, 2, 2, 6, 3, 4, 5, 6, 7, 8, 3, 3, 5, 6, 6,\n",
      "       7, 3, 5, 3, 5, 6, 5, 3, 6, 6, 6, 2, 2, 6, 3, 4, 5, 6, 7, 8, 3, 8,\n",
      "       3, 5, 6, 6, 7, 3, 5, 3, 5, 6, 5, 3, 6, 6, 6, 2, 2, 6, 3, 4, 5, 6,\n",
      "       7, 8, 3, 8, 3, 5, 6, 6, 7, 3, 5, 3, 5, 6, 5, 3, 6, 6, 6, 2, 2, 6,\n",
      "       3, 4, 5, 6, 7, 8, 3, 4, 8, 3, 5, 6, 6, 7, 3, 5, 3, 5, 6, 5, 3, 6,\n",
      "       6, 6, 2, 3, 2, 6], dtype=int64))\n"
     ]
    }
   ],
   "source": [
    "threshold=3               #Identifying outlirs\n",
    "print(np.where(z>3))"
   ]
  },
  {
   "cell_type": "code",
   "execution_count": 49,
   "metadata": {},
   "outputs": [
    {
     "data": {
      "text/html": [
       "<div>\n",
       "<style scoped>\n",
       "    .dataframe tbody tr th:only-of-type {\n",
       "        vertical-align: middle;\n",
       "    }\n",
       "\n",
       "    .dataframe tbody tr th {\n",
       "        vertical-align: top;\n",
       "    }\n",
       "\n",
       "    .dataframe thead th {\n",
       "        text-align: right;\n",
       "    }\n",
       "</style>\n",
       "<table border=\"1\" class=\"dataframe\">\n",
       "  <thead>\n",
       "    <tr style=\"text-align: right;\">\n",
       "      <th></th>\n",
       "      <th>Date</th>\n",
       "      <th>Country</th>\n",
       "      <th>Population</th>\n",
       "      <th>Total Tests</th>\n",
       "      <th>Total Cases</th>\n",
       "      <th>Total Deaths</th>\n",
       "      <th>Total Recovered</th>\n",
       "      <th>Serious or Critical</th>\n",
       "      <th>Active Cases</th>\n",
       "    </tr>\n",
       "  </thead>\n",
       "  <tbody>\n",
       "    <tr>\n",
       "      <th>1</th>\n",
       "      <td>2</td>\n",
       "      <td>158</td>\n",
       "      <td>145927292</td>\n",
       "      <td>1.831892e+06</td>\n",
       "      <td>36793.0</td>\n",
       "      <td>313.000000</td>\n",
       "      <td>3057.000000</td>\n",
       "      <td>8.00000</td>\n",
       "      <td>33423.0</td>\n",
       "    </tr>\n",
       "    <tr>\n",
       "      <th>4</th>\n",
       "      <td>2</td>\n",
       "      <td>200</td>\n",
       "      <td>67844241</td>\n",
       "      <td>4.604370e+05</td>\n",
       "      <td>114217.0</td>\n",
       "      <td>15464.000000</td>\n",
       "      <td>5855.424185</td>\n",
       "      <td>1559.00000</td>\n",
       "      <td>98409.0</td>\n",
       "    </tr>\n",
       "    <tr>\n",
       "      <th>8</th>\n",
       "      <td>2</td>\n",
       "      <td>197</td>\n",
       "      <td>84230075</td>\n",
       "      <td>5.989330e+05</td>\n",
       "      <td>82329.0</td>\n",
       "      <td>1890.000000</td>\n",
       "      <td>10453.000000</td>\n",
       "      <td>1894.00000</td>\n",
       "      <td>69986.0</td>\n",
       "    </tr>\n",
       "    <tr>\n",
       "      <th>9</th>\n",
       "      <td>2</td>\n",
       "      <td>93</td>\n",
       "      <td>83862642</td>\n",
       "      <td>3.301370e+05</td>\n",
       "      <td>80868.0</td>\n",
       "      <td>5031.000000</td>\n",
       "      <td>55987.000000</td>\n",
       "      <td>3513.00000</td>\n",
       "      <td>19850.0</td>\n",
       "    </tr>\n",
       "    <tr>\n",
       "      <th>11</th>\n",
       "      <td>2</td>\n",
       "      <td>152</td>\n",
       "      <td>32915899</td>\n",
       "      <td>1.358950e+05</td>\n",
       "      <td>14420.0</td>\n",
       "      <td>348.000000</td>\n",
       "      <td>6684.000000</td>\n",
       "      <td>117.00000</td>\n",
       "      <td>7388.0</td>\n",
       "    </tr>\n",
       "    <tr>\n",
       "      <th>...</th>\n",
       "      <td>...</td>\n",
       "      <td>...</td>\n",
       "      <td>...</td>\n",
       "      <td>...</td>\n",
       "      <td>...</td>\n",
       "      <td>...</td>\n",
       "      <td>...</td>\n",
       "      <td>...</td>\n",
       "      <td>...</td>\n",
       "    </tr>\n",
       "    <tr>\n",
       "      <th>6598</th>\n",
       "      <td>1</td>\n",
       "      <td>182</td>\n",
       "      <td>9874</td>\n",
       "      <td>2.167252e+05</td>\n",
       "      <td>6.0</td>\n",
       "      <td>1416.252096</td>\n",
       "      <td>6.000000</td>\n",
       "      <td>386.74836</td>\n",
       "      <td>0.0</td>\n",
       "    </tr>\n",
       "    <tr>\n",
       "      <th>6599</th>\n",
       "      <td>1</td>\n",
       "      <td>209</td>\n",
       "      <td>595462</td>\n",
       "      <td>2.167252e+05</td>\n",
       "      <td>6.0</td>\n",
       "      <td>1416.252096</td>\n",
       "      <td>6.000000</td>\n",
       "      <td>386.74836</td>\n",
       "      <td>0.0</td>\n",
       "    </tr>\n",
       "    <tr>\n",
       "      <th>6600</th>\n",
       "      <td>1</td>\n",
       "      <td>5</td>\n",
       "      <td>14987</td>\n",
       "      <td>2.167252e+05</td>\n",
       "      <td>3.0</td>\n",
       "      <td>1416.252096</td>\n",
       "      <td>3.000000</td>\n",
       "      <td>386.74836</td>\n",
       "      <td>0.0</td>\n",
       "    </tr>\n",
       "    <tr>\n",
       "      <th>6601</th>\n",
       "      <td>1</td>\n",
       "      <td>110</td>\n",
       "      <td>2140235</td>\n",
       "      <td>2.167252e+05</td>\n",
       "      <td>1.0</td>\n",
       "      <td>1416.252096</td>\n",
       "      <td>5855.424185</td>\n",
       "      <td>386.74836</td>\n",
       "      <td>1.0</td>\n",
       "    </tr>\n",
       "    <tr>\n",
       "      <th>6602</th>\n",
       "      <td>1</td>\n",
       "      <td>165</td>\n",
       "      <td>5797</td>\n",
       "      <td>2.167252e+05</td>\n",
       "      <td>1.0</td>\n",
       "      <td>1416.252096</td>\n",
       "      <td>1.000000</td>\n",
       "      <td>386.74836</td>\n",
       "      <td>0.0</td>\n",
       "    </tr>\n",
       "  </tbody>\n",
       "</table>\n",
       "<p>6272 rows × 9 columns</p>\n",
       "</div>"
      ],
      "text/plain": [
       "      Date  Country  Population   Total Tests  Total Cases  Total Deaths  \\\n",
       "1        2      158   145927292  1.831892e+06      36793.0    313.000000   \n",
       "4        2      200    67844241  4.604370e+05     114217.0  15464.000000   \n",
       "8        2      197    84230075  5.989330e+05      82329.0   1890.000000   \n",
       "9        2       93    83862642  3.301370e+05      80868.0   5031.000000   \n",
       "11       2      152    32915899  1.358950e+05      14420.0    348.000000   \n",
       "...    ...      ...         ...           ...          ...           ...   \n",
       "6598     1      182        9874  2.167252e+05          6.0   1416.252096   \n",
       "6599     1      209      595462  2.167252e+05          6.0   1416.252096   \n",
       "6600     1        5       14987  2.167252e+05          3.0   1416.252096   \n",
       "6601     1      110     2140235  2.167252e+05          1.0   1416.252096   \n",
       "6602     1      165        5797  2.167252e+05          1.0   1416.252096   \n",
       "\n",
       "      Total Recovered  Serious or Critical  Active Cases  \n",
       "1         3057.000000              8.00000       33423.0  \n",
       "4         5855.424185           1559.00000       98409.0  \n",
       "8        10453.000000           1894.00000       69986.0  \n",
       "9        55987.000000           3513.00000       19850.0  \n",
       "11        6684.000000            117.00000        7388.0  \n",
       "...               ...                  ...           ...  \n",
       "6598         6.000000            386.74836           0.0  \n",
       "6599         6.000000            386.74836           0.0  \n",
       "6600         3.000000            386.74836           0.0  \n",
       "6601      5855.424185            386.74836           1.0  \n",
       "6602         1.000000            386.74836           0.0  \n",
       "\n",
       "[6272 rows x 9 columns]"
      ]
     },
     "execution_count": 49,
     "metadata": {},
     "output_type": "execute_result"
    }
   ],
   "source": [
    "df1=df[(z<3).all(axis=1)]   #Removing outliers\n",
    "df1"
   ]
  },
  {
   "cell_type": "code",
   "execution_count": 50,
   "metadata": {},
   "outputs": [
    {
     "data": {
      "text/plain": [
       "Date                   0.109536\n",
       "Country               -0.011884\n",
       "Population             3.880217\n",
       "Total Tests            3.860036\n",
       "Total Cases            5.183936\n",
       "Total Deaths           6.225914\n",
       "Total Recovered        6.921157\n",
       "Serious or Critical    4.274869\n",
       "Active Cases           6.120409\n",
       "dtype: float64"
      ]
     },
     "execution_count": 50,
     "metadata": {},
     "output_type": "execute_result"
    }
   ],
   "source": [
    "df1.skew()            # Checking Skewness"
   ]
  },
  {
   "cell_type": "code",
   "execution_count": 51,
   "metadata": {},
   "outputs": [],
   "source": [
    "# Removing Skewness\n",
    "df1['Population'] = np.sqrt(df1['Population'])\n",
    "df1['Total Tests'] = np.sqrt(df1['Total Tests'])\n",
    "df1['Total Cases'] = np.cbrt(df1['Total Cases'])\n",
    "df1['Total Deaths'] = np.cbrt(df1['Total Deaths'])\n",
    "df1['Total Recovered'] = np.cbrt(df1['Total Recovered'])\n",
    "df1['Serious or Critical'] = np.cbrt(df1['Serious or Critical'])\n",
    "df1['Active Cases'] = np.cbrt(df1['Active Cases'])"
   ]
  },
  {
   "cell_type": "code",
   "execution_count": 52,
   "metadata": {},
   "outputs": [],
   "source": [
    "# Separating x and y variables"
   ]
  },
  {
   "cell_type": "code",
   "execution_count": 53,
   "metadata": {},
   "outputs": [
    {
     "data": {
      "text/html": [
       "<div>\n",
       "<style scoped>\n",
       "    .dataframe tbody tr th:only-of-type {\n",
       "        vertical-align: middle;\n",
       "    }\n",
       "\n",
       "    .dataframe tbody tr th {\n",
       "        vertical-align: top;\n",
       "    }\n",
       "\n",
       "    .dataframe thead th {\n",
       "        text-align: right;\n",
       "    }\n",
       "</style>\n",
       "<table border=\"1\" class=\"dataframe\">\n",
       "  <thead>\n",
       "    <tr style=\"text-align: right;\">\n",
       "      <th></th>\n",
       "      <th>Date</th>\n",
       "      <th>Country</th>\n",
       "      <th>Population</th>\n",
       "      <th>Total Tests</th>\n",
       "      <th>Total Cases</th>\n",
       "      <th>Total Recovered</th>\n",
       "      <th>Serious or Critical</th>\n",
       "      <th>Active Cases</th>\n",
       "    </tr>\n",
       "  </thead>\n",
       "  <tbody>\n",
       "    <tr>\n",
       "      <th>1</th>\n",
       "      <td>2</td>\n",
       "      <td>158</td>\n",
       "      <td>12080.036920</td>\n",
       "      <td>1353.474049</td>\n",
       "      <td>33.259961</td>\n",
       "      <td>14.513266</td>\n",
       "      <td>2.000000</td>\n",
       "      <td>32.211811</td>\n",
       "    </tr>\n",
       "    <tr>\n",
       "      <th>4</th>\n",
       "      <td>2</td>\n",
       "      <td>200</td>\n",
       "      <td>8236.761560</td>\n",
       "      <td>678.555083</td>\n",
       "      <td>48.518822</td>\n",
       "      <td>18.024067</td>\n",
       "      <td>11.595301</td>\n",
       "      <td>46.168412</td>\n",
       "    </tr>\n",
       "    <tr>\n",
       "      <th>8</th>\n",
       "      <td>2</td>\n",
       "      <td>197</td>\n",
       "      <td>9177.694427</td>\n",
       "      <td>773.907617</td>\n",
       "      <td>43.502840</td>\n",
       "      <td>21.864874</td>\n",
       "      <td>12.372572</td>\n",
       "      <td>41.210105</td>\n",
       "    </tr>\n",
       "    <tr>\n",
       "      <th>9</th>\n",
       "      <td>2</td>\n",
       "      <td>93</td>\n",
       "      <td>9157.654831</td>\n",
       "      <td>574.575495</td>\n",
       "      <td>43.243971</td>\n",
       "      <td>38.255663</td>\n",
       "      <td>15.201720</td>\n",
       "      <td>27.076145</td>\n",
       "    </tr>\n",
       "    <tr>\n",
       "      <th>11</th>\n",
       "      <td>2</td>\n",
       "      <td>152</td>\n",
       "      <td>5737.237924</td>\n",
       "      <td>368.639390</td>\n",
       "      <td>24.340066</td>\n",
       "      <td>18.837018</td>\n",
       "      <td>4.890973</td>\n",
       "      <td>19.476412</td>\n",
       "    </tr>\n",
       "    <tr>\n",
       "      <th>...</th>\n",
       "      <td>...</td>\n",
       "      <td>...</td>\n",
       "      <td>...</td>\n",
       "      <td>...</td>\n",
       "      <td>...</td>\n",
       "      <td>...</td>\n",
       "      <td>...</td>\n",
       "      <td>...</td>\n",
       "    </tr>\n",
       "    <tr>\n",
       "      <th>6598</th>\n",
       "      <td>1</td>\n",
       "      <td>182</td>\n",
       "      <td>99.368003</td>\n",
       "      <td>465.537497</td>\n",
       "      <td>1.817121</td>\n",
       "      <td>1.817121</td>\n",
       "      <td>7.285782</td>\n",
       "      <td>0.000000</td>\n",
       "    </tr>\n",
       "    <tr>\n",
       "      <th>6599</th>\n",
       "      <td>1</td>\n",
       "      <td>209</td>\n",
       "      <td>771.661843</td>\n",
       "      <td>465.537497</td>\n",
       "      <td>1.817121</td>\n",
       "      <td>1.817121</td>\n",
       "      <td>7.285782</td>\n",
       "      <td>0.000000</td>\n",
       "    </tr>\n",
       "    <tr>\n",
       "      <th>6600</th>\n",
       "      <td>1</td>\n",
       "      <td>5</td>\n",
       "      <td>122.421403</td>\n",
       "      <td>465.537497</td>\n",
       "      <td>1.442250</td>\n",
       "      <td>1.442250</td>\n",
       "      <td>7.285782</td>\n",
       "      <td>0.000000</td>\n",
       "    </tr>\n",
       "    <tr>\n",
       "      <th>6601</th>\n",
       "      <td>1</td>\n",
       "      <td>110</td>\n",
       "      <td>1462.954203</td>\n",
       "      <td>465.537497</td>\n",
       "      <td>1.000000</td>\n",
       "      <td>18.024067</td>\n",
       "      <td>7.285782</td>\n",
       "      <td>1.000000</td>\n",
       "    </tr>\n",
       "    <tr>\n",
       "      <th>6602</th>\n",
       "      <td>1</td>\n",
       "      <td>165</td>\n",
       "      <td>76.138033</td>\n",
       "      <td>465.537497</td>\n",
       "      <td>1.000000</td>\n",
       "      <td>1.000000</td>\n",
       "      <td>7.285782</td>\n",
       "      <td>0.000000</td>\n",
       "    </tr>\n",
       "  </tbody>\n",
       "</table>\n",
       "<p>6272 rows × 8 columns</p>\n",
       "</div>"
      ],
      "text/plain": [
       "      Date  Country    Population  Total Tests  Total Cases  Total Recovered  \\\n",
       "1        2      158  12080.036920  1353.474049    33.259961        14.513266   \n",
       "4        2      200   8236.761560   678.555083    48.518822        18.024067   \n",
       "8        2      197   9177.694427   773.907617    43.502840        21.864874   \n",
       "9        2       93   9157.654831   574.575495    43.243971        38.255663   \n",
       "11       2      152   5737.237924   368.639390    24.340066        18.837018   \n",
       "...    ...      ...           ...          ...          ...              ...   \n",
       "6598     1      182     99.368003   465.537497     1.817121         1.817121   \n",
       "6599     1      209    771.661843   465.537497     1.817121         1.817121   \n",
       "6600     1        5    122.421403   465.537497     1.442250         1.442250   \n",
       "6601     1      110   1462.954203   465.537497     1.000000        18.024067   \n",
       "6602     1      165     76.138033   465.537497     1.000000         1.000000   \n",
       "\n",
       "      Serious or Critical  Active Cases  \n",
       "1                2.000000     32.211811  \n",
       "4               11.595301     46.168412  \n",
       "8               12.372572     41.210105  \n",
       "9               15.201720     27.076145  \n",
       "11               4.890973     19.476412  \n",
       "...                   ...           ...  \n",
       "6598             7.285782      0.000000  \n",
       "6599             7.285782      0.000000  \n",
       "6600             7.285782      0.000000  \n",
       "6601             7.285782      1.000000  \n",
       "6602             7.285782      0.000000  \n",
       "\n",
       "[6272 rows x 8 columns]"
      ]
     },
     "execution_count": 53,
     "metadata": {},
     "output_type": "execute_result"
    }
   ],
   "source": [
    "x=df1.drop(['Total Deaths'],axis=1)\n",
    "x"
   ]
  },
  {
   "cell_type": "code",
   "execution_count": 54,
   "metadata": {},
   "outputs": [],
   "source": [
    "y=df1['Total Deaths']"
   ]
  },
  {
   "cell_type": "code",
   "execution_count": 55,
   "metadata": {},
   "outputs": [
    {
     "data": {
      "text/plain": [
       "1        6.789661\n",
       "4       24.913837\n",
       "8       12.363856\n",
       "9       17.135026\n",
       "11       7.033850\n",
       "          ...    \n",
       "6598    11.230011\n",
       "6599    11.230011\n",
       "6600    11.230011\n",
       "6601    11.230011\n",
       "6602    11.230011\n",
       "Name: Total Deaths, Length: 6272, dtype: float64"
      ]
     },
     "execution_count": 55,
     "metadata": {},
     "output_type": "execute_result"
    }
   ],
   "source": [
    "y"
   ]
  },
  {
   "cell_type": "code",
   "execution_count": 56,
   "metadata": {},
   "outputs": [
    {
     "data": {
      "text/plain": [
       "array([[-0.46637111,  0.85256751,  2.96332351, ...,  1.00962707,\n",
       "        -0.9742006 ,  3.04404565],\n",
       "       [-0.46637111,  1.5357502 ,  1.68419967, ...,  1.551183  ,\n",
       "         2.56105123,  4.8406046 ],\n",
       "       [-0.46637111,  1.48695144,  1.99736215, ...,  2.14364382,\n",
       "         2.84742554,  4.20234814],\n",
       "       ...,\n",
       "       [-0.98180363, -1.63616943, -1.01642544, ..., -1.00663251,\n",
       "         0.97327027, -1.10240923],\n",
       "       [-0.98180363,  0.0717873 , -0.57026759, ...,  1.551183  ,\n",
       "         0.97327027, -0.97368456],\n",
       "       [-0.98180363,  0.96643129, -1.03182953, ..., -1.07485138,\n",
       "         0.97327027, -1.10240923]])"
      ]
     },
     "execution_count": 56,
     "metadata": {},
     "output_type": "execute_result"
    }
   ],
   "source": [
    "from sklearn.preprocessing import StandardScaler     # Scaling\n",
    "sc=StandardScaler()\n",
    "x=sc.fit_transform(x)\n",
    "x"
   ]
  },
  {
   "cell_type": "markdown",
   "metadata": {},
   "source": [
    "Building Models"
   ]
  },
  {
   "cell_type": "code",
   "execution_count": 57,
   "metadata": {},
   "outputs": [],
   "source": [
    "from sklearn.model_selection import train_test_split\n",
    "from sklearn.linear_model import LinearRegression\n",
    "from sklearn.tree import DecisionTreeRegressor\n",
    "from sklearn.ensemble import RandomForestRegressor\n",
    "from sklearn.neighbors import KNeighborsRegressor\n",
    "from sklearn import linear_model\n",
    "from sklearn.metrics import r2_score\n",
    "from sklearn.metrics import mean_squared_error\n",
    "from sklearn.metrics import mean_absolute_error\n",
    "import warnings\n",
    "warnings.filterwarnings('ignore')"
   ]
  },
  {
   "cell_type": "code",
   "execution_count": 58,
   "metadata": {},
   "outputs": [],
   "source": [
    "lr=LinearRegression()\n",
    "dtr=DecisionTreeRegressor()\n",
    "rfr=RandomForestRegressor()\n",
    "knn=KNeighborsRegressor()"
   ]
  },
  {
   "cell_type": "code",
   "execution_count": 59,
   "metadata": {},
   "outputs": [],
   "source": [
    "models = []\n",
    "models.append(('LinearRegression',lr))\n",
    "models.append(('DecisionTreeRegressor',dtr))\n",
    "models.append(('RandomForestRegressor',rfr))\n",
    "models.append(('KNeighborsRegressor',knn))"
   ]
  },
  {
   "cell_type": "code",
   "execution_count": 60,
   "metadata": {},
   "outputs": [],
   "source": [
    "max_r_score=0\n",
    "for r_state in range(42,101):\n",
    "    x_train,x_test,y_train,y_test=train_test_split(x,y,random_state=r_state,test_size=0.22)\n"
   ]
  },
  {
   "cell_type": "code",
   "execution_count": 61,
   "metadata": {},
   "outputs": [
    {
     "name": "stdout",
     "output_type": "stream",
     "text": [
      "********** LinearRegression **************\n",
      "\n",
      "\n",
      "LinearRegression(copy_X=True, fit_intercept=True, n_jobs=None, normalize=False)\n",
      "r2_score corresponding to random state is 0.3047639856529879\n",
      "Absolute error is 13.891414906129691\n",
      "\n",
      "\n",
      "RMSE is 3.727118847867571\n",
      "********** DecisionTreeRegressor **************\n",
      "\n",
      "\n",
      "DecisionTreeRegressor(ccp_alpha=0.0, criterion='mse', max_depth=None,\n",
      "                      max_features=None, max_leaf_nodes=None,\n",
      "                      min_impurity_decrease=0.0, min_impurity_split=None,\n",
      "                      min_samples_leaf=1, min_samples_split=2,\n",
      "                      min_weight_fraction_leaf=0.0, presort='deprecated',\n",
      "                      random_state=None, splitter='best')\n",
      "r2_score corresponding to random state is 0.8630023159389726\n",
      "Absolute error is 2.737331828613693\n",
      "\n",
      "\n",
      "RMSE is 1.6544883887817687\n",
      "********** RandomForestRegressor **************\n",
      "\n",
      "\n",
      "RandomForestRegressor(bootstrap=True, ccp_alpha=0.0, criterion='mse',\n",
      "                      max_depth=None, max_features='auto', max_leaf_nodes=None,\n",
      "                      max_samples=None, min_impurity_decrease=0.0,\n",
      "                      min_impurity_split=None, min_samples_leaf=1,\n",
      "                      min_samples_split=2, min_weight_fraction_leaf=0.0,\n",
      "                      n_estimators=100, n_jobs=None, oob_score=False,\n",
      "                      random_state=None, verbose=0, warm_start=False)\n",
      "r2_score corresponding to random state is 0.9264184957379891\n",
      "Absolute error is 1.4702218872835315\n",
      "\n",
      "\n",
      "RMSE is 1.21252706661894\n",
      "********** KNeighborsRegressor **************\n",
      "\n",
      "\n",
      "KNeighborsRegressor(algorithm='auto', leaf_size=30, metric='minkowski',\n",
      "                    metric_params=None, n_jobs=None, n_neighbors=5, p=2,\n",
      "                    weights='uniform')\n",
      "r2_score corresponding to random state is 0.7168845656189118\n",
      "Absolute error is 5.6568904431838325\n",
      "\n",
      "\n",
      "RMSE is 2.3784218387796208\n"
     ]
    }
   ],
   "source": [
    "Model = []\n",
    "score = []\n",
    "\n",
    "for name,model in models:\n",
    "    print(\"**********\",name,'**************')\n",
    "    print('\\n')\n",
    "    x_train,x_test,y_train,y_test=train_test_split(x,y,random_state=r_state,test_size=0.22)\n",
    "    Model.append(name)\n",
    "    model.fit(x_train,y_train)\n",
    "    print(model)\n",
    "    pre=model.predict(x_test)\n",
    "    r2_scr=r2_score(y_test,pre)\n",
    "    print(\"r2_score corresponding to random state is\" ,r2_scr)\n",
    "    print(\"Absolute error is\", np.abs(mean_squared_error(y_test,pre)))   \n",
    "    print('\\n')\n",
    "    print(\"RMSE is\", np.sqrt(mean_squared_error(y_test,pre)))"
   ]
  },
  {
   "cell_type": "code",
   "execution_count": 62,
   "metadata": {},
   "outputs": [],
   "source": [
    "from sklearn.model_selection import cross_val_score"
   ]
  },
  {
   "cell_type": "code",
   "execution_count": 63,
   "metadata": {},
   "outputs": [
    {
     "name": "stdout",
     "output_type": "stream",
     "text": [
      "Mean r2 score for LinearRegression(copy_X=True, fit_intercept=True, n_jobs=None, normalize=False) regression 0.21953076017864825\n",
      "Standard Deviation for LinearRegression(copy_X=True, fit_intercept=True, n_jobs=None, normalize=False) regression 0.022618338528500006\n",
      "Mean r2 score for DecisionTreeRegressor(ccp_alpha=0.0, criterion='mse', max_depth=None,\n",
      "                      max_features=None, max_leaf_nodes=None,\n",
      "                      min_impurity_decrease=0.0, min_impurity_split=None,\n",
      "                      min_samples_leaf=1, min_samples_split=2,\n",
      "                      min_weight_fraction_leaf=0.0, presort='deprecated',\n",
      "                      random_state=None, splitter='best') regression 0.8401337281092258\n",
      "Standard Deviation for DecisionTreeRegressor(ccp_alpha=0.0, criterion='mse', max_depth=None,\n",
      "                      max_features=None, max_leaf_nodes=None,\n",
      "                      min_impurity_decrease=0.0, min_impurity_split=None,\n",
      "                      min_samples_leaf=1, min_samples_split=2,\n",
      "                      min_weight_fraction_leaf=0.0, presort='deprecated',\n",
      "                      random_state=None, splitter='best') regression 0.04383802599996445\n",
      "Mean r2 score for RandomForestRegressor(bootstrap=True, ccp_alpha=0.0, criterion='mse',\n",
      "                      max_depth=None, max_features='auto', max_leaf_nodes=None,\n",
      "                      max_samples=None, min_impurity_decrease=0.0,\n",
      "                      min_impurity_split=None, min_samples_leaf=1,\n",
      "                      min_samples_split=2, min_weight_fraction_leaf=0.0,\n",
      "                      n_estimators=100, n_jobs=None, oob_score=False,\n",
      "                      random_state=None, verbose=0, warm_start=False) regression 0.9013707726705842\n",
      "Standard Deviation for RandomForestRegressor(bootstrap=True, ccp_alpha=0.0, criterion='mse',\n",
      "                      max_depth=None, max_features='auto', max_leaf_nodes=None,\n",
      "                      max_samples=None, min_impurity_decrease=0.0,\n",
      "                      min_impurity_split=None, min_samples_leaf=1,\n",
      "                      min_samples_split=2, min_weight_fraction_leaf=0.0,\n",
      "                      n_estimators=100, n_jobs=None, oob_score=False,\n",
      "                      random_state=None, verbose=0, warm_start=False) regression 0.015933892101239373\n",
      "Mean r2 score for KNeighborsRegressor(algorithm='auto', leaf_size=30, metric='minkowski',\n",
      "                    metric_params=None, n_jobs=None, n_neighbors=5, p=2,\n",
      "                    weights='uniform') regression 0.6802382926155301\n",
      "Standard Deviation for KNeighborsRegressor(algorithm='auto', leaf_size=30, metric='minkowski',\n",
      "                    metric_params=None, n_jobs=None, n_neighbors=5, p=2,\n",
      "                    weights='uniform') regression 0.025414485202776924\n"
     ]
    }
   ],
   "source": [
    "list=[LinearRegression(),DecisionTreeRegressor(),RandomForestRegressor(),KNeighborsRegressor()]\n",
    "for i in list:\n",
    "    print(\"Mean r2 score for\",i, \"regression\",cross_val_score(i,x_train,y_train,cv=5,scoring=\"r2\").mean())\n",
    "    print(\"Standard Deviation for\", i, \"regression\",cross_val_score(i,x_train,y_train,cv=5,scoring=\"r2\").std())"
   ]
  },
  {
   "cell_type": "code",
   "execution_count": 64,
   "metadata": {},
   "outputs": [
    {
     "data": {
      "text/plain": [
       "['rfrcovid_world_wide.obj']"
      ]
     },
     "execution_count": 64,
     "metadata": {},
     "output_type": "execute_result"
    }
   ],
   "source": [
    "from sklearn.externals import joblib            # Saving model\n",
    "joblib.dump(rfr,'rfrcovid_world_wide.obj')"
   ]
  },
  {
   "cell_type": "markdown",
   "metadata": {},
   "source": [
    "Conclusion: Predicting deaths cases world_wide impacting features are Total Cases, Total Tests, Serious or Critical, Active                 Cases, Country impacting more. I have build all regressor models, cross-validation technique.\n",
    "            RandomForestRegressor performing better with 92% accuracy so, I have saved model as rfr."
   ]
  },
  {
   "cell_type": "code",
   "execution_count": null,
   "metadata": {},
   "outputs": [],
   "source": []
  },
  {
   "cell_type": "code",
   "execution_count": null,
   "metadata": {},
   "outputs": [],
   "source": []
  },
  {
   "cell_type": "code",
   "execution_count": null,
   "metadata": {},
   "outputs": [],
   "source": []
  },
  {
   "cell_type": "code",
   "execution_count": null,
   "metadata": {},
   "outputs": [],
   "source": []
  },
  {
   "cell_type": "code",
   "execution_count": null,
   "metadata": {},
   "outputs": [],
   "source": []
  },
  {
   "cell_type": "code",
   "execution_count": null,
   "metadata": {},
   "outputs": [],
   "source": []
  },
  {
   "cell_type": "code",
   "execution_count": null,
   "metadata": {},
   "outputs": [],
   "source": []
  },
  {
   "cell_type": "code",
   "execution_count": null,
   "metadata": {},
   "outputs": [],
   "source": []
  },
  {
   "cell_type": "code",
   "execution_count": null,
   "metadata": {},
   "outputs": [],
   "source": []
  },
  {
   "cell_type": "code",
   "execution_count": null,
   "metadata": {},
   "outputs": [],
   "source": []
  },
  {
   "cell_type": "code",
   "execution_count": null,
   "metadata": {},
   "outputs": [],
   "source": []
  },
  {
   "cell_type": "code",
   "execution_count": null,
   "metadata": {},
   "outputs": [],
   "source": []
  },
  {
   "cell_type": "code",
   "execution_count": null,
   "metadata": {},
   "outputs": [],
   "source": []
  },
  {
   "cell_type": "code",
   "execution_count": null,
   "metadata": {},
   "outputs": [],
   "source": []
  },
  {
   "cell_type": "code",
   "execution_count": null,
   "metadata": {},
   "outputs": [],
   "source": []
  },
  {
   "cell_type": "code",
   "execution_count": null,
   "metadata": {},
   "outputs": [],
   "source": []
  },
  {
   "cell_type": "code",
   "execution_count": null,
   "metadata": {},
   "outputs": [],
   "source": []
  },
  {
   "cell_type": "code",
   "execution_count": null,
   "metadata": {},
   "outputs": [],
   "source": []
  },
  {
   "cell_type": "code",
   "execution_count": null,
   "metadata": {},
   "outputs": [],
   "source": []
  },
  {
   "cell_type": "code",
   "execution_count": null,
   "metadata": {},
   "outputs": [],
   "source": []
  },
  {
   "cell_type": "code",
   "execution_count": null,
   "metadata": {},
   "outputs": [],
   "source": []
  },
  {
   "cell_type": "code",
   "execution_count": null,
   "metadata": {},
   "outputs": [],
   "source": []
  },
  {
   "cell_type": "code",
   "execution_count": null,
   "metadata": {},
   "outputs": [],
   "source": []
  },
  {
   "cell_type": "code",
   "execution_count": null,
   "metadata": {},
   "outputs": [],
   "source": []
  },
  {
   "cell_type": "code",
   "execution_count": null,
   "metadata": {},
   "outputs": [],
   "source": []
  },
  {
   "cell_type": "code",
   "execution_count": null,
   "metadata": {},
   "outputs": [],
   "source": []
  }
 ],
 "metadata": {
  "kernelspec": {
   "display_name": "Python 3",
   "language": "python",
   "name": "python3"
  },
  "language_info": {
   "codemirror_mode": {
    "name": "ipython",
    "version": 3
   },
   "file_extension": ".py",
   "mimetype": "text/x-python",
   "name": "python",
   "nbconvert_exporter": "python",
   "pygments_lexer": "ipython3",
   "version": "3.7.6"
  }
 },
 "nbformat": 4,
 "nbformat_minor": 4
}
